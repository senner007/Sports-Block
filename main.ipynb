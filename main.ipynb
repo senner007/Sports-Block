{
 "cells": [
  {
   "cell_type": "code",
   "execution_count": 885,
   "metadata": {},
   "outputs": [
    {
     "name": "stdout",
     "output_type": "stream",
     "text": [
      "The autoreload extension is already loaded. To reload it, use:\n",
      "  %reload_ext autoreload\n"
     ]
    }
   ],
   "source": [
    "import pandas as pd\n",
    "import numpy as np\n",
    "import tensorflow as tf\n",
    "from tensorflow import keras\n",
    "from collections import OrderedDict\n",
    "\n",
    "%load_ext autoreload\n",
    "%autoreload 2"
   ]
  },
  {
   "cell_type": "code",
   "execution_count": 886,
   "metadata": {},
   "outputs": [
    {
     "name": "stdout",
     "output_type": "stream",
     "text": [
      "Train data/labels length:  8278 8278\n",
      "Validation data/labels length:  168 168\n"
     ]
    }
   ],
   "source": [
    "from csv_data import get_vocab_dict\n",
    "from csv_data import get_sports\n",
    "from csv_data import csv_to_list\n",
    "from csv_data import split_data\n",
    "from csv_data import extract_data\n",
    "from csv_data import check_duplicates\n",
    "\n",
    "\n",
    "# # TODO : fjern ord der er kategorisert som \"egennavn\" i ddo_fullforms_2020-08-26.csv\n",
    "\n",
    "ordered_dict = get_vocab_dict()\n",
    "df_sport = get_sports()\n",
    "nationalities = csv_to_list('resources/nat2.csv')\n",
    "danske_navne = csv_to_list('resources/danmark_navne.csv')\n",
    "andre_navne = csv_to_list('resources/andre_navne.csv')\n",
    "countries = csv_to_list('resources/countries.csv')\n",
    "navne = csv_to_list('resources/navne.csv')\n",
    "\n",
    "def get_results_in_data(train_data, train_labels):\n",
    "    results = []\n",
    "    for t in range(len(train_data)):\n",
    "        if train_labels[t] == 1:\n",
    "            results.append(train_data[t])\n",
    "    \n",
    "    return results\n",
    "\n",
    "# train_data_results = get_results_in_data(train_data, train_labels)\n",
    "\n",
    "data_total, labels_total = extract_data(df_sport)\n",
    "check_duplicates(data_total)\n",
    "\n",
    "train_data, val_data, train_labels, val_labels = split_data((data_total, labels_total), 4)\n",
    "\n",
    "# print(\"Total data: \", len(train_text))\n",
    "print(\"Train data/labels length: \", len(train_data), len(train_labels))\n",
    "print(\"Validation data/labels length: \", len(val_data),  len(val_labels))\n"
   ]
  },
  {
   "cell_type": "code",
   "execution_count": 887,
   "metadata": {},
   "outputs": [
    {
     "name": "stdout",
     "output_type": "stream",
     "text": [
      "BEIJING 2022 . Han var tæt på døden for ni måneder siden - nu har norsk pionér vundet OL-guld . Den norske skøjteløber pådrog sig en lang liste af skader under et cykelstyrt i maj sidste år\n",
      "1\n",
      "KAMPSPORT . Edi Hrnic var til studenterkørsel fredag - søndag vandt han europæisk guld i taekwondo . Den 19-årige taekwondokæmper fik endda en skade i kvartfinalen\n",
      "1\n",
      "Fodbold . Knust Neymar forlader banen på båre . Neymar blev båret fra banen med en skade, da Brasilien tabte 0-2 på udebane til Uruguay i VM-kvalifikationen\n",
      "1\n",
      "TENNIS . Av min arm: Djokovic vandt trods skade . Novak Djokovic havde problemer med venstre arm, men slog alligevel Gilles Simon sikkert\n",
      "1\n",
      "SPORT . Danmark kan igen drømme stort: »Det har været vanvittig hårdt. Jeg er fandeme stolt« . Trods vitale skader og et sløjt udlæg ved EM tog Danmark en skalp af de helt store, da de slog Norge i den direkte duel om førstepladsen i gruppe 1. Nu må Danmark regnes som førsteudfordrer til de franske olympiske mestre i kampen om guldet\n",
      "1\n",
      "Håndbold . Danskerklub i kæmpe fiasko . Kristina Jørgensen var med i hele Champions League-kampen for Metz, mens Louise Burgaard sad på tribunen med en skade\n",
      "1\n",
      "TENNIS . BOLD FOR BOLD Carlos Alcaraz trækker sig med en skade, mens Holger Rune var ved at slå ham . Følg Holger Runes kvartfinaleopgør mod verdensetteren Carlos Alcaraz ved Paris Masters\n",
      "1\n",
      "TENNIS . Skade gør en fremragende semifinale til et antiklimaks . Efter et fuldstændig fantastisk andet sæt blev Carlos Alcaraz skadet, så Novak Djokovic vandt semifinalen i French Open\n",
      "1\n",
      "Ishockey VM . Lynindkaldt back tager skraldet for udligning: - Jeg fuckede up . Skader har givet Oliver Larsen en uventet VM-chance, men backen fik en hård entré mod Sverige\n",
      "1\n",
      "OL . Landins fravær betød intet - perfekt dansk OL-morgen . TV 2 SPORTs håndboldekspert Bent Nyegaard giver karakterer til Danmarks spillere efter sejren på 31-21 over Bahrain, hvor en skade bekymrer eksperten\n",
      "1\n",
      "Ishockey . Dansk profil scorer for tredje gang i træk . Bjorkstrand scorer og laver assist, mens skadet Frederik Andersen tildeles trofæ sammen med målmandskollega\n",
      "1\n",
      "KORT SPORT . Skadet Simon Pytlick skal have foretaget røntgenundersøgelse . Simon Pytlick måtte lørdag aften humpe fra banen, da den danske landsholdsspillers klub, SG Flensburg-Handewitt, slog HC Erlangen i den tyske Bundesliga\n",
      "1\n",
      "KORT SPORT . Andreas Christensen udgår med skade i Barcelona-sejr . FC Barcelona konsoliderede søndag aften sin førsteplads i La Liga med en hjemmesejr på 1-0 over den lille Madrid-klub Getafe\n",
      "1\n",
      "BADMINTON . Viktor Axelsen stormer mod triumf efter skadespause: 'Det har været hårdt' . Efter tre ugers skadespause er badmintonstjernen vendt tilbage i kanonform og finaleklar i Indonesien\n",
      "1\n",
      "Skydning . Riffelskytte sikrer Danmark endnu en OL-plads . Anna Skade Nielsen blev nummer syv ved et World Cup-stævne i Beijing og sikrede en OL-kvoteplads til Danmark\n",
      "1\n",
      "KORT SPORT . Skade efter glat underlag tvinger Axelsen til afbud . Viktor Axelsen vandt sin første kamp onsdag, men nu trækker han sig fra Thailand Open\n",
      "1\n",
      "Tennis . Tauson-lejr melder ud efter skade . Den danske damesingle havde tabt første sæt\n",
      "1\n",
      "Vinter-OL . Dansk profil frygtes færdig efter stor triumf . Jesper Jensen Aabo kom til skade med armen mod Schweiz og kommer næppe tilbage på banen ved OL\n",
      "1\n",
      "FODBOLD . Jørgensen skadet i Fiorentina-sejr . Martin Jørgensen fik comeback for Fiorentina, da holdet vandt over Bologna. Jørgensen udgik dog af kampen med det, der lignede en ny skade\n",
      "1\n",
      "Fodbold . Messi udskiftet med skade efter blot 37 minutter . Lionel Messis comeback for Inter Miami blev overskygget af en uspecificeret skade. Klubben vandt dog 4-0\n",
      "1\n",
      "SUPERLIGA . VIDEO Brøndby-profiler skadet i sejr over Hobro . Debutanten Kamil Wilczek scorede målet, der sikrede den første Brøndby-sejr over Hobro i femte forsøg\n",
      "1\n",
      "OL . Skidt start sender dansk duo ud af OL . Steffen Olsen og Anna Skade Nielsen er ude af OL i 10 meter riffel for hold efter første kvalifikationsrunde\n",
      "1\n",
      "KORT SPORT . Dansk landsholdsspiller udgår med skade i Brentford-deler . Landsholdsspilleren Mathias Jensen udgik med en skade, da Brentford lørdag spillede 1-1 på hjemmebane mod Wolverhampton i Premier League\n",
      "1\n",
      "Badminton . Antonsen-succes i Singapore efter skadespause . Efter sit afbud til Sudirman Cup er Anders Antonsen tilbage. Dansk succes var der også i mixeddouble\n",
      "1\n",
      "FODBOLD . Zlatan skadet i Barcelona-sejr . Zlatan Ibrahimovic blev lårskadet, da FC Barcelona lørdag aften vandt 4-2 hjemme over Mallorca i den spanske Primera Division\n",
      "1\n",
      "Badminton . Suverænt comeback af Axelsen . Viktor Axelsen fik tirsdag comeback, efter han blev skadet under VM for blandede hold i maj.\n",
      "1\n",
      "SPORT . Maze overvandt skade og franskmand . Trods problemer med en skade kom Michael Maze på rette kurs og vandt over Christophe Legout fra Frankrig ved Danish Open i Frederikshavn\n",
      "1\n",
      "Badminton . Danmark ude af VM efter chokerende Axelsen-skade . Danmark tabte opgøret til Malaysia efter fire ud af fem mulige kampe.\n",
      "1\n",
      "Badminton . Axelsen meget overrasket: - Det havde jeg aldrig troet . Den 29-årige dansker havde ikke forventet at stå i en finale så kort tid efter sin skade\n",
      "1\n"
     ]
    }
   ],
   "source": [
    "import re\n",
    "\n",
    "for i,tt in enumerate(data_total):\n",
    "    if re.search(r'\\bskade', tt, re.IGNORECASE):\n",
    "        if (labels_total[i] == 1):\n",
    "            print(tt)\n",
    "            print(labels_total[i])\n",
    "        # print(train)\n",
    "\n"
   ]
  },
  {
   "cell_type": "code",
   "execution_count": 888,
   "metadata": {},
   "outputs": [
    {
     "name": "stdout",
     "output_type": "stream",
     "text": [
      "[4631 3647]\n"
     ]
    }
   ],
   "source": [
    "counts = np.bincount(train_labels)\n",
    "# print(\n",
    "#     \"Number of positive samples in training data: {} ({:.2f}% of total)\".format(\n",
    "#         counts[1], 100 * float(counts[1]) / len(train_labels)\n",
    "#     )\n",
    "# )\n",
    "\n",
    "print(counts)\n",
    "\n",
    "weight_for_0 = 1.0 / counts[0]\n",
    "weight_for_1 = 1.0 / counts[1]\n",
    "\n",
    "class_weight = {0: weight_for_0, 1: weight_for_1}"
   ]
  },
  {
   "cell_type": "code",
   "execution_count": 889,
   "metadata": {},
   "outputs": [],
   "source": [
    "\n",
    "def combine_articles_to_csv():\n",
    "    df_sport_combined = df_sport.copy().drop('Link', axis=1)\n",
    "    df_sport_combined.to_csv('articles_temp/combined.csv')\n",
    "\n",
    "combine_articles_to_csv()\n"
   ]
  },
  {
   "cell_type": "code",
   "execution_count": 890,
   "metadata": {},
   "outputs": [
    {
     "name": "stdout",
     "output_type": "stream",
     "text": [
      "Duplicates in data points: \n",
      "Empty DataFrame\n",
      "Columns: [Category, Headline, SubHeading, Link, isResult, isMaybe]\n",
      "Index: []\n"
     ]
    }
   ],
   "source": [
    "duplicate_rows = df_sport.duplicated()\n",
    "print(\"Duplicates in data points: \")\n",
    "print(df_sport[duplicate_rows])"
   ]
  },
  {
   "cell_type": "code",
   "execution_count": 891,
   "metadata": {},
   "outputs": [
    {
     "name": "stdout",
     "output_type": "stream",
     "text": [
      "False\n"
     ]
    }
   ],
   "source": [
    "import time\n",
    "isin_dict = False\n",
    "def test_lookup_performance():\n",
    "    word_to_check = \"Dansk\"\n",
    "    start_time = time.time()\n",
    "\n",
    "    for x in range(1000000):\n",
    "        isin_dict = word_to_check in ordered_dict\n",
    "\n",
    "    end_time = time.time()  \n",
    "    assert(end_time - start_time < 1)\n",
    "    print(isin_dict)\n",
    "\n",
    "test_lookup_performance()\n",
    "\n",
    "# isin_dict\n"
   ]
  },
  {
   "cell_type": "code",
   "execution_count": 892,
   "metadata": {},
   "outputs": [
    {
     "name": "stdout",
     "output_type": "stream",
     "text": [
      "['norman', 'signe', 'kim', 'rune', 'søren', 'real', 'mads', 'tiger', 'groves', 'mark', 'trine', 'o']\n",
      "total unique words: 9132\n",
      "total sports lingo words: 2185\n",
      "total vocab: 6947\n",
      "total articles: 8446\n"
     ]
    }
   ],
   "source": [
    "\n",
    "\n",
    "# train_text = df_sport.iloc[:, [0,1,2]].apply(' . '.join, axis=1).replace('\\xa0', '', regex=True).to_numpy()\n",
    "# train_text_results = df_sport.loc[df_sport['isResult'] == True].iloc[:, [0,1,2]].apply(' . '.join, axis=1).replace('\\xa0', '', regex=True).to_numpy()\n",
    "\n",
    "from create_vocab import split_sentences\n",
    "from create_vocab import remove_duplicates\n",
    "from create_vocab import remove_nationalities\n",
    "from create_vocab import remove_danske_navne\n",
    "from create_vocab import remove_danske_fornavne\n",
    "from create_vocab import remove_numeric\n",
    "from create_vocab import remove_non_dict_words\n",
    "from create_vocab import add_non_alpha_numeric\n",
    "\n",
    "# words_total =  train_data.copy()\n",
    "# words_total.extend(val_data)\n",
    "\n",
    "def words_by_frequency(arr):\n",
    "    xx = np.array(arr, dtype=object)\n",
    "    unique, counts = np.unique(xx, return_counts=True)\n",
    "    aa = np.asarray((unique, counts)).T\n",
    "    return np.flip(aa[aa[:, 1].argsort()])\n",
    "\n",
    "def remove_non_frequent(words_arr, threshold):\n",
    "    words_dict = words_by_frequency(words_arr)\n",
    "    words_above_threshold = []\n",
    "    for f in words_dict:\n",
    "        if f[0] > threshold:\n",
    "            words_above_threshold.append(f[1])\n",
    "    return words_above_threshold\n",
    "\n",
    "\n",
    "sentence_words = split_sentences(train_data)\n",
    "sentence_words_frequent = remove_non_frequent(sentence_words, 1)\n",
    "words_arr_unique = remove_duplicates(sentence_words_frequent)\n",
    "words_arr_unique = remove_nationalities(words_arr_unique, nationalities)\n",
    "words_arr_unique = remove_danske_navne(words_arr_unique, danske_navne)\n",
    "words_arr_unique = remove_danske_fornavne(words_arr_unique, andre_navne)\n",
    "words_arr_unique = remove_numeric(words_arr_unique)\n",
    "\n",
    "words_train_vocab, words_sport_lingo = remove_non_dict_words(words_arr_unique, ordered_dict)\n",
    "\n",
    "\n",
    "\n",
    "# # TODO : brug tensorflow Tokenezier til at omdanne ord til tokens\n",
    "# # TODO : søg i alle leksikoner, søg med og uden bindestreg\n",
    "# # TODO : håndter tal ikke i ordbøger eks ( x-x eller x-årig)\n",
    "# # TODO : lemmatizer : udelad bøjninger af samme navneord. eks : verdensmester/verdensmesteren\n",
    "# # TODO : evt. grupper ord der ofte hænger sammen med nltk BigramFinder. eks vandt over\n",
    "# TODO : fjern evt. også alle navne (fornavne og efternavne)  \n",
    "\n",
    "print(\"total unique words:\", len(words_arr_unique) )\n",
    "print(\"total sports lingo words:\", len(words_sport_lingo) )\n",
    "print(\"total vocab:\", len(words_train_vocab))\n",
    "print(\"total articles:\", len(df_sport) )\n",
    "\n",
    "# for d in df_sport['isResult']:\n",
    "#     if isinstance(d, bool) != True:\n",
    "#         print(d)\n",
    "\n"
   ]
  },
  {
   "cell_type": "code",
   "execution_count": 893,
   "metadata": {},
   "outputs": [
    {
     "data": {
      "text/plain": [
       "6947"
      ]
     },
     "execution_count": 893,
     "metadata": {},
     "output_type": "execute_result"
    }
   ],
   "source": [
    "\n",
    "len(words_train_vocab)"
   ]
  },
  {
   "cell_type": "code",
   "execution_count": 894,
   "metadata": {},
   "outputs": [],
   "source": [
    "file = open('words_sport_lingo.txt','w')\n",
    "for item in words_sport_lingo:\n",
    "\tfile.write(item+\"\\n\")\n",
    "file.close()\n",
    "\n",
    "file = open('words_train_vocab.txt','w')\n",
    "for item in sorted(words_train_vocab):\n",
    "\tfile.write(item+\"\\n\")\n",
    "file.close()\n"
   ]
  },
  {
   "cell_type": "code",
   "execution_count": 895,
   "metadata": {},
   "outputs": [
    {
     "name": "stdout",
     "output_type": "stream",
     "text": [
      "mowinckel\n",
      "rathore\n",
      "kazan\n",
      "thuesen\n",
      "goldings\n",
      "barracks\n",
      "samuel\n",
      "torben\n",
      "ragnhild\n",
      "diaz\n",
      "grundsøe\n",
      "ke\n",
      "eto\n",
      "omskydninger\n",
      "sico\n",
      "goncalo\n",
      "tite\n",
      "aage\n",
      "meyerhoff\n",
      "emmons\n",
      "maulana\n",
      "wahl\n",
      "skeet\n",
      "fikri\n",
      "spejlsgaard\n",
      "golding\n",
      "grimmel\n",
      "nairo\n"
     ]
    }
   ],
   "source": [
    "\n",
    "\n",
    "# TODO : lav en negativ liste også\n",
    "# display most frequent words found in lingo words\n",
    "for f in remove_duplicates(sentence_words):\n",
    "    if f in words_sport_lingo and f not in navne and len(f) > 1:\n",
    "        print(f)\n"
   ]
  },
  {
   "cell_type": "code",
   "execution_count": 896,
   "metadata": {},
   "outputs": [],
   "source": [
    "\n",
    "\n",
    "# TODO : lav en negativ liste også\n",
    "# display most frequent words found in lingo words\n",
    "# words_that_appear_once = []\n",
    "# for f in frequent_words:\n",
    "#     if f[0] < 2 and f[1] not in navne:\n",
    "#         words_that_appear_once.append(f[1])\n",
    "\n",
    "# # print(len(words_that_appear_once))\n",
    "# sorted(words_that_appear_once)\n"
   ]
  },
  {
   "cell_type": "code",
   "execution_count": 897,
   "metadata": {},
   "outputs": [],
   "source": [
    "\n",
    "\n",
    "# f = frequent_words[-300:]\n",
    "# ff = []\n",
    "# for w in frequent_words:\n",
    "#     if w[1] in words_train_vocab and w[0] < 2:\n",
    "#         ff.append(w[1])\n",
    "\n",
    "# print(len(ff))\n",
    "# ff\n",
    "    "
   ]
  },
  {
   "cell_type": "code",
   "execution_count": 898,
   "metadata": {},
   "outputs": [
    {
     "name": "stdout",
     "output_type": "stream",
     "text": [
      "Total vocab/max_features :  6800\n",
      "['tidligere' 'formel' 'xnumber' 'kører' 'vinder' '[UNK]' 'guld' 'den'\n",
      " 'tidligere' 'formel' 'xnumber' 'kører' '[UNK]' '[UNK]' 'kørte' 'galt' 'i'\n",
      " 'xyear' 'og' 'mistede' 'begge' 'sine' 'ben' '[UNK]' 'i' 'dag' 'vandt'\n",
      " 'han' 'guld' 'ved' '[UNK]' 'i' 'håndcykel']\n"
     ]
    }
   ],
   "source": [
    "\n",
    "\n",
    "from tensorflow.keras.layers.experimental.preprocessing import TextVectorization\n",
    "from vectorization import replace_finals, replace_nationality, to_lower\n",
    "from vectorization import split_dash\n",
    "from vectorization import split_included_specials\n",
    "from vectorization import replace_tournament\n",
    "from vectorization import replace_countries\n",
    "from vectorization import replace_weekday\n",
    "from vectorization import replace_digits\n",
    "from vectorization import vect_layer_2_text\n",
    "from vectorization import vectorize_layer\n",
    "from vectorization import standardize\n",
    "from static_data import tournaments\n",
    "from static_data import weekdays\n",
    "from static_data import non_alpha\n",
    "from static_data import word_generalization\n",
    "\n",
    "\n",
    "# TODO : evt indikere hvilke navneord der starte med stort bogstav(egenavne), evt. lave et opslag for at undersøge ordklasse for det første ord i sætningen \n",
    "# TODO : test hvilke standarization funktioner giver bedre resultater \n",
    "\n",
    "arrs = [\n",
    "    to_lower, \n",
    "    split_dash, \n",
    "    split_included_specials, \n",
    "    replace_tournament(tournaments),\n",
    "    replace_countries(countries), \n",
    "    replace_weekday(weekdays), \n",
    "    replace_finals,\n",
    "    replace_nationality(nationalities),\n",
    "    replace_digits\n",
    "]\n",
    "\n",
    "s = standardize(arrs)\n",
    "\n",
    "words_train_vocab.extend(word_generalization)\n",
    "words_train_vocab.extend(non_alpha)\n",
    "\n",
    "# Model constants.\n",
    "max_features = 6800\n",
    "sequence_length = 60\n",
    "\n",
    "vectorized_layer = vectorize_layer(max_features, sequence_length, s)\n",
    "\n",
    "text_ds = vectorized_layer.adapt(words_train_vocab)\n",
    "vect_vocab = vectorized_layer.get_vocabulary()\n",
    "\n",
    "print(\"Total vocab/max_features : \",  len(vect_vocab))\n",
    "\n",
    "print (vect_layer_2_text(vectorized_layer([\"Tidligere Formel 1-kører vinder PL-guld ,Den tidligere Formel 1-kører Alex Zanardi kørte galt i 2001 og mistede begge sine ben. I dag vandt han guld ved PL i håndcykel\"]), vect_vocab))\n",
    "\n"
   ]
  },
  {
   "cell_type": "code",
   "execution_count": 899,
   "metadata": {},
   "outputs": [],
   "source": [
    "# for t in train_data[0:50]:\n",
    "#     print(\"Original \\n:\", t)\n",
    "#     print(\"Text from vectorized: \\n\", vect_layer_2_text(\n",
    "#         vectorized_layer([t]), vect_vocab\n",
    "#         ))\n",
    "#     print(\"\\n\")\n"
   ]
  },
  {
   "cell_type": "code",
   "execution_count": 900,
   "metadata": {},
   "outputs": [],
   "source": [
    "train_data_vect = vectorized_layer(train_data)\n",
    "val_data_vect = vectorized_layer(val_data)\n"
   ]
  },
  {
   "cell_type": "code",
   "execution_count": 901,
   "metadata": {},
   "outputs": [],
   "source": [
    "class TransformerBlock(keras.layers.Layer):\n",
    "    def __init__(self, embed_dim, num_heads, ff_dim, rate=0.4):\n",
    "        super().__init__()\n",
    "        self.att = keras.layers.MultiHeadAttention(num_heads=num_heads, key_dim=embed_dim)\n",
    "        self.ffn = keras.Sequential(\n",
    "            [keras.layers.Dense(ff_dim, activation=\"relu\"), keras.layers.Dense(embed_dim),]\n",
    "        )\n",
    "        self.layernorm1 = keras.layers.LayerNormalization(epsilon=1e-6)\n",
    "        self.layernorm2 = keras.layers.LayerNormalization(epsilon=1e-6)\n",
    "        self.dropout1 = keras.layers.Dropout(rate)\n",
    "        self.dropout2 = keras.layers.Dropout(rate)\n",
    "\n",
    "    def call(self, inputs, training):\n",
    "        attn_output = self.att(inputs, inputs)\n",
    "        attn_output = self.dropout1(attn_output, training=training)\n",
    "        out1 = self.layernorm1(inputs + attn_output)\n",
    "        ffn_output = self.ffn(out1)\n",
    "        ffn_output = self.dropout2(ffn_output, training=training)\n",
    "        return self.layernorm2(out1 + ffn_output)\n",
    "\n",
    "class TokenAndPositionEmbedding(keras.layers.Layer):\n",
    "    def __init__(self, maxlen, vocab_size, embed_dim):\n",
    "        super().__init__()\n",
    "        self.token_emb = keras.layers.Embedding(input_dim=vocab_size, output_dim=embed_dim)\n",
    "        self.pos_emb = keras.layers.Embedding(input_dim=maxlen, output_dim=embed_dim)\n",
    "\n",
    "    def call(self, x):\n",
    "        maxlen = tf.shape(x)[-1]\n",
    "        positions = tf.range(start=0, limit=maxlen, delta=1)\n",
    "        positions = self.pos_emb(positions)\n",
    "        x = self.token_emb(x)\n",
    "        return x + positions\n",
    "\n"
   ]
  },
  {
   "cell_type": "code",
   "execution_count": 902,
   "metadata": {},
   "outputs": [],
   "source": [
    "from tensorflow.keras import layers\n",
    "def transformer_encoder(inputs, head_size, num_heads, ff_dim, dropout=0.0):\n",
    "    # Normalization and Attention\n",
    "    x = layers.LayerNormalization(epsilon=1e-6)(inputs)\n",
    "    x = layers.MultiHeadAttention(\n",
    "        key_dim=head_size, num_heads=num_heads, dropout=dropout\n",
    "    )(x, x)\n",
    "    x = layers.Dropout(dropout)(x)\n",
    "    res = x + inputs\n",
    "\n",
    "    # Feed Forward Part\n",
    "    x = layers.LayerNormalization(epsilon=1e-6)(res)\n",
    "    x = layers.Conv1D(filters=ff_dim, kernel_size=1, activation=\"relu\")(x)\n",
    "    x = layers.Dropout(dropout)(x)\n",
    "    x = layers.Conv1D(filters=inputs.shape[-1], kernel_size=1)(x)\n",
    "    return x + res"
   ]
  },
  {
   "cell_type": "code",
   "execution_count": 903,
   "metadata": {},
   "outputs": [
    {
     "data": {
      "text/plain": [
       "1.0"
      ]
     },
     "execution_count": 903,
     "metadata": {},
     "output_type": "execute_result"
    }
   ],
   "source": [
    "m = tf.keras.metrics.BinaryAccuracy(threshold=0.97)\n",
    "m.update_state([[1], [1], [0], [0]], [[0.98], [0.98], [0], [0]])\n",
    "m.result().numpy()"
   ]
  },
  {
   "cell_type": "code",
   "execution_count": 904,
   "metadata": {},
   "outputs": [],
   "source": [
    "from tensorflow.keras import layers\n",
    "import random as python_random\n",
    "\n",
    "def get_cnn_model():\n",
    "\n",
    "    embedding_dim = 24\n",
    "\n",
    "    # A integer input for vocab indices.\n",
    "    inputs = tf.keras.Input(shape=(None,), dtype=\"int64\")\n",
    "\n",
    "    # Next, we add a layer to map those vocab indices into a space of dimensionality\n",
    "    # 'embedding_dim'.\n",
    "    x = layers.Embedding(max_features, embedding_dim)(inputs)\n",
    "    # x = layers.Dropout(0.5)(x)\n",
    "\n",
    "    # Conv1D + global max pooling\n",
    "    # x = layers.Conv1D(32, 11, padding=\"valid\", activation=\"relu\")(x)\n",
    "    # x = layers.Conv1D(128, 9, padding=\"valid\", activation=\"relu\")(x)\n",
    "    x = layers.Dropout(0.5)(x)\n",
    "\n",
    "    # Conv1D + global max pooling\n",
    "    x = layers.Conv1D(32, 7, padding=\"valid\", activation=\"relu\", strides=3)(x)\n",
    "    # x = layers.Conv1D(32, 7, padding=\"valid\", activation=\"relu\", strides=3)(x)\n",
    "\n",
    "\n",
    "    x = layers.GlobalMaxPooling1D()(x)\n",
    "\n",
    "    # We add a vanilla hidden layer:\n",
    "    # x = layers.Dense(128, activation=\"relu\")(x)\n",
    "    # x = layers.Dropout(0.5)(x)\n",
    "    # We add a vanilla hidden layer:\n",
    "    # x = layers.Dense(128, activation=\"relu\")(x)\n",
    "    # x = layers.Dropout(0.5)(x)\n",
    "    # x = layers.Dropout(0.5)(x)\n",
    "    x = layers.Dropout(0.3)(x)\n",
    "\n",
    "\n",
    "    # We project onto a single unit output layer, and squash it with a sigmoid:\n",
    "    predictions = layers.Dense(1, activation=\"sigmoid\", name=\"predictions\")(x)\n",
    "\n",
    "    \n",
    "    cnn_model = tf.keras.Model(inputs, predictions)\n",
    "\n",
    "    # Compile the model with binary crossentropy loss and an adam optimizer.\n",
    "    cnn_model.compile(loss=\"binary_crossentropy\", optimizer=\"adam\", metrics=[\"accuracy\"])\n",
    "    return cnn_model\n",
    "\n"
   ]
  },
  {
   "cell_type": "code",
   "execution_count": 905,
   "metadata": {},
   "outputs": [],
   "source": [
    "from tensorflow.keras import layers\n",
    "import random as python_random\n",
    "\n",
    "\n",
    "def get_transformer_model():\n",
    "\n",
    "    embed_dim =  192 # Embedding size for each token\n",
    "    num_heads = 2  # Number of attention heads\n",
    "    ff_dim = 192  # Hidden layer size in feed forward network inside transformer\n",
    "\n",
    "\n",
    "    # A integer input for vocab indices.\n",
    "    inputs = tf.keras.Input(shape=(sequence_length,), dtype=\"int64\")\n",
    "\n",
    "    # Next, we add a layer to map those vocab indices into a space of dimensionality\n",
    "    # 'embedding_dim'.\n",
    "    # x = layers.Embedding(max_features, embed_dim)(inputs)\n",
    "\n",
    "    embedding_layer = TokenAndPositionEmbedding(sequence_length, max_features, embed_dim)\n",
    "    x = embedding_layer(inputs)\n",
    "    # x = layers.Dropout(0.5)(x)\n",
    "    # x = layers.Dropout(0.2)(x)\n",
    "\n",
    "    transformer_block = TransformerBlock(embed_dim, num_heads, ff_dim)\n",
    "    x = transformer_block(x)\n",
    "    # x = layers.Dropout(0.1)(x)\n",
    "\n",
    "    # x = transformer_block(x)\n",
    "\n",
    "\n",
    "\n",
    "    # Conv1D + global max pooling\n",
    "    # x = layers.Conv1D(128, 10, padding=\"valid\", activation=\"relu\", strides=3)(x)\n",
    "    # x = layers.Conv1D(128, 10, padding=\"valid\", activation=\"relu\", strides=3)(x)\n",
    "\n",
    "\n",
    "    x = layers.GlobalMaxPooling1D()(x)\n",
    "    # x = layers.Dropout(0.5)(x)\n",
    "\n",
    "    # We add a vanilla hidden layer:\n",
    "    # x = layers.Dense(32, activation=\"relu\")(x)\n",
    "    # x = layers.Dropout(0.5)(x)\n",
    "\n",
    "    # We project onto a single unit output layer, and squash it with a sigmoid:\n",
    "    predictions = layers.Dense(1, activation=\"sigmoid\", name=\"predictions\")(x)\n",
    "    # x = layers.Dropout(0.5)(x)\n",
    "\n",
    "\n",
    "\n",
    "    transformer_model = tf.keras.Model(inputs, predictions)\n",
    "\n",
    "    # Compile the model with binary crossentropy loss and an adam optimizer.\n",
    "    bn =   tf.keras.metrics.BinaryAccuracy(name=\"binary_accuracy\", dtype=None, threshold=0.97)\n",
    "    \n",
    "    \n",
    "    transformer_model.compile(loss=\"binary_crossentropy\", optimizer=\"adam\", metrics=\"accuracy\")\n",
    "    return transformer_model\n"
   ]
  },
  {
   "cell_type": "code",
   "execution_count": 906,
   "metadata": {},
   "outputs": [],
   "source": [
    "\n",
    "def prepare_model(name):\n",
    "    if (name == \"cnn\"):\n",
    "       return get_cnn_model()\n",
    "    elif (name == \"transformer\"):\n",
    "       return get_transformer_model()\n",
    "  \n",
    "\n",
    "def filter_max_accuracy(history, threshold = 0.95):\n",
    "    acc = history.history[\"accuracy\"]\n",
    "    val_acc = history.history[\"val_accuracy\"]\n",
    "    list = []\n",
    "    for x in range(len(acc)):\n",
    "        if (acc[x] > threshold):\n",
    "            list.append(val_acc[x])\n",
    "\n",
    "    return np.array(list)\n",
    "\n",
    "models = [\"cnn\", \"transformer\"]\n",
    "\n",
    "callback_3_loss = tf.keras.callbacks.EarlyStopping(monitor=\"val_loss\", patience=4)\n",
    "\n",
    "\n",
    "def mean_model_accuracy(mode_names, iterations, epochs = 20):\n",
    "\n",
    "  \n",
    "    results = []\n",
    "\n",
    "    for name in range(len(mode_names)):\n",
    "        model_name = mode_names[name]\n",
    "        val_accuracies = []\n",
    "        \n",
    "        for x in range(iterations):\n",
    "            model = prepare_model(model_name)\n",
    "\n",
    "            # Fit the model using the train and test datasets.\n",
    "            history = model.fit(train_data_vect, train_labels, epochs=epochs, batch_size=6, validation_data=(val_data_vect, val_labels), callbacks=[callback_3_loss])\n",
    "\n",
    "            max_val_acc = filter_max_accuracy(history)\n",
    "            val_accuracies.append(max(max_val_acc))\n",
    "            print(max(max_val_acc))\n",
    "            print(val_accuracies)\n",
    "        \n",
    "        d = dict(name = model_name, results = np.mean(np.squeeze(np.array(val_accuracies))))\n",
    "        results.append(d)\n",
    "        \n",
    "    return results\n"
   ]
  },
  {
   "cell_type": "code",
   "execution_count": 907,
   "metadata": {},
   "outputs": [],
   "source": [
    "# mean_results = mean_model_accuracy(models, 8)\n",
    "# mean_results"
   ]
  },
  {
   "cell_type": "code",
   "execution_count": 908,
   "metadata": {},
   "outputs": [],
   "source": [
    "def result_format_round(result):\n",
    "    return round(result)\n",
    "\n",
    "def result_format_none(result):\n",
    "    return result\n",
    "\n",
    "def print_model_score(model):\n",
    "    score = model.evaluate(val_data_vect, val_labels, verbose=0)\n",
    "    print(\"Validation loss:\", score[0])\n",
    "    print(\"Validations accuracy:\", score[1])\n",
    "\n",
    "def print_validation_results(predictions, val_data, labels, formatter, only_incorrect = False):\n",
    "    print(\"Number of predictions\", len(predictions))\n",
    "    n_correct = 0\n",
    "    for x in range(len(val_data)):\n",
    "        correct_prediction = result_format_round(labels[x]) == result_format_round(predictions[x][0])\n",
    "        if correct_prediction:\n",
    "            n_correct += 1\n",
    "\n",
    "        if correct_prediction == False and labels[x] == 1:\n",
    "            print(\"VALIDATION SAMPLE TEXT: \\n\" ,val_data[x])\n",
    "            print(\"VALIDATION SAMPLE DE-VECTORIZED: \\n\" ,vect_layer_2_text(val_data_vect[x], vect_vocab))\n",
    "            print(\"LABEL -- :\" , labels[x])\n",
    "            print(\"PREDICTION -- :\" , formatter(predictions[x][0]), \" ---- float: \", predictions[x][0])\n",
    "            print(\"CORRECT PREDICTION: \", correct_prediction)\n",
    "            print(\"\\n\")\n",
    "\n",
    "    print(\"Number correct: \", n_correct)"
   ]
  },
  {
   "cell_type": "code",
   "execution_count": 909,
   "metadata": {},
   "outputs": [
    {
     "name": "stdout",
     "output_type": "stream",
     "text": [
      "Epoch 1/7\n",
      "138/138 [==============================] - 3s 16ms/step - loss: 1.3327e-04 - accuracy: 0.7264 - val_loss: 0.3621 - val_accuracy: 0.8274\n",
      "Epoch 2/7\n",
      "138/138 [==============================] - 2s 14ms/step - loss: 6.2875e-05 - accuracy: 0.8983 - val_loss: 0.2664 - val_accuracy: 0.8988\n",
      "Epoch 3/7\n",
      "138/138 [==============================] - 2s 14ms/step - loss: 3.2701e-05 - accuracy: 0.9528 - val_loss: 0.2529 - val_accuracy: 0.8869\n",
      "Epoch 4/7\n",
      "138/138 [==============================] - 2s 14ms/step - loss: 1.6463e-05 - accuracy: 0.9836 - val_loss: 0.2226 - val_accuracy: 0.9107\n",
      "Epoch 5/7\n",
      "138/138 [==============================] - 2s 14ms/step - loss: 9.3978e-06 - accuracy: 0.9935 - val_loss: 0.2560 - val_accuracy: 0.9048\n",
      "Epoch 6/7\n",
      "138/138 [==============================] - 2s 14ms/step - loss: 4.8936e-06 - accuracy: 0.9981 - val_loss: 0.2546 - val_accuracy: 0.9107\n",
      "Epoch 7/7\n",
      "138/138 [==============================] - 2s 14ms/step - loss: 2.8982e-06 - accuracy: 0.9994 - val_loss: 0.2610 - val_accuracy: 0.9048\n"
     ]
    }
   ],
   "source": [
    "\n",
    "epochs= 7\n",
    "transformer_model = get_transformer_model()\n",
    "\n",
    "transformer_history = transformer_model.fit(train_data_vect, train_labels, epochs=epochs, batch_size=60, validation_data=(val_data_vect, val_labels),  class_weight=class_weight,)\n"
   ]
  },
  {
   "cell_type": "code",
   "execution_count": 910,
   "metadata": {},
   "outputs": [
    {
     "name": "stdout",
     "output_type": "stream",
     "text": [
      "Model: \"model_44\"\n",
      "_________________________________________________________________\n",
      "Layer (type)                 Output Shape              Param #   \n",
      "=================================================================\n",
      "input_52 (InputLayer)        [(None, 60)]              0         \n",
      "_________________________________________________________________\n",
      "token_and_position_embedding (None, 60, 192)           1317120   \n",
      "_________________________________________________________________\n",
      "transformer_block_22 (Transf (None, 60, 192)           371136    \n",
      "_________________________________________________________________\n",
      "global_max_pooling1d_22 (Glo (None, 192)               0         \n",
      "_________________________________________________________________\n",
      "predictions (Dense)          (None, 1)                 193       \n",
      "=================================================================\n",
      "Total params: 1,688,449\n",
      "Trainable params: 1,688,449\n",
      "Non-trainable params: 0\n",
      "_________________________________________________________________\n"
     ]
    }
   ],
   "source": [
    "transformer_model.summary()"
   ]
  },
  {
   "cell_type": "code",
   "execution_count": 911,
   "metadata": {},
   "outputs": [],
   "source": [
    "\n",
    "# epochs= 8\n",
    "# cnn_model = get_cnn_model()\n",
    "\n",
    "# transformer_history = cnn_model.fit(train_data_vect, train_labels, epochs=epochs, batch_size=40, validation_data=(val_data_vect, val_labels))"
   ]
  },
  {
   "cell_type": "code",
   "execution_count": 912,
   "metadata": {},
   "outputs": [],
   "source": [
    "def print_results(model):\n",
    "    np.set_printoptions(precision = 5, suppress = True)\n",
    "    predictions = model.predict(val_data_vect)\n",
    "    print_model_score(model)\n",
    "    print(\"\\n\")\n",
    "    print_validation_results(predictions, val_data, val_labels, result_format_round)\n",
    "  "
   ]
  },
  {
   "cell_type": "code",
   "execution_count": 913,
   "metadata": {},
   "outputs": [
    {
     "name": "stdout",
     "output_type": "stream",
     "text": [
      "--- TRANSFORMER ---\n"
     ]
    },
    {
     "name": "stdout",
     "output_type": "stream",
     "text": [
      "Validation loss: 0.26100313663482666\n",
      "Validations accuracy: 0.9047619104385376\n",
      "\n",
      "\n",
      "Number of predictions 168\n",
      "VALIDATION SAMPLE TEXT: \n",
      " Tour de France . Begejstret Vingegaard ser frem til Tour-fejring . Den nykårede Tour de France-vinder lander i Danmark onsdag, hvor han skal fejres.\n",
      "VALIDATION SAMPLE DE-VECTORIZED: \n",
      " ['xtournament' '[UNK]' 'begejstret' '[UNK]' 'ser' 'frem' 'til'\n",
      " 'xtournament' 'fejring' '[UNK]' 'den' 'nykårede' 'xtournament' 'vinder'\n",
      " 'lander' 'i' 'xland' 'xweekday' 'hvor' 'han' 'skal' 'fejres' '[UNK]']\n",
      "LABEL -- : 1\n",
      "PREDICTION -- : 0  ---- float:  0.23024322\n",
      "CORRECT PREDICTION:  False\n",
      "\n",
      "\n",
      "VALIDATION SAMPLE TEXT: \n",
      " TENNIS . 10 minutter inden kampen læste hun negative kommentarer om sig selv på sociale medier. Så gik hun ud og vandt en af verdens største turneringer . Vinderen af årets US Open er kun 19 år og har fulgt samme opskrift på succes som de største stjerner i tennis. Nu bliver Coco Gauff spået en lignende fremtid\n",
      "VALIDATION SAMPLE DE-VECTORIZED: \n",
      " ['tennis' '[UNK]' 'xnumber' 'minutter' 'inden' 'kampen' '[UNK]' 'hun'\n",
      " 'negative' 'kommentarer' 'om' 'sig' 'selv' 'på' 'sociale' 'medier'\n",
      " '[UNK]' 'så' 'gik' 'hun' 'ud' 'og' 'vandt' 'en' '[UNK]' 'verdens'\n",
      " 'største' 'xtournament' '[UNK]' 'vinderen' '[UNK]' 'årets' 'xtournament'\n",
      " 'er' 'kun' 'xnumber' 'år' 'og' 'har' 'fulgt' 'samme' '[UNK]' 'på'\n",
      " 'succes' 'som' 'de' 'største' 'stjerner' 'i' 'tennis' '[UNK]' 'nu'\n",
      " 'bliver' '[UNK]' '[UNK]' 'spået' 'en' 'lignende' 'fremtid']\n",
      "LABEL -- : 1\n",
      "PREDICTION -- : 0  ---- float:  0.22968096\n",
      "CORRECT PREDICTION:  False\n",
      "\n",
      "\n",
      "VALIDATION SAMPLE TEXT: \n",
      " E-sport . Heroic-profiler jubler over bedrift . Mens Astralis fortsat har kniven for struben, kan det andet danskerhold Heroic ånde lettet op efter flere overlegne indsatser\n",
      "VALIDATION SAMPLE DE-VECTORIZED: \n",
      " ['e' 'sport' '[UNK]' '[UNK]' 'profiler' 'jubler' 'over' 'bedrift' '[UNK]'\n",
      " 'mens' '[UNK]' 'fortsat' 'har' 'kniven' 'for' 'struben' 'kan' 'det'\n",
      " 'andet' 'xnationality' '[UNK]' 'ånde' 'lettet' 'op' 'efter' 'flere'\n",
      " 'overlegne' '[UNK]']\n",
      "LABEL -- : 1\n",
      "PREDICTION -- : 0  ---- float:  0.3885986\n",
      "CORRECT PREDICTION:  False\n",
      "\n",
      "\n",
      "VALIDATION SAMPLE TEXT: \n",
      " Atletik . Danmark sender største trup til VM i 28 år . Seks atletikudøvere havde i sidste uge sikret sig adgang til VM, men nu er yderligere fem kommet med\n",
      "VALIDATION SAMPLE DE-VECTORIZED: \n",
      " ['atletik' '[UNK]' 'xland' 'sender' 'største' 'trup' 'til' 'xtournament'\n",
      " 'i' 'xnumber' 'år' '[UNK]' 'seks' 'atletikudøvere' 'havde' 'i' 'sidste'\n",
      " 'uge' 'sikret' 'sig' '[UNK]' 'til' 'xtournament' 'men' 'nu' 'er'\n",
      " 'yderligere' 'fem' 'kommet' 'med']\n",
      "LABEL -- : 1\n",
      "PREDICTION -- : 0  ---- float:  0.13369152\n",
      "CORRECT PREDICTION:  False\n",
      "\n",
      "\n",
      "VALIDATION SAMPLE TEXT: \n",
      " Fodbold . - Beder selv om, at det skal gå galt, siger Neestrup . FC København og FC Nordsjælland fik ét point hver.\n",
      "VALIDATION SAMPLE DE-VECTORIZED: \n",
      " ['fodbold' '[UNK]' 'beder' 'selv' 'om' 'at' 'det' 'skal' 'gå' 'galt'\n",
      " 'siger' '[UNK]' '[UNK]' '[UNK]' '[UNK]' 'og' '[UNK]' '[UNK]' 'fik'\n",
      " '[UNK]' 'point' 'hver' '[UNK]']\n",
      "LABEL -- : 1\n",
      "PREDICTION -- : 0  ---- float:  0.20457745\n",
      "CORRECT PREDICTION:  False\n",
      "\n",
      "\n",
      "VALIDATION SAMPLE TEXT: \n",
      " Ishockey . Midt i jublen fremhæves altmuligmanden igen og igen . Efter Danmarks kvalifikation til vinter-OL i Beijing nævnte både spillere, landstræneren og TV 2 SPORTs ekspert den samme person\n",
      "VALIDATION SAMPLE DE-VECTORIZED: \n",
      " ['ishockey' '[UNK]' 'midt' 'i' 'jublen' '[UNK]' '[UNK]' 'igen' 'og' 'igen'\n",
      " '[UNK]' 'efter' 'xland' 'kvalifikation' 'til' 'vinter' 'xtournament' 'i'\n",
      " '[UNK]' '[UNK]' 'både' 'spillere' 'landstræneren' 'og' 'tv' 'xnumber'\n",
      " 'sports' 'ekspert' 'den' 'samme' 'person']\n",
      "LABEL -- : 1\n",
      "PREDICTION -- : 0  ---- float:  0.08549668\n",
      "CORRECT PREDICTION:  False\n",
      "\n",
      "\n",
      "VALIDATION SAMPLE TEXT: \n",
      " Bueskydning . VM-medaljer i bueskydning skal afløse skidt dansk start . VM i bueskydning i København har været i gang siden mandag, og en række danskere har været i aktion. Det har dog været en blandet fornøjelse\n",
      "VALIDATION SAMPLE DE-VECTORIZED: \n",
      " ['bueskydning' '[UNK]' 'xtournament' 'medaljer' 'i' 'bueskydning' 'skal'\n",
      " '[UNK]' 'skidt' 'xnationality' 'start' '[UNK]' 'xtournament' 'i'\n",
      " 'bueskydning' 'i' '[UNK]' 'har' 'været' 'i' 'gang' 'siden' 'xweekday'\n",
      " 'og' 'en' 'række' 'xnationality' 'har' 'været' 'i' 'aktion' '[UNK]' 'det'\n",
      " 'har' 'dog' 'været' 'en' 'blandet' 'fornøjelse']\n",
      "LABEL -- : 1\n",
      "PREDICTION -- : 0  ---- float:  0.4307306\n",
      "CORRECT PREDICTION:  False\n",
      "\n",
      "\n",
      "Number correct:  152\n"
     ]
    }
   ],
   "source": [
    "print(\"--- TRANSFORMER ---\")\n",
    "print_results(transformer_model)"
   ]
  },
  {
   "cell_type": "code",
   "execution_count": 914,
   "metadata": {},
   "outputs": [],
   "source": [
    "\n",
    "# print(\"--- CNN ---\")\n",
    "# print_results(cnn_model)"
   ]
  },
  {
   "cell_type": "code",
   "execution_count": 915,
   "metadata": {},
   "outputs": [
    {
     "data": {
      "text/plain": [
       "array([[ 0.00572, -0.00638,  0.03753, ..., -0.04431,  0.01891,  0.00337],\n",
       "       [ 0.05415, -0.02029,  0.00754, ..., -0.02223, -0.05201, -0.05543],\n",
       "       [ 0.07033,  0.03458,  0.05828, ..., -0.01647,  0.05827, -0.0001 ],\n",
       "       ...,\n",
       "       [ 0.05068, -0.01701, -0.02526, ...,  0.00021, -0.05137, -0.0435 ],\n",
       "       [-0.01071, -0.02236,  0.02255, ...,  0.04359,  0.03259,  0.02462],\n",
       "       [-0.02901, -0.02463,  0.02521, ...,  0.03706, -0.03524, -0.0428 ]],\n",
       "      dtype=float32)"
      ]
     },
     "execution_count": 915,
     "metadata": {},
     "output_type": "execute_result"
    }
   ],
   "source": [
    "import os\n",
    "\n",
    "# Set up a logs directory, so Tensorboard knows where to look for files.\n",
    "\n",
    "ll = transformer_model.layers[1]\n",
    "ll_weights = ll.get_weights()[0]\n",
    "\n",
    "# print(ll_weights.shape)\n",
    "ll_weights\n"
   ]
  },
  {
   "cell_type": "code",
   "execution_count": 916,
   "metadata": {},
   "outputs": [],
   "source": [
    "##import I/O module in python\n",
    "import io\n",
    "\n",
    "##open the text stream for vectors\n",
    "vectors = io.open('vectors.tsv', 'w', encoding='utf-8')\n",
    "\n",
    "##open the text stream for metadata\n",
    "meta = io.open('meta.tsv', 'w', encoding='utf-8')\n",
    "\n",
    "\n",
    "##write each word and its corresponding embedding\n",
    "for index in range(1, len(vect_vocab)):\n",
    "  word = vect_vocab[index]  # flipping the key-value in word_index\n",
    "  embeddings = ll_weights[index]\n",
    "  meta.write(word + \"\\n\")\n",
    "  vectors.write('\\t'.join([str(x) for x in embeddings]) + \"\\n\")\n",
    "\n",
    "##close the stream\n",
    "vectors.close()\n",
    "meta.close()"
   ]
  },
  {
   "cell_type": "code",
   "execution_count": 917,
   "metadata": {},
   "outputs": [],
   "source": [
    "# from nltk import collocations\n",
    "# bigram_measures = collocations.BigramAssocMeasures()\n",
    "# finder = collocations.BigramCollocationFinder.from_words([\"New\", \"York\", \"is\", \"big\", \"New\", \"York\", \"is\", \"dirty\"])\n",
    "# finder.ngram_fd.items()\n",
    "\n"
   ]
  },
  {
   "cell_type": "code",
   "execution_count": 918,
   "metadata": {},
   "outputs": [],
   "source": [
    "# import lemmy\n",
    "# # Create an instance of the standalone lemmatizer.\n",
    "# lemmatizer = lemmy.load(\"da\")\n",
    "\n",
    "# # Find lemma for the word 'akvariernes'. First argument is an empty POS tag.\n",
    "# lemmatizer.lemmatize(\"NOUN\", \"verdensetter\")\n",
    "\n"
   ]
  },
  {
   "cell_type": "code",
   "execution_count": 919,
   "metadata": {},
   "outputs": [],
   "source": [
    "# import nltk as nltk\n",
    "# # from string import punctuation\n",
    "# # from nltk.corpus import stopwords\n",
    "# # nltk.download('stopwords')\n",
    "\n",
    "# # da_stopwords = stopwords.words(\"danish\")\n"
   ]
  },
  {
   "cell_type": "code",
   "execution_count": 920,
   "metadata": {},
   "outputs": [],
   "source": [
    "# A string input\n",
    "inputs = tf.keras.Input(shape=(1,), dtype=\"string\")\n",
    "# Turn strings into vocab indices\n",
    "indices = vectorized_layer(inputs)\n",
    "# Turn vocab indices into predictions\n",
    "outputs = transformer_model(indices)\n",
    "\n",
    "# Our end to end model\n",
    "end_to_end_model = tf.keras.Model(inputs, outputs)\n",
    "end_to_end_model.compile(\n",
    "    loss=\"binary_crossentropy\", optimizer=\"adam\", metrics=[\"accuracy\"]\n",
    ")\n"
   ]
  },
  {
   "cell_type": "code",
   "execution_count": 921,
   "metadata": {},
   "outputs": [
    {
     "name": "stdout",
     "output_type": "stream",
     "text": [
      "\n",
      "Results:\n",
      "[[0.93922]\n",
      " [0.9995 ]\n",
      " [0.99995]\n",
      " [0.99182]\n",
      " [0.77294]]\n",
      "\n",
      " NON-Results:\n",
      "[[0.00987]\n",
      " [0.06496]\n",
      " [0.28612]\n",
      " [0.00032]\n",
      " [0.04874]\n",
      " [0.12159]\n",
      " [0.545  ]\n",
      " [0.85472]]\n"
     ]
    }
   ],
   "source": [
    "print(\"\\nResults:\")\n",
    "\n",
    "\n",
    "print(end_to_end_model.predict(\n",
    "    [\n",
    "      \"Fodbold . Fjerritslev vinder over Vordingborg. Træner kommenterer på historisk kamp\",\n",
    "       \"SPORT . Hun vandt bronze i mandags Roer Anne Dsane Andersen har som 24-årig vundet bronze ved OL\",\n",
    "       \"Badminton . Axelsen frustreret over nederlag. Viktor Axelsen trænger til ferie efter nedturen\",\n",
    "      \"OL . Det blev til en flot medalje til Malene dfhsds. 'Jeg er meget lykkelig for resultatet'\",\n",
    "      \"Badminton . Dansker er videre til finalerne. dsfsdf sfdsdf slkal spille i semifinalerne på onsdag\",\n",
    "     ]))\n",
    "\n",
    "\n",
    "print(\"\\n NON-Results:\") \n",
    "print(end_to_end_model.predict(\n",
    "    [\n",
    "      \"OL Meget skal ske før en medalje kommer inden for rækkevidde. Dressurrytter Malene dsds har mistet troen på success\",\n",
    "      \"Fodbold . Træner for Fjerritslev ser frem til sejr over Vordingborg. 'Det bliver en historisk kamp'\",\n",
    "      \"Fodbold . De danske spillere skal op imod Sverige, som de tabte til i 2022\",\n",
    "      \"Fodbold . De danske spillere vil forsøge at besejre Tyrkiet den kommende Lørdag i VM-kamp. Tyrkiet har aldriv været i en VM-finale\",\n",
    "      \"Fodbold . De danske spillere tror på sejr mod Tyrkiet. 'Den skal vindes'\",\n",
    "      \"Skisport . Sverige drømmer om flere medaljer og sejre til næste års OL . Træner forventer flere gode resultater\",\n",
    "      \"Boksning . Kesler vil overraske alle og gøre det umulige. 'Jeg vinder i VM'\",\n",
    "      \"Boksning . Kesler med stor selvtillid: 'Det bliver guld eller sølv til VM'\",\n",
    "    \n",
    "     ]))"
   ]
  },
  {
   "cell_type": "code",
   "execution_count": 922,
   "metadata": {},
   "outputs": [
    {
     "name": "stdout",
     "output_type": "stream",
     "text": [
      "\n",
      " IN-BETWEEN-Results:\n",
      "[[0.99993]\n",
      " [0.9995 ]\n",
      " [0.85533]\n",
      " [0.32814]\n",
      " [0.33012]\n",
      " [0.00013]]\n"
     ]
    }
   ],
   "source": [
    "print(\"\\n IN-BETWEEN-Results:\") \n",
    "print(end_to_end_model.predict(\n",
    "    [\n",
    "       \"Fodbold . Fjerritslev vandt i lørdags over Vordingborg 1-0. Den danske anfører dasdad dasdasd triumferer\",\n",
    "       \"Fodbold . Fjerritslev vandt i lørdags over Vordingborg. Den danske anfører adasdasdd daddas triumferer\",\n",
    "       \"Fodbold . Fjerritslev vandt i lørdags over Vordingborg. Efter kampen meddelyte den danske anfører sdfd sdfdf, at han skal under kniven\",\n",
    "       \"Fodbold . Superliga-profil har meddelelse efter sejr over Vordingborg. ' Den danske anfører fsdsdff sdffsd skal opereres og er ude i flere måneder\",\n",
    "       \"Fodbold . Superliga-profil har meddelelse efter sejr. Den danske anfører fdfd sdffdf skal opereres og er ude i flere måneder\",\n",
    "       \"Fodbold . Superliga-profil kan se frem til en længere pause. Den danske anfører fdfd sdfff skal opereres og er ude i flere måneder\",\n",
    "        ]))"
   ]
  }
 ],
 "metadata": {
  "interpreter": {
   "hash": "be0503bf1d8a1ee3ca0077be831d95fbcddd9686f11808f41fa1809452b7e6ad"
  },
  "kernelspec": {
   "display_name": "Python 3.9.7 ('newenv')",
   "language": "python",
   "name": "python3"
  },
  "language_info": {
   "codemirror_mode": {
    "name": "ipython",
    "version": 3
   },
   "file_extension": ".py",
   "mimetype": "text/x-python",
   "name": "python",
   "nbconvert_exporter": "python",
   "pygments_lexer": "ipython3",
   "version": "3.9.7"
  },
  "orig_nbformat": 4
 },
 "nbformat": 4,
 "nbformat_minor": 2
}
