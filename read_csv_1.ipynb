{
 "cells": [
  {
   "cell_type": "code",
   "execution_count": 2,
   "metadata": {},
   "outputs": [],
   "source": [
    "import pandas as pd\n",
    "\n"
   ]
  },
  {
   "cell_type": "code",
   "execution_count": 6,
   "metadata": {},
   "outputs": [],
   "source": [
    "df = pd.read_csv('sports_articles.csv', encoding = \"ISO-8859-1\")\n"
   ]
  },
  {
   "cell_type": "code",
   "execution_count": 9,
   "metadata": {},
   "outputs": [
    {
     "data": {
      "text/html": [
       "<div>\n",
       "<style scoped>\n",
       "    .dataframe tbody tr th:only-of-type {\n",
       "        vertical-align: middle;\n",
       "    }\n",
       "\n",
       "    .dataframe tbody tr th {\n",
       "        vertical-align: top;\n",
       "    }\n",
       "\n",
       "    .dataframe thead th {\n",
       "        text-align: right;\n",
       "    }\n",
       "</style>\n",
       "<table border=\"1\" class=\"dataframe\">\n",
       "  <thead>\n",
       "    <tr style=\"text-align: right;\">\n",
       "      <th></th>\n",
       "      <th>Category</th>\n",
       "      <th>Headline</th>\n",
       "      <th>SubHeading</th>\n",
       "      <th>Link</th>\n",
       "      <th>isResult</th>\n",
       "    </tr>\n",
       "  </thead>\n",
       "  <tbody>\n",
       "    <tr>\n",
       "      <th>0</th>\n",
       "      <td>CYKLING</td>\n",
       "      <td>Italiensk tempotog træder fra både Vingegaard ...</td>\n",
       "      <td>Filippo Ganna var hurtigst på tirsdagens 25,8 ...</td>\n",
       "      <td>https://www.dr.dk/sporten/cykling/italiensk-te...</td>\n",
       "      <td>True</td>\n",
       "    </tr>\n",
       "    <tr>\n",
       "      <th>1</th>\n",
       "      <td>BADMINTON</td>\n",
       "      <td>Dansk mester stopper på landsholdet med bekymr...</td>\n",
       "      <td>Hans-Kristian Vittinghus mener, at Danmark er ...</td>\n",
       "      <td>https://www.dr.dk/sporten/badminton/dansk-mest...</td>\n",
       "      <td>False</td>\n",
       "    </tr>\n",
       "    <tr>\n",
       "      <th>2</th>\n",
       "      <td>ATLETIK</td>\n",
       "      <td>Kæresten fik Simon overtalt - nu kan han kalde...</td>\n",
       "      <td>Danske Simon Jørn Hansen triumferede søndag ef...</td>\n",
       "      <td>https://www.dr.dk/sporten/atletik/kaeresten-fi...</td>\n",
       "      <td>True</td>\n",
       "    </tr>\n",
       "  </tbody>\n",
       "</table>\n",
       "</div>"
      ],
      "text/plain": [
       "    Category                                           Headline  \\\n",
       "0   CYKLING   Italiensk tempotog træder fra både Vingegaard ...   \n",
       "1  BADMINTON  Dansk mester stopper på landsholdet med bekymr...   \n",
       "2    ATLETIK  Kæresten fik Simon overtalt - nu kan han kalde...   \n",
       "\n",
       "                                          SubHeading  \\\n",
       "0  Filippo Ganna var hurtigst på tirsdagens 25,8 ...   \n",
       "1  Hans-Kristian Vittinghus mener, at Danmark er ...   \n",
       "2  Danske Simon Jørn Hansen triumferede søndag ef...   \n",
       "\n",
       "                                                Link  isResult  \n",
       "0  https://www.dr.dk/sporten/cykling/italiensk-te...      True  \n",
       "1  https://www.dr.dk/sporten/badminton/dansk-mest...     False  \n",
       "2  https://www.dr.dk/sporten/atletik/kaeresten-fi...      True  "
      ]
     },
     "execution_count": 9,
     "metadata": {},
     "output_type": "execute_result"
    }
   ],
   "source": [
    "df.head()"
   ]
  }
 ],
 "metadata": {
  "kernelspec": {
   "display_name": "Python 3",
   "language": "python",
   "name": "python3"
  },
  "language_info": {
   "codemirror_mode": {
    "name": "ipython",
    "version": 3
   },
   "file_extension": ".py",
   "mimetype": "text/x-python",
   "name": "python",
   "nbconvert_exporter": "python",
   "pygments_lexer": "ipython3",
   "version": "3.11.0"
  },
  "orig_nbformat": 4
 },
 "nbformat": 4,
 "nbformat_minor": 2
}
