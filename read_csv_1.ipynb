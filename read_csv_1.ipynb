{
 "cells": [
  {
   "cell_type": "code",
   "execution_count": 2049,
   "metadata": {},
   "outputs": [
    {
     "name": "stdout",
     "output_type": "stream",
     "text": [
      "The autoreload extension is already loaded. To reload it, use:\n",
      "  %reload_ext autoreload\n"
     ]
    }
   ],
   "source": [
    "import pandas as pd\n",
    "import numpy as np\n",
    "import tensorflow as tf\n",
    "from tensorflow import keras\n",
    "from collections import OrderedDict\n",
    "\n",
    "%load_ext autoreload\n",
    "%autoreload 2"
   ]
  },
  {
   "cell_type": "code",
   "execution_count": 2050,
   "metadata": {},
   "outputs": [
    {
     "name": "stdout",
     "output_type": "stream",
     "text": [
      "Train data/labels length:  7930 7930\n",
      "Validation data/labels length:  161 161\n"
     ]
    }
   ],
   "source": [
    "from csv_data import get_vocab_dict\n",
    "from csv_data import get_sports\n",
    "from csv_data import csv_to_list\n",
    "from csv_data import split_data\n",
    "from csv_data import extract_data\n",
    "from csv_data import check_duplicates\n",
    "\n",
    "\n",
    "# # TODO : fjern ord der er kategorisert som \"egennavn\" i ddo_fullforms_2020-08-26.csv\n",
    "\n",
    "ordered_dict = get_vocab_dict()\n",
    "df_sport = get_sports()\n",
    "nationalities = csv_to_list('nat3.csv')\n",
    "danske_navne = csv_to_list('danmark_navne.csv')\n",
    "danske_fornavne = csv_to_list('danske_fornavne.csv')\n",
    "countries = csv_to_list('countries.csv')\n",
    "navne = csv_to_list('navne.csv')\n",
    "\n",
    "def get_results_in_data(train_data, train_labels):\n",
    "    results = []\n",
    "    for t in range(len(train_data)):\n",
    "        if train_labels[t] == 1:\n",
    "            results.append(train_data[t])\n",
    "    \n",
    "    return results\n",
    "\n",
    "# train_data_results = get_results_in_data(train_data, train_labels)\n",
    "\n",
    "data_total, labels_total = extract_data(df_sport)\n",
    "check_duplicates(data_total)\n",
    "\n",
    "train_data, val_data, train_labels, val_labels = split_data((data_total, labels_total), 2)\n",
    "\n",
    "# print(\"Total data: \", len(train_text))\n",
    "print(\"Train data/labels length: \", len(train_data), len(train_labels))\n",
    "print(\"Validation data/labels length: \", len(val_data),  len(val_labels))\n"
   ]
  },
  {
   "cell_type": "code",
   "execution_count": 2051,
   "metadata": {},
   "outputs": [
    {
     "name": "stdout",
     "output_type": "stream",
     "text": [
      "Håndbold . Kampen blev stoppet, så Lindberg kunne nyde sit historiske øjeblik . TV 2 Sports håndboldekspert Bent Nyegaard ser i denne klumme nærmere på Hans Lindbergs scoringsrekord.\n",
      "0\n",
      "Basketball . De færreste troede, scoringen talte - nu kan Boston skrive historie . Serien mellem Boston Celtics og Miami Heat skal afgøres i kamp syv. Boston har chancen for at blive det første hold til at vende 0-3 til 4-3\n",
      "0\n",
      "VM fodbold . Historisk dårlige VM-tal - her er ekspertens forklaring . Scoringsprocenten på straffespark har aldrig været så lav som til årets VM-slutrunde, imens VM har bestået af 32 hold. Men hvorfor er det sådan?\n",
      "0\n",
      "Fodbold . Liverpool-scoring skulle ikke være underkendt, indrømmer forbund . VAR-vognen fik en uheldig rolle i topopgøret mellem Tottenham og Liverpool\n",
      "0\n",
      "Ishockey . - Det går mig på, siger dansk profil før skæbnekamp . Mikkel Bødker og Nicklas Jensen imponerede ved VM, men venter stadig på scoringerne i OL-kvalifikationen\n",
      "0\n",
      "FODBOLD . VIDEO VM-dommer laver korrekt kendelse . VM har budt på en stribe fejlkendelser, men i nattens kamp fik Australien korrekt underkendt en scoring\n",
      "0\n"
     ]
    }
   ],
   "source": [
    "import re\n",
    "\n",
    "train_results_words = []\n",
    "for i,tt in enumerate(train_data):\n",
    "    if re.search(r'\\bscorin', tt, re.IGNORECASE):\n",
    "        train_results_words.append(tt)\n",
    "        if (train_labels[i] == 0):\n",
    "            print(tt)\n",
    "            print(train_labels[i])\n",
    "        # print(train)\n",
    "\n",
    "# print(len(train_results_words))\n",
    "# train_results_words\n"
   ]
  },
  {
   "cell_type": "code",
   "execution_count": 2052,
   "metadata": {},
   "outputs": [
    {
     "name": "stdout",
     "output_type": "stream",
     "text": [
      "[4441 3489]\n"
     ]
    }
   ],
   "source": [
    "counts = np.bincount(train_labels)\n",
    "# print(\n",
    "#     \"Number of positive samples in training data: {} ({:.2f}% of total)\".format(\n",
    "#         counts[1], 100 * float(counts[1]) / len(train_labels)\n",
    "#     )\n",
    "# )\n",
    "\n",
    "print(counts)\n",
    "\n",
    "weight_for_0 = 1.0 / counts[0]\n",
    "weight_for_1 = 1.0 / counts[1]\n",
    "\n",
    "class_weight = {0: weight_for_0, 1: weight_for_1}"
   ]
  },
  {
   "cell_type": "code",
   "execution_count": 2053,
   "metadata": {},
   "outputs": [],
   "source": [
    "\n",
    "def combine_articles_to_csv():\n",
    "    df_sport_combined = df_sport.copy().drop('Link', axis=1)\n",
    "    df_sport_combined.to_csv('articles_temp/combined.csv')\n",
    "\n",
    "combine_articles_to_csv()\n"
   ]
  },
  {
   "cell_type": "code",
   "execution_count": 2054,
   "metadata": {},
   "outputs": [
    {
     "name": "stdout",
     "output_type": "stream",
     "text": [
      "Duplicates in data points: \n",
      "Empty DataFrame\n",
      "Columns: [Category, Headline, SubHeading, Link, isResult, isMaybe]\n",
      "Index: []\n"
     ]
    }
   ],
   "source": [
    "duplicate_rows = df_sport.duplicated()\n",
    "print(\"Duplicates in data points: \")\n",
    "print(df_sport[duplicate_rows])"
   ]
  },
  {
   "cell_type": "code",
   "execution_count": 2055,
   "metadata": {},
   "outputs": [
    {
     "name": "stdout",
     "output_type": "stream",
     "text": [
      "False\n"
     ]
    }
   ],
   "source": [
    "import time\n",
    "isin_dict = False\n",
    "def test_lookup_performance():\n",
    "    word_to_check = \"Dansk\"\n",
    "    start_time = time.time()\n",
    "\n",
    "    for x in range(1000000):\n",
    "        isin_dict = word_to_check in ordered_dict\n",
    "\n",
    "    end_time = time.time()  \n",
    "    assert(end_time - start_time < 1)\n",
    "    print(isin_dict)\n",
    "\n",
    "test_lookup_performance()\n",
    "\n",
    "# isin_dict\n"
   ]
  },
  {
   "cell_type": "code",
   "execution_count": 2056,
   "metadata": {},
   "outputs": [
    {
     "name": "stdout",
     "output_type": "stream",
     "text": [
      "7930\n"
     ]
    },
    {
     "name": "stdout",
     "output_type": "stream",
     "text": [
      "total unique words: 17236\n",
      "total sports lingo words: 4139\n",
      "total vocab: 13097\n",
      "total articles: 8091\n"
     ]
    }
   ],
   "source": [
    "\n",
    "\n",
    "# train_text = df_sport.iloc[:, [0,1,2]].apply(' . '.join, axis=1).replace('\\xa0', '', regex=True).to_numpy()\n",
    "# train_text_results = df_sport.loc[df_sport['isResult'] == True].iloc[:, [0,1,2]].apply(' . '.join, axis=1).replace('\\xa0', '', regex=True).to_numpy()\n",
    "\n",
    "from create_vocab import split_sentences, strip_sentences\n",
    "from create_vocab import remove_duplicates\n",
    "from create_vocab import remove_nationalities\n",
    "from create_vocab import remove_danske_navne\n",
    "from create_vocab import remove_danske_fornavne\n",
    "from create_vocab import remove_numeric\n",
    "from create_vocab import remove_non_dict_words\n",
    "from create_vocab import add_non_alpha_numeric\n",
    "\n",
    "print(len(train_data))\n",
    "\n",
    "# words_total =  train_data.copy()\n",
    "# words_total.extend(val_data)\n",
    "\n",
    "stripped_sentecess  = strip_sentences(train_data)\n",
    "split_stences = split_sentences(stripped_sentecess)\n",
    "words_arr_unique = remove_duplicates(split_stences)\n",
    "words_arr_unique = remove_nationalities(words_arr_unique, nationalities)\n",
    "words_arr_unique = remove_danske_navne(words_arr_unique, danske_navne)\n",
    "words_arr_unique = remove_danske_fornavne(words_arr_unique, danske_fornavne)\n",
    "words_arr_unique = remove_numeric(words_arr_unique)\n",
    "\n",
    "words_train_vocab, words_sport_lingo = remove_non_dict_words(words_arr_unique, ordered_dict)\n",
    "\n",
    "\n",
    "\n",
    "# # TODO : brug tensorflow Tokenezier til at omdanne ord til tokens\n",
    "# # TODO : søg i alle leksikoner, søg med og uden bindestreg\n",
    "# # TODO : håndter tal ikke i ordbøger eks ( x-x eller x-årig)\n",
    "# # TODO : lemmatizer : udelad bøjninger af samme navneord. eks : verdensmester/verdensmesteren\n",
    "# # TODO : evt. grupper ord der ofte hænger sammen med nltk BigramFinder. eks vandt over\n",
    "# TODO : fjern evt. også alle navne (fornavne og efternavne)  \n",
    "\n",
    "print(\"total unique words:\", len(words_arr_unique) )\n",
    "print(\"total sports lingo words:\", len(words_sport_lingo) )\n",
    "print(\"total vocab:\", len(words_train_vocab))\n",
    "print(\"total articles:\", len(df_sport) )\n",
    "\n",
    "# for d in df_sport['isResult']:\n",
    "#     if isinstance(d, bool) != True:\n",
    "#         print(d)\n",
    "\n"
   ]
  },
  {
   "cell_type": "code",
   "execution_count": 2057,
   "metadata": {},
   "outputs": [],
   "source": [
    "file = open('words_sport_lingo.txt','w')\n",
    "for item in words_sport_lingo:\n",
    "\tfile.write(item+\"\\n\")\n",
    "file.close()\n",
    "\n",
    "file = open('words_train_vocab.txt','w')\n",
    "for item in sorted(words_train_vocab):\n",
    "\tfile.write(item+\"\\n\")\n",
    "file.close()\n"
   ]
  },
  {
   "cell_type": "code",
   "execution_count": 2058,
   "metadata": {},
   "outputs": [
    {
     "name": "stdout",
     "output_type": "stream",
     "text": [
      "friår\n"
     ]
    }
   ],
   "source": [
    "\n",
    "def most_frequent_words_in_arr(arr):\n",
    "    xx = np.array(arr, dtype=object)\n",
    "    unique, counts = np.unique(xx, return_counts=True)\n",
    "    aa = np.asarray((unique, counts)).T\n",
    "    return np.flip(aa[aa[:, 1].argsort()])\n",
    "\n",
    "frequent_words = most_frequent_words_in_arr(split_stences)\n",
    "\n",
    "# TODO : lav en negativ liste også\n",
    "# display most frequent words found in lingo words\n",
    "for f in frequent_words:\n",
    "    if f[1] in words_sport_lingo and f[1] not in navne and len(f[1]) > 1:\n",
    "        print(f[1])\n",
    "\n",
    "# frequent_words[:100]\n"
   ]
  },
  {
   "cell_type": "code",
   "execution_count": 2059,
   "metadata": {},
   "outputs": [
    {
     "name": "stdout",
     "output_type": "stream",
     "text": [
      "6344\n"
     ]
    }
   ],
   "source": [
    "\n",
    "\n",
    "# f = frequent_words[-300:]\n",
    "ff = []\n",
    "for w in frequent_words:\n",
    "    if w[1] in words_train_vocab and w[0] < 2:\n",
    "        ff.append(w[1])\n",
    "\n",
    "print(len(ff))\n",
    "# ff\n",
    "    "
   ]
  },
  {
   "cell_type": "code",
   "execution_count": 2060,
   "metadata": {},
   "outputs": [
    {
     "name": "stdout",
     "output_type": "stream",
     "text": [
      "['gruppefinale', 'legendens', 'runder', 'glippede', 'sportsdirektør', 'rugbrødsmadder', 'stenhus', 'overvåges', 'slips', 'tryller', 'series', 'understreger', 'fodboldkampe', 'dopingbekæmpelsen', 'hovedpersonen', 'alting', 'afslappet', 'maner', 'tomhændet', 'film', 'tvinger', 'uacceptabel', 'køn', 'afrikanske', 'bronze', 'korrigeret', 'penge', 'behandle', 'bunden', 'medaljefest', 'enes', 'landsholdshonorar', 'paraply', 'tropper', 'ler', 'konklusionen', 'tumultarisk', 'lokalbraget', 'stablet', 'aktivister', 'instinkt', 'cykelrytteres', 'topscoreren', 'dokumentarserien', 'aktuelle', 'meningen', 'baseballturnering', 'forgyldes', 'tæver', 'triatlet', 'motiverer', 'førsteårsspiller', 'råbte', 'måltørke', 'helten', 'dommerformand', 'femmer', 'pyjamas', 'sprintede', 'basketballekspert', 'junker', 'omgang', 'revanchedyst', 'ustoppelige', 'guldrekord', 'petit', 'fejlslagne', 'reducerede', 'knogle', 'imponerede', 'klokken', 'dramaer', 'hjerteklubben', 'syne', 'oplever', 'hjemmeholdet', 'respekteret', 'vindernation', 'ethvert', 'træningsaktiviteter', 'kælk', 'snæver', 'fyre', 'forræder', 'trist', 'henblik', 'kigger', 'stationen', 'afvist', 'gæsterne', 'disciplinærstraf', 'brættet', 'stjerneskud', 'cirkel', 'mistænkt', 'kunst', 'hjemmebanefordel', 'fremskridt', 'forladt', 'jubel', 'inspirerende', 'roer', 'felt', 'spiser', 'undlade', 'effektive', 'gyldent', 'opvarmningskamp', 'små', 'sejlerstjerne', 'færdigspilles', 'maratonløb', 'hattrick', 'slædesportsatleter', 'athletics', 'singleturnering', 'drastisk', 'skak', 'atletikchefs', 'snowboardstjerne', 'jagtstart', 'medaljechancer', 'mangeårige', 'curlinglandsholdet', 'skandaleramt', 'baseballspillere', 'fodboldlandsholdet', 'kvaliteten', 'assist', 'nedstirrende', 'selvforståelse', 'fortabt', 'ekvipage', 'vildt', 'opnår', 'bænkerolle', 'hjælpen', 'hovedskade', 'sensationsvinder', 'boksning', 'stafetløb', 'beachvolleyhold', 'skandaledomme', 'etapesejren', 'impliceret', 'fortuna', 'kværner', 'livline', 'betragtes', 'famøse', 'forfatter', 'holde', 'skaffede', 'fine', 'lært', 'kampes', 'hårdeste', 'kampsport', 'sidenhen', 'afprøve', 'groggy', 'langrendsstafetten', 'forkæler', 'tværs', 'surfer', 'rekordstort', 'udsigterne', 'pengenes', 'forår', 'flyveture', 'begynder', 'belønner', 'formel', 'preller', 'holdkonkurrencen', 'spærret', 'adgang', 'bruggisser', 'fryses', 'træner', 'rådighed', 'omgange', 'basketfinalen', 'symbol', 'musikalsk', 'mulehår', 'respektere', 'europæere', 'hjemmebanefavorit', 'nedslagtning', 'officielle', 'uhyggelige', 'måde', 'semifinalestævne', 'reservespækket', 'gøres', 'lullet', 'pris', 'havoverfladen', 'undgår', 'smittet', 'overraskende', 'sjove', 'nægte', 'byen', 'heppe', 'gestikulerede', 'gadeløb', 'ankommet', 'hjerte', 'ingeniør', 'kryptisk', 'anså', 'anabolske', 'chancer', 'eneste', 'hormonregler', 'alliances', 'helt', 'stikker', 'ishockeyhistorie', 'strammer', 'førertrøjen', 'is', 'bar', 'spade', 'nærkontakter', 'bueskydningskonkurrence', 'generationsskifte', 'fladt', 'overvinder', 'nottingham', 'pokaltitlen', 'tinderne', 'rost', 'inviteret', 'utilgængelig', 'indre', 'tiende', 'fremhæve', 'styrtløb', 'psykisk', 'grad', 'opstået', 'negle', 'klubmål', 'duel', 'historien', 'lighed', 'flaget', 'venskabelige', 'mellem', 'underdog', 'låner', 'førstegangsvinder', 'stjerner', 'skydninger', 'bilder', 'lugt', 'udligner', 'olympiske', 'føreren', 'straffe', 'dopingreglerne', 'førstnævnte', 'fortid', 'cykelkommentator', 'stjernerne', 'motorproblemer', 'dem', 'budgetterer', 'maratonløbere', 'sponsorer', 'herreligaen', 'basketballkampen', 'målmandskøen', 'senatet', 'skæbne', 'hyldet', 'søgt', 'medlem', 'krigstid', 'superlativer', 'ligeløn', 'tilbuddet', 'følelsesladet', 'æren', 'heden', 'atletikboss', 'kerne', 'søvnløshed', 'ekspert', 'overbord', 'kulmination', 'rekordtransfer', 'landsbank', 'spilles', 'klasser', 'frank', 'flirt', 'konstitueret', 'kyrie', 'perfekte', 'fodboldkarriere', 'boksekampen', 'aktuelt', 'de', 'billardens', 'coronainfektion', 'ligatopscorer', 'socialt', 'dystre', 'dopingbekæmper', 'atletikchef', 'kunstsvømning', 'håndboldlegenden', 'hundredvis', 'enhed', 'idrætsforeninger', 'streg', 'behovet', 'strandhåndbold', 'fornemt', 'døende', 'præsidentpost', 'træffe', 'tilkaldte', 'speedwaygrandprix', 'minister', 'skriftligt', 'podiepladser', 'skyttes', 'chok', 'tovtrækning', 'tennislegende', 'målscoringen', 'ha', 'tekst', 'dopingmisbrugere', 'synspunkt', 'unfair', 'd', 'boys', 'skeleton', 'police', 'rekordtørke', 'grænsen', 'volleyballkvinder', 'børnehave', 'hårene', 'puster', 'neutral', 'milepæle', 'weekend', 'evnede', 'skæg', 'tænkte', 'pressemødet', 'straffekoloni', 'smykkedebat', 'svagheder', 'dopingkarantæner', 'rostjerner', 'manglet', 'plæne', 'elimineringsrunden', 'skuffende', 'prygler', 'superligakampe', 'færdigt', 'opkald', 'hoveddøren', 'træningstur', 'forsvarende', 'kvartfinalister', 'oversigten', 'politiefterforskning', 'mentalitet', 'halsbrækkende', 'stabil', 'dopingdømte', 'hammer', 'ottendedelsfinale', 'politik', 'bagvejen', 'dumdristigt', 'færdig', 'korteste', 'bowl', 'polish', 'erstattes', 'kvindeishockeys', 'fysioterapeut', 'stjerneparade', 'oppositionsflag', 'quarterbacken', 'milliard', 'nedtur', 'delikat', 'golfunionen', 'mindre', 'zenit', 'vinterpausen', 'uprøvet', 'freestylekonkurrencen', 'boksepromotorer', 'guldfavoritter', 'tilladte', 'sejrede', 'omdiskuterede', 'medicineret', 'boksehandsker', 'kæledægge', 'besætningsmedlem', 'bittert', 'årig', 'ofrenes', 'danner', 'forløber', 'gåsehud', 'narkosmugling', 'misset', 'fordufte', 'herreliga', 'dato', 'diskoskast', 'rand', 'snowboard', 'eftermiddagen', 'designet', 'tabte', 'taget', 'skytternes', 'idrættens', 'overlevelseskampe', 'hædret', 'hjemmebane', 'modstanderes', 'milliardær', 'taburet', 'mærkeligste', 'timet', 'liga', 'rottegift', 'stamspiller', 'golfens', 'jagter', 'ankomst', 'fremmest', 'kajakroeren', 'overhalingsmuligheder', 'hospital', 'gladeste', 'kunstskøjteløberen', 'krydser', 'surmulede', 'ligapremiere', 'løbene', 'skyggen', 'folkehelt', 'navne', 'guldpladsen', 'sjov', 'udtryk', 'hedt', 'basketligaklubben', 'drømmedebut', 'hashindtag', 'have', 'mentalt', 'lyst', 'skandalen', 'omstødt', 'værtsby', 'cykelrytter', 'boykot', 'kvartfinalerne', 'kynisk', 'racerne', 'skoene', 'interessant', 'hellere', 'nyfortolket', 'redaktør', 'røde', 'tvivlsomt', 'rival', 'oprykningsmulighed', 'nominerede', 'uddannelse', 'konkurrende', 'tiltrak', 'underkendt', 'topscorerliste', 'cruise', 'forhandlingerne', 'lød', 'afvekslende', 'arrig', 'grusomt', 'fodboldpræsident', 'semifinalebrag', 'hånden', 'finale', 'solstrålehistorie', 'minimere', 'fælder', 'fremtrædende', 'hylder', 'målrigt', 'føle', 'dominerede', 'skuespiller', 'foregår', 'et', 'drab', 'stem', 'udelukkende', 'uanset', 'løfte', 'curlingkvinderne', 'seriøse', 'måle', 'golfspillere', 'coronasmittet', 'stjernekollega', 'tror', 'gynge', 'bragede', 'nonsens', 'effekter', 'jaguars', 'redninger', 'viser', 'professionelle', 'golfstjerner', 'topspiller', 'hjemmebaneløb', 'in', 'dysten', 'valgt', 'gælde', 'velspillende', 'buen', 'lix', 'chefs', 'idrætsprofessor', 'uddelte', 'padeltennis', 'golfmajor', 'skulderskade', 'begår', 'spændende', 'landsholdstøj', 'gruppevinder', 'håndboldprojekt', 'nyere', 'præger', 'ishockeyhold', 'holdkaptajnen', 'ligabasket', 'bowles', 'alene', 'lægehjælp', 'ubehagelig', 'bagagen', 'gevaldigt', 'ishockeymålmand', 'sunket', 'stafetterne', 'reservecyklerne', 'tvinges', 'pinlige', 'kun', 'a', 'redningsmand', 'fortsætter', 'gigantisk', 'dans', 'indsamling', 'sprog', 'medaljestriden', 'tete', 'kup', 'gulv', 'straffekastscoringer', 'stål', 'meterløb', 'lektien', 'klarede', 'halser', 'årigt', 'vikle', 'skøjtede', 'superligakampen', 'salen', 'teamgym', 'kunstig', 'offensiven', 'åndssvagt', 'kører', 'langrendsforbund', 'mangeårig', 'sportsredaktøren', 'forudså', 'afleveret', 'startskuddet', 'iøjnefaldende', 'golfstjernen', 'afkræver', 'option', 'orlov', 'knægt', 'opfindelse', 'troen', 'skiløber', 'langsomste', 'duftede', 'billedet', 'selveste', 'værtsskab', 'forventninger', 'dressurlandsholdet', 'cykeleksperter', 'præsidents', 'ligge', 'fastholder', 'november', 'østkystholdet', 'isolationsperiode', 'topniveauet', 'rædselsregime', 'foretager', 'rytteren', 'hentes', 'ungdomslandstræner', 'viking', 'anstrengelserne', 'tilsyneladende', 'rekordsejr', 'seniorkamp', 'indfald', 'samtaleemne', 'kommunikationsudstyret', 'brænde', 'sommer', 'nedslag', 'tredjevalg', 'sommers', 'lækre', 'klappede', 'helligdag', 'genvundet', 'tænkt', 'fuldtid', 'infektion', 'revanchekamp', 'timersløb', 'landet', 'tribunerne', 'misbruge', 'ja', 'tilfreds', 'lysten', 'bidt', 'volleyballherrerne', 'brutale', 'spilleren', 'trop', 'horisonten', 'tilbageværende', 'rytmen', 'skarphed', 'ottendedelsfinalerne', 'indsatser', 'villige', 'antidopingagenturet', 'nyslået', 'compoundskytten', 'tirsdag', 'udekampen', 'tryllebundet', 'offer', 'forløst', 'skoleret', 'majors', 'mindes', 'billard', 'trafikken', 'kamera', 'illegal', 'lagde', 'kaptajn', 'vest', 'møllers', 'opereres', 'ryggen', 'efterforske', 'finaleseriens', 'startstregen', 'placeret', 'indblik', 'nullet', 'dommer', 'puberteten', 'pustede', 'forsvarsspillere', 'baghaver', 'nyhed', 'pin', 'virkeligheden', 'velkommen', 'fejlkendelser', 'vigtigheden', 'spa', 'grundspillet', 'grund', 'unikum', 'perle', 'stift', 'væltet', 'krop', 'mellemdistanceløberen', 'storsejrede', 'udgaver', 'respirator', 'uge', 'vejrtrækning', 'tipslørdag', 'pådrog', 'stanglakrids', 'oldnordisk', 'bløder', 'overscoring', 'superstjerne', 'dopingspørgsmål', 'ungdomstiden', 'jager', 'internetpersonlighed', 'efterhånden', 'forholdene', 'superligamandskabet', 'dumpekaraktererne', 'volleyherrerne', 'nøj', 'foreskellige', 'håndboldtrænere', 'ubestridt', 'bjerregaard', 'snooker', 'udviklingshold', 'vanvidscomeback', 'holdes', 'finalerunde', 'anklages', 'nedkæmpet', 'tøjlerne', 'kvaste', 'døgns', 'klikkede', 'vaskeægte', 'vildledende', 'øjeblikkelig', 'forreste', 'gymnastik', 'etapen', 'aktører', 'snert', 'boksehandskerne', 'særlig', 'tophest', 'raskidræt', 'høstet', 'red', 'fysikken', 'trøjesalg', 'kamp', 'vente', 'managerens', 'niendeplads', 'sølvvindernes', 'kollegaens', 'fleste', 'præstationerne', 'idiot', 'nomineret', 'herrehold', 'baseballbat', 'diskussioner', 'skisport', 'finansierede', 'nitten', 'retsmøde', 'sit', 'hagler', 'haj', 'glæden', 'holdkammeraten', 'indenfor', 'fortroligt', 'skænderi', 'løbetalent', 'skrækpuljer', 'seerne', 'hurtige', 'hækkeløberen', 'opnåeligt', 'offentligheden', 'omstarten', 'redningsmænd', 'ups', 'scorende', 'desværre', 'vaccineres', 'forærede', 'akrobatisk', 'ligger', 'choknederlag', 'skilte', 'yang', 'gud', 'lavmålet', 'opfordring', 'vikinger', 'statsministeren', 'tit', 'opmærksomheden', 'chokstart', 'udskydelsen', 'agerede', 'svigtede', 'snoet', 'ry', 'dannebrog', 'heldigt', 'makkerpar', 'topdommerpar', 'flabet', 'supermellemvægtere', 'keeper', 'herretræner', 'kendelser', 'racerløbet', 'svingende', 'konstellation', 'grotesk', 'basketlandshold', 'baduljen', 'markant', 'gymnastikscene', 'vægtløftere', 'forbigået', 'kraftfulde', 'energiindsprøjtning', 'sæsonåbner', 'redningspersonale', 'vips', 'skåret', 'debatten', 'sammensætning', 'glem', 'chancerigt', 'beslutninger', 'bro', 'los', 'chokbesked', 'håndboldkvindernes', 'notere', 'generobre', 'hægter', 'turnering', 'studenterkørsel', 'lynhurtigt', 'udligning', 'dobbelte', 'besparelser', 'fremkaldte', 'legende', 'endelig', 'fanebærer', 'brikker', 'græs', 'roteret', 'runden', 'bundlinjen', 'topligaer', 'cyklecross', 'knuste', 'fredags', 'coronaisolerede', 'skiatlon', 'hemmelig', 'dopingsager', 'gennemfører', 'indføre', 'parentes', 'situationer', 'åbningen', 'kvalificeret', 'stjernereceiver', 'seng', 'regeringens', 'miserabelt', 'ugeblad', 'diamant', 'udbryderne', 'fra', 'cykelsæson', 'begræder', 'hvidt', 'førstekæden', 'misfornøjet', 'sigte', 'slid', 'navn', 'baby', 'skydning', 'kritikere', 'begreb', 'slagkraftigt', 'hopla', 'sikkerhedssituationen', 'underskrevet', 'bjerge', 'ubeskriveligt', 'kiloklassen', 'afdeling', 'afslørede', 'afgøre', 'tilnavnet', 'underlag', 'faktorer', 'idrætten', 'lavede', 'stoffer', 'prognoser', 'sårene', 'offentliggjorde', 'overvejelserne', 'kanaler', 'hoppede', 'linjerne', 'fodspor', 'guldbrødre', 'billardspiller', 'assistent', 'samlingen', 'børn', 'monumentet', 'tvivl', 'neutrale', 'protest', 'mundlam', 'løbefænomen', 'forværrer', 'gyserafslutning', 'opløftende', 'guldfireren', 'løse', 'højdespringeren', 'folkeeje', 'åbningsceremonien', 'at', 'forhåbentlig', 'tryg', 'juniorers', 'tabet', 'pokalrevanche', 'kantspiller', 'ærligt', 'journalist', 'ofrede', 'observation', 'invitere', 'games', 'barndomsvennerne', 'vilje', 'bannere', 'storby', 'teams', 'landskampsmål', 'mirakelredning', 'varmeste', 'indviklet', 'involveres', 'sparsom', 'udskældte', 'julepause', 'bronzemedalje', 'efterlod', 'fremhævet', 'arbejdsgruppe', 'størst', 'ge', 'potentiale', 'klippet', 'træningslejren', 'majorturnering', 'målebåndsdrama', 'klubberne', 'hang', 'personligt', 'firebakketurneringen', 'hovedturnering', 'afkode', 'flå', 'doublen', 'vandets', 'ottende', 'ride', 'færøske', 'adresser', 'sport', 'nøglespillerne', 'kuglestødsfænomenet', 'skånsomt', 'åbningsnederlag', 'synderen', 'øvede', 'afkræves', 'stormødet', 'sejrskurs', 'opstod', 'bruttotrup', 'ensidige', 'meddelte', 'konkret', 'yderste', 'sæder', 'asiatisk', 'afløb', 'glohed', 'ligasejr', 'herredoublen', 'selvtillid', 'udbruddene', 'titelkampen', 'uenigheder', 'tredjemålmand', 'stjernespiller', 'pegefinger', 'grænser', 'scene', 'begyndt', 'boksebraget', 'bøn', 'kravtiden', 'pokalsemifinalen', 'historier', 'hjernerystelser', 'simple', 'forholde', 'kalorier', 'fratrådt', 'slutter', 'jobs', 'kampsporten', 'tråde', 'blegne', 'stickers', 'coronapandemien', 'målvogteren', 'september', 'fremtidige', 'kaldt', 'midtugens', 'femtepladsen', 'musikstjernes', 'svømmedarling', 'nøgler', 'talenttræner', 'reportage', 'svede', 'hormonregel', 'privatlektion', 'politikken', 'førte', 'krigen', 'kvalifikationsmulighed', 'formalitet', 'dybden', 'dommerpar', 'værdi', 'processen', 'mulighed', 'enden', 'rige', 'snarlig', 'serie', 'bonde', 'maratonrekord', 'lover', 'skiskydning', 'skudforsøg', 'udspringer', 'assistenttræner', 'svime', 'dunkekonkurrence', 'udspillede', 'revser', 'holdkampen', 'fodboldkaos', 'varmer', 'verdenstoeren', 'bryst', 'alderspræsidenterne', 'skudsikker', 'styrte', 'fusion', 'dopingmisbrug', 'fejrer', 'boksesporten', 'landsholdsnavne', 'ikonisk', 'nedslående', 'groteske', 'stjernestøv', 'genoprejsning', 'sprintfinale', 'brød', 'deroute', 'kickstartes', 'stadioner', 'eftervirkninger', 'spurte', 'vides', 'maratonhjemmebane', 'forsvarstalent', 'friskhed', 'cheftræners', 'ol', 'garantiplads', 'hallen', 'forundrede', 'lettet', 'sportsgiganten', 'fastholde', 'annulleret', 'skrift', 'kysseskandale', 'brik', 'nedturen', 'bådklasser', 'medaljekamp', 'værtsland', 'erfarede', 'bange', 'vægtklassen', 'naiv', 'disput', 'forgift', 'tande', 'fa', 'firdobbelte', 'bundsumpen', 'kval', 'livsfare', 'fejlfrit', 'stuerne', 'trodsig', 'dribletur', 'holdkap', 'succesfuldt', 'ryger', 'detalje', 'caddie', 'købte', 'sølvmedalje', 'sikkerhed', 'forhandler', 'mærket', 'præget', 'ai', 'dopingsyndere', 'kritisere', 'stikpillen', 'misbrugte', 'respekt', 'straffer', 'trænet', 'delt', 'atletikens', 'taktikken', 'testbegivenheder', 'landsholdsplads', 'topboksning', 'kæben', 'hurtigst', 'stykke', 'isolerede', 'cirkusset', 'nær', 'forlængelser', 'skyde', 'bekræfte', 'voldsom', 'statsminister', 'pragtredning', 'boksehovedret', 'underordnet', 'markante', 'mekanikeren', 'tredobbelte', 'brokke', 'langs', 'teenagetalent', 'maksimumpoint', 'kunsten', 'skrotter', 'operationen', 'regelsættet', 'benægter', 'målsætningen', 'besluttes', 'vaccinerede', 'hos', 'båre', 'jubler', 'fylde', 'beviser', 'parkens', 'pengene', 'fodboldkometer', 'kollegas', 'kæmperne', 'farver', 'kog', 'magtfaktor', 'konstatere', 'sejlsports', 'pletfri', 'landsholdsryttere', 'enorme', 'benjamin', 'beachvolleyball', 'vogn', 'grinet', 'asti', 'kaffe', 'derved', 'verdensranglistens', 'udsolgte', 'vidunderbarn', 'arbejdsgiver', 'griners', 'hypnose', 'overarbejde', 'opgaver', 'betragtet', 'profiler', 'delsfinalen', 'atlanten', 'landsholdsspilleres', 'udvalgt', 'fugtigt', 'tilbagevendende', 'lobbyarbejde', 'topkampen', 'håndtryk', 'storsponsor', 'soldat', 'forklarede', 'spurten', 'disciplinærsag', 'danmarksmesteren', 'garanterede', 'citater', 'gruppespilskamp', 'kronprins', 'tilbagevendt', 'langrendsdisciplin', 'baseball', 'berørt', 'rangerer', 'attitude', 'rigtig', 'demokrati', 'genstande', 'idrætsforbunds', 'hestesporten', 'sættene', 'ud', 'benene', 'honoreres', 'dage', 'bundholdet', 'indlagt', 'brynene', 'ekstase', 'bobslæde', 'irriterede', 'procedurer', 'to', 'tårnhøj', 'elander', 'ishockeyturneringer', 'iføre', 'dommeres', 'udsættelser', 'fælt', 'gruppespil', 'firmaer', 'udvandrede', 'præg', 'mælet', 'dressurlandshold', 'seriøs', 'uregelmæssigheder', 'udgå', 'udtaler', 'vildspor', 'analyserede', 'boldklub', 'udviklet', 'særdeles', 'frygteligt', 'skateboard', 'ishockeyarenaen', 'entydigt', 'blinde', 'nævnte', 'begyndte', 'udbrud', 'stortalentets', 'fritz', 'blodigt', 'gyser', 'mestre', 'center', 'lejde', 'dukkede', 'langdistanceløb', 'nederlagets', 'sikke', 'tvunget', 'brændte', 'kopi', 'kvartfinale', 'cykelsæsonen', 'hjemsøger', 'radiomelding', 'skaft', 'faciliteter', 'omklædningen', 'iklæde', 'strålede', 'træneren', 'kårde', 'sultestrejke', 'høring', 'besluttet', 'betalte', 'skattemyndighed', 'staben', 'lader', 'taekwondo', 'hadbeskeder', 'vippe', 'siddet', 'time', 'quiz', 'læs', 'legetøj', 'opera', 'timere', 'uger', 'vinderen', 'lav', 'beholder', 'samlede', 'hovedskader', 'specialisterne', 'ung', 'lave', 'degraderer', 'angre', 'lungen', 'meterløber', 'magi', 'kampprogram', 'ødelagt', 'herrer', 'gennemførte', 'skippers', 'bandlyst', 'velbesøgt', 'beskytte', 'tifo', 'fjerner', 'moralen', 'rækken', 'individuelt', 'vantro', 'idrætspark', 'appellerer', 'intensiveret', 'kollaps', 'dejligt', 'succesnøgle', 'cheftrænerjob', 'klubfaciliteter', 'halfpipe', 'nedgjort', 'kostbar', 'mystisk', 'enkeltstarter', 'talent', 'base', 'skandaleramte', 'kravtider', 'efterudtages', 'tag', 'bestyrelsesmedlem', 'opgørets', 'tyvstartede', 'dertil', 'finaleføring', 'skal', 'slutspil', 'istid', 'begivenhedsrig', 'bizar', 'boksebrag', 'selv', 'hjælperytteren', 'ubesværet', 'titelfavoritter', 'gymnastikstjernen', 'frustrerer', 'heroiske', 'medaljerekord', 'formelt', 'mesterskab', 'promotor', 'vanskeligheder', 'ukvemsord', 'revaccination', 'løbehistorie', 'pointet', 'medier', 'grusomste', 'humør', 'knivsæg', 'hungrede', 'fodbolddamerne', 'pladserne', 'rebellen', 'omverdenen', 'eksploderede', 'støvle', 'spor', 'kollegaerne', 'alsidige', 'vild', 'kapløb', 'besynderligt', 'syndrom', 'råder', 'fald', 'forårsaget', 'prestigefyldte', 'fejlfrie', 'ligachef', 'overtidssejr', 'spejlet', 'afgøres', 'benovet', 'volleyfavoritterne', 'grådig', 'bueskydningsguld', 'favoritrollen', 'træningskamp', 'højne', 'banden', 'præsterer', 'ishockeyklub', 'rammerne', 'knappen', 'håndklædet', 'kendskab', 'forbedrer', 'løbeprojekt', 'sportslig', 'partier', 'topchefer', 'udtagelsesmesterskaber', 'hk', 'blodbad', 'gæster', 'nytår', 'forbedrede', 'religiøst', 'trægt', 'attraktiv', 'landing', 'men', 'glædelig', 'dødsulykke', 'katastrofal', 'vejle', 'efterlyser', 'dygtigere', 'skistjerne', 'annoncerede', 'ekspedere', 'gruppesejren', 'fordi', 'forbunds', 'gave', 'skipper', 'vel', 'discipliner', 'atletikprofilen', 'trænerstab', 'udskiftningen', 'udgang', 'detaljen', 'bred', 'aficionado', 'kommentar', 'trodser', 'håndboldkvinderne', 'sværtet', 'rutineret', 'muligheder', 'samarbejdsproblemer', 'lande', 'frafaldne', 'feje', 'paradressurrytter', 'udpeger', 'latterligt', 'judokvinderne', 'reddede', 'politiserede', 'kano', 'afgivet', 'quarterbacks', 'tiebreak', 'ændres', 'mesterskaberne', 'ophæver', 'grønlandske', 'kommer', 'bider', 'landsholdslegende', 'afklapsning', 'gentog', 'koma', 'rockband', 'overbevisende', 'reagere', 'uprofessionelt', 'vinderduo', 'es', 'hovednavnet', 'vækkes', 'affald', 'bokseeliten', 'førsteudfordrer', 'underdrives', 'forbund', 'overhalet', 'politisag', 'identisk', 'jævne', 'forblive', 'bad', 'overbevist', 'lempelser', 'bekymringer', 'havnen', 'næstflest', 'tendens', 'optur', 'guldjagt', 'skuffede', 'helte', 'skiforbund', 'playoffkampen', 'holdskifte', 'klassikerfinale', 'rev', 'sander', 'kongeetape', 'duellanter', 'hjerteproblemer', 'toppen', 'investering', 'genlyd', 'landsholdskæmpe', 'talentet', 'signalet', 'topkamp', 'bronzen', 'etapes', 'bommen', 'udskiftet', 'kaotisk', 'overlevede', 'atletikmedaljer', 'faxe', 'nyd', 'ørerne', 'landsholdscomeback', 'genkende', 'markspillere', 'marathonløber', 'dressurlegende', 'opruster', 'budgetloft', 'guldalderens', 'tilbageblik', 'interessante', 'mirakel', 'udover', 'holdkaptajn', 'langdistancesvømmer', 'stand', 'kraftige', 'bokse', 'bankede', 'kending', 'miljøvenlige', 'sæsonafslutning', 'fløjten', 'finaledagen', 'afveje', 'sætcifrene', 'bejlere', 'nøgleopgøret', 'nerver', 'toptrio', 'gjort', 'medaljepodiet', 'udskrevet', 'ligastime', 'fremgik', 'dopingkontrollørernes', 'vindersporet', 'balancerer', 'ulvene', 'masseskyderi', 'håndteres', 'mærkværdigt', 'sensationel', 'irriterer', 'væggelus', 'væk', 'fjendtlig', 'fremtidens', 'opsnapper', 'golfdysten', 'golfstjerne', 'gange', 'hostesaft', 'gu', 'målrig', 'medaljestatistikken', 'raseri', 'favoritsejre', 'bevare', 'special', 'grønlænder', 'resultaterne', 'grufuld', 'kvinderes', 'klæbrigt', 'klæder', 'glatis', 'undersøgelse', 'håndboldens', 'ekspertpanel', 'lid', 'ditto', 'basketballkvinder', 'starte', 'kød', 'køre', 'rygproblemer', 'højtscorende', 'bestyrelsesdebutanten', 'satsning', 'sjovt', 'klagesag', 'midtvejsmærket', 'journalister', 'tacklingen', 'kandidatur', 'serv', 'forsvare', 'placeringen', 'lin', 'omvæltning', 'efterskole', 'ordinære', 'målsulten', 'styrer', 'kategorier', 'testes', 'offentliggjort', 'alien', 'popcorn', 'syg', 'ryster', 'storsejr', 'klubbers', 'låg', 'dagens', 'mægtige', 'løjer', 'flår', 'motiverende', 'glas', 'appelleret', 'klubbens', 'give', 'sænke', 'femsætter', 'kampprogrammet', 'ørken', 'baseballskandale', 'metalstang', 'egenskab', 'chokere', 'ekskluderende', 'stund', 'fjerdedel', 'gult', 'federe', 'atletik', 'sammenlignet', 'benzin', 'meget', 'racertalent', 'hed', 'tab', 'bortvisninger', 'skulderskubbe', 'skrevet', 'udgik', 'udelukkelsen', 'drømmemål', 'til', 'oprykker', 'brølere', 'klandrer', 'ankom', 'forbyder', 'førerpositionen', 'ubehagelige', 'medejeren', 'finaledrømme', 'landsholdssvømmer', 'mystik', 'forventningerne', 'dræbt', 'fjollende', 'kongehuset', 'sejlsportens', 'udstilles', 'fodboldikon', 'træde', 'over', 'langrendsguld', 'vægtløftning', 'fast', 'følelserne', 'serien', 'garantere', 'cheferne', 'målhelt', 'ligaklub', 'åbningsscoring', 'særlige', 'berømmelse', 'famlende', 'superrunder', 'topstriden', 'foden', 'elbil', 'psykolog', 'sejrsstime', 'cl', 'forsøgte', 'skaffet', 'allersidst', 'testkampen', 'glemmer', 'løbetræner', 'paradressurhold', 'afprøves', 'pokalvindere', 'selvsamme', 'måbende', 'målmandstrio', 'trav', 'kræve', 'barista', 'stikket', 'vedkommende', 'alverdens', 'tone', 'vanvittige', 'detaljer', 'tennisspillere', 'hører', 'målamok', 'ydmyget', 'dopingprøve', 'punkt', 'aftenens', 'modsvar', 'flytransport', 'tilbudt', 'optimere', 'utallige', 'sølvet', 'misforstod', 'boss', 'eskorteret', 'overdådig', 'hækkeløbere', 'overgav', 'b', 'partnerskab', 'klatreudfordringer', 'triumferede', 'moser', 'længdespringsfinalen', 'dopingdømt', 'forbavsede', 'kvalitet', 'forsvundet', 'lommerne', 'bakterieinfektionen', 'vises', 'begraves', 'sejlerne', 'sæsonoptakt', 'velstillede', 'åbenhed', 'langrendsdistance', 'minder', 'suspenderet', 'radikal', 'birk', 'sejlerduo', 'belaster', 'slutrunder', 'balletdans', 'utrolige', 'logo', 'buhet', 'gestus', 'håne', 'kneb', 'superligalegenden', 'kolleger', 'boede', 'lands', 'finaledrøm', 'sure', 'fængslet', 'bronzekamp', 'gruppemodstanderne', 'underbukser', 'uvished', 'udsættes', 'warrington', 'f', 'startet', 'kasseapparatet', 'semifinalemøder', 'vilkår', 'fortryder', 'tilfredshed', 'udlægning', 'stjernespækkede', 'spadestik', 'gak', 'sofaen', 'lacrosse', 'lærke', 'stjernenavnet', 'strides', 'kvartfinaleopgør', 'rokade', 'regne', 'spørgsmålstegn', 'returbillet', 'pålagt', 'medaljemålsætningen', 'samler', 'tolkes', 'sikres', 'damesingle', 'kravet', 'nations', 'kønt', 'atletikstjerne', 'udland', 'fejlet', 'kameraet', 'angrebspositionen', 'coronakrisen', 'involverer', 'sled', 'parker', 'faktor', 'van', 'bord', 'kontrast', 'spekulation', 'lederen', 'enig', 'uafhængige', 'nedprioriteret', 'integreret', 'double', 'rytterne', 'tåbelige', 'opgradering', 'tempokonge', 'fløjen', 'førende', 'straffeslagssejr', 'arrogance', 'falks', 'topscorer', 'fik', 'fuldt', 'kegle', 'prognosen', 'rampelyset', 'tilbage', 'rigmand', 'fattigere', 'hjælpers', 'overveje', 'ørene', 'katastrofalt', 'torsdag', 'pjalterne', 'sæsonen', 'guldkurs', 'medaljefavoritter', 'medicinere', 'dømmes', 'sommerens', 'nedslagspunkter', 'dyk', 'ishockeyhistorien', 'derpå', 'adræthed', 'autisme', 'brugeren', 'dressurrytter', 'svar', 'superserv', 'antidopingagentur', 'svagt', 'reddet', 'skihopperen', 'alfa', 'stafetholdets', 'hjemmebanehåb', 'suspenderes', 'volley', 'mester', 'quarter', 'bestemme', 'præstigefyldte', 'farvel', 'landevejspladser', 'stikke', 'blodig', 'førstnævntes', 'boksekamp', 'barndom', 'hammerkasteren', 'udlignende', 'åbning', 'eksperten', 'herresinglen', 'ringhjørnet', 'slagene', 'ofre', 'idrætsbosser', 'rn', 'lejligheden', 'håndboldlandsholdets', 'uvist', 'anis', 'såret', 'skaderne', 'indkaldt', 'undtagen', 'staven', 'undrer', 'populær', 'prøver', 'straffet', 'snowboardstjernen', 'sportsliste', 'arbejdsmiljø', 'kvartfinalekampe', 'rekordtider', 'topform', 'bilulykke', 'coronatal', 'målene', 'forurenet', 'cykelsucces', 'asyl', 'højdespringsmatch', 'herresiden', 'forrygende', 'skade', 'redder', 'knockout', 'uforglemmelig', 'buhe', 'årsskiftet', 'emne', 'runningbacks', 'mellemrunden', 'spydkast', 'slutrundebillet', 'nerve', 'voksne', 'kongeinterview', 'treårig', 'besejrede', 'flækket', 'fanden', 'overraskes', 'truede', 'regnskabsår', 'sove', 'atletikhelt', 'moralsk', 'vindforhold', 'bedst', 'golfkometen', 'bold', 'borg', 'sejlsportshåb', 'førsteholdet', 'tradition', 'omfavner', 'roma', 'verdensrekordholder', 'herresingler', 'holdmål', 'medlevende', 'tandbeskytter', 'storsejren', 'tilgodese', 'værtshusslagsmål', 'langrends', 'solbriller', 'hjerteanfald', 'reelt', 'backen', 'fordele', 'overvinde', 'uro', 'værelse', 'gennemtænkt', 'bevæget', 'mellemdistanceløbere', 'kobbersmykker', 'bokseskikkelser', 'fakta', 'drabet', 'floreret', 'materiale', 'korpset', 'slikker', 'ror', 'øge', 'forskel', 'superfusionen', 'frygtelig', 'prægede', 'dispensation', 'afleverede', 'vejede', 'uacceptable', 'insinuere', 'mediestorm', 'hvem', 'tredjeplads', 'koryfæ', 'indendørsrekord', 'bære', 'bakker', 'længste', 'udfald', 'playoffs', 'tangeret', 'kategoriseret', 'tilladt', 'jer', 'adskilt', 'ranglister', 'styr', 'opløsning', 'ubesvarede', 'sikkerhedsvagt', 'års', 'interview', 'sat', 'hunde', 'em', 'volleyballspillere', 'bort', 'priserne', 'mållinjen', 'forsigtigt', 'perioder', 'verdensranglisten', 'kæmper', 'kontinenter', 'matchfixing', 'milepæl', 'udeholdet', 'formidabelt', 'slutplacering', 'mariners', 'værtslandets', 'målmænd', 'vejrforhold', 'ishockeystjerner', 'rangliste', 'tilgang', 'morgenen', 'familieudflugtens', 'samarbejde', 'røret', 'forstand', 'smerter', 'opdateret', 'sidstedag', 'sælges', 'overstrålede', 'bueskyttehold', 'nyhedsbureauer', 'status', 'vindblæst', 'nyeste', 'topseedede', 'rene', 'styrker', 'bundtragisk', 'formindske', 'udvide', 'kronede', 'kopierede', 'snublede', 'kroppen', 'lære', 'bokseverdenen', 'isolere', 'forduftede', 'vegne', 'massiv', 'golftour', 'skrumpe', 'velreflekteret', 'anden', 'håndboldtræner', 'amok', 'berettiget', 'landsholdslægen', 'grandprixsæson', 'kontraktudløb', 'støtten', 'din', 'udvælger', 'skiskydningsindsats', 'nylig', 'indledt', 'appel', 'medaljeceremoni', 'godkende', 'buret', 'opvisning', 'realistisk', 'opsigelse', 'vildeste', 'indsendt', 'keglebillard', 'kæmpeopgave', 'juble', 'august', 'skaber', 'booker', 'utilstedelig', 'læse', 'opsøgte', 'suveræne', 'løs', 'bestyrelse', 'landevejsryttere', 'motorcrosskørere', 'filosofi', 'hærgen', 'omklædningsrummet', 'tempotog', 'pragtmål', 'majoritet', 'forstår', 'derfra', 'bookmakere', 'flueben', 'bronzekampens', 'prominente', 'atletikprofiler', 'bogeyfri', 'forskudt', 'underholde', 'billetsalget', 'udtrykte', 'rørt', 'vred', 'flertal', 'betaler', 'kælder', 'sundhedsskadelig', 'verdenmester', 'vaccinere', 'kontinentalholdene', 'højrefløjen', 'puck', 'kampklar', 'partnervold', 'bueskydningskonkurrencen', 'hevet', 'skrottet', 'upopulær', 'fragtet', 'krakelerede', 'herrevolleyball', 'insisterer', 'ufrivilligt', 'kulissen', 'continental', 'romas', 'port', 'tilskuerstyrtene', 'pynt', 'vintersportsgrene', 'synonym', 'overvejer', 'karrierestop', 'repræsentant', 'whereabout', 'mindeværdig', 'aflysning', 'landsholdsangriber', 'skjult', 'korruptionsanklaget', 'corneliussen', 'lis', 'opråb', 'nøglekamp', 'motorsportsklasse', 'sommerfugle', 'målrekorden', 'disney', 'nervøs', 'kravler', 'vidst', 'landsholdsbobler', 'støvet', 'kaldes', 'trofæerne', 'volleylandshold', 'pokalsejr', 'rive', 'bede', 'semifinaler', 'bylden', 'efterforsker', 'firemandsbob', 'festede', 'stabiliteten', 'sekunder', 'atletiksporten', 'itu', 'sportsvogne', 'femdobbelte', 'fejlslået', 'rejst', 'guldet', 'trænere', 'madforgiftning', 'evaluere', 'parløb', 'badmintondag', 'sjetteplads', 'landevej', 'dommerekspert', 'sikkerhedsforanstaltning', 'årelang', 'sådanne', 'uegnede', 'præstationen', 'omdiskuteret', 'smal', 'resultat', 'øget', 'bak', 'skotske', 'været', 'pres', 'dagsorden', 'afholdes', 'indrømmet', 'pimp', 'europamesterskabet', 'herrelandsholdets', 'indopereret', 'hockeyliga', 'plage', 'spøjs', 'styrkeforholdet', 'alpint', 'afløses', 'mesteren', 'bevidsthed', 'oplagt', 'restaurantejeren', 'medaljehøster', 'sagt', 'fartfænomenet', 'melodien', 'skub', 'psykologhjælp', 'finalegyser', 'sinde', 'superliga', 'håndboldhold', 'ishockeyekspert', 'kendt', 'størrelse', 'rodet', 'compundskytternes', 'talentfuld', 'pisseondt', 'jokes', 'meldt', 'minus', 'holocaust', 't', 'jubelscene', 'udskiftning', 'ellevilde', 'beskyldninger', 'ansættelse', 'førstehåndsvidne', 'udskiftningsbænken', 'hjemland', 'triumferne', 'skubbes', 'bagspiller', 'kimse', 'tilses', 'afvikle', 'sviner', 'handskerne', 'førsteprioritet', 'skadeshelvede', 'vanvidskast', 'knust', 'tilbød', 'køreegenskaber', 'svaghedstegn', 'finpudse', 'triumfen', 'mest', 'tribunen', 'morderens', 'spøjst', 'cykeliagttagere', 'indrømmer', 'værtsbeslutning', 'femårige', 'reel', 'fuldendt', 'egen', 'frontalt', 'forbandelse', 'cuppen', 'regering', 'vejrmæssige', 'fysiske', 'røgen', 'pompøs', 'vedtaget', 'kvartfinalekamp', 'ender', 'tvivlsom', 'skarp', 'bueskytte', 'karantæner', 'kursen', 'rekordstor', 'venstre', 'forbedres', 'storfavoritter', 'attraktive', 'menisken', 'dramatik', 'overlegen', 'råbe', 'møde', 'nok', 'løjet', 'erfaren', 'forskelsbehandling', 'afbrændingen', 'kvalifikationsturnering', 'samtidigt', 'manden', 'nytårsbrag', 'salpeter', 'dommerstemmerne', 'stærkere', 'badmintonforbund', 'fodboldtalent', 'afkræftet', 'mål', 'kortdistancetriatlon', 'majorsejr', 'formøbler', 'afrikaner', 'tredjepladsen', 'bedyrer', 'højere', 'holdkort', 'afgrundens', 'afgjorde', 'drak', 'bronzeduo', 'basketlandsholdets', 'overmænd', 'uhyre', 'rift', 'oprettet', 'idræt', 'nordireren', 'indlende', 'ulykke', 'stik', 'vækket', 'dialog', 'landeveje', 'uret', 'uforståeligt', 'oprykkerklub', 'upassende', 'passerede', 'lægeerklæring', 'bearbejdes', 'herresinglespilleren', 'imponerende', 'ødelæggelse', 'koordinator', 'alvorligt', 'ligegyldighed', 'slagsmålet', 'halsen', 'dødelige', 'ingen', 'motorcykel', 'sg', 'finalekampe', 'øvelser', 'stævnet', 'forårets', 'træningssetup', 'skandinaviske', 'dansede', 'naturen', 'afvise', 'fodboldekspert', 'benprotese', 'hjulet', 'styles', 'debutsæson', 'udfordret', 'fortjent', 'comeback', 'fanget', 'kluntet', 'øl', 'unions', 'strøet', 'bestemt', 'suverænt', 'skrivebordsfejl', 'næsthurtigste', 'klassisk', 'holdenes', 'final', 'triatleten', 'speedski', 'straffesparksdisciplinen', 'kvinderne', 'tiltag', 'curlinglejr', 'snuser', 'juniorernes', 'efterudtaget', 'kæbeoperation', 'slutspillet', 'sterling', 'popularitet', 'bekymrer', 'maratonløberen', 'offensivspilleren', 'flasker', 'kontante', 'beslutte', 'boksesportens', 'missede', 'forfulgt', 'nul', 'gravide', 'fæl', 'melde', 'åh', 'løft', 'grædende', 'transkønnede', 'opklare', 'forlængelse', 'verdensetteren', 'ærgerligste', 'skulle', 'finalestævne', 'rå', 'knivskarp', 'gå', 'operation', 'matchbold', 'hjemmekamp', 'vagt', 'samtidig', 'trusser', 'artiklen', 'hjemmebanefavoritterne', 'kvalmende', 'stafetdominans', 'breddegrader', 'vinderinterviewet', 'babe', 'medierne', 'fantasi', 'kræftsyg', 'løbsstart', 'parastjerne', 'hvid', 'fodbolddirektør', 'kvinders', 'stødte', 'blæsevejret', 'lyste', 'stoler', 'sløv', 'usikker', 'opfyldelse', 'søstrene', 'klubløs', 'tilbagelagde', 'verdensrekordtid', 'brystet', 'dygtige', 'milliarder', 'endestation', 'klubejer', 'tilskuerpladserne', 'rulle', 'tvisten', 'treks', 'inddrage', 'evner', 'krisemøde', 'udelukke', 'afholder', 'tælling', 'gjorde', 'bestyrelsesformand', 'dm', 'brystsvømning', 'maratonruten', 'favoritbaner', 'hedeslag', 'opmærksomhed', 'sammenpresset', 'opfylde', 'profil', 'bjørnen', 'vågnet', 'turde', 'ekspeditionen', 'forsinker', 'psykiatrisk', 'smutvej', 'overhalede', 'opkøbt', 'skideballe', 'hjemmekampe', 'punkterede', 'fremad', 'mænds', 'isansvarlig', 'gigantiske', 'afløse', 'kulturministeren', 'ansat', 'holdejerne', 'græd', 'berygtede', 'starttidspunkt', 'megen', 'besværlig', 'retssagen', 'skue', 'sprinten', 'idrætsgymnastik', 'kørestolsrugbylandsholds', 'natteforestilling', 'krig', 'spænding', 'begrænsningerne', 'isproblemer', 'skældud', 'beskeden', 'misser', 'ærkerival', 'uheldet', 'overfald', 'trænerfyring', 'resulterede', 'km', 'sammenlagt', 'doublespilleren', 'skylden', 'hovedkamp', 'sydamerikanske', 'trolle', 'forpint', 'presser', 'trænerskare', 'klapper', 'teenagesensation', 'nøglespillere', 'sender', 'udebanekompleks', 'sæsoner', 'skifter', 'forsvarene', 'dopingkarantæne', 'morgen', 'øretæver', 'amt', 'vending', 'coronavaccineret', 'underholder', 'interessekonflikt', 'tomt', 'deaktiveret', 'sindssygt', 'fyldes', 'sværvægtsopgøret', 'involveret', 'globalt', 'piskede', 'skuffelser', 'udskældt', 'benhårdt', 'gadebarn', 'old', 'katastrofetanker', 'rulleskøjteløb', 'nedkørslerne', 'svømmestjernen', 'føde', 'mødtes', 'mislykkedes', 'midterlinjen', 'skavanker', 'sejhed', 'atletikdistancer', 'amatøragtig', 'grus', 'fritaget', 'snestorm', 'offside', 'resultatmæssig', 'topkarakter', 'fifas', 'løbekomet', 'sprinterkomet', 'finalerunden', 'slagen', 'historieløst', 'sejren', 'kulminerer', 'forrest', 'forward', 'tribune', 'konfrontation', 'forældreløs', 'spurgt', 'fredelig', 'fortrøstningsfuld', 'efter', 'anbefaler', 'konkurrent', 'fodboldlegender', 'holdet', 'utilfredsstillende', 'ultimativ', 'advarsel', 'tredjestørste', 'maratonbedrift', 'hjernerystelse', 'giganter', 'indgå', 'udfordrende', 'ishockeyherrer', 'færreste', 'østriger', 'hampen', 'eksisteret', 'handles', 'droppet', 'otte', 'kæmpesejr', 'voldtog', 'udsatte', 'kaptajner', 'kede', 'målsætningssnak', 'arrangeret', 'forhindrede', 'fanklub', 'eksverdensmester', 'cheftræneren', 'tennisrekorder', 'ændret', 'falder', 'håndboldeksperten', 'kortvarigt', 'verserende', 'midnat', 'afgav', 'lysmast', 'assisterende', 'talenterne', 'adskiller', 'massive', 'spørges', 'deles', 'tilbageholdt', 'lægmusklen', 'protesterne', 'joker', 'boksemestre', 'skåner', 'holdbarheden', 'sæsonpremieren', 'fyret', 'energiforladt', 'single', 'fattigdom', 'velkomne', 'ført', 'kørestolsrugby', 'kampene', 'politi', 'kemi', 'ø', 'svarede', 'serve', 'dopet', 'medaljer', 'løbestjernerne', 'omtalte', 'måned', 'stiler', 'tildelingen', 'sektor', 'dø', 'kunne', 'tilskueres', 'fugl', 'markere', 'fundet', 'krone', 'smash', 'sejrsmål', 'anderledes', 'maksimal', 'rams', 'præsidentvalget', 'rygsmerter', 'badmintonlandstræner', 'vandene', 'målskytte', 'judo', 'udenom', 'bordet', 'forhandlinger', 'styrkede', 'sønnens', 'grundspilskampe', 'ændringerne', 'øjenskade', 'venskabskamp', 'håndboldklub', 'badmintonekspert', 'motorsportsforbund', 'golfprofilen', 'huskede', 'skøjteløber', 'teste', 'kvindeligt', 'presses', 'kanten', 'basketball', 'undersøges', 'efterårskamp', 'resultater', 'offensivspiller', 'halvskidt', 'omstændighederne', 'kommentarspor', 'håndboldholdet', 'benovelse', 'fortjente', 'uddanne', 'hærværk', 'tests', 'legenden', 'liveopdateringerne', 'forsvareren', 'legene', 'begivenheder', 'kendsgerning', 'forfærdelig', 'indkapsler', 'drages', 'bevidst', 'egentlig', 'usportslig', 'sidstedagen', 'bagende', 'ishockeylandstræner', 'huden', 'badmintonsæt', 'glædes', 'mulig', 'henvisningen', 'skakspillers', 'kølvandet', 'kvalmegrænsen', 'skabte', 'forlængede', 'volleyguld', 'værktøj', 'larm', 'prøve', 'lykønsket', 'soloaktion', 'bestyrelsesarbejde', 'clinch', 'motorsportsunion', 'nøglerolle', 'rumænske', 'håndboldeksperts', 'hjælper', 'bemærkning', 'udenlandsk', 'aktion', 'minutter', 'rugby', 'guldtruppen', 'hotelværelse', 'hoveddommer', 'besætninger', 'endnu', 'kollektivet', 'prisvinderne', 'kort', 'forbi', 'ven', 'eliteidrætsudøvere', 'entre', 'blod', 'målt', 'groveste', 'smittetilfælde', 'vindere', 'afgjort', 'frosne', 'dens', 'verdensrekorder', 'anklagepunkter', 'gider', 'ingenting', 'genoplivet', 'reporter', 'skudrepertoire', 'knokler', 'erobrer', 'skaktalent', 'indkassere', 'bordtennisstjerne', 'sir', 'afslut', 'nedsættes', 'bokselæge', 'etape', 'soleklart', 'teknisk', 'tankegang', 'anført', 'modtager', 'kanonform', 'formidable', 'overs', 'hjørnespark', 'uhyggelig', 'individuel', 'sejere', 'komme', 'præmiepulje', 'bronzekampen', 'konstruktiv', 'kendte', 'oplevelser', 'r', 'suverænitet', 'enorm', 'uværdigt', 'jets', 'chanceløs', 'grinene', 'bed', 'beslutningen', 'brutal', 'forbedret', 'teamkollega', 'volleyballmester', 'udebanekampe', 'indkasserede', 'ovenpå', 'får', 'elskede', 'vrag', 'havet', 'dag', 'boksehåb', 'serveparti', 'livskrise', 'son', 'pote', 'buh', 'spjældet', 'indbyggere', 'usynlige', 'fyringer', 'teamet', 'pointkonto', 'tilliden', 'denne', 'anledningen', 'forsøger', 'oppe', 'målløs', 'skråning', 'natten', 'serier', 'kron', 'forventer', 'stjæler', 'twitter', 'livslang', 'værtslandet', 'facebook', 'vejrsituationer', 'jockey', 'accepterer', 'dommerteamet', 'målmandspris', 'paralyserede', 'forbundene', 'forbundet', 'langtidsskade', 'udnævne', 'bravt', 'cykeldansker', 'hvis', 'tanken', 'sejlene', 'flere', 'givet', 'erindre', 'hive', 'lykke', 'landsholdsprofil', 'trods', 'øjeblikket', 'overgået', 'tider', 'skandaløse', 'overvejet', 'udeblive', 'kone', 'gammelmandsskade', 'chef', 'langbane', 'føler', 'udligne', 'vendinger', 'rygrad', 'maskinbyggeren', 'udleve', 'fortørnet', 'seeren', 'trille', 'inden', 'gennemføre', 'ikonet', 'brede', 'gået', 'stille', 'rettigheder', 'positiv', 'kender', 'divine', 'debutant', 'smidt', 'drengeryttere', 'sneg', 'respektive', 'babyface', 'dommerfejl', 'siger', 'basketballspillere', 'hejse', 'vært', 'ceremonien', 'modløse', 'higer', 'blind', 'uhelbredelig', 'skulder', 'privatlivet', 'misundelsen', 'drilske', 'kvindesiden', 'afløste', 'holdbar', 'herunder', 'guldfavorit', 'satse', 'korruptionssag', 'klasse', 'daglige', 'curlingholdet', 'konstruktionsfejl', 'liberal', 'serveren', 'årtusindeskiftet', 'bjergene', 'giftigt', 'orientering', 'ydede', 'reaktionerne', 'buldrer', 'hæfter', 'uprofessionel', 'overgår', 'folk', 'fylder', 'ikke', 'intens', 'rammer', 'skygger', 'kapgang', 'volleylandsholdet', 'marginalerne', 'gennemløb', 'frustrationshandling', 'sorte', 'mødt', 'medaljefavorit', 'sygdom', 'meteren', 'holdforfølgelse', 'søgelyset', 'succesrige', 'plænen', 'træstubbe', 'midten', 'måtten', 'duellerede', 'derefter', 'bagefter', 'finalist', 'svækker', 'podieplads', 'bestilling', 'vinderens', 'stjerneløberen', 'længdespringer', 'hopper', 'lukker', 'traktor', 'flyder', 'skiverdensmester', 'opstilling', 'curlinghold', 'skiftet', 'curlinglandshold', 'kvitterede', 'diverse', 'lokkes', 'semifinalisten', 'dværge', 'guldmedaljer', 'skovs', 'osten', 'lørdagen', 'rædderlig', 'robotten', 'stafet', 'bekymrende', 'ankesag', 'wow', 'vækker', 'pludselige', 'kondital', 'menes', 'budgetloftet', 'mildest', 'perioden', 'håbløst', 'forrige', 'rollerne', 'afskåret', 'nogensinde', 'koloni', 'granprix', 'konsoliderede', 'bueskyttere', 'nypensioneret', 'udstødt', 'turnerings', 'halvår', 'superligaopgør', 'vægt', 'myrdet', 'formåede', 'titel', 'sikkerhedsfolkene', 'betjent', 'pascal', 'nægtet', 'respektløs', 'nyoprettede', 'censor', 'mørke', 'herredouble', 'åbningsdagen', 'z', 'kvaser', 'borgmesteren', 'meterholdet', 'bettingdømt', 'præcis', 'oversidder', 'læste', 'baner', 'tørnede', 'optagelser', 'hankede', 'dermed', 'afviklede', 'finaleflasker', 'fodbolddommer', 'årh', 'mindste', 'byttet', 'besværliggjort', 'utålmodig', 'triatleter', 'banelandstræneren', 'interception', 'central', 'medfart', 'optog', 'lettelse', 'modsætter', 'hasard', 'monument', 'pier', 'labradoodle', 'joint', 'pokalens', 'bevis', 'skæbnen', 'medaljespillet', 'volleys', 'fremme', 'bekræfter', 'stilling', 'skældte', 'collegeophold', 'klarmelding', 'handling', 'springer', 'google', 'lykkens', 'sting', 'højlydte', 'flygter', 'fortrydelse', 'knæskadet', 'derfor', 'gennemgår', 'disciplin', 'villa', 'nødvendigvis', 'bussen', 'grandprixet', 'kapgængeren', 'lancerede', 'snedigt', 'skuddrab', 'målvogters', 'endda', 'kilden', 'smule', 'true', 'præstationsfremmende', 'spare', 'amfetaminen', 'nyligt', 'holdfinalen', 'supermennesket', 'undtagelse', 'spillet', 'dopingregler', 'leje', 'sløj', 'finalechance', 'volleyballprofil', 'handlinger', 'trænerjob', 'selvvalgt', 'uheld', 'lægernes', 'flytte', 'gerningsmand', 'overraskelse', 'tiltaler', 'kultur', 'største', 'topbrag', 'finaleopgør', 'panikagtig', 'del', 'kvalificerede', 'uspiselig', 'forvirring', 'episoden', 'sås', 'vilde', 'flyver', 'resten', 'eftertragtede', 'levende', 'gør', 'prøvet', 'uretfærdigt', 'cyklet', 'optaktskampene', 'underkende', 'stangspringsfænomen', 'anno', 'milliardbraget', 'rekordår', 'varmt', 'meste', 'hånlige', 'forspringet', 'kolossal', 'falsk', 'selvsagt', 'landskamp', 'årene', 'rangeret', 'drøne', 'san', 'frem', 'straffesparkscoring', 'ordinær', 'topbokseren', 'bragte', 'tiltro', 'republikken', 'påfund', 'slæden', 'pæredansk', 'butikscenter', 'næsthøjeste', 'enormt', 'moren', 'kærestens', 'ændre', 'uregerlig', 'laser', 'folkefesten', 'berettigede', 'håndboldredaktør', 'inkompetent', 'rekordløber', 'plade', 'rattet', 'mafia', 'topboksere', 'dyr', 'grundspillets', 'svøm', 'landskampsrekorden', 'las', 'overtager', 'raske', 'udviklingschefen', 'modstander', 'affyrer', 'afsluttede', 'verdensmesterskaber', 'plan', 'frygten', 'hop', 'inferno', 'modsat', 'budgetter', 'vision', 'udlæg', 'risikoen', 'væggen', 'pragteksemplet', 'negative', 'tilskuere', 'nøjagtig', 'irritere', 'kaster', 'verdenseliten', 'bliver', 'karantænen', 'associations', 'messer', 'lyncomeback', 'hjemmebanekampe', 'færing', 'lukkede', 'motorer', 'pragmatiske', 'fight', 'sideløbende', 'fodboldstjernen', 'frustrationer', 'prioritere', 'bokseboss', 'mestertræners', 'pakkeløsning', 'anke', 'svømme', 'brækket', 'står', 'verdenstjerne', 'filmmanuskript', 'iklædt', 'anelse', 'klimaaktivister', 'alperne', 'smertedæmpende', 'holdfinale', 'matchvinder', 'aspekt', 'ånde', 'klub', 'året', 'løbers', 'næstbedste', 'kilometer', 'vished', 'bruge', 'speedway', 'reserve', 'semifinaleserie', 'allerstørste', 'uofficiel', 'kanes', 'broren', 'klodsmajor', 'ånd', 'arena', 'jobsøgende', 'ærmet', 'holdkammerater', 'vurderer', 'forløsende', 'indblandet', 'kaosset', 'storklubben', 'kør', 'kørt', 'hænger', 'hurtigløber', 'menuen', 'overdænget', 'sekvens', 'tasker', 'serves', 'brandvarm', 'manipulere', 'kyniske', 'benytter', 'modbydeligste', 'dårligdommene', 'fjeder', 'lamslåede', 'skov', 'værdifuldt', 'luret', 'eliteudøvere', 'computerspil', 'stryg', 'adskillige', 'basketspilleren', 'stemning', 'uskøn', 'fodboldkarrieren', 'slut', 'signe', 'forkælet', 'bagen', 'helbred', 'isolationshotellet', 'træningslejr', 'præsenterede', 'gule', 'bragt', 'hemmeligholder', 'kommende', 'fristet', 'omvendt', 'hysterisk', 'verdenstoppen', 'udfordrer', 'disciplinærinstans', 'latterlig', 'kirsebær', 'frokosttid', 'rekordpublikum', 'topresultat', 'fyldestgørende', 'fejler', 'opløst', 'langsomme', 'rar', 'maskot', 'lang', 'sejlet', 'løbesko', 'afkast', 'reageret', 'river', 'omdømme', 'grusveje', 'aftes', 'punge', 'kandidat', 'ottendedelsfinalen', 'trøjeskift', 'ger', 'mine', 'forråde', 'v', 'nat', 'basketkvinder', 'flid', 'nykårede', 'volleyballklubben', 'hentede', 'knuse', 'landsholdskollega', 'talsperson', 'genoplev', 'fodtackling', 'porten', 'familiefar', 'afstemning', 'hjemlandet', 'kontoen', 'uærlige', 'sendt', 'tennistalent', 'fodboldtroldmanden', 'derudad', 'bænken', 'undskyldninger', 'politisk', 'bueskydnig', 'junge', 'klar', 'arbejdernes', 'kg', 'gav', 'forbandelsen', 'analytiker', 'nissen', 'formstærke', 'bølgedal', 'dyrt', 'stjernerytter', 'sejrssporet', 'basketlivet', 'forhindrer', 'hamrede', 'overgik', 'tilgængelige', 'salget', 'magtdemonstration', 'næsten', 'id', 'troet', 'kostede', 'atletikforbund', 'noteret', 'parken', 'indlæg', 'cykelholdet', 'sportsjournalist', 'debutår', 'skihopper', 'videnskaben', 'ungdoms', 'tør', 'høje', 'målræv', 'internationale', 'anklagemyndigheden', 'dæmme', 'lgbtq', 'tætpakket', 'sommerpausen', 'sejlduo', 'engangstilfælde', 'højdramatisk', 'udtagne', 'vildfarne', 'nøjagtigt', 'fremtiden', 'pointamok', 'renset', 'project', 'skriften', 'smutter', 'sportsfolk', 'gevaldig', 'miniputterne', 'finnjollesejleren', 'opløbet', 'ansigt', 'boksekongen', 'pissesur', 'valgte', 'matche', 'dokumentaren', 'par', 'afværger', 'scoret', 'læge', 'skrumpet', 'kald', 'hustru', 'undersøge', 'hovedturneringen', 'frustreret', 'motorsport', 'skærene', 'video', 'terræn', 'global', 'mini', 'slam', 'cuttet', 'næstsidst', 'festligt', 'tænder', 'tragisk', 'basketherrer', 'sindene', 'muligvis', 'graviditet', 'skytter', 'vildskud', 'fulgtes', 'hockeyturnering', 'tiltalt', 'lignede', 'bjergtrøje', 'kælderen', 'dueller', 'cirkulerer', 'finalestigningen', 'aftale', 'landsholdsdebutant', 'sikkerhedshensyn', 'sportsgren', 'coronaproblemer', 'professor', 'krydsede', 'giganternes', 'pokalturneringen', 'støttekroner', 'solgt', 'sporet', 'køller', 'opfattet', 'madrasser', 'daglig', 'imens', 'sundhedsstab', 'rensede', 'corona', 'landes', 'udbruddet', 'koryfæer', 'landingsbanen', 'mediedarling', 'opdage', 'championship', 'midtbanespilleren', 'tage', 'handicappede', 'sprintløb', 'nød', 'transmitteret', 'genvalg', 'ishockeyunion', 'forberedelseskamp', 'tremålssejr', 'ansvarlig', 'torsdags', 'overrasker', 'skift', 'tro', 'hav', 'langrendsstjernen', 'kirkegård', 'dernede', 'ombord', 'fyrværkeriulykke', 'hal', 'pointe', 'comebackturnering', 'c', 'ventet', 'bundrekord', 'papa', 'riders', 'sindssyge', 'umenneskelig', 'cykelboss', 'fejres', 'tilkendt', 'smitte', 'dressurheste', 'debat', 'konstateret', 'skadesmareridt', 'føringer', 'plagen', 'nærkontakt', 'fridykkerlandshold', 'jeg', 'varianten', 'korsbåndsskader', 'tema', 'racistisk', 'volleytalentet', 'afviklet', 'svømmere', 'lavest', 'omstillingsparat', 'medaljen', 'gentagelse', 'ufærdig', 'vidunderligt', 'showbiz', 'fusionere', 'bjørnejagt', 'europæiske', 'grant', 'hall', 'hov', 'døjer', 'billetter', 'sparke', 'syver', 'turister', 'kvindelig', 'bortført', 'personlighed', 'planlægger', 'brillante', 'vold', 'begået', 'spillestil', 'øjebliks', 'modne', 'kups', 'tidspunkter', 'nordens', 'præstation', 'skørt', 'børnekonvention', 'ritual', 'pressede', 'cavendishs', 'kontroversiel', 'lodret', 'lægge', 'frygter', 'gedigen', 'efterligner', 'nip', 'dybt', 'favoritten', 'forgangne', 'tårnhøje', 'landsholdsprofilen', 'degn', 'udraderer', 'sporty', 'indtrykkene', 'hvidvaskning', 'prale', 'løbedisciplin', 'parret', 'bagmand', 'varme', 'tyder', 'ishockeyens', 'brast', 'paralympiske', 'verdenselitens', 'pointrekord', 'nåede', 'indstiller', 'gadeløbere', 'lobbede', 'styrtløbet', 'domstol', 'orienteringen', 'genindførsel', 'varetægt', 'mødet', 'forkortet', 'armen', 'veterans', 'pokalturneringer', 'kludedukke', 'sin', 'skadet', 'stigende', 'verdensrangliste', 'kassekamp', 'nærvær', 'storslalom', 'særligt', 'semifinalesejren', 'bokseunion', 'tørke', 'dukke', 'feriehold', 'ambition', 'drejning', 'forlænget', 'hjælpende', 'uvant', 'forulykkede', 'turneringer', 'støttede', 'kokainsag', 'glip', 'bilerne', 'fejlagtig', 'bandlyser', 'livløs', 'bevæge', 'niveau', 'volleylandstræner', 'formue', 'pointene', 'fængsling', 'finaletørke', 'slukket', 'stadium', 'storspiller', 'zoomer', 'betegner', 'målmændene', 'heat', 'allemandseje', 'avancement', 'kongerne', 'døde', 'modvind', 'curlingholdenes', 'legendes', 'telefoner', 'glad', 'kedeligere', 'spillere', 'hallerne', 'sang', 'gigant', 'slutspilshåb', 'fabrikskører', 'klodens', 'ligamål', 'ødelægges', 'mesterstykke', 'procent', 'banneret', 'bund', 'markering', 'optræder', 'afsky', 'ishockeyspillerne', 'veksler', 'skubbe', 'hold', 'vækkede', 'ophæves', 'stafetrekorder', 'titelaspirant', 'tocifret', 'formand', 'smadrer', 'dronning', 'bil', 'ubesejret', 'erindring', 'håndboldkvinder', 'fremgangen', 'turen', 'seler', 'værtskabet', 'eliteidrættens', 'etapevinder', 'indtag', 'degradering', 'nedad', 'sværvægtsmester', 'volleyball', 'pot', 'undskyldte', 'løbelegende', 'erkender', 'stadfæstet', 'stoppe', 'testsystem', 'pressemeddelelse', 'sene', 'vennerne', 'månedsvis', 'fosser', 'arenaer', 'puljekamp', 'altdominerende', 'midterfeltet', 'defekt', 'tyfon', 'bokseekspert', 'hunden', 'cifre', 'sportskommentator', 'halvering', 'røre', 'gejsten', 'rullede', 'kendisser', 'floppet', 'ugidelig', 'gold', 'singlesculler', 'arbejde', 'nægtede', 'statsborgerskab', 'indlagte', 'stjernesprinter', 'cykelsporten', 'anerkendt', 'udnyttet', 'brødre', 'sportssko', 'knald', 'besat', 'nummer', 'herefter', 'bokseturneringerne', 'slutningen', 'stormen', 'skæbnesvangre', 'regnskabsåret', 'fodboldmålmand', 'acceptere', 'teamets', 'hovedet', 'fænomens', 'køreren', 'hormonkrav', 'ishockeydirektør', 'storfavoritterne', 'turneringsmeritter', 'cykelchef', 'underdoggen', 'kildeskovshallen', 'gymnastikforbund', 'rase', 'tynget', 'skræmmende', 'hesten', 'ildebefindende', 'stemningen', 'odds', 'snakker', 'forbløffet', 'eden', 'bogstaver', 'muslim', 'fuldføre', 'landsholdsfremtid', 'oktober', 'haft', 'båsene', 'angst', 'udstiller', 'skamfuldt', 'uddelt', 'gæld', 'eliteatleter', 'spurtafgørelse', 'glædeligt', 'kendelse', 'skiløberen', 'drønende', 'venten', 'svunden', 'spillerråd', 'midnatsforestilling', 'superkamp', 'fordoble', 'pulje', 'sønnen', 'mickelson', 'præmiepengene', 'heldig', 'organisationen', 'klimaforandringer', 'station', 'pitten', 'holdløb', 'årige', 'bueskydningen', 'granskning', 'kalder', 'underskrifter', 'racismesag', 'potentielt', 'hedebølge', 'overflødige', 'mesterskabsrekord', 'kammeraten', 'duatlon', 'fejltrin', 'kigget', 'football', 'forunderlig', 'artikelserie', 'dømte', 'stjerneløber', 'fridykkere', 'konstruktørmesterskabet', 'fange', 'rejste', 'net', 'omniums', 'retfærdige', 'reserverolle', 'gnide', 'udbryder', 'energi', 'nå', 'finalen', 'allermest', 'herredoublerne', 'forskrækkelse', 'pointhøst', 'hørt', 'forspillet', 'legenes', 'banelandsholdsrytter', 'opmærksomme', 'ophører', 'femårig', 'pibekoncert', 'modstanders', 'hæve', 'målsætning', 'tomhed', 'efterfølgende', 'nyvalgt', 'vidne', 'håndsbolds', 'januar', 'åbningskampe', 'effektivt', 'reserver', 'rygskade', 'smertelige', 'sultne', 'poppe', 'fodboldtrænere', 'angrebs', 'pointstillingen', 'slemme', 'speedwaykøreren', 'ordentligt', 'forhindringsløb', 'topplan', 'centrum', 'boksetalenter', 'kameraproblemer', 'dyrke', 'vant', 'sygehuset', 'konkurrencer', 'forfremmes', 'båret', 'sponsoraftaler', 'runningbacken', 'peget', 'hospitalet', 'fodboldudvikling', 'ankelskade', 'nationale', 'th', 'knibe', 'nationalstadion', 'gruppespillet', 'dopingsagen', 'porto', 'løjerne', 'hylde', 'nedture', 'investor', 'unionen', 'løgn', 'stadig', 'filmede', 'semifinaleklø', 'lærestreg', 'graders', 'baseballspilleren', 'bantamvægt', 'tre', 'ekstra', 'bryde', 'vundet', 'bedømmelserne', 'propaganda', 'vidundermål', 'travheste', 'slæbt', 'mesterskabsklassen', 'tilværelsen', 'villig', 'konkurrenceplan', 'assistentens', 'ishockeyforbund', 'ordentlighed', 'vist', 'kontraktforlængelse', 'udskyde', 'provokeret', 'logik', 'træningsløb', 'strammet', 'hjul', 'straffes', 'boksestjerner', 'ustyrlig', 'landsholdstruppen', 'grim', 'arme', 'motorsportunion', 'syndebuk', 'golfspilleren', 'nålen', 'førlighed', 'golfbold', 'anses', 'bælte', 'skovflåtbid', 'svinestreg', 'nationer', 'løbes', 'vurderet', 'blues', 'semifinalesejr', 'lovende', 'revancheopgør', 'uvaccineret', 'kampdagen', 'teamkammerat', 'stikpille', 'stak', 'lægerne', 'forventet', 'protester', 'slinger', 'kæmpeskandale', 'udgivet', 'klubhåndbold', 'begejstrer', 'tabe', 'antidopingregler', 'råd', 'spurt', 'dårlig', 'amager', 'ukampdygtig', 'compound', 'hånd', 'længe', 'basketballstjerne', 'holdkortet', 'pokalmester', 'tåbelig', 'storfavoritten', 'teater', 'pressionsmiddel', 'forskellen', 'diskussion', 'dames', 'roligt', 'overfor', 'satsede', 'sejrsmargin', 'jarl', 'positioner', 'moderne', 'poleposition', 'faldet', 'mo', 'racertalentet', 'ekskaptajner', 'turneringsserie', 'advarer', 'overgreb', 'aftvinger', 'lob', 'lancerer', 'nøglespiller', 'tiendebedst', 'moral', 'oprydning', 'boksekarriere', 'ophævelse', 'dartklubben', 'cruiservægt', 'slutspilskamp', 'udpege', 'rekordforsøg', 'bisat', 'assisterede', 'enighed', 'popstjernen', 'anfører', 'repræsenterer', 'sluppet', 'sørgebind', 'traditionen', 'alderen', 'usikkerhed', 'tilhørte', 'mas', 'skikkelse', 'hvide', 'brillerede', 'kvaliteter', 'vejs', 'opføre', 'håndboldspillere', 'anekdote', 'møder', 'profils', 'vaccineret', 'radiobesked', 'guldsamling', 'opkræves', 'navnene', 'forhindre', 'succesen', 'hænge', 'brokker', 'kastede', 'væld', 'der', 'bygger', 'sandt', 'petter', 'verdenskendt', 'fodboldballade', 'forstummede', 'klubrekord', 'volleyballtriumf', 'vanen', 'århundredes', 'motocrosskøreren', 'præstationer', 'overtage', 'promotoren', 'slopestylebanen', 'alpine', 'ligaens', 'triumferer', 'styrke', 'lukrere', 'kraft', 'kommentatorduo', 'pladsen', 'bakke', 'forsvar', 'cognac', 'genoptaget', 'revanche', 'nem', 'kvalifikationskampene', 'revancherer', 'person', 'guldhåb', 'kastet', 'tangerer', 'navnebror', 'topsejlere', 'tennisstjernen', 'afskrives', 'fjols', 'balkonen', 'besked', 'blokader', 'sportskanaler', 'sønderknust', 'familie', 'skakstjerner', 'testdage', 'skrøbelighed', 'mandskab', 'score', 'vildfarende', 'atleters', 'populære', 'afliver', 'antisemitisme', 'høster', 'catalonierne', 'korte', 'angriberens', 'dagsordenen', 'tilslutte', 'tidligt', 'betaget', 'sidder', 'atletikken', 'kameraer', 'firedobbelte', 'tale', 'drænende', 'fåmælt', 'gættede', 'coronapausen', 'midtbanetalent', 'kunstpause', 'personlig', 'gevinst', 'unåde', 'røveriforsøg', 'tirsdags', 'tronen', 'startede', 'omspilshul', 'hik', 'kæmpet', 'døden', 'hjemmebanepublikum', 'styrkeforhold', 'holdspillere', 'udmærket', 'ligaprofil', 'stole', 'pragtredninger', 'lynstart', 'værst', 'billetten', 'glimrende', 'fratræder', 'slemt', 'sportsnavn', 'fulde', 'forløb', 'presset', 'smukt', 'bor', 'sportshistorie', 'tilskuerrekord', 'indebærer', 'fuldtalligt', 'levede', 'city', 'hængt', 'retssystemet', 'sæsonsejr', 'forsikringsaftale', 'fornuftig', 'ninjas', 'landstrænerposten', 'atletikudøvere', 'sådan', 'regnet', 'neglebider', 'højeste', 'klage', 'indfri', 'appeller', 'kuglestøder', 'påstand', 'fis', 'anset', 'knusende', 'april', 'pengestærk', 'badmintonsporten', 'skistjerner', 'besøgt', 'kørestolsfloorballspiller', 'hedde', 'spørgsmålet', 'aner', 'toilettet', 'racerklasse', 'kiksere', 'habilitetsreglerne', 'gælder', 'rygnummer', 'vindende', 'fingeren', 'kampsportsorganisationen', 'skuffelse', 'finalebrag', 'favoritværdigheder', 'tordnede', 'skubber', 'genopbygningen', 'lod', 'sæsonstarten', 'andenseedede', 'bøvlet', 'genere', 'trække', 'skærpede', 'interesse', 'svinger', 'forhøjet', 'sejladsernes', 'europæerne', 'professionel', 'jagt', 'arm', 'spillemæssig', 'foran', 'fokus', 'kultstatus', 'periferien', 'motivere', 'majorens', 'tænkepause', 'sjældenhed', 'nørderne', 'hierarki', 'bueskytterne', 'øgede', 'tilmeldt', 'basketballverdenen', 'grædefærdig', 'rytteres', 'bagover', 'udstedes', 'kulkælderen', 'nuværende', 'tavlen', 'ministre', 'sidsteplads', 'proppe', 'uægte', 'vindene', 'parasvømmer', 'amatøragtigt', 'just', 'investeringsfonden', 'antidoping', 'pointmaskine', 'indfører', 'oplyser', 'uskarp', 'portrætterer', 'fremtidig', 'favoritværdigheden', 'vidste', 'ihærdige', 'talentfulde', 'wings', 'garderet', 'hen', 'egner', 'eksekutivkomite', 'meterløbet', 'diks', 'bybane', 'udtalte', 'elendig', 'lukrativ', 'sydfynske', 'projektil', 'dramatiske', 'kvartet', 'bremset', 'blå', 'pengemangel', 'solidt', 'rekordsæson', 'tuneringen', 'strabadserende', 'afdækker', 'vinderputt', 'solgte', 'togt', 'neutralt', 'asiatiske', 'drømmeår', 'dækning', 'smuthuller', 'tallene', 'tiderne', 'triumftog', 'nu', 'vedholdenhed', 'skuddrabet', 'speciel', 'overmodige', 'sportschef', 'fremskyndes', 'reneste', 'provokere', 'udmelding', 'øre', 'krænket', 'rekordmange', 'palles', 'dum', 'dyst', 'sportspræstation', 'indledende', 'vand', 'etaper', 'suspekt', 'arabiske', 'medlemmer', 'ærgrer', 'topryttere', 'proklamerede', 'baneløber', 'lydniveauet', 'opgivet', 'handlede', 'comebacksejr', 'medaljehåb', 'stadigvæk', 'tilkæmpet', 'pillede', 'elskere', 'søger', 'finalekamp', 'nedkæmpede', 'holdets', 'begejstret', 'skattesag', 'berusende', 'danmarksrekord', 'trafikuheld', 'idrætsformand', 'huskes', 'dopingkontrol', 'essentiel', 'vildledte', 'tid', 'garanteret', 'kaldet', 'spares', 'ansigter', 'hag', 'basketballkamp', 'afklaret', 'tiltrængt', 'mental', 'trup', 'først', 'episode', 'country', 'sov', 'alpin', 'landholdsspiller', 'stå', 'elver', 'fodboldturneringen', 'spæner', 'grafik', 'forberedelserne', 'juleturnering', 'mixholdet', 'ten', 'slutspilsdrama', 'fødsel', 'fotograf', 'genstart', 'tennisspilleren', 'årigs', 'middel', 'reglementet', 'sportsdirektøren', 'placeringsrunde', 'spidsen', 'genvalgt', 'lugten', 'forløse', 'banen', 'ekspederet', 'giroen', 'forvent', 'vanærede', 'defensive', 'permanent', 'landsholdstrup', 'løftede', 'korrekt', 'opvokset', 'blandede', 'prellede', 'frustrere', 'kønskamp', 'biler', 'overtrådt', 'skolen', 'tårerne', 'superstjernens', 'beset', 'cykelanlæg', 'morderisk', 'intetanende', 'begrænset', 'græsk', 'badmintonspiller', 'scenarierne', 'event', 'sønnerne', 'superassist', 'nakken', 'sponsor', 'beundrer', 'straffesparksskytte', 'motiverede', 'nyfødte', 'kompetence', 'kameramand', 'trampede', 'vender', 'snøren', 'udbygget', 'fløjtede', 'blindtarmsbetændelse', 'regningen', 'aviser', 'forfremmer', 'berømt', 'vedrører', 'muligt', 'genforenes', 'udklasseringen', 'bøvlede', 'etapens', 'eliteidræt', 'kager', 'kameravinkel', 'bokser', 'hviledagene', 'mænd', 'sidstnævnte', 'beder', 'flygtede', 'tangerede', 'basketspillere', 'udødeliggør', 'succesduo', 'uddeling', 'nabobrag', 'spækket', 'udfaldet', 'målkongen', 'postens', 'taxa', 'tenniskamp', 'maratondistancen', 'brudt', 'slukkede', 'genvej', 'løftet', 'livshistorie', 'nederlaget', 'genvinde', 'monteret', 'afslutningen', 'ligaer', 'holdchef', 'medaljebud', 'nyder', 'klassespillere', 'lavine', 'datalæk', 'videnskabelige', 'forskelligt', 'forskere', 'dødstrusler', 'nordamerikanske', 'dukker', 'gadefest', 'udeholdets', 'besiddelse', 'massestarten', 'kortene', 'dykker', 'ishockeypræsident', 'pokaltitel', 'stærkeste', 'omgivelser', 'triumfer', 'viden', 'brækker', 'kunstigt', 'kvart', 'hastede', 'organiseret', 'stede', 'puljespil', 'halvarrogante', 'klatre', 'udlever', 'udkæmpede', 'negativ', 'virkelighed', 'sejlsporten', 'kæberasler', 'holms', 'drømmen', 'psykologistudier', 'ramt', 'juryen', 'fodboldspillere', 'slået', 'rundede', 'tangere', 'dopede', 'revanchetørstige', 'forstå', 'landsholdsudtagelse', 'noget', 'herredoublehåb', 'gavne', 'brev', 'metal', 'kurs', 'skitrone', 'majorvinder', 'drøfte', 'svømmeunion', 'kollapser', 'smalle', 'tredjeseedet', 'bukselomme', 'landsholdssamling', 'vis', 'udgav', 'antidopingindsatsen', 'ankelskadet', 'guf', 'konstellationen', 'skurk', 'blander', 'overrasket', 'lukketid', 'økonomiske', 'bagland', 'anskaffet', 'weekendens', 'tidligst', 'storskytte', 'overtalt', 'semifinaledeltagere', 'modangreb', 'sensationsmandskabet', 'kyssede', 'trafikale', 'positionen', 'er', 'nervepirrende', 'hyldest', 'kollapsede', 'ambitioner', 'vind', 'efterslæb', 'ydmygede', 'forlange', 'cirkus', 'bremser', 'holdkammerats', 'englænder', 'bowling', 'valg', 'dages', 'omkamp', 'finalepladser', 'guldchancer', 'held', 'stillestående', 'dig', 'holdturneringen', 'yderst', 'fantomtid', 'usædvanligt', 'skoleskyderi', 'bestående', 'opereret', 'ugebladet', 'bomber', 'basketrække', 'sexisme', 'bid', 'fremkalder', 'atleter', 'timerekord', 'klappen', 'opmærksom', 'nedsmeltning', 'poste', 'båden', 'formaliseret', 'hurtigere', 'frivillig', 'basketfinale', 'sejrsmålet', 'stjernekrig', 'verdensmesterskabet', 'hån', 'enkeltstarten', 'bugten', 'omstridte', 'ejere', 'efterlyst', 'fare', 'smider', 'coronasmitte', 'fejevogn', 'kvalifikationer', 'sammenlignes', 'norman', 'børge', 'falk', 'hoppen', 'dilemma', 'isen', 'nationalsang', 'agnes', 'fejer', 'alvorlig', 'line', 'fyreseddel', 'overhold', 'skridtet', 'fogs', 'ligestillingshistorie', 'altså', 'rekordjagten', 'nogen', 'dominerende', 'fightende', 'økonomisk', 'bueskydningschef', 'sensationelle', 'udsendelsen', 'opgive', 'opskrift', 'cykeldisciplinen', 'festarrangører', 'vælten', 'afrikansk', 'overkommer', 'cheerleaders', 'nordmakedonien', 'skyderi', 'sjutter', 'landsholdets', 'skullet', 'fodboldforbund', 'ring', 'historierne', 'dopingoplysninger', 'medvært', 'løsningen', 'udbokset', 'nelson', 'bakkede', 'slaggerne', 'håndmadder', 'tacklingerne', 'totale', 'aktive', 'opgave', 'horn', 'fire', 'boksehistoriens', 'nykåret', 'hvilet', 'billethajers', 'håner', 'transportmidler', 'sætning', 'knockoutkampene', 'klubkassen', 'fodboldtilhængere', 'samfund', 'forkert', 'grundprincipperne', 'projekt', 'mændene', 'hænderne', 'curlingherrernes', 'reprimande', 'vinders', 'mistænkelige', 'faldt', 'opvisningskamp', 'college', 'stigninger', 'idræts', 'skiftede', 'letter', 'tillid', 'regeringen', 'bueskyttebronze', 'forhindringsløber', 'tophold', 'favoritdistancen', 'skateboarderen', 'ønskede', 'grine', 'sner', 'speedwaykører', 'quarterback', 'inkludere', 'rollemodeller', 'finalestævnet', 'tæller', 'stockholm', 'ungdomstræner', 'vidt', 'afsted', 'eagle', 'hjemmekampen', 'superligatrænere', 'superfedt', 'ballade', 'kommentatorboks', 'snubler', 'rykkes', 'hash', 'svarer', 'korsbånd', 'kontrol', 'mountainbike', 'reducere', 'forsvarsspillerne', 'kørere', 'skæbnekamp', 'tyndslidt', 'udsendte', 'holdturneringsfinale', 'rekordmaskine', 'tegn', 'styrmanden', 'liv', 'smuk', 'trådt', 'uorganiseret', 'nærmest', 'kontinents', 'strøg', 'droppede', 'hjemlige', 'fællessang', 'rydde', 'verdenstop', 'bemærkelsesværdig', 'nedlagt', 'samvær', 'undersøgelserne', 'cykel', 'lederrolle', 'afløser', 'seksuel', 'slalomløbet', 'oven', 'indlogeret', 'løj', 'mors', 'telefon', 'blæste', 'kravlede', 'anklen', 'smukke', 'kalde', 'rød', 'tilknytter', 'nedrykningsstregen', 'sportsstjerner', 'forstærker', 'afblæser', 'cricketbane', 'samråd', 'trænerduo', 'håndboldflagskib', 'midtbanespiller', 'scratch', 'stafetten', 'blikket', 'madden', 'tragikomisk', 'pæne', 'skridt', 'sultans', 'åbningsceremoni', 'paralluelo', 'folkefest', 'aksel', 'livestreamede', 'boksetræneren', 'boykotter', 'nappede', 'kanon', 'astronomisk', 'kvinderække', 'optalt', 'situationen', 'bevidstheden', 'træningsforberedelser', 'forudsige', 'rykker', 'utilfredse', 'trussel', 'alarmerende', 'sponsorater', 'stjerneløbers', 'medaljedrøm', 'detroniseret', 'årtusindets', 'kopiere', 'slap', 'simpelt', 'marked', 'finalechancen', 'kanter', 'fælles', 'ventede', 'snowboardlegende', 'kraveben', 'kulminerede', 'skatere', 'straffesparksdramaer', 'blomstret', 'stangspringer', 'afvikles', 'rangerede', 'appelinstans', 'fortalt', 'våde', 'håndboldspiller', 'ubesejrede', 'klapsalver', 'skur', 'dopingtest', 'kalenderen', 'smil', 'tur', 'vigtigt', 'forgæves', 'reaktion', 'solo', 'tiltales', 'classic', 'forfærdelige', 'surfertalentet', 'drømme', 'medaljelisten', 'lunkne', 'frikendes', 'baggrunden', 'spekulationer', 'erfarne', 'atletiktræneren', 'manglende', 'forude', 'cykelrytteren', 'naturlig', 'aftener', 'sniger', 'kærligheden', 'spredt', 'forfang', 'spillernes', 'sølvvinderen', 'straks', 'efterslæbet', 'yndlingsløb', 'kår', 'usportslige', 'kittel', 'gamache', 'standardvogne', 'posten', 'avancerer', 'grandprix', 'gæst', 'udødeliggjort', 'landsholds', 'drømmedrøn', 'bølge', 'ranglisteplacering', 'gennembrudskraft', 'varm', 'plettede', 'fremmede', 'forbrudt', 'maskine', 'demonstranter', 'påvirkning', 'sportsverdenens', 'podiedrama', 'side', 'bang', 'beskedent', 'kategori', 'overbeviste', 'favoritter', 'tange', 'gy', 'kedelig', 'specialdesignet', 'pars', 'taknemmelige', 'kassen', 'landsholdsspilleren', 'ligaen', 'selvmord', 'rigshospitalet', 'turneringen', 'ulidelig', 'småt', 'hånlig', 'seværdigt', 'stormagt', 'håndtering', 'eremitageløbets', 'udbrede', 'golfspiller', 'roste', 'pudse', 'wrestlede', 'mixdouble', 'ac', 'cementerer', 'bygget', 'målmandstrøjer', 'tæmmer', 'undskyldning', 'vildere', 'atletikudøverne', 'præcist', 'fangeudveksling', 'ymer', 'ligner', 'antik', 'afsløringer', 'curlingkarrierer', 'favør', 'drikkepause', 'lien', 'vendte', 'hofteskade', 'eksplosiv', 'stimen', 'clenbuterol', 'og', 'ni', 'bøllebank', 'indlemmet', 'doublespillerne', 'pistol', 'fortalte', 'kriminelle', 'inklusive', 'atleterne', 'optaget', 'forhåndsfavoritter', 'barre', 'linje', 'konkrete', 'forbydes', 'undslap', 'trynede', 'anmeldt', 'fristil', 'aflyste', 'vinde', 'publikums', 'sjældent', 'holdbus', 'solotur', 'målmandsbytte', 'romerlys', 'debut', 'racisme', 'sejre', 'tippede', 'straffedrama', 'info', 'mig', 'adlyde', 'ændring', 'undrede', 'formbarometer', 'fodboldguld', 'inspiration', 'bookmakerne', 'relationen', 'skrinlægger', 'utraditionelle', 'varmen', 'slutspilsserie', 'snedig', 'bjergetape', 'underholdningsværdien', 'bueskydnings', 'underholdning', 'vejret', 'triumfator', 'klassementsrytterne', 'sexmisbrug', 'medaljeræs', 'underskriver', 'undskyldt', 'skilsmisse', 'matchbolde', 'verdensforbund', 'strafferetlige', 'formandens', 'mærkede', 'kontroversen', 'straffekast', 'seværdig', 'modstandere', 'fars', 'glædet', 'julefreden', 'hurtig', 'irrelevant', 'opdager', 'kynisme', 'overlevelse', 'landsholdssamlinger', 'skøjtehal', 'himmelflugt', 'fejlagtigt', 'eagles', 'tikampens', 'invasion', 'lokationer', 'juledag', 'barriere', 'optøjer', 'ødelægger', 'indsamlet', 'skillevej', 'tacklinger', 'bybanen', 'foretog', 'bundbrag', 'stærkt', 'landsholdsmålmand', 'begravet', 'sailing', 'merchandise', 'floorball', 'landsholdskeeper', 'booket', 'turneringens', 'vrager', 'racerkørere', 'smides', 'hvisker', 'ræs', 'gennemprygler', 'endelige', 'svømmekarriere', 'livlinen', 'overvære', 'måneders', 'opfindsomme', 'være', 'mørkt', 'dyrker', 'smed', 'provokerende', 'dopingrygterne', 'målnæse', 'pokaldrama', 'sejrshattrick', 'danmarksrekorder', 'svipser', 'artikler', 'banelandstræner', 'varemærker', 'mail', 'bytte', 'landsholdsstjernen', 'from', 'semifinalist', 'vicepræsident', 'uskyld', 'ansøger', 'bananen', 'dedikeret', 'semifinaleserien', 'vitalt', 'klubtrofæ', 'sidde', 'mesterholdet', 'dufter', 'spændingen', 'sår', 'forårsklassikerne', 'knockoutet', 'hurtighed', 'baseballstjernen', 'rejser', 'afviklingen', 'etiopieren', 'udbrændte', 'besluttede', 'fejrede', 'stjernede', 'gammelt', 'medtaget', 'overskud', 'udskydes', 'såvel', 'beklager', 'ringere', 'provokerede', 'ishockeykvinder', 'etapesejr', 'ligamatch', 'standardkontrakt', 'forestilling', 'opdagede', 'pisten', 'kvindelige', 'stopper', 'sigt', 'frost', 'håndboldspillet', 'huske', 'bakterier', 'tænk', 'videokameraer', 'darlings', 'guldfavoritten', 'ulækkert', 'dopingsag', 'temperaturer', 'badmintonoplevelser', 'hovedstadsklubben', 'sigter', 'straffekastkonkurrence', 'bueskytten', 'sigtet', 'søgte', 'bronzemedaljerne', 'flad', 'ledelse', 'længdespringskonkurrence', 'hverdag', 'fortiden', 'isolationshotel', 'imperial', 'forbillede', 'jagte', 'boksehjertet', 'fremlagt', 'touchdowns', 'rumvæsen', 'jon', 'producent', 'fodboldlykken', 'uddeles', 'nomade', 'fodboldklubben', 'forstået', 'scoringer', 'vinkede', 'utryg', 'båd', 'sætte', 'transkønnet', 'jumbo', 'barndomstræner', 'ottendedelsfinaler', 'grapefrugter', 'isbjerget', 'knockoutkamp', 'udøve', 'anbefaling', 'følgeskab', 'starter', 'jagers', 'møgweekend', 'skrider', 'definitivt', 'bobby', 'påskud', 'kloak', 'bror', 'pligt', 'genvandt', 'vældig', 'låse', 'nisse', 'billede', 'løbetalentet', 'ranglisten', 'sejladser', 'håndbolddag', 'gps', 'blandet', 'favoritdræberne', 'landsholdsdragten', 'majorhæder', 'papiret', 'følelsen', 'bokselegendes', 'dobbeltredning', 'ishockeyformand', 'rettet', 'terror', 'oprørte', 'fjervægt', 'finansordfører', 'mentaltræner', 'opfordringen', 'kvalkampe', 'funklede', 'mirakuløst', 'stillede', 'bjerg', 'usædvanlig', 'boksepension', 'nuance', 'sms', 'løbetur', 'lange', 'ejer', 'udnytte', 'konkurrenceform', 'begivenhedsfattig', 'rideforbund', 'svømmeforbund', 'forhåbninger', 'startnederlag', 'bedt', 'trukket', 'kategoriserede', 'misbruger', 'ligne', 'bekræftet', 'uforstående', 'tavs', 'målform', 'naivt', 'ulovlige', 'omstændigheder', 'hinder', 'finpudses', 'ændringer', 'anførerbindet', 'opgørene', 'udtager', 'spørgsmål', 'diskvalificeret', 'grænse', 'dommerudvalg', 'manøvre', 'hilsen', 'elitedivisionskampe', 'følger', 'bomkonkurrencen', 'silke', 'sæsonfinale', 'mindset', 'bokseverdensmester', 'humpe', 'kronjyderne', 'radio', 'åbenbart', 'femte', 'forbundsdomstol', 'tæt', 'suspendere', 'svær', 'topholdet', 'læring', 'enken', 'uændret', 'hormonnedsættende', 'holdkammeraterne', 'speedskatingarena', 'last', 'gribende', 'vise', 'hoppe', 'hektiske', 'smitteudbrud', 'knækket', 'firdoblet', 'raceren', 'vaskes', 'lufter', 'dyste', 'måleapparater', 'svigtende', 'nice', 'hårde', 'venskabet', 'overlader', 'sagsøgt', 'kampseddel', 'internet', 'tilsammen', 'procents', 'skubbet', 'sprintløbet', 'atletikchefer', 'snakket', 'indhold', 'tragedie', 'tårevædet', 'debuten', 'cykelsportens', 'føres', 'lynhurtig', 'overdynges', 'bokselicens', 'karakterbog', 'foreløbige', 'springrytteren', 'forandringer', 'varslet', 'nemt', 'voldte', 'bruttotruppen', 'ligeledes', 'end', 'standarder', 'slukke', 'heldigvis', 'drastiske', 'mix', 'herreholdet', 'sondre', 'søster', 'kulden', 'topholdene', 'immobile', 'kæmpebrag', 'gjaldt', 'fornemmelse', 'hof', 'forudsigelse', 'aftentour', 'optakten', 'kant', 'insinuationer', 'mandskabet', 'forlænger', 'værtsnationen', 'håndboldspilleren', 'bælter', 'hårknude', 'format', 'komplekst', 'konkurrencen', 'cykelstyrt', 'afsluttes', 'sejlsportsmand', 'målrekord', 'ras', 'troskabserklæringen', 'frygtindgydende', 'guardian', 'faktum', 'sorg', 'arabisk', 'optagelserne', 'mere', 'investeret', 'skærmen', 'idrætsforbund', 'fuldendte', 'tænkelige', 'trio', 'spillets', 'doublespiller', 'vaccinemodstand', 'strand', 'eftermæle', 'sidelinjen', 'skæbnekampe', 'længdespringeren', 'resterende', 'kajakroer', 'forlænge', 'panik', 'væltede', 'personlighedstest', 'opfordret', 'tøve', 'cp', 'succesfuld', 'nederst', 'udsagn', 'stridsøksen', 'rider', 'kvindelandsholdets', 'konen', 'favoritterne', 'sportsstolthed', 'discovery', 'forstærke', 'dommerens', 'lyspunkterne', 'bedriften', 'dolket', 'befolkning', 'toft', 'udvider', 'betinget', 'ungdomslandshold', 'medaljekurs', 'strike', 'squash', 'nåleøjet', 'glasrude', 'transfervinduet', 'dehydrere', 'bænkes', 'ramle', 'cs', 'kringlet', 'båse', 'smug', 'briller', 'legendestatus', 'elefant', 'modtagelse', 'derhjemme', 'frikendt', 'skuffet', 'storebror', 'kurven', 'enige', 'fortrøstningsfulde', 'leveret', 'værtsnation', 'fase', 'enigt', 'stat', 'race', 'søskendepar', 'løbsdage', 'bandereklamen', 'vintersport', 'kvindernes', 'kampminutter', 'offensive', 'satser', 'truer', 'klarer', 'intelligens', 'følges', 'afdelinger', 'tennisarena', 'intensiv', 'atletikforbundet', 'sædet', 'sundt', 'sejlsportsevent', 'udkommet', 'torn', 'stadie', 'timing', 'utilpas', 'fnyser', 'ridt', 'cykelryttere', 'sejrskys', 'forældrenes', 'vent', 'bookede', 'jobansøgning', 'ding', 'tenniskalenderen', 'kongemål', 'verdens', 'motorcykellegende', 'depressionsramt', 'j', 'genmæle', 'martrer', 'slibes', 'måden', 'flot', 'sovemedicin', 'område', 'hoteltoilet', 'kamptræning', 'målchancer', 'løbelegender', 'cv', 'herrespillere', 'nordlige', 'advokater', 'skavank', 'tilføjer', 'damedouble', 'spillemæssigt', 'nettet', 'tjente', 'nøglen', 'vejrer', 'urimelig', 'medlemskaber', 'forarger', 'ændrer', 'opsøge', 'udlignet', 'stangspringeren', 'seksuelt', 'heftige', 'kommentator', 'udviklede', 'bueskytternes', 'kaptajnen', 'ualmindelig', 'ishockeykarrieren', 'gigantmøde', 'napolitanerne', 'overskydende', 'sikkerhedsnet', 'skattemyndigheder', 'dopingtestningen', 'stræk', 'afslutter', 'måske', 'kaptajnerne', 'betændt', 'lidt', 'tilrettelægges', 'sportsevents', 'brækkede', 'slopestyle', 'afrikanere', 'nationen', 'guldvinders', 'fodboldbanen', 'dække', 'udnyttede', 'plejer', 'midlertidigt', 'tilbagekaldt', 'banelandsholdet', 'velfortjent', 'alles', 'begge', 'fog', 'solomål', 'optimismen', 'sæsonfinalen', 'indrømmelse', 'tumult', 'sejle', 'polen', 'tanker', 'afbrydelse', 'nar', 'arbejdstøjet', 'serverer', 'konflikten', 'analyse', 'brødres', 'fungeret', 'miniputters', 'ekskludere', 'basketballturnering', 'ende', 'konstellationer', 'fravalg', 'opgivende', 'lastbilchaufføren', 'scoringen', 'bundet', 'desto', 'vikarierende', 'semifinalekamp', 'pokalturnering', 'midtover', 'sænk', 'færøsk', 'gulerod', 'kapital', 'bremse', 'slavelignende', 'sitskiløber', 'overhængende', 'klemme', 'avancementet', 'effektivitet', 'udgået', 'sen', 'form', 'farfar', 'ansporede', 'badmintonbanen', 'strafslag', 'ivrige', 'håndboldverdenen', 'vittigheder', 'hvorfor', 'dumme', 'grøften', 'riffel', 'stress', 'smuldrede', 'offentlig', 'meddeler', 'di', 'forslag', 'sultestrejker', 'tamponspøg', 'besvare', 'misbrugt', 'sportsdomstol', 'travlt', 'forhåndsaftalt', 'andel', 'topbokser', 'medaljeforhåbninger', 'mund', 'overhovedet', 'europamesteren', 'rivalopgøret', 'grundet', 'håndboldliga', 'ordkrig', 'bud', 'hedder', 'åbningssejr', 'skyldig', 'landsholdsløber', 'udkald', 'epidemi', 'målmandshandsker', 'søgsmål', 'nydt', 'pokaldramaer', 'fejl', 'kvalifikationsopgør', 'dårligste', 'hentet', 'dopingagentur', 'har', 'storholdene', 'device', 'ligarivalerne', 'landskampe', 'regnvejr', 'kvasede', 'voldelig', 'storsejrer', 'atletikkonkurrence', 'trøjer', 'dan', 'forme', 'superglad', 'prioriterer', 'kontrovers', 'mesters', 'følelsesløs', 'spydkasteren', 'holdene', 'forlænges', 'mindet', 'syleskarp', 'hjerneblødning', 'topopgør', 'svingede', 'post', 'søndag', 'eventyr', 'interviewet', 'medaljesejlads', 'bidrage', 'ting', 'slettes', 'kontrakten', 'lovpriser', 'lækket', 'minut', 'herreligaens', 'dumpede', 'kæmpetalent', 'optimalt', 'jubelscener', 'begrunder', 'udbrydere', 'kravene', 'føringsmål', 'langrendskonkurrence', 'navngivne', 'kolliderede', 'bjergrig', 'drømmejobbet', 'vurdere', 'rutinemæssig', 'sandet', 'rigere', 'erobrede', 'flyttet', 'opsigtsvækkende', 'håbe', 'spektakulære', 'af', 'anbefalingen', 'udfylde', 'diskrimineret', 'skomærke', 'dollars', 'fodboldbanens', 'sejlerchef', 'senere', 'trængt', 'lænker', 'påklædning', 'udsnit', 'stjerners', 'målmanden', 'kimet', 'venner', 'sikkerhedsgrunde', 'kørestol', 'uantastet', 'uheldigt', 'begynde', 'stofmisbruger', 'ugen', 'baseballstjerner', 'vikingehjelm', 'kryds', 'ladies', 'klædte', 'sponsoraftale', 'langsomt', 'skamme', 'drømt', 'hævede', 'kollega', 'kulturministre', 'skidronning', 'brutalt', 'jord', 'overtidsmål', 'befinder', 'stjernehold', 'langrend', 'adgangskort', 'dødboldene', 'heftig', 'kvindeligaen', 'curlingkvindernes', 'seerspørgsmålet', 'løb', 'anledning', 'testosteronniveau', 'højst', 'kunnet', 'trænersituation', 'potentiel', 'erklæres', 'akrobatiske', 'ren', 'stammen', 'sølvvinder', 'undskylde', 'uenighed', 'fødderne', 'flammer', 'hektisk', 'mastodont', 'målsluger', 'verdensrekord', 'skræddersyet', 'farve', 'tennisdarlings', 'armbåndsur', 'eksplosive', 'tennisturneringen', 'dopingdom', 'flaskerne', 'ultraløb', 'førerhold', 'kvartfinalen', 'skød', 'håndboldmestre', 'forpurrede', 'gratis', 'gidsel', 'skrappe', 'bobler', 'golfspillerne', 'stoltheden', 'svømmekarrieren', 'ballet', 'planer', 'rekordholder', 'kronen', 'fængslinger', 'kåret', 'rygterne', 'øretæve', 'nedlægge', 'flove', 'tildelt', 'troværdighed', 'amatøreuropamester', 'mangedobbelt', 'bombe', 'svært', 'mundfuld', 'viste', 'herude', 'badebukser', 'opstillingen', 'opsang', 'tilbragte', 'døjet', 'kapgangskonkurrencerne', 'aktivist', 'banerytter', 'milliongevinst', 'udfordring', 'betydning', 'salg', 'bowlinglandshold', 'karbon', 'slutfasen', 'benet', 'volleyballlandsholdet', 'temperamentsfulde', 'indirekte', 'indestående', 'kronprinsens', 'slutrunde', 'ligakampe', 'sillinger', 'kandidater', 'medvirkende', 'mit', 'mellemøsten', 'sprudler', 'elitefodbold', 'diskoskaster', 'mens', 'svømning', 'forbløffes', 'lægterne', 'kvartfinalehåb', 'if', 'flopper', 'specialister', 'allierede', 'tætteste', 'kapsejladserne', 'indsatsen', 'testkampene', 'farverne', 'boks', 'vinker', 'ugentlige', 'opskriften', 'øjne', 'influencer', 'erstatte', 'håndboldlandshold', 'døvblind', 'overblik', 'travl', 'politisager', 'spillers', 'mesterskabsfavorit', 'landevejen', 'superliganiveau', 'organisation', 'tiltræder', 'træningslokalet', 'ekspræsident', 'trådte', 'kvarter', 'trumfe', 'live', 'ekstatisk', 'mixeddouble', 'bænket', 'tilladelse', 'lokke', 'transkvinder', 'massivt', 'problemer', 'kiggede', 'indfriet', 'anvendes', 'frugt', 'tilstedeværelse', 'søndagens', 'forstærkning', 'uroen', 'generation', 'gangsterland', 'håndboldopgør', 'betingelserne', 'træningskampe', 'håndboldstjernen', 'dele', 'kedelige', 'ønsket', 'arbejdsvilkår', 'gunstig', 'fraser', 'styrtede', 'vrede', 'besøg', 'dopingskandale', 'takket', 'ringer', 'vikaren', 'ked', 'bedømmer', 'regel', 'debutanterne', 'besvimede', 'promotorer', 'famler', 'gennembankede', 'atletikkomet', 'strider', 'traditioner', 'landsholdsspiller', 'chokeret', 'heftigt', 'typisk', 'lyset', 'sæsonrekord', 'trofæer', 'suser', 'transferspekulationer', 'biluheld', 'booster', 'flirter', 'påstået', 'stillet', 'bokseveteraner', 'beskæring', 'håndboldmålvogter', 'fin', 'afrikanerne', 'håndboldmål', 'historiebøgerne', 'lortepille', 'racist', 'redde', 'hovedfeltet', 'døgnrytme', 'højdespringerne', 'testmuligheder', 'debuterede', 'prestigeprojekt', 'protesteret', 'skruer', 'kæmpestort', 'hackerangreb', 'inspirere', 'antaget', 'smugling', 'tilråb', 'miseren', 'universidad', 'vidunderlige', 'golfduo', 'håndboldligaen', 'unikt', 'betting', 'oprindelige', 'læsning', 'klatrer', 'længst', 'glorværdige', 'doven', 'færdigbehandlet', 'slettelakken', 'dimension', 'skiskydningsforbund', 'marathon', 'arrige', 'la', 'livslange', 'modbevist', 'seedninger', 'astmaspray', 'rekorderne', 'præsterede', 'seed', 'ligestilling', 'tungere', 'vidunder', 'afsløret', 'kæresteparret', 'udpeget', 'kø', 'drømmescoring', 'højdespringere', 'læben', 'ben', 'slutspilschancer', 'energidrik', 'coronavaccineres', 'potentielle', 'bah', 'sociale', 'bådtypen', 'slopestylefinale', 'længde', 'karantænestraffe', 'enegang', 'sprækker', 'umag', 'overmatchet', 'fabrikeret', 'løfter', 'rasende', 'klubpræsident', 'kvalen', 'stødt', 'farlige', 'lyden', 'undskylder', 'katastrofe', 'forelagt', 'midtugerunden', 'mareridtsstart', 'idrætspræsident', 'lækkerbisken', 'presse', 'lunken', 'magtbalancen', 'superrunde', 'fantomtider', 'intenst', 'sportswashing', 'nuancer', 'boksede', 'håndholdherrernes', 'sejrsrekord', 'millionbeløb', 'skakstjernen', 'følgere', 'stolthed', 'princip', 'trøjen', 'ungdomsspillere', 'fløj', 'fjervægteren', 'kvartfinaler', 'drtv', 'run', 'skandaleombruste', 'sexmisbrugte', 'håndfuld', 'forfølgere', 'bokseturnering', 'volleyspiller', 'atletikforbunds', 'skraldet', 'søstre', 'uheldigvis', 'hjertebanken', 'håndklæde', 'udskyder', 'kapsejladsen', 'strå', 'rykkede', 'stregspiller', 'dyrene', 'mursten', 'domineret', 'halsede', 'sindet', 'beskederne', 'maveonde', 'playmaker', 'ridebanespringning', 'flåt', 'tænkelig', 'hovedsponsorat', 'aftens', 'defensiv', 'spilminutterne', 'ond', 'sportsshow', 'sigtekornet', 'position', 'dobbeltinterview', 'ubærligt', 'cykelekspert', 'fuldere', 'skype', 'efterforskningen', 'kovending', 'farens', 'levet', 'ishockeyveteranens', 'kørerne', 'ugleset', 'snowboarder', 'kræver', 'idømt', 'trængte', 'atletiklegende', 'drillet', 'hjernevasket', 'minimumsløn', 'pointdeling', 'ungdommen', 'ifølge', 'fældet', 'speedskateren', 'varede', 'guldmedaljerne', 'tyvstart', 'kvalifikationstid', 'skærper', 'biseksuel', 'våd', 'fyrede', 'lever', 'lade', 'frygte', 'rolig', 'ro', 'åndssvag', 'sammensætningen', 'finnjolleklassen', 'sejleren', 'garanti', 'trøst', 'svinder', 'turneringssejren', 'forurening', 'pletten', 'borgmester', 'opsagt', 'straf', 'hurtigt', 'sevillas', 'stadiontribune', 'trænerkaos', 'prøvelser', 'bjarne', 'ledelsesstil', 'artikel', 'ignorerer', 'ishockeyliga', 'grandprixets', 'kommentarer', 'medaljeslugere', 'usikkert', 'kriminalitet', 'cykelbanen', 'hovedstødsmål', 'duellen', 'sløjfet', 'stars', 'slagstyrke', 'meterklassen', 'føringen', 'snød', 'fuld', 'spillerkarrierer', 'tætte', 'chancerne', 'western', 'fortsætte', 'golfsæsonen', 'favoritminde', 'comebackkamp', 'wing', 'landsholdsstjerne', 'boksere', 'kantspilleren', 'spidde', 'mandlig', 'kølighed', 'røg', 'aftryk', 'træne', 'rally', 'håbet', 'pointkontoen', 'sværvægtsboksning', 'antisemitisk', 'ringede', 'indsats', 'ønske', 'robotter', 'løbehattrick', 'årsrapport', 'derimod', 'opgøret', 'masser', 'sæsonstart', 'golfturs', 'måles', 'værtskab', 'knockoutfasen', 'champagnebold', 'fanebærere', 'foretaget', 'melder', 'set', 'onsdag', 'stjerne', 'landsmænd', 'verdensmester', 'skifte', 'historiedefinerende', 'jagten', 'prestige', 'kvindevolleys', 'stressramte', 'formentlig', 'idealer', 'manipulation', 'dybe', 'chanceløse', 'deltager', 'metroen', 'totalt', 'stjernefrø', 'finalesejre', 'udøvere', 'royal', 'pinligt', 'pokalfinale', 'fodboldkvinder', 'skilles', 'skrækpulje', 'selvfølgelig', 'samtale', 'pointforsvar', 'ærgerlige', 'egne', 'vandpolo', 'iver', 'slutrunden', 'foråret', 'pokalfinalerne', 'magisk', 'fjerdeyngste', 'beskyldningerne', 'toppolitikere', 'brug', 'formsvage', 'dommeransvarlige', 'efterårets', 'kvartfinaledrømmen', 'spektakulært', 'politikere', 'baneguld', 'pokalsemifinale', 'sejrstørke', 'sponsorklemme', 'coronatest', 'dengang', 'skændtes', 'målscorer', 'spillerklager', 'groves', 'klarhed', 'stiger', 'forslaget', 'kyssesagen', 'hungrer', 'regnvejrsløb', 'pengekassen', 'forbundets', 'kanonmål', 'paralympisk', 'spyt', 'breder', 'storspillede', 'fjende', 'truet', 'dagbog', 'reflekterer', 'ærlig', 'glemme', 'tillod', 'opgraderinger', 'finnjolle', 'altmuligmanden', 'kane', 'finansieringsproblemer', 'komplekse', 'nyslåede', 'ungdomsrækker', 'gruppemodstanden', 'suspenderer', 'modtages', 'chefer', 'motivet', 'intensiteten', 'indimellem', 'stationer', 'genfinde', 'opsigt', 'protestsystem', 'flyttede', 'fodboldhold', 'baseballiga', 'forsikrer', 'sikker', 'lykkes', 'går', 'underskrift', 'offshore', 'titelforsvar', 'idrætsudøvere', 'frås', 'europamesterskab', 'melding', 'tempo', 'pådraget', 'optimal', 'politiske', 'triumfmarch', 'landsholdsdebut', 'landskampen', 'flames', 'matchstraf', 'styrt', 'coronarestriktioner', 'begå', 'kræftramt', 'tackling', 'afrejsen', 'pladser', 'wildcard', 'opdaget', 'telt', 'raser', 'volleyballforbund', 'passende', 'hjemmebanen', 'pustet', 'vandpolospiller', 'tilslutter', 'must', 'swing', 'bryder', 'omskydning', 'model', 'pistolvideo', 'gøremål', 'opfører', 'duoen', 'pludseligt', 'knockdowns', 'banker', 'bagklogskabens', 'meter', 'formodet', 'ocean', 'langdistanceløberen', 'europamestre', 'foreløbigt', 'sæt', 'beskedne', 'fornyelse', 'bøje', 'ræd', 'mesterskabets', 'grundspilskamp', 'stig', 'momentum', 'ordentlig', 'guldmedalje', 'basketballtræneren', 'kvindesport', 'stjernetræner', 'kickbokser', 'mønsterangreb', 'europamester', 'skele', 'maratonløber', 'forsætte', 'skovlen', 'tribuner', 'fortidens', 'flyet', 'prioriterede', 'fodbold', 'klasserne', 'ringeste', 'risikere', 'fællesstart', 'verdensforbundet', 'forsømmer', 'mirakuløs', 'mente', 'kid', 'ishockeyturnering', 'ishockeystjernen', 'februar', 'sekser', 'traditionsrig', 'sikkerheden', 'dit', 'hovedrunden', 'hjerneskade', 'stafethold', 'volleykvinder', 'skiskydningskonkurrencer', 'forbrugsgrænse', 'ode', 'gentage', 'sprintkvalifikationen', 'flytteplaner', 'spring', 'minimum', 'anerkendelsen', 'teknologi', 'polens', 'entr', 'markeret', 'løberekord', 'sats', 'tillægstiden', 'dropper', 'grussæsonen', 'privat', 'ishockeyklubber', 'overvejede', 'dopingdata', 'opkaldet', 'cykelpris', 'tak', 'tilskuer', 'fængselsdom', 'lynhurtige', 'skrækstart', 'storfusion', 'fineste', 'redning', 'bruges', 'optages', 'golfhistorie', 'forskellene', 'kedeligt', 'piquet', 'indbringer', 'caster', 'kæmpehandel', 'dynamitpulje', 'lejeaftaler', 'lykken', 'håbefuld', 'følelsesmæssigt', 'hoved', 'ønsker', 'træffer', 'mareridtsstime', 'langstrakt', 'spøger', 'våbenlovgivning', 'håndboldbanen', 'koffein', 'koste', 'håndboldeksperter', 'nattens', 'gemmer', 'franchiserettigheder', 'trænerne', 'skakspiller', 'blande', 'forfalsket', 'kravebenet', 'løbestjerner', 'puljen', 'høst', 'orakler', 'drømmene', 'donation', 'pauseføring', 'klubs', 'jævn', 'fodboldverdenen', 'randen', 'sammenholdet', 'topnavn', 'gal', 'hans', 'bakgear', 'sprinter', 'badmintonspilleren', 'farligere', 'opgør', 'volleystjerne', 'bagfra', 'specielt', 'løsning', 'onsdagens', 'speedwayindsats', 'pinlig', 'favoritsejr', 'elsket', 'aggressivt', 'lækker', 'medaljeskamlen', 'skeer', 'turneringskampe', 'måtte', 'passer', 'dagligstue', 'generalsekretær', 'urokkelige', 'afsløring', 'protesten', 'borrelia', 'rygter', 'kram', 'socialdemokratiet', 'kræfter', 'livligt', 'volleyherrer', 'verdensrekordhop', 'henry', 'mandefaldet', 'kramme', 'pause', 'talenter', 'hævntørst', 'lokalrival', 'væksthormon', 'lignet', 'beskidt', 'stemt', 'hoveder', 'aften', 'høj', 'ældste', 'hjemlig', 'jublede', 'baglåret', 'vejning', 'jokede', 'dog', 'ugevis', 'afføde', 'spiller', 'medicin', 'lokale', 'veninder', 'griber', 'tyveri', 'triste', 'skandaleløb', 'ærgrede', 'bedømme', 'struben', 'vaccinen', 'turneringskamp', 'livsfarlig', 'rørende', 'bekendt', 'kig', 'prominent', 'kaosramt', 'jublet', 'forlod', 'racing', 'talentliste', 'hånende', 'knyttet', 'håndboldscene', 'land', 'håndboldlandsholdet', 'yngre', 'fremskredne', 'brien', 'vm', 'storm', 'chefen', 'vægtklasse', 'roede', 'patriots', 'højrebacken', 'afslører', 'lejet', 'drømmespring', 'grandprixsejr', 'mandlige', 'dækkende', 'kvalifinationen', 'ses', 'sportsgrenens', 'trofæhylde', 'prioriteter', 'deltaget', 'konsekvenser', 'klimavenlige', 'karrierestoppet', 'bundhold', 'marts', 'afsnit', 'erkende', 'omnium', 'træninger', 'færinger', 'mundvigen', 'statement', 'golfsamarbejde', 'fodboldforbundet', 'velkendte', 'seks', 'hænder', 'kæde', 'ekspertens', 'hvoraf', 'ryg', 'anerkendte', 'imod', 'pønsede', 'ånden', 'kommet', 'grov', 'luft', 'eksplodere', 'kontoret', 'coronaregler', 'playoffserien', 'sportsorganisation', 'krampeanfald', 'manipulerende', 'altoverskyggende', 'tørner', 'bjerringbro', 'dyrehaven', 'bronzevinderne', 'atletikdanskere', 'massekarantæner', 'atletikformand', 'slalomtriumf', 'gruble', 'genindføre', 'højdepunkt', 'indkalder', 'medicinering', 'drukket', 'håndbolduge', 'uspektakulære', 'tikæmper', 'investeringsselskab', 'svage', 'derudover', 'bare', 'beskyttes', 'finalesejren', 'endegyldig', 'langrendsøber', 'ladet', 'medaljevindere', 'intakt', 'krampe', 'sværvægterne', 'ligakonkurrent', 'fordelt', 'fanatiske', 'fastslår', 'prygelknabe', 'håbede', 'betød', 'arsenals', 'vokse', 'baglæns', 'recurvekvinder', 'kontroversielt', 'vejrudfordret', 'styrter', 'papir', 'indfriede', 'revanchelyst', 'assistlisten', 'leder', 'beviset', 'balanceproblemer', 'især', 'tilkæmper', 'elitedommerudvalget', 'udebane', 'forærer', 'trøjenummer', 'hæsblæsende', 'rekordmargin', 'fly', 'klemt', 'redningsprocent', 'kommentere', 'nødt', 'filippa', 'boksetalent', 'nede', 'varetægtsfængsling', 'badmintonduo', 'valfartet', 'blusse', 'eftertragtet', 'vendepunktet', 'syvmåls', 'varen', 'østrigske', 'tværtimod', 'hovedmål', 'banehalvdel', 'holder', 'knække', 'spændte', 'kickbokseren', 'gulddrenge', 'håndgemæng', 'ansøgningsprocessen', 'gik', 'sækken', 'vanlig', 'investere', 'fremhæves', 'topfodbold', 'udløse', 'cup', 'gennemført', 'mundlamme', 'frygtes', 'coronaisolation', 'bræk', 'forlig', 'besætningen', 'kæmpeklub', 'lørdags', 'koster', 'jernmand', 'indhente', 'genialitet', 'okay', 'selvsikker', 'nabobraget', 'hovednavne', 'landstræner', 'skabt', 'sørger', 'disket', 'strømmen', 'medlemstid', 'overraskelser', 'forventning', 'vanvid', 'heldigste', 'be', 'resultatet', 'betalt', 'tennisspiller', 'tøjet', 'slippe', 'radial', 'ryste', 'overhalinger', 'opgraderede', 'skete', 'showkampen', 'netop', 'hus', 'manager', 'super', 'risikerer', 'hals', 'nøgen', 'blodet', 'genetablere', 'vikarlandsholdet', 'atleten', 'kvindehåndbolds', 'hobby', 'hensynsløst', 'grønnere', 'nutidens', 'aftalen', 'trofæ', 'moster', 'selvfølge', 'karaktererne', 'pokalmesterskab', 'aflysninger', 'oplevede', 'krisepsykolog', 'vinderbåden', 'mareridtsdag', 'dopingbekæmperen', 'samme', 'semifinale', 'hælene', 'støder', 'fodboldredaktør', 'fod', 'dopingproblemer', 'banke', 'grundlagde', 'start', 'metode', 'bærer', 'farmand', 'håndboldslutrunde', 'søn', 'virksomheder', 'sænkes', 'overtrædelser', 'lykønske', 'dommerne', 'tættest', 'spille', 'partner', 'bogen', 'karriere', 'beskytter', 'kuperede', 'landsholdslæge', 'dødsangst', 'fanen', 'officielt', 'idrætspolitiker', 'fungerede', 'spolerer', 'trick', 'mentale', 'hjemmebanenederlag', 'tanke', 'golfsportens', 'oprejsning', 'konkurrenterne', 'dyreste', 'plat', 'imponere', 'paradedisciplin', 'udspiller', 'umulig', 'baggrund', 'opsætte', 'baglinjen', 'familien', 'eventyret', 'bekæmpe', 'fundamentet', 'damerne', 'historie', 'slikkede', 'kontinent', 'slædehoved', 'manifesterede', 'langdistanceløber', 'drømmenes', 'teorien', 'planerne', 'fusen', 'storstilet', 'hjørneflag', 'vores', 'faste', 'søren', 'frie', 'studie', 'sejlerlandsholdet', 'ungdomsturnering', 'forberedelser', 'agterud', 'målforsøg', 'gylden', 'tilsluttet', 'tidlige', 'udlejer', 'brok', 'dumt', 'udskudt', 'spillerlønninger', 'boykotte', 'opdatering', 'fortsat', 'indkasserer', 'nøjes', 'mørket', 'åben', 'dame', 'tand', 'hørte', 'sprintdistancer', 'depression', 'gjensidige', 'maven', 'parrets', 'stemme', 'misbrug', 'hestevæddeløbssporten', 'røbe', 'magt', 'vare', 'overvåget', 'overkvinde', 'præstere', 'enhver', 'bekymret', 'virusudbrud', 'samtlige', 'mareridtsdebut', 'udvikle', 'pandekager', 'euro', 'afbud', 'oprykkerhold', 'argumenterede', 'siden', 'rejsen', 'holm', 'trafikulykke', 'matchrace', 'kan', 'træners', 'forbehold', 'debutanten', 'semifinalemodstander', 'yards', 'bump', 'gad', 'bronzevinderen', 'bjørneunger', 'banemand', 'ketsjeren', 'sværere', 'genforenet', 'besejret', 'sydhavsøerne', 'forinden', 'postulater', 'efterspurgt', 'skulderskadet', 'officiel', 'atletikbosser', 'kvalifikationsgruppe', 'køreres', 'udebanesejr', 'ufarligt', 'kulminere', 'lukrative', 'edder', 'isolation', 'lede', 'singleeventyr', 'enkeltstart', 'målfarlig', 'forstod', 'topsport', 'håndbold', 'fjerde', 'overraskelsen', 'spillerunder', 'gift', 'nordamerikansk', 'handsker', 'ligakontoen', 'storform', 'investorer', 'forberedelse', 'aftentouren', 'erfaret', 'desperation', 'severinsen', 'lyder', 'mesterhold', 'strække', 'returopgøret', 'forrykt', 'udelukket', 'skrig', 'arbejder', 'greb', 'henrykt', 'retter', 'pille', 'stribe', 'knæ', 'tildelte', 'dopingfælden', 'alba', 'stigning', 'dyster', 'sporten', 'miljøet', 'klip', 'nabodyst', 'pausen', 'forbedre', 'tilhængere', 'brud', 'orienteringsløber', 'kasteren', 'veteran', 'juletid', 'speedwaydansker', 'atletikscene', 'ski', 'indleder', 'straffesparkskonkurrencen', 'telefonen', 'appelsag', 'bogey', 'udesejre', 'berøringsforbud', 'medaljekandidat', 'brillerer', 'personlige', 'hagles', 'overvandt', 'stryger', 'regelbrud', 'softball', 'boston', 'juridisk', 'idrætshistorie', 'beachvolley', 'hækkeløber', 'vi', 'gennembrud', 'varsler', 'stævne', 'lundgaard', 'nærheden', 'skriger', 'superstjernen', 'netter', 'lighter', 'straffeslagskonkurrencen', 'reducerer', 'min', 'periode', 'karrieredefinerende', 'matematisk', 'medaljesluger', 'maratonsejr', 'slagter', 'dagligt', 'lokket', 'musklerne', 'afløst', 'præsentationen', 'udråbt', 'medaljesejladsen', 'jet', 'bekymre', 'ægteskabet', 'foregået', 'letvægtsfirerens', 'lovede', 'revancheres', 'måneden', 'uvelkomment', 'lignende', 'karantænedom', 'udløbet', 'stolteste', 'munden', 'saltomortale', 'hvidts', 'lufthavn', 'boksen', 'pludselig', 'geniets', 'fane', 'herrerne', 'taktisk', 'investeringen', 'titlen', 'spænde', 'bueskytters', 'parat', 'vægtklasser', 'golftoppen', 'pokal', 'lortesæson', 'krævende', 'direktørstolen', 'måltrone', 'langrendshold', 'kritisereret', 'motorløbet', 'sjældne', 'dødsårsagen', 'syv', 'korrekte', 'baseballklubber', 'vaccinationsdokument', 'ishockey', 'handelsaftaler', 'mødte', 'had', 'lort', 'højdespringskonkurrence', 'ørkenen', 'datoen', 'landsholdsstreg', 'spiseforstyrrelser', 'græstæppe', 'lodtrækningsguderne', 'ungdomsklub', 'værdigt', 'forundret', 'ransager', 'historiebogen', 'svigt', 'tourspillet', 'overhale', 'husker', 'fiaskoen', 'dopingnævnet', 'stjerneangriberen', 'superligaens', 'baglokalet', 'overvejelsen', 'narkotikabrug', 'præmielisten', 'nordpå', 'opgav', 'tjek', 'konkurs', 'skøjteløbere', 'begivenhedsrige', 'pisseirriteret', 'semifinaleplads', 'koden', 'knuser', 'regelændring', 'ungdomsrækkerne', 'vigtige', 'rygraden', 'panel', 'sjettepladsen', 'skarpest', 'sky', 'opsamlingsheatet', 'smeltede', 'golfvogne', 'helst', 'omringet', 'afklapser', 'slåskamp', 'faretruende', 'tikket', 'svømmer', 'marginal', 'lind', 'kvalifikationsturneringer', 'fiasko', 'opleve', 'roret', 'bestået', 'nørresundby', 'landsholdsspillerne', 'blamagen', 'skuffe', 'distance', 'vurder', 'syn', 'grum', 'meldes', 'rugekasse', 'top', 'arvefjenden', 'rækker', 'fit', 'fri', 'sind', 'faldskærmsudspringer', 'forsvinde', 'risiko', 'millimeter', 'bolt', 'kvalifikationskampen', 'drømmer', 'rivalen', 'startopstillingen', 'balancen', 'anonym', 'vinterlege', 'pragtpræstationer', 'tomrum', 'skammekrogen', 'autosport', 'helbredet', 'godt', 'idolet', 'sparre', 'forrådte', 'snuppede', 'basketballforbund', 'nervøsitet', 'burde', 'landsholdslejr', 'vande', 'verdensklasse', 'sæsonafslutningen', 'begejstring', 'hjemmesiden', 'kodapenge', 'distancen', 'forundring', 'etapesejre', 'vigtigst', 'forestil', 'omkostningerne', 'kemien', 'solid', 'kamptrup', 'tidlig', 'tvillingerne', 'bettingfirma', 'cykelrytterne', 'fede', 'problemerne', 'politieskorte', 'ishockeykvinderne', 'modtog', 'samt', 'håndboldkamp', 'støj', 'vejr', 'asien', 'optakt', 'titelbrag', 'propfyldt', 'unik', 'erfarer', 'områder', 'hjælpeløse', 'baseballklubben', 'tusinde', 'service', 'bizart', 'jetoner', 'personligheder', 'bombede', 'serveregel', 'angivet', 'varmetæpper', 'julen', 'nævnt', 'ligesom', 'basketliga', 'arbejdsplads', 'babysitter', 'mor', 'langsommere', 'information', 'ansvaret', 'isolerer', 'bagkant', 'kompagni', 'superligaklubben', 'holdt', 'legendariske', 'teknikalitet', 'genstarten', 'afhjælper', 'fandeme', 'svømmeholdkap', 'guldkampen', 'helterolle', 'problemet', 'klimaindsats', 'problem', 'spår', 'bol', 'kiwi', 'tennisprofil', 'storspil', 'lukkedag', 'dumpet', 'sæsonåbning', 'stævner', 'æg', 'elleve', 'måneder', 'positivt', 'helbredsmæssige', 'absurd', 'løbsweekend', 'bullseye', 'elskerinde', 'langrendsløber', 'oplæg', 'europæer', 'kæder', 'basketlegende', 'tvivlsomme', 'tasterne', 'streamingplatform', 'problemfrie', 'normale', 'brændt', 'århundredets', 'koncert', 'grønblusede', 'sej', 'fugtige', 'diskoskasteren', 'efterårsfinale', 'landsholdsanføreren', 'usbeker', 'listen', 'dårligt', 'fordomme', 'forbereder', 'svømmeren', 'skudepisode', 'programmet', 'landsholdsfløj', 'lejren', 'fodboldboss', 'fx', 'målet', 'rædselsfuld', 'antal', 'præmien', 'karantænedage', 'tennisstjerner', 'række', 'gemme', 'mesterskaber', 'akkurat', 'basketinteresserede', 'fægter', 'udøverne', 'bådklassen', 'nationspladser', 'udråbes', 'fordelingen', 'flora', 'cykelløb', 'distancer', 'stjernens', 'brask', 'ovenfor', 'afsagde', 'storbyer', 'giftige', 'bedring', 'stjernenavne', 'le', 'enestående', 'hyrer', 'formået', 'utilgivelige', 'ånder', 'dommerpåsætning', 'kontroversielle', 'umulighed', 'jellingstenen', 'udstyr', 'luksusproblem', 'krog', 'viralt', 'konge', 'kollapset', 'udpegede', 'forperson', 'mærke', 'straffeslaget', 'skaderisiko', 'lukning', 'gennembruddet', 'cykelunion', 'overraskede', 'cannabis', 'dømme', 'rapper', 'statistikker', 'vakler', 'skalaen', 'sportsdomstols', 'rundbarberede', 'bonussekunder', 'umuligt', 'fornemste', 'etaperne', 'bronzemedaljen', 'stjal', 'team', 'taber', 'også', 'råde', 'afbuddet', 'angriber', 'kvæstelserne', 'røber', 'passeret', 'omdrejningspunktet', 'dufte', 'tåle', 'fodboldkvinders', 'avancerede', 'smide', 'håndboldslutspillet', 'tennistoppen', 'udbytte', 'comebackrygter', 'sejlunion', 'svømmebassinet', 'ledere', 'angrebsserie', 'superlativerne', 'kommune', 'bobslædekørere', 'individuelle', 'supersprinter', 'mandsopdækkes', 'latter', 'forudser', 'trøstede', 'ømtålelig', 'sæsonfinalerne', 'premieren', 'overmagt', 'pokaler', 'mistillid', 'entertainment', 'bundopgør', 'imellem', 'ansvar', 'åbningskampen', 'afklaring', 'målmaskine', 'førstekeeper', 'sunde', 'prøven', 'lårskadet', 'utroligt', 'håndboldklubben', 'fodboldbossens', 'forsvandt', 'publikummet', 'afbrydes', 'medaljetopscorer', 'hændelsen', 'tørre', 'smertefuld', 'eliteformand', 'ens', 'dedikerer', 'timerekordholder', 'åbningssejren', 'kandiderer', 'valsen', 'deler', 'sagde', 'sværter', 'kæmpenederlag', 'tester', 'udgave', 'frygtet', 'styrmand', 'ironman', 'fandt', 'afkortede', 'topfeltet', 'stenrig', 'medaljeoverrækkelser', 'skandalesag', 'has', 'rusland', 'seriøst', 'dressurrytteren', 'lønnedgang', 'underholdende', 'rummer', 'bringer', 'undervurderet', 'fratages', 'karrierens', 'udekamp', 'indskiftede', 'opløsningen', 'traditionsrigt', 'disciplinærudvalg', 'forsvarsspilleren', 'uges', 'eksklusiv', 'ideer', 'bortvist', 'med', 'evige', 'udsigt', 'hidtil', 'langtfra', 'frikender', 'arrangøren', 'langemanden', 'far', 'gruppekampe', 'ordene', 'recurvehold', 'ondt', 'opbakning', 'blåstemplet', 'hjelmen', 'vigtig', 'oprørt', 'golfbanen', 'forældre', 'springet', 'placerer', 'liter', 'superligatopscorer', 'snyde', 'skudt', 'golfprofil', 'præsenteret', 'pålægger', 'sænker', 'bevise', 'ligeså', 'komfortable', 'baseballs', 'savnet', 'bueskytter', 'erstatning', 'dyb', 'maratonprofil', 'tog', 'w', 'ledelsen', 'steppe', 'fodboldlandshold', 'trylle', 'baseballtræning', 'udgaven', 'løbestjerne', 'landsholdet', 'sportsblik', 'intet', 'ubestemt', 'sørget', 'skrinlagte', 'fifa', 'grave', 'foregående', 'laver', 'doublestjerne', 'skrabet', 'overværede', 'vreden', 'vide', 'storskuffede', 'sendte', 'håndboldrække', 'venskab', 'taktikbrættet', 'tilknyttet', 'farten', 'kiksede', 'nødsaget', 'minde', 'kærlighed', 'receiveren', 'arbejdere', 'skarpt', 'topatleter', 'hjemmebanedebut', 'gruppemodstander', 'sanktioneret', 'flyselskabet', 'firebakketurneringens', 'masseudsættelse', 'ændrede', 'bevarer', 'bolden', 'træt', 'finalebjerg', 'puste', 'arrangør', 'division', 'kritiserer', 'rivalopgør', 'ligakamp', 'freak', 'holdning', 'ulovligt', 'benytte', 'grand', 'håber', 'skulderklap', 'konkurrenternes', 'katamaran', 'krydse', 'andenpladsen', 'lander', 'udvisninger', 'forhåndsfavoritterne', 'holdånden', 'crazy', 'tå', 'spurtede', 'tæsk', 'økonomiudvalget', 'finde', 'terrænridt', 'stregspilleren', 'islæt', 'ulrik', 'vinterolympiske', 'hylet', 'målhumør', 'forholdet', 'deltagerne', 'brat', 'dommerkarrieren', 'spyd', 'skateboarding', 'hændelse', 'lussing', 'ebbe', 'reklame', 'rykket', 'revolutionen', 'enkelt', 'sigtede', 'stjæle', 'erkendt', 'kvindelandshold', 'startende', 'tennisboldene', 'mountainbikeryttere', 'priser', 'æble', 'arkivet', 'skæve', 'stormede', 'savner', 'kloaklugten', 'plastikposer', 'identitetskrise', 'banecykling', 'regerende', 'biles', 'etapevinderen', 'etiopier', 'manageren', 'forblev', 'fjernsyn', 'krise', 'lethed', 'forbliver', 'mundhugges', 'landstræder', 'cykelsportsprisen', 'øst', 'klasseforskel', 'kørers', 'højrebenet', 'publikumvenligt', 'håndboldkampe', 'generelt', 'sølvvinders', 'foretrukne', 'rivaler', 'nære', 'diskos', 'storkamp', 'stab', 'forestående', 'holdejer', 'bus', 'realitet', 'konsortium', 'begrundelsen', 'skreg', 'overskrævs', 'supplerer', 'tålmodigt', 'forsvarede', 'lyssky', 'tysse', 'fægtemedalje', 'ansættelsen', 'rart', 'guldvindere', 'medrivende', 'øvrige', 'modstanderen', 'atletikkens', 'racistiske', 'skidt', 'golftalent', 'herre', 'peptalk', 'stillingen', 'bagmanden', 'bogstaveligt', 'skarpe', 'høre', 'lægens', 'boksekampe', 'isoleret', 'fejlresultat', 'albuen', 'lagt', 'rude', 'forløsning', 'forgårs', 'parlamentet', 'pas', 'doublemakkere', 'aftaler', 'styre', 'langstrakte', 'finaledyst', 'finalesejladserne', 'ligadebut', 'snart', 'butler', 'volleyballspilleren', 'klassen', 'watt', 'genskabe', 'medaljevinder', 'ishockeyrække', 'bøllemetoder', 'øret', 'makkeren', 'skrammer', 'lavpunkt', 'elitedivisionen', 'flækkede', 'regulær', 'tvillinger', 'bageste', 'omgangskreds', 'knockoutede', 'dobbelttriumf', 'trænerens', 'trapperne', 'slag', 'gyseragtigt', 'skiskydningsekspert', 'harme', 'fremover', 'banet', 'afbrændere', 'selvsving', 'sympati', 'højde', 'sølle', 'udvandring', 'drøm', 'elendigt', 'henvendelse', 'skotlands', 'alkoholkontrol', 'speedwaylandshold', 'peger', 'skyer', 'undergå', 'løbeskoene', 'skid', 'videoen', 'hurtigskak', 'karl', 'stafetguld', 'singlerække', 'general', 'braget', 'sværeste', 'guldvinderne', 'bundesligaklubben', 'udenfor', 'vin', 'glemmebogen', 'ytringer', 'gode', 'skuffer', 'slalom', 'klaget', 'nordiske', 'tjene', 'sidst', 'fodbolduroligheder', 'overmand', 'marihuana', 'gulddrømme', 'pletskud', 'følt', 'snakkede', 'henter', 'udløber', 'schlierenzauer', 'gammeldags', 'syet', 'billardklæde', 'fremhævede', 'ubærlig', 'undgå', 'cykelløbet', 'klubben', 'topkørerne', 'fronter', 'paradekørsel', 'bolddreng', 'praktiske', 'fejlslagent', 'særklasse', 'flænge', 'bænkede', 'debutere', 'blodværdier', 'bæltet', 'storesøster', 'mindeværdige', 'nepotisme', 'majoren', 'powerplay', 'trækkes', 'kold', 'limer', 'ansatte', 'scoringsrekord', 'brødreduellen', 'fremtvang', 'kollision', 'overvejelser', 'bog', 'driver', 'puds', 'heppede', 'kæmpede', 'rekordmeget', 'vogte', 'kaste', 'majorfinale', 'lomme', 'kvindefelt', 'moderen', 'mediernes', 'spørger', 'monumenter', 'håndball', 'dopingprøver', 'semifinalerne', 'dommere', 'trusler', 'svigtet', 'kvalifikationsgruppen', 'trives', 'timevis', 'garvet', 'bredde', 'maskerede', 'klogere', 'finalemodstander', 'begyndelse', 'hjørne', 'storslået', 'underligt', 'cheftræner', 'udenlandske', 'plagede', 'boksekontrakt', 'raslede', 'sportspsykolog', 'ringen', 'vitale', 'spil', 'grinte', 'rask', 'øredøvende', 'smitteopsporing', 'pacemaker', 'piercing', 'sejlerhåb', 'paf', 'punkter', 'herresingle', 'bekostning', 'drømmeposition', 'sløjt', 'færdigspillet', 'weekends', 'usportsligt', 'jumbos', 'heats', 'spillertrøjer', 'præmieliste', 'slutte', 'racerkøren', 'målmandssituationen', 'budt', 'restitutionsplan', 'karate', 'sløret', 'hede', 'behandler', 'verden', 'indgiver', 'forklaring', 'basketstjerne', 'sadler', 'korsbåndsskade', 'rorsmand', 'kvalkamp', 'hjerneskadet', 'flyveturen', 'gangen', 'afbrudte', 'sprint', 'indgået', 'beskriver', 'iført', 'anføreren', 'løbsdirektør', 'forbandede', 'buhråbene', 'kunstskøjteløber', 'prikkede', 'foreslår', 'forståelse', 'ungdomslandsholdsspilleres', 'blokade', 'mantra', 'motorsportsdronning', 'ishockeyspilleren', 'indendørs', 'nemmere', 'opadgående', 'idrætter', 'eventuelle', 'knebent', 'eventuel', 'golfprofiler', 'medaljedrømme', 'efterforskning', 'genesis', 'skrive', 'tilbageholder', 'tennissporten', 'forfra', 'skindet', 'førsteplads', 'dårlige', 'kostet', 'tidernes', 'lønbetalinger', 'overtog', 'sommerland', 'inspireret', 'overvældet', 'vipper', 'mesterklub', 'salgspris', 'topbraget', 'skadens', 'december', 'milliardbeløb', 'ofrene', 'instagram', 'langdistance', 'deltagelse', 'afviste', 'motorsportsverdenen', 'storsatsende', 'nedsat', 'landsholdsperiode', 'komet', 'morgenfriske', 'ujævn', 'velkomst', 'drog', 'klubkoryfæ', 'fodboldkamp', 'arrangementet', 'ørnen', 'efterladt', 'opad', 'opvisninger', 'steder', 'brydes', 'rynke', 'søge', 'suspenderingen', 'købsprocessen', 'kriminel', 'dannebrogstrøjen', 'sløre', 'interviewområdet', 'fodboldlegenden', 'voldsomt', 'slutresultatet', 'forkerte', 'ambulancen', 'offentliggørelsen', 'kontakten', 'indløst', 'gerningsmanden', 'ulovlig', 'demonstrationer', 'forkælede', 'retfærdighed', 'formsvag', 'østrigeren', 'trek', 'landsholdsprofiler', 'afbryde', 'tilbyde', 'grimt', 'konstaterer', 'hovedkontoret', 'mestrene', 'hittingpartner', 'motor', 'overvæld', 'afsone', 'udraderede', 'modbevise', 'rører', 'lønloftet', 'hjertestoppet', 'landevejene', 'finalenederlag', 'nedlagde', 'hollænderen', 'indtog', 'rifler', 'fremgang', 'fodbolddommere', 'humor', 'agenter', 'flystyrt', 'højkant', 'sygemelding', 'ankesagen', 'superbakterie', 'dopinglisten', 'trænerstaben', 'overtiden', 'hær', 'vendt', 'opførte', 'gensynet', 'elitedommertræner', 'rekorder', 'styrtet', 'forsikret', 'duo', 'bueskydning', 'meters', 'garagen', 'vanlige', 'består', 'transferstrategi', 'racedebatten', 'sæde', 'fest', 'øjet', 'tingene', 'kredit', 'spærre', 'håndhæves', 'ulogisk', 'urørlige', 'underdogs', 'simpelthen', 'talsmand', 'kontraktens', 'rejse', 'volleytalent', 'dopingpræparater', 'sprudlede', 'jobbet', 'var', 'præsteret', 'minimeret', 'fem', 'gransket', 'galakse', 'rekordsko', 'anonymitet', 'heldet', 'protokollerne', 'pengesag', 'modbydeligt', 'scorede', 'eksperter', 'sindssyg', 'omveje', 'dødsfald', 'star', 'trodsede', 'kombinerede', 'baseballspillers', 'officer', 'ping', 'snævre', 'vågen', 'etapeløbet', 'motorcyklerne', 'mans', 'napper', 'jublen', 'overskygges', 'cheerleadere', 'rekordmesteren', 'antidopingmyndigheder', 'skipræsident', 'bane', 'naturligt', 'teori', 'undercover', 'medlemmerne', 'stjernespillere', 'omgående', 'passet', 'superstjernes', 'ekstraordinært', 'koncertbilletter', 'steg', 'spinkelt', 'poserede', 'rådet', 'hackergruppe', 'bronzeduel', 'psykiatrifonden', 'hævdet', 'fortegn', 'drønede', 'skater', 'nøddeskal', 'op', 'parter', 'mærkelig', 'hjemvendte', 'indskiftet', 'oplyst', 'topmotiveret', 'collegerække', 'midler', 'sidstepladsen', 'meterdistancen', 'ad', 'vinket', 'bygge', 'ild', 'krav', 'maratonrekorder', 'skiskytter', 'udskydelse', 'pande', 'sprænge', 'grubler', 'fucking', 'turner', 'omfanget', 'golftours', 'asfalt', 'tordner', 'truffet', 'bedrifter', 'revolutionerer', 'såkaldte', 'linjeløb', 'tilfældigt', 'overleve', 'taekwondokæmper', 'midterholdet', 'pige', 'på', 'tomålssejr', 'irriterende', 'herreklubber', 'alvor', 'superligabillet', 'basket', 'tal', 'fireårige', 'magiske', 'antallet', 'tidsfrist', 'omega', 'værdier', 'klokkeslættet', 'forarget', 'feber', 'minoritetsandel', 'gennem', 'mottoet', 'sejlertype', 'kokain', 'fagfolk', 'piller', 'punkterer', 'timingen', 'arbejdsindsats', 'kast', 'elimineringen', 'øjeblik', 'debuteret', 'ringe', 'dødsfaldet', 'slikke', 'velgørenhedskamp', 'facaden', 'pensionerer', 'indtager', 'karantæne', 'kimen', 'boksepromotoren', 'målscorende', 'cykelstjernen', 'tenniskanon', 'touchdown', 'kæphest', 'studiekammerater', 'kritiske', 'klubhusansatte', 'bjergtrøjen', 'idrætstoppen', 'choksejr', 'cologne', 'sølvfad', 'ydmygende', 'regelmæssigt', 'ekstratid', 'skamplet', 'taberhold', 'helsingborg', 'dartklub', 'måltavlen', 'geniale', 'satset', 'junior', 'obduktion', 'sundhed', 'støvler', 'sejrsrekorden', 'senest', 'afskrevet', 'genvinder', 'mareridt', 'skiskyttetræner', 'sæsonens', 'om', 'førstehjælp', 'blokerede', 'lydkulisse', 'nedslidt', 'bagspilleren', 'værdifulde', 'uoverskueligt', 'måttet', 'risikabel', 'kvalifikationskrav', 'kendskabet', 'blodpøl', 'alternativ', 'hvorvidt', 'målfest', 'midlertidig', 'kontrollere', 'ps', 'cykelverdenen', 'tilskuerne', 'roere', 'løn', 'længdespring', 'håndboldforbund', 'uset', 'forsøg', 'marginaler', 'reagerede', 'bo', 'sejlsportspræsident', 'brædderne', 'kuglestød', 'snuble', 'tiendepladsen', 'vådt', 'afviser', 'højreback', 'syvendepladsen', 'annoncerer', 'afværgede', 'skorter', 'lys', 'arsenal', 'sæson', 'færd', 'utraditionel', 'hæder', 'indtage', 'lovlig', 'tredobbelt', 'cykeltalenter', 'vinterlegene', 'dyreaktivist', 'mennesker', 'slide', 'udesejren', 'sidste', 'tilsted', 'stadion', 'fascination', 'leverede', 'banens', 'malm', 'flyrejse', 'slip', 'kvalificere', 'svinede', 'drille', 'boomer', 'underlaget', 'udbokser', 'ærgerligt', 'lovet', 'gennemgået', 'sande', 'landsholdspillere', 'medaljekampene', 'temporyttere', 'lobbyet', 'positivitet', 'haler', 'entusiasmen', 'bladet', 'angribe', 'banelandshold', 'sekund', 'damelandsholdet', 'stangdiscipliner', 'kvalifikationskamp', 'mageløse', 'grove', 'forberedt', 'interessen', 'finalesejlads', 'tromler', 'freestyle', 'grønlandsk', 'konkurrencerne', 'opvarmningsstævnet', 'nedsabler', 'basketstjernen', 'finaler', 'gruppens', 'marienlyst', 'nonbinære', 'løbsserien', 'primadonna', 'verdensrekordindehaver', 'jubelbrøl', 'dressur', 'løbe', 'succesrig', 'igangværende', 'fordømmer', 'beskrive', 'ydmygt', 'fremprovokerede', 'banken', 'lunt', 'boblerne', 'ryk', 'fyringen', 'knockoute', 'tvungen', 'ture', 'førstegangsberøring', 'rekruttere', 'ekstremt', 'svømmede', 'toerkajak', 'besøgte', 'slutspilsweekend', 'afhøring', 'bestemmer', 'målmandsposten', 'bytter', 'mindelser', 'skøjter', 'sitrer', 'brugt', 'mastodonter', 'føles', 'blevet', 'stemte', 'gut', 'indendørsverdensrekord', 'brager', 'besejre', 'nattefest', 'sheik', 'lejeaftale', 'formulering', 'karakterbogen', 'fuldende', 'angriberen', 'humpede', 'tydelig', 'gense', 'kreditten', 'disponeret', 'udspillet', 'kritisable', 'træder', 'dopingliste', 'behøver', 'tilbagelægge', 'spilledages', 'ventes', 'rigshospitalets', 'gentaget', 'dominansen', 'uklar', 'ridediscipliner', 'rivalerne', 'hul', 'stråler', 'spoleret', 'systemet', 'tegner', 'svageste', 'aflivet', 'grimme', 'signaturscoring', 'kilovægtklassen', 'jing', 'første', 'lund', 'sagsøge', 'bød', 'konkurrenter', 'multikulturelt', 'sejlunions', 'sparkede', 'guldvinderen', 'traf', 'dårligere', 'dobbeltjobbe', 'menu', 'betale', 'halvsæson', 'nordmænd', 'kys', 'tenniskarriere', 'knæk', 'grin', 'principiel', 'afgørelse', 'kirke', 'danmarksmesterskab', 'ægteskab', 'se', 'storebæltsbroen', 'uddeler', 'grænserne', 'kongeetapen', 'vigtigste', 'snakken', 'avancere', 'spillertunnelen', 'anbefalinger', 'karantænedømte', 'bænkplads', 'rettens', 'annullerer', 'gymnast', 'forlader', 'svinere', 'halvvejs', 'job', 'målfarlighed', 'oplevelse', 'begivenhed', 'kajakstjerne', 'breakbolde', 'pep', 'kommenterede', 'entusiastiske', 'pokalskabet', 'sparket', 'tildeling', 'stærkest', 'positive', 'nupper', 'indeværende', 'indført', 'lykkedes', 'slet', 'redet', 'erstatter', 'sammen', 'plane', 'langrendsdronning', 'foreløbig', 'vælter', 'håndboldherrer', 'radioen', 'shift', 'middag', 'hjertestarter', 'made', 'fejlaflevering', 'igennem', 'samlinger', 'tabellen', 'kyssesyge', 'sjettesidste', 'vanvittig', 'ishockeystjerne', 'kapsejlads', 'rullende', 'lineman', 'sydfransk', 'fund', 'anfald', 'dystede', 'veteranen', 'haltende', 'efterspil', 'medejer', 'titelchancer', 'trepointslinjen', 'velvære', 'smerterne', 'smilebåndet', 'lillesøster', 'udstukket', 'cirka', 'nøgleordet', 'listet', 'femteplads', 'lufthavnen', 'god', 'hakkede', 'under', 'forenes', 'eksponeret', 'blokerer', 'afbryder', 'firemandsbobslæde', 'dækvæg', 'udskudte', 'hovedperson', 'dametoer', 'rådhuspladsen', 'lup', 'efterlyse', 'baseballkamp', 'servicemand', 'maksimalt', 'disse', 'fortælling', 'udlandseventyr', 'masten', 'fravælger', 'succesbølge', 'cricket', 'skuldrene', 'afskedskampen', 'restituere', 'departement', 'windsurfere', 'ishockeyprofil', 'grint', 'virkede', 'stærke', 'efterlader', 'landsholdsfløjen', 'atter', 'sejlsportslegende', 'coronavirus', 'overståede', 'eksempel', 'medlemslandene', 'kvindehold', 'springe', 'undertippede', 'råb', 'forfærdeligt', 'stedsans', 'hårdere', 'cruiser', 'flov', 'x', 'smilet', 'serveesser', 'blandt', 'dopingkontrollen', 'allersværest', 'højdepunkter', 'forklaringen', 'kontinentalhold', 'fodboldopdragelse', 'ytre', 'sejlende', 'nedkørsel', 'ishockeyeksperter', 'udfordre', 'markerer', 'inde', 'numsen', 'svare', 'dressurstjerne', 'overhaling', 'lyn', 'tilbud', 'rakte', 'kvalifikationskampagne', 'sauna', 'genoptages', 'seniorspiller', 'drømmestart', 'fungerer', 'curlingmænd', 'farligt', 'dette', 'trit', 'drømte', 'sænkede', 'kønskampen', 'nægter', 'værtsskabet', 'symbolik', 'almen', 'masseslagsmål', 'hjørnesten', 'straffekastmål', 'stortalentet', 'sur', 'slutspilsserien', 'hr', 'bk', 'liste', 'overkommelig', 'bjergløb', 'grundlægger', 'behandling', 'temperament', 'hu', 'omspillet', 'golf', 'stenløse', 'udløser', 'håndteringen', 'æde', 'datteren', 'baseballliga', 'området', 'len', 'værdige', 'åbenbaring', 'syvende', 'ridning', 'holdløbet', 'trespringer', 'profilerne', 'samvittighed', 'hamle', 'pointlighed', 'kronet', 'overtrædelse', 'politikritisk', 'svaghed', 'ros', 'verdensettere', 'kækt', 'kyssesag', 'opdragelse', 'smalt', 'steroider', 'børnecykel', 'steps', 'besatte', 'angiveligt', 'hemmelige', 'legestue', 'pointerer', 'vågnede', 'ols', 'balle', 'atletikhold', 'pensionerede', 'verdensdominans', 'diplomatisk', 'hvornår', 'diskvalifikation', 'klaret', 'glimt', 'standard', 'bestredet', 'indset', 'rykke', 'overvejelse', 'dopingforseelser', 'lyndebut', 'verdensrekordholderen', 'driller', 'konkurrenceniveau', 'fraværet', 'slette', 'epicenter', 'klassiske', 'servicebilen', 'dominerer', 'fløjtet', 'nødvendigt', 'boksetræningen', 'knæet', 'landsholdsfarvel', 'ingebrigtsens', 'reagerer', 'forsinket', 'emiren', 'dingle', 'normalt', 'flerårig', 'dirigent', 'finalepladsen', 'anklagemyndighed', 'kniber', 'begrænser', 'cykling', 'dygtigste', 'milliardaftale', 'sejlsportsduoer', 'bjorkstrands', 'delte', 'uspecificeret', 'benyttet', 'giver', 'hovedrolle', 'cykeluheld', 'køen', 'havnet', 'barnedrømmen', 'næstformand', 'trofæet', 'påtage', 'volleyguldet', 'målmænds', 'uafklaret', 'forventede', 'takke', 'skjulte', 'du', 'dreng', 'antidopingchef', 'medhold', 'fedtefadet', 'tourkortet', 'virus', 'effektfulde', 'forenede', 'bruddet', 'jægersoldat', 'pil', 'selvmål', 'spredte', 'miste', 'midtugen', 'tilføjes', 'koldere', 'frifindelse', 'glade', 'indespærret', 'ønskestart', 'bortforklaring', 'indianer', 'turneringssejr', 'ki', 'kulsort', 'straffeslag', 'genindsættelse', 'bukserne', 'bloddråber', 'kontrakt', 'gipsen', 'berygtet', 'talte', 'dynamit', 'trend', 'mirakler', 'skanninger', 'skjule', 'sportens', 'hype', 'juleferie', 'signal', 'årlig', 'eksekutivkomit', 'kong', 'storspillet', 'hormonmedicin', 'lokker', 'murens', 'kilo', 'n', 'besejres', 'kønshormoner', 'afhoppet', 'hyldes', 'rotte', 'pleje', 'stønne', 'ugelangt', 'bettingsag', 'mistænkeligt', 'ledige', 'ensidig', 'walisiske', 'skjul', 'rette', 'kronprinsen', 'advaret', 'nets', 'finalenederlaget', 'næseblod', 'revanchetid', 'leger', 'skistjernen', 'overfusede', 'udeladt', 'medalrace', 'spillersalg', 'ryddet', 'atletikudøveres', 'succestræner', 'tilbageholdelse', 'navnet', 'sværvægtsbrag', 'scenerne', 'sparker', 'forhindringsløberen', 'betyder', 'fjerdeplads', 'fridykker', 'oppustelige', 'kommentatorer', 'udtaget', 'dumper', 'proppet', 'sydamerikansk', 'principbeslutning', 'timers', 'indrømmede', 'baseballtitel', 'affødt', 'tenniskampen', 'bundkamp', 'opdagelse', 'klamme', 'kørende', 'postede', 'landsholdstermin', 'bestiges', 'dygtig', 'hente', 'langt', 'sportschefen', 'usympatisk', 'afholdt', 'sælge', 'sikret', 'sætter', 'overbevisning', 'forklarer', 'blæsevejr', 'døren', 'latterliggjort', 'løbsingeniør', 'definere', 'afvisning', 'gæt', 'nethinden', 'medaljerne', 'lørdag', 'særsyn', 'ligegyldige', 'hårdt', 'podiet', 'klubkarriere', 'stjernernes', 'bebrejde', 'aktioner', 'vanskeligere', 'sundhedspersonale', 'finaleklar', 'bronzemedaljer', 'landstrænerens', 'koncentreret', 'basejumper', 'anket', 'albue', 'bob', 'åd', 'uddø', 'mæssigt', 'udesejr', 'orienterings', 'særpræget', 'bokseeksperten', 'nedbrud', 'sportsdomstolen', 'bokset', 'ned', 'ligetil', 'inkluderende', 'kvinderækkerne', 'gerne', 'vokseværk', 'perfekt', 'forløbet', 'cheftrænersædet', 'sammenlignede', 'kritikerne', 'ubeskrivelig', 'ishockeytrio', 'klubhold', 'snefald', 'bokseforbund', 'punktum', 'huggede', 'verdensomspændende', 'komplette', 's', 'propagandamaskine', 'udbryderturneringen', 'glæde', 'curlingkampen', 'gravel', 'illoyalt', 'overskygget', 'udenrigsministerium', 'nord', 'skuddrama', 'næstsidste', 'begraver', 'ueffen', 'ærgerlig', 'som', 'hård', 'kongens', 'karakterer', 'fodboldeventyr', 'vej', 'ophold', 'snyd', 'fodboldkvindernes', 'bedste', 'bugt', 'stegen', 'byde', 'heksekedel', 'verdensranglister', 'tape', 'badmintonstjerner', 'minutterne', 'kamptruppen', 'motivationen', 'tidspres', 'sporting', 'topscorerlisten', 'baseballspiller', 'kasse', 'pulveriserer', 'skærpe', 'ishockeyforbunds', 'pisset', 'curling', 'hiv', 'supercomeback', 'ude', 'grundformen', 'beløb', 'tonser', 'fremstød', 'volleylandsholdets', 'skred', 'brødrene', 'håndbolds', 'butikken', 'håndboldherrernes', 'understregede', 'fortsatte', 'cykelforbund', 'deltagelsen', 'udvalgte', 'tvinge', 'omkørsel', 'bødker', 'ordstrid', 'volleyballs', 'heltemodtagelse', 'timeout', 'leverer', 'landene', 'mellemrunde', 'beskidte', 'spået', 'skruppelløs', 'fint', 'opkalder', 'fyrtårn', 'stor', 'afleveringer', 'slidt', 'implicerede', 'dødshjælp', 'yderpositioner', 'indlemmelsen', 'stregen', 'religiøse', 'målrettet', 'klubber', 'vindertiden', 'golfturnering', 'reaktioner', 'verdensmesteren', 'tjent', 'gled', 'mangedobbelte', 'håndboldkampen', 'brølede', 'indstille', 'lastbil', 'ægte', 'kvartfinaleklar', 'store', 'pokalkamp', 'kilde', 'pyroteknik', 'posen', 'erklærer', 'desuden', 'infights', 'ikon', 'hævner', 'fyring', 'håb', 'futtoget', 'al', 'badebilletter', 'inklusion', 'veltrænet', 'akillessenen', 'deltageren', 'teenager', 'pif', 'ryttere', 'takker', 'ishockeyturneringen', 'storaktionær', 'cykler', 'kunstskøjteløb', 'elimineret', 'saksespark', 'delegation', 'bestikkelse', 'dræbte', 'forvandlet', 'anklaget', 'finaleserien', 'stages', 'smædesang', 'dyreliv', 'måneds', 'kongekontrakt', 'indhop', 'sprintdisciplin', 'dopingmistænkt', 'forundrer', 'ord', 'globale', 'guldhelt', 'superfusion', 'hundrededel', 'slipper', 'fuckede', 'forandrer', 'hidkaldt', 'behagede', 'slutspilsnederlag', 'udfordringer', 'fjerdepladsen', 'diskvalificeringen', 'knockouter', 'relevant', 'ellers', 'knockouts', 'ganske', 'fornyet', 'samfundsopfattelsen', 'fokuserer', 'halvmarathon', 'regnfuld', 'bandlyse', 'eller', 'tops', 'angrebsivrige', 'sidevind', 'lotteriet', 'drilsk', 'stjerneangriber', 'livs', 'topplaceringer', 'forlangte', 'badmintonlandshold', 'guld', 'ishockeystormagten', 'hørebøffer', 'meterfinalen', 'skærer', 'ishockeyligaen', 'dæk', 'frit', 'motorcykler', 'klarlagt', 'typer', 'træningsbanen', 'mediet', 'langsom', 'judokæmperen', 'gerningsmænd', 'mesterskabskamp', 'selvom', 'åbenhjertig', 'glipper', 'omhandler', 'synet', 'fået', 'kvalifikationsrunde', 'konkurrence', 'slå', 'problemfrit', 'årti', 'pointsejr', 'kamptidspunkt', 'cross', 'sejrrigt', 'farligste', 'slås', 'viceverdensmestrene', 'fyres', 'sublim', 'hjembyen', 'opfyldt', 'tide', 'sprinterne', 'rekordscoring', 'halvandet', 'faktisk', 'skåne', 'udvikling', 'konsekvenserne', 'retur', 'fuldbyrdede', 'udsætter', 'kvindefodbold', 'åbnet', 'erobre', 'færdige', 'beviste', 'speedwayhistorie', 'løbende', 'lyseblå', 'klagesagen', 'nytte', 'dumpekarakterer', 'faren', 'skandalekamp', 'råber', 'revet', 'sværvægtsverdensmester', 'herlig', 'betegnes', 'triatlon', 'genovervejer', 'konsekvens', 'bokseveteran', 'taskerne', 'afsked', 'struktureret', 'klassiker', 'værd', 'brugte', 'billet', 'kakao', 'åbner', 'højdespringer', 'passe', 'teakwondo', 'dråben', 'teenagefænomenet', 'atletiklegenden', 'oddsene', 'badmintonstjerne', 'sprintpremiere', 'chargers', 'assister', 'sving', 'tiltalende', 'skyldes', 'officials', 'kvalifikationens', 'antidopingreglerne', 'gardering', 'boksedarling', 'forstærkninger', 'ultimative', 'deltagere', 'altid', 'spillerens', 'findes', 'giro', 'vasket', 'begravelse', 'her', 'ydmyger', 'bestyrelsen', 'modspil', 'basketballherrer', 'ambassadørskab', 'sværvægtsbokserne', 'dommeren', 'lykønskning', 'regn', 'surt', 'svimlende', 'pilen', 'kongeklassen', 'bevidstløs', 'fodboldtrøje', 'sejlere', 'kontrafasen', 'flået', 'politiet', 'fart', 'autokrati', 'usandsynlige', 'lægetjek', 'kritiseret', 'solens', 'snublende', 'varmede', 'intermarch', 'magtesløs', 'back', 'bulldogs', 'finalebillet', 'blive', 'derbyet', 'regi', 'udmattet', 'bravur', 'massestart', 'mennesketomt', 'bevidste', 'stream', 'familiens', 'uundværlig', 'finaledrømmen', 'reklameindtægter', 'dets', 'rammes', 'kr', 'lysner', 'grandprixer', 'skøjteatlet', 'sammenligning', 'tolv', 'uenigheden', 'slalomekspert', 'munk', 'ødelægge', 'rotere', 'nået', 'belønnet', 'eliteatlet', 'landsholdsspillere', 'klager', 'elektrisk', 'velbegrundet', 'klubkamp', 'skiskydningskonkurrence', 'løsesum', 'kamppause', 'hækkene', 'nationens', 'mistede', 'ærgrelse', 'bør', 'udløb', 'lurer', 'placeringer', 'afdøde', 'kok', 'per', 'passere', 'badmintonspillere', 'handler', 'omstridt', 'begik', 'forhandles', 'lægestab', 'forkortedes', 'lodtrækning', 'vital', 'ulig', 'pakke', 'semifinalen', 'facon', 'massevis', 'utraditionelt', 'internt', 'gader', 'sagen', 'jagtstarten', 'hvil', 'timersløbet', 'arrangere', 'cementerede', 'kritikken', 'vinternation', 'finalejagt', 'udelukkes', 'omdøbt', 'blods', 'efterfølger', 'drop', 'orienteringsløbere', 'turdet', 'tilfredsstillende', 'oprykkerne', 'langskudsdrøn', 'sejlerkvinder', 'førstevalg', 'frisag', 'rekordflok', 'kæmpe', 'østeuropæere', 'omgangstid', 'underlægningsmusik', 'kritik', 'udbredt', 'brøler', 'såkaldt', 'tophesten', 'livebloggen', 'indehaveren', 'diset', 'basketstjernes', 'glider', 'ishockeyherrerne', 'golfhelt', 'dokumentar', 'trøje', 'bølgede', 'titler', 'eliteorganisationen', 'svaret', 'emotionel', 'fornem', 'kæresten', 'velorganiseret', 'letterne', 'udtagelsesstævne', 'as', 'sikkert', 'boksefans', 'taler', 'arild', 'den', 'spydkaster', 'volleyballherrer', 'saftsuseme', 'sårbar', 'atletikverdenen', 'gear', 'ambitionerne', 'klimaks', 'fodboldnation', 'kritiserede', 'hævder', 'barren', 'bundklub', 'naturstridig', 'uregerlige', 'indvejning', 'ungdomsårene', 'judokæmpere', 'deltage', 'badmintonnationer', 'herrelandshold', 'kaktusser', 'forberedelsesperiode', 'foruroligende', 'gamerlegions', 'håndboldsæsonen', 'ukendt', 'meddelt', 'flader', 'kapgænger', 'cykelskifte', 'godkendes', 'tacklede', 'indtryk', 'hockey', 'nordirske', 'stået', 'bemærket', 'umiddelbart', 'barn', 'selskab', 'triumf', 'mandagens', 'statsborgere', 'opjusteret', 'atletikstævne', 'landstræners', 'iltmaske', 'tredjedel', 'fløjt', 'opklaret', 'antidopingenhed', 'fornøjelse', 'hjemby', 'specielle', 'henholdsvis', 'herreskytte', 'opkaldes', 'studerende', 'maden', 'støtter', 'herreløber', 'opnåede', 'fundamentalt', 'ishockeykamp', 'mindst', 'tidsbrøler', 'sværvægtere', 'sørgede', 'træg', 'sherif', 'gribe', 'håndboldstjerne', 'vinke', 'erstattede', 'hårdfør', 'gyldne', 'flip', 'skyder', 'idrætstop', 'fordums', 'folde', 'konspirationer', 'indledte', 'alligevel', 'mellemrundegruppen', 'sjælden', 'imødesete', 'følgebil', 'pivkoldt', 'sygeste', 'topsprinter', 'fuldstændigt', 'næste', 'lukkethedskultur', 'læger', 'forudsagt', 'dommerlinje', 'inviterer', 'atletikguru', 'tøj', 'racer', 'planken', 'spillerundes', 'tegne', 'frygtløst', 'sølvmedaljer', 'sig', 'bokselegende', 'curlingherrerne', 'forhåbentligt', 'skiflyvning', 'mændenes', 'hollændere', 'curlingspiller', 'modstand', 'genoptage', 'farlig', 'træningen', 'sand', 'luftede', 'inspicerer', 'overblikket', 'skandinavisk', 'arrangerer', 'karateatlet', 'udspil', 'uundgåelig', 'søvn', 'brænder', 'beæret', 'rekordhøje', 'skabe', 'skeptisk', 'usikre', 'talisman', 'djævle', 'superligaklub', 'vinger', 'mave', 'bevist', 'fortæller', 'sports', 'vort', 'network', 'pligtsejrer', 'ravage', 'galt', 'antidopingarbejdet', 'go', 'brasiliens', 'overfuset', 'skændes', 'bønfalder', 'hemmelighed', 'enkelte', 'sportsligt', 'sendeplan', 'kongeklasse', 'sprintstafetten', 'ungdomshold', 'step', 'fænomenet', 'herresinglescullerklassen', 'sværvægtsbokser', 'tisser', 'synderligt', 'tilføjet', 'fulgte', 'kvindedomineret', 'landede', 'g', 'gentagende', 'tennisekspert', 'lotteri', 'ageren', 'fredsskabende', 'billederne', 'starthullerne', 'videre', 'økonomi', 'beskylder', 'skeetskytten', 'overtid', 'heste', 'modspiller', 'timerne', 'barker', 'premiererunde', 'sportsredaktør', 'takkede', 'bagslag', 'beskadiget', 'nærmere', 'oprindeligt', 'venter', 'linden', 'forslået', 'billigt', 'nyindkøb', 'rødbedefarvet', 'dollar', 'hev', 'drosler', 'sort', 'skytterne', 'debutkamp', 'trænernes', 'ny', 'huller', 'målmand', 'diktaturstat', 'udgifter', 'forvente', 'paraatlet', 'premierekamp', 'spændt', 'gymnastikfænomen', 'internationalt', 'curlingturnering', 'spekuleres', 'bokseforbundet', 'undlod', 'prikken', 'udlændinge', 'advares', 'deadline', 'repræsenteret', 'gengæld', 'magtfuld', 'realiteten', 'bronzevinder', 'forum', 'annonceret', 'niveauet', 'snittede', 'voksen', 'grunde', 'tænke', 'naboklub', 'pletter', 'remis', 'princippet', 'fløjspiller', 'skubberi', 'reklameplads', 'utilgiveligt', 'boost', 'toer', 'påvirke', 'atletikmedalje', 'jetlag', 'lotto', 'boksepromotor', 'underlagt', 'idrætsforsker', 'stuer', 'arne', 'indianeren', 'trylledrik', 'åbnes', 'træningsuheld', 'løbesportens', 'summer', 'præsident', 'nedadgående', 'landsholdslejren', 'målformen', 'palle', 'panden', 'uskreven', 'børnene', 'årsager', 'komplimenter', 'reservekører', 'blusset', 'skålede', 'finesser', 'monster', 'hurtigste', 'genkalde', 'spyttet', 'bakket', 'lettede', 'sikrede', 'stiller', 'da', 'opfordrer', 'tvangsmedicinering', 'gades', 'forsvind', 'besørge', 'folkelige', 'roen', 'fravalgt', 'hvert', 'flød', 'overlegent', 'meldte', 'folkeaktier', 'besøgende', 'udvisningsminutter', 'anonymt', 'afstande', 'atmosfære', 'ligeglad', 'alpinhistorie', 'hjemmesejr', 'bizarre', 'golfverdenen', 'udvisning', 'modsætning', 'jens', 'atletikstjernen', 'håndboldfans', 'klog', 'lad', 'håndboldherrerne', 'skiderikker', 'ventetiden', 'formanden', 'supertalent', 'fodboldspilleren', 'bådene', 'affære', 'beachvolly', 'stanger', 'syvdobbelte', 'passede', 'invitational', 'intakte', 'topklassen', 'våben', 'ignorerede', 'slider', 'bokselegenden', 'kujonagtige', 'stolte', 'typen', 'herrelandsholdet', 'rapport', 'uafgjort', 'test', 'regnvåd', 'tættere', 'forventelige', 'kelvin', 'golftriumf', 'timeglasset', 'vintersportsudøver', 'badmintonturneringer', 'volleyballspiller', 'singlespillere', 'scoringerne', 'ikoner', 'hjemmeholdets', 'no', 'makkerskab', 'sælger', 'slutspilskampe', 'pinden', 'maraton', 'smag', 'sønners', 'behold', 'ambitionen', 'tykkelse', 'forhindring', 'koreansk', 'midtuge', 'vinden', 'udsigten', 'dykket', 'fratog', 'keepervalg', 'formidabel', 'millionhandel', 'voldeligt', 'drømmekasse', 'forbløffer', 'præmiepuljen', 'forbedring', 'boksemøde', 'fremragende', 'hvorefter', 'kulisse', 'whistleblower', 'analysen', 'bing', 'intense', 'keeperen', 'eid', 'imponeret', 'kanal', 'gensyn', 'voldtægt', 'næser', 'dobbeltbogeys', 'batalje', 'dyre', 'kvalificerer', 'amatør', 'mængder', 'sygdommen', 'fed', 'tennisturnering', 'respektløse', 'hotel', 'smittefare', 'svigende', 'regnvejret', 'stemmer', 'skattesvindel', 'langvarig', 'regnfyldt', 'hjalp', 'forhistorie', 'håndboldchef', 'opfordre', 'vinter', 'fodboldspiller', 'afhænger', 'rettighederne', 'fans', 'overskrifterne', 'klubturnering', 'spilde', 'stjernebokser', 'heltinde', 'prisen', 'racerkører', 'glat', 'familiefest', 'hashtagget', 'cementere', 'startplaceringer', 'spillertrøje', 'boksepræsident', 'legender', 'resterer', 'misse', 'elsker', 'profilen', 'efterfølgeren', 'forberede', 'tennislandshold', 'tomme', 'regnskabet', 'dal', 'finder', 'overtalsspillet', 'stangspring', 'allerede', 'hæderligt', 'parallel', 'øje', 'nedkørslen', 'supermellemvægt', 'fremlægges', 'dummede', 'otter', 'hendes', 'bolts', 'ledig', 'sejlsport', 'senator', 'planen', 'turneringsprogram', 'tiden', 'imponerer', 'stjernemålmand', 'blodpropper', 'chokerende', 'håndboldstreg', 'truslerne', 'modsatte', 'green', 'gaderne', 'episk', 'pokalen', 'stop', 'shitstorm', 'buster', 'venstrehånd', 'parkeringsplads', 'hiver', 'flåede', 'surrealistisk', 'bådklasserne', 'finalestik', 'forkølelse', 'tæv', 'mundbind', 'nedtrykt', 'flotte', 'camps', 'fromme', 'finaleplads', 'sprang', 'speciallavede', 'synd', 'rettede', 'iscenesætte', 'atypisk', 'verdensetterne', 'nettede', 'minderne', 'spilletid', 'bøddel', 'idol', 'auktion', 'sensationen', 'racekampen', 'råds', 'komiske', 'afstand', 'eg', 'hjemme', 'pit', 'berørte', 'forstærket', 'erhvervelsen', 'præmiehylden', 'slidte', 'kongres', 'skrev', 'bjergslag', 'fodboldbane', 'rekordsalg', 'nøglerne', 'længsel', 'betydningsfulde', 'krammeregler', 'krydderi', 'favoritdistance', 'udslagsgivende', 'tude', 'maskinen', 'simpel', 'sejlerens', 'ultimate', 'overværet', 'fodboldliv', 'klare', 'kombinere', 'trin', 'ankomsten', 'tørne', 'skævt', 'vellidt', 'død', 'udlånte', 'sigende', 'feltets', 'omkom', 'bjerget', 'tekniske', 'aldersgrænse', 'sulten', 'prestigefyldt', 'tidens', 'masseslagtning', 'anholdt', 'rummet', 'langemænd', 'slutminutterne', 'æggehvider', 'nervøse', 'sportsmand', 'invitation', 'generobrer', 'vikings', 'skæmmet', 'titelforsvaret', 'tandsæt', 'ambulance', 'basketpokaler', 'flotteste', 'hjertestop', 'kåbe', 'yderligere', 'sad', 'teses', 'århusianske', 'holdforfølgelsesløb', 'tyve', 'bevarede', 'lørdagens', 'fjernsynet', 'mulige', 'hviler', 'kvit', 'seedede', 'splittet', 'ungt', 'præstationsangsten', 'pucken', 'defensiven', 'kameramotorcykel', 'eksponent', 'landsholdsanfører', 'højdespringsreserve', 'transfers', 'røvfuld', 'stoppede', 'chikane', 'ham', 'trak', 'usympatiske', 'tredje', 'langrendslandshold', 'millionsejr', 'afblæst', 'udgangspunkter', 'rejses', 'nyde', 'fadæse', 'voldt', 'øverst', 'bettingregler', 'overgangen', 'gruset', 'basketballhold', 'kortvarig', 'udvandret', 'indkasseret', 'overtidsdrama', 'følte', 'dåner', 'bordtennisspiller', 'smittede', 'tvivlet', 'bilbomber', 'samlet', 'fordel', 'hjerter', 'selvtillids', 'indendørssæsonen', 'traditionsklub', 'vicemestre', 'stjernestatus', 'pauvre', 'holds', 'sagsøger', 'playoff', 'næse', 'tumultariske', 'klinger', 'medaljehåbet', 'røntgenundersøgelse', 'stolpe', 'rutinerede', 'forsikring', 'længere', 'divisionsrivalen', 'dommen', 'motionister', 'ferieby', 'strikse', 'udelukkelse', 'engang', 'personerne', 'præsidenten', 'topniveau', 'flaske', 'bænk', 'fænomenal', 'sprintformatet', 'ekstrem', 'sager', 'flag', 'afbrudt', 'hækkeløb', 'takter', 'version', 'letteste', 'figur', 'kvalifikationerne', 'væsentlig', 'bevæger', 'ion', 'ihjel', 'holdbussen', 'holdsport', 'bæltesamlingen', 'konflikt', 'spydighederne', 'juniorverdensmester', 'blåstempler', 'løber', 'førerholdet', 'utrolig', 'knib', 'ketsjer', 'indtil', 'græder', 'uvis', 'højt', 'sejlads', 'opstigning', 'knap', 'ørkenhimmel', 'promovere', 'millionbøder', 'vægttab', 'sejler', 'klimaforkæmperen', 'bitter', 'evigt', 'truende', 'flyttes', 'fælde', 'boksetræner', 'maratonstjernen', 'ferie', 'weltervægt', 'transkvinde', 'supertanker', 'ledbåndsskade', 'superhjælper', 'viborgenserne', 'kontraspil', 'mandskaber', 'påpeger', 'kommenterer', 'golfresultat', 'runde', 'skuffelsen', 'forsvarsspiller', 'stormer', 'hilses', 'supersprinteren', 'begivenhedsrigt', 'bank', 'speedwayfinale', 'finaledag', 'uvejr', 'fattig', 'vinderkurs', 'tryllet', 'bøder', 'blikkenslager', 'virkning', 'fejet', 'rumvæsenet', 'medaljebejlerne', 'dialogen', 'forsikringsbøvl', 'vammelt', 'besvær', 'ishockeyspiller', 'formår', 'udnævnt', 'scener', 'slugeren', 'omfang', 'millionbøde', 'heller', 'symptomer', 'dagen', 'opsat', 'riflen', 'anede', 'wildcards', 'klubfodbold', 'balladen', 'returkampen', 'oplevelsen', 'fodboldspillerne', 'topscorers', 'æra', 'cifrene', 'forlanger', 'tillægsminutter', 'skader', 'udtalt', 'ishockeyholdet', 'påtaget', 'massespurt', 'lærepenge', 'indehaver', 'ragnarok', 'topklasse', 'biologiske', 'gas', 'midtbanetalentet', 'spilleres', 'pokalexit', 'golfklubberne', 'landsrets', 'toprival', 'irriteret', 'ydmyge', 'totimersgrænsen', 'trænerteamet', 'målkonger', 'by', 'vredesudbrud', 'utilfredshed', 'mørk', 'fyrer', 'regnskab', 'europamestertitel', 'fodboldstjerne', 'grønt', 'eliteansvarlig', 'terrororganisationen', 'præcision', 'ene', 'iskolde', 'kvartfinaleplads', 'succesfulde', 'skandaløs', 'vænnet', 'generelle', 'sige', 'europamesterskaberne', 'flade', 'antiklimaks', 'lukket', 'stemmen', 'ordet', 'sportshold', 'overhoved', 'fløjet', 'vægtløfter', 'finnjollen', 'hadefulde', 'frygt', 'udviske', 'arbejdede', 'vesten', 'forfalskede', 'diskede', 'pligtsejr', 'favorit', 'når', 'mand', 'speedwaycykel', 'charter', 'forbud', 'forventes', 'halvmaraton', 'gruelig', 'slutspurt', 'forvejen', 'rent', 'stolt', 'udholde', 'vanskelig', 'hornets', 'landets', 'weekenden', 'lytte', 'skytteklub', 'firemålssejr', 'ragede', 'lynskak', 'offentligt', 'værste', 'kriser', 'ik', 'overskrifter', 'mesterskabet', 'højdespring', 'rystede', 'tilskuerjubel', 'storslalomkonkurrence', 'stof', 'restriktioner', 'rekordkamp', 'fællesbillede', 'besvarede', 'prins', 'baseballhold', 'fan', 'gravid', 'klassementets', 'kåre', 'gang', 'psykose', 'projektet', 'forgængeren', 'kørte', 'minutters', 'fægtesport', 'ubegrænset', 'kamikaze', 'uppercut', 'uoverskuelig', 'musik', 'mixdoublen', 'rosende', 'dart', 'skimte', 'bygges', 'fjerdebedste', 'unit', 'flytter', 'kontant', 'skamlen', 'registrerer', 'vægs', 'miniputs', 'golfklubber', 'smertehelvede', 'bøssen', 'jernvilje', 'købe', 'forstuvet', 'opsamlingsheat', 'drømmefinale', 'verdensmestre', 'selve', 'jubelfest', 'coronasmittede', 'lige', 'direktørjobbet', 'skud', 'sover', 'onde', 'nøglekampe', 'uventet', 'markerede', 'bebe', 'semifinalisternes', 'turneringschef', 'sejrer', 'samba', 'cykelkarrieren', 'cykelstjerne', 'highlights', 'hjemmeside', 'drive', 'skiløb', 'medgiver', 'kræfterne', 'euforiske', 'sensationelt', 'dækkene', 'fiktive', 'lyntid', 'pitcher', 'lokalopgør', 'hjerneskader', 'tankerne', 'bolde', 'græske', 'klaus', 'referaterne', 'fjerne', 'besidder', 'levere', 'folden', 'juni', 'mandag', 'svedekasse', 'tennisikons', 'citys', 'arts', 'debutanter', 'sko', 'kapitel', 'dramatisk', 'golfs', 'fødselaren', 'problemfyldt', 'forfremmet', 'fantastisk', 'nordmændene', 'returopgør', 'kampleder', 'glemt', 'stressen', 'fægtning', 'modkandidat', 'forhindret', 'låste', 'suspendering', 'fuldender', 'ave', 'vinder', 'tilstrækkelig', 'brand', 'due', 'storhold', 'rivers', 'oliedepot', 'pengestærke', 'indløser', 'uigenkendelig', 'knækkede', 'skytte', 'hjemmehold', 'skulderbeskytter', 'bødkers', 'anklager', 'kokainfælden', 'cola', 'kysseskandalens', 'ri', 'i', 'forhold', 'støjende', 'snøre', 'smilene', 'slog', 'storkonkurrenten', 'point', 'alternative', 'katastrofale', 'kommentatorerne', 'døre', 'thusgaard', 'omtalt', 'sagsomkostninger', 'vraget', 'træning', 'stormvejr', 'smadre', 'baseballklub', 'nemesis', 'kujon', 'hulkende', 'strømmer', 'kønsskifte', 'sparet', 'sprudlende', 'ligaspiller', 'truppen', 'plads', 'darling', 'forhånd', 'værket', 'anerkendelse', 'modgang', 'ballon', 'atlet', 'vagthund', 'kommenteret', 'uærligt', 'afspejler', 'rækkevidde', 'konkurrerede', 'modstanderne', 'tomålsføring', 'mesterholdets', 'vaccine', 'hjælpe', 'kæntrer', 'anklagere', 'hl', 'firdoble', 'fortælle', 'idrætspolitiske', 'resultere', 'jagtede', 'genoptager', 'skandale', 'stormagten', 'klart', 'testkampe', 'bemærkelsesværdigt', 'vælger', 'for', 'isner', 'jublende', 'parti', 'båndet', 'knæproblemer', 'bekræftede', 'tilværelse', 'antidopinglaboratoriet', 'hjem', 'løbets', 'druknet', 'lunde', 'opjusterer', 'kulturministerens', 'jo', 'flænger', 'tilbagevenden', 'rakt', 'accept', 'fremtid', 'træningsindsatsen', 'vinderbilen', 'andre', 'pænt', 'spillerunde', 'mod', 'boksedommere', 'straffesparkskonkurrence', 'størstedelen', 'hvorimod', 'besynderlig', 'aktuel', 'fryser', 'bruger', 'morads', 'revision', 'savne', 'strøm', 'indgivet', 'aftenkampe', 'slagsbrødre', 'kompenserer', 'kælling', 'forsvaret', 'mart', 'ubetalt', 'spænder', 'begejstrede', 'sidegevinst', 'drømmelodtrækning', 'guldvinder', 'undgået', 'motorvej', 'skæmmer', 'underlig', 'els', 'græde', 'langrendsekspert', 'næsen', 'hjemmepublikum', 'trøste', 'sigtes', 'slagsen', 'dario', 'isligaens', 'slæbte', 'håndbolddrama', 'øverste', 'lavet', 'slagsmål', 'føring', 'speedskatere', 'fortvivlet', 'lærerigt', 'ære', 'venstrehåndede', 'atletikpræsident', 'storhedstid', 'spæder', 'bikinier', 'topchef', 'årsag', 'komplet', 'tilstand', 'voldsmand', 'fyldt', 'li', 'skat', 'kommunikationen', 'fingrene', 'tydeligt', 'teamchef', 'beachvolleyduoen', 'debuterer', 'semifinaleduel', 'undervejs', 'linebacken', 'drukne', 'hovedpine', 'slutrundens', 'iskold', 'løbsdag', 'erfaring', 'jersey', 'gesten', 'ret', 'gætte', 'stensikkert', 'vandet', 'muligheden', 'private', 'eks', 'hundrededele', 'udmærke', 'besætningsmedlemmer', 'elite', 'indbragt', 'administrerende', 'aggressive', 'polio', 'discoverys', 'medaljevindende', 'vemodigt', 'assisterer', 'rekordbeløb', 'skrives', 'kæreste', 'ishockeylegende', 'åbningstid', 'martrede', 'man', 'langtidsskader', 'pokalguld', 'ideelle', 'racerkøreren', 'lemper', 'trænger', 'sprinteren', 'værkstedet', 'øjnene', 'turistattraktion', 'lejr', 'danmarksmesterskabet', 'boksehistorie', 'rabat', 'profilerede', 'unødvendigt', 'alder', 'vekslet', 'resulterer', 'ser', 'atleternes', 'hak', 'professionelt', 'oprykning', 'modstandernes', 'ishockeylandsholdet', 'mikrofonen', 'e', 'medlemslande', 'stukket', 'fodfæste', 'finanskrise', 'diskvalificeres', 'aktivt', 'arenaen', 'nyansat', 'kulturen', 'svinge', 'svinestreger', 'bokseringen', 'uansvarligt', 'nævner', 'medaljekampen', 'mening', 'stilles', 'sc', 'tilskuerforbud', 'egypter', 'bundprop', 'kvinder', 'samling', 'mestertræner', 'tørstegt', 'begivenheden', 'tenniskometen', 'angrebskaos', 'pointsejrede', 'sent', 'tunge', 'curlingkvinder', 'fornuftige', 'straffeslagskonkurrence', 'østre', 'periodes', 'seedningslag', 'tildeles', 'roser', 'livrem', 'retssag', 'sidestykke', 'kom', 'skipperen', 'sted', 'før', 'drysse', 'skræmme', 'delegationen', 'skotsk', 'førsteårsspilleren', 'pisser', 'supervåben', 'gulddrøm', 'årlige', 'undgik', 'forbedringer', 'jævnbyrdighedens', 'vogtede', 'driblestærke', 'indstillede', 'atletikverdenens', 'ishockeyspillere', 'hjertet', 'møller', 'landsholdsstjernes', 'agere', 'velspillet', 'nosser', 'fødselsdag', 'fyrværkeri', 'højre', 'centralt', 'sportsgrene', 'trøstende', 'hest', 'festen', 'modtaget', 'ærgrelsen', 'tv', 'budskaber', 'dolbergs', 'sensationer', 'gymnaster', 'opmuntring', 'rørte', 'halvmaratonløberen', 'tåregas', 'lægger', 'hadet', 'mad', 'bagerst', 'spore', 'arrangører', 'kvinderens', 'stikpiller', 'toprytter', 'farverige', 'bilmærker', 'wildcardet', 'forventningsfulde', 'kroner', 'spurgte', 'link', 'publikum', 'frygtede', 'skydes', 'ske', 'hatten', 'trace', 'tilføje', 'førstedag', 'badminton', 'fuldtidsprofessionelle', 'øges', 'højdespringet', 'trænerafgang', 'drøn', 'atletikudøver', 'pissehårdt', 'anklageskrift', 'vigtigere', 'golfduellen', 'gruppekamp', 'tilfredse', 'instruks', 'spark', 'lykønskninger', 'klassikeren', 'snak', 'aftenen', 'trænerdebut', 'tabuet', 'skældsord', 'midt', 'storholds', 'befolkningen', 'finaledommer', 'pokalfinalen', 'scanning', 'succes', 'avis', 'blæser', 'allergladest', 'fatter', 'semifinaleklar', 'karatekæmper', 'afskærme', 'kigge', 'svømmemedalje', 'fodboldlandsholdets', 'kneben', 'tynd', 'afbrænderen', 'stedet', 'mødes', 'indledning', 'opretter', 'planlagt', 'almindelig', 'mirakelredninger', 'titelkamp', 'ishockeykeeperen', 'favorabelt', 'finalerne', 'hår', 'banecykelryttere', 'procenter', 'cavendish', 'kæresteforhold', 'retningslinjerne', 'trænersituationen', 'rute', 'passiv', 'indkaldes', 'kvindefinale', 'afsløre', 'målkonge', 'pukkelpisten', 'lytter', 'mellemrum', 'træffere', 'uheldig', 'sejlklasserne', 'afslutte', 'fighter', 'storspillende', 'kortet', 'drømmeland', 'smasher', 'forklare', 'cyklen', 'kampe', 'siges', 'times', 'usande', 'milliardklassen', 'bøjer', 'indplantede', 'indgår', 'medie', 'husket', 'speedskater', 'seedet', 'ridser', 'verdensmesterskab', 'starten', 'stjerneskipper', 'græstæppet', 'scenen', 'genfundet', 'lå', 'nederlag', 'sende', 'kortlagt', 'rolle', 'hjælp', 'kraftig', 'klasseforskellen', 'cykelmedie', 'forfølger', 'comebacks', 'svære', 'følelse', 'guldtriumf', 'trænede', 'påståede', 'dømt', 'løgnedetektor', 'dopingudvalg', 'hurtigløberen', 'uanede', 'nidobbelte', 'ea', 'konkurrencedelen', 'pokalmestre', 'hovederne', 'øjenåbner', 'rustet', 'iskoldt', 'besejrer', 'mytiske', 'turbulent', 'tusindvis', 'bjergrytter', 'stil', 'niende', 'draget', 'udfordringen', 'let', 'bet', 'udsolgt', 'ventetid', 'an', 'bidrog', 'karakter', 'sjæl', 'salt', 'sten', 'fodboldrække', 'boksechok', 'føj', 'garanterer', 'afspille', 'fightervilje', 'situation', 'igen', 'gnidningsfrit', 'alternativer', 'amatørbokseforbundet', 'coronarelaterede', 'natklub', 'bølgen', 'kæp', 'værre', 'return', 'ishockeymestre', 'årets', 'taknemmelig', 'prop', 'støtte', 'nedlægger', 'formiddagen', 'superhjælpers', 'kysset', 'nytårsskihop', 'sillingers', 'tænker', 'lokalunioner', 'bedøm', 'ejendomme', 'toårig', 'langer', 'type', 'strålende', 'håndboldfest', 'hade', 'fingre', 'startdebut', 'langrendsdisciplinen', 'beklaget', 'endegyldigt', 'obligatoriske', 'hierarkiet', 'grundlagt', 'arbejdssejr', 'jorden', 'viceanføreren', 'atletikmesterskaber', 'bidrager', 'ytringsfrihed', 'hævn', 'racediskrimination', 'fansene', 'ligalandshold', 'pis', 'tilfældigheder', 'pressen', 'raseriudbrud', 'benyttes', 'samtaler', 'stjernetrøjen', 'historiens', 'cykelhold', 'hovedårsagerne', 'backs', 'frustrerende', 'hjælpere', 'omsider', 'kende', 'repræsentanter', 'regionale', 'sejlede', 'splitter', 'griner', 'beslutter', 'havnede', 'umuliggjorde', 'næseoperation', 'skælder', 'medvirket', 'kunstskøjteløbere', 'historik', 'barberer', 'spillede', 'champagnepropperne', 'omfattende', 'jubilæum', 'sommerferien', 'k', 'basketikonet', 'landsret', 'fuldstændig', 'hæmsko', 'frugten', 'mistet', 'oplyste', 'ugens', 'løbet', 'stablen', 'hovedstad', 'æblejuice', 'fængsel', 'luften', 'kadence', 'stadfæster', 'bemærkelsesværdige', 'vejninger', 'påstande', 'fristende', 'maveproblemer', 'raketvidenskab', 'referencen', 'premierminister', 'partners', 'revy', 'marc', 'butik', 'boksestjerne', 'mandskaberne', 'lag', 'skygge', 'sønner', 'græsset', 'firedobbelt', 'vippede', 'majorturneringen', 'bestemte', 'medaljejagt', 'showet', 'halvleg', 'tilskuddet', 'monsterkontrakt', 'meritter', 'fingerknips', 'individualister', 'pegede', 'sjovere', 'miraklet', 'skubbede', 'overstået', 'party', 'omkring', 'drømmehold', 'eftermiddag', 'direktøren', 'optaktskampe', 'outsiderne', 'piger', 'ombolde', 'steget', 'ishockeykvinders', 'ustoppelig', 'fodboldens', 'hilser', 'amatørforbund', 'hæmmer', 'stortalent', 'masse', 'tatoveret', 'uenige', 'dækskifte', 'national', 'følg', 'fungere', 'fair', 'kæmpende', 'international', 'lukke', 'skiløbere', 'vejrs', 'strid', 'knælede', 'ligegyldig', 'flæsket', 'opvarmningen', 'mister', 'skalp', 'ufattelig', 'lodtrækningen', 'udbyggede', 'langsomst', 'makker', 'utvivlsomt', 'licens', 'sluttede', 'kap', 'slaget', 'toppræstationer', 'genstarte', 'koreanske', 'sammenstødet', 'tillykke', 'hele', 'dommerbestikkelse', 'guddommeligt', 'yngste', 'parløbet', 'braves', 'andenplads', 'føre', 'rekordoverskud', 'håneretten', 'tallerken', 'booke', 'snor', 'repræsentere', 'rb', 'kvalifikationsmål', 'berøringen', 'mislykket', 'scenarie', 'opvarmning', 'ilden', 'konto', 'undsætning', 'sensation', 'åbnede', 'udgangspunkt', 'manglede', 'løbsstarten', 'spurterne', 'lovforslag', 'højdespringsrekord', 'verdensetter', 'semifinaleudlæg', 'primært', 'rekordhurtige', 'halvdelen', 'nattetimerne', 'åbent', 'nemlig', 'færre', 'mandsdominans', 'sluge', 'konkluderer', 'stridende', 'arbejdet', 'nyheder', 'topplacering', 'tennisbanen', 'kampafgørende', 'legeplads', 'gulvet', 'køb', 'årevis', 'sine', 'barndomsklubben', 'valget', 'undren', 'retning', 'begreber', 'stjernen', 'kajak', 'volleyballforbundet', 'bringe', 'glemte', 'exit', 'vinderinterview', 'pointstraf', 'coronaprotokoller', 'decideret', 'boldspil', 'debatteret', 'basketballliga', 'værter', 'uheldige', 'diskriminerende', 'integritetsenhed', 'egoistisk', 'bagtanke', 'banebrydende', 'fredagens', 'menneskemængder', 'nyt', 'landskampsrekord', 'skriver', 'halvanden', 'omikron', 'drømmeslaget', 'riven', 'badmintonspillers', 'landsholdstrøje', 'atletico', 'uanmeldt', 'diskvalifikationer', 'gymnasten', 'bøden', 'løberen', 'fejring', 'ed', 'arrogant', 'topscorerens', 'rugbylandshold', 'ekspertkommentator', 'banner', 'rekordscore', 'ottendeplads', 'adam', 'smittestigning', 'divisionskamp', 'dør', 'holdkammeraternes', 'dobbelt', 'verdenshavene', 'beachvolleyspiller', 'suveræn', 'afskediget', 'superligaen', 'kidnappet', 'karrieren', 'tacklet', 'bejler', 'chance', 'vandt', 'tager', 'aldrig', 'glansbilledet', 'waliserne', 'rystende', 'folkehelten', 'nager', 'behandlet', 'gladere', 'voldsomme', 'damer', 'følelser', 'tandes', 'champagnen', 'fejre', 'chokbølger', 'anker', 'herresinglerækken', 'vragede', 'kniven', 'røvet', 'hver', 'medaljetørke', 'dannebrogstrikot', 'bunds', 'nogle', 'omkommer', 'karaten', 'juli', 'uofficielle', 'hjælperytter', 'udtalelser', 'druknede', 'førsteserv', 'fremrykkes', 'fantastiske', 'umenneskeligt', 'finalister', 'arresteret', 'kåring', 'højdepunkterne', 'gruppe', 'kasseret', 'dopingsnak', 'sejr', 'tilfælde', 'kulturminister', 'blamage', 'baskere', 'kb', 'joe', 'stejl', 'opgiver', 'varsel', 'hertil', 'fløjte', 'alkohol', 'præsenteres', 'hundrede', 'vinderchance', 'pokker', 'opkast', 'støvlerne', 'p', 'bundesligaklub', 'midtbane', 'offensiv', 'afventer', 'pension', 'gemt', 'agent', 'hotelværelset', 'dommerchef', 'hårdhed', 'nyankomne', 'bådens', 'spist', 'opbakningen', 'tempofodbold', 'spillende', 'startplads', 'må', 'kendis', 'friske', 'frustration', 'nærmede', 'vigtighed', 'racerbanen', 'prekær', 'kvartfinaleserien', 'ovenud', 'omspil', 'prinsesse', 'målfoto', 'udmanøvrerede', 'tvetydig', 'bassinet', 'skamfuld', 'aflyses', 'landsholdssvømmere', 'omfavn', 'strategi', 'hjemmebanesejren', 'kaldte', 'forsøget', 'efterkrav', 'overraske', 'ophæve', 'dynamo', 'servefejl', 'nedsætning', 'mener', 'klassementet', 'respektløst', 'nedtone', 'spillerforeningen', 'sandsynligvis', 'major', 'makkerparet', 'mange', 'kostume', 'amatører', 'lavere', 'spektakulær', 'afgang', 'terrororganisation', 'elementer', 'badmintonturneringen', 'øjeblikke', 'avisernes', 'alle', 'fodboldherrer', 'millioner', 'publikumsfavorit', 'fodbolden', 'podie', 'sker', 'topspillere', 'uden', 'sportsbegivenheder', 'mærkes', 'hyldede', 'reflekteret', 'livstid', 'frisk', 'større', 'familieforetagende', 'svada', 'stabilitet', 'udpluk', 'etiske', 'joke', 'stilhed', 'mytisk', 'angrebsstjernen', 'fornemme', 'mellemtider', 'fredag', 'boksekarrieren', 'næsepiercing', 'målspark', 'deltidsmandskab', 'sikre', 'hassan', 'perspektiv', 'premiere', 'optimistisk', 'lotte', 'gammel', 'titelfavorit', 'medaljemuligheder', 'skaden', 'umulige', 'boostet', 'dopingfusk', 'sportslige', 'beordret', 'luftvåbenet', 'opgraderer', 'påbegyndt', 'keepers', 'prioriteret', 'stort', 'skrumper', 'strategisk', 'hvilket', 'savnede', 'coronatilfælde', 'halede', 'diskvalificeringer', 'nyankommet', 'udset', 'formiddag', 'aflyser', 'opslag', 'research', 'lysindfald', 'eksperterne', 'obduktionen', 'europæisk', 'ikoniske', 'påvirkede', 'sejladsen', 'bøde', 'afsluttende', 'unge', 'straffespark', 'godkender', 'medaljesamling', 'he', 'populært', 'indbakke', 'sænket', 'elegant', 'rigtige', 'bøvl', 'skyld', 'indskifter', 'henvender', 'garden', 'lektier', 'livet', 'banede', 'nøgletallene', 'badmintonturnering', 'dronningen', 'fridage', 'tårer', 'hjemkomst', 'påvirket', 'bådtyper', 'uopnåelig', 'rystet', 'udbygger', 'via', 'matchpoint', 'basketspiller', 'medlidenhed', 'spalteplads', 'udelade', 'sjette', 'baseballkampen', 'eliminerede', 'passing', 'storslalomkonkurrencen', 'dokumenter', 'angrebet', 'chokreaktion', 'timen', 'eksplosivt', 'ved', 'indstillet', 'håndbolden', 'mekanikerne', 'statue', 'utidssvarende', 'slappe', 'frustrerede', 'sløje', 'pressemøde', 'forbavser', 'spærrede', 'specialist', 'demonstreret', 'flottere', 'gæk', 'restaurantbesøg', 'starttider', 'billetterne', 'fansenes', 'vogne', 'fejringen', 'synes', 'datter', 'stjernes', 'toppet', 'trecifret', 'sluse', 'tidspunkt', 'svømnings', 'medaljehøst', 'ugers', 'tovene', 'udendørs', 'transmissionen', 'boldberøringer', 'derby', 'orienteringsløb', 'lillebror', 'centimeter', 'dopingreglementet', 'kvalifikationen', 'aparte', 'knæskade', 'håndbolddommer', 'blik', 'fester', 'topper', 'blokering', 'teknik', 'sløjfes', 'cykelsport', 'sakker', 'konkurrents', 'midtbanekriger', 'armene', 'torden', 'rettere', 'byens', 'etablerede', 'lynindkaldt', 'træk', 'kiks', 'syntes', 'læst', 'mast', 'ekstreme', 'elitechef', 'skærpet', 'flop', 'konstant', 'øjeblikkeligt', 'tvivler', 'operationsbordet', 'iblandt', 'ejerkreds', 'kniv', 'maratontid', 'million', 'venstrebacken', 'hovedstaden', 'fuser', 'prik', 'motocross', 'venstresvingene', 'knivstik', 'bilen', 'virker', 'træningsophold', 'landshold', 'speederen', 'modstanderens', 'coronaudbrud', 'affejer', 'tilfældet', 'adfærd', 'scorer', 'psyke', 'trænes', 'standpunkt', 'beskyldes', 'firebakketurnering', 'mangler', 'røget', 'mærker', 'udbrød', 'undladt', 'lokalrivaler', 'invitationen', 'takketale', 'offensivt', 'kompleks', 'viceformand', 'hentyder', 'u', 'udvist', 'klynke', 'kilos', 'journalistens', 'danser', 'sandsynlighed', 'l', 'overhaler', 'action', 'verdensmesterskaberne', 'spilbar', 'sommeren', 'køl', 'udelukker', 'atletikfolk', 'nedprioriterer', 'højden', 'følge', 'smertestillende', 'udvidelse', 'havne', 'rytter', 'moderniserede', 'huset', 'buhråb', 'prøvede', 'animerede', 'kampsportsgrenen', 'nedrykning', 'vil', 'ekstraordinær', 'union', 'skinner', 'protestsag', 'tvillingesøster', 'volleyballsucces', 'tirsdagens', 'verdensmestrene', 'sølv', 'afgør', 'superligakamp', 'backer', 'etter', 'tilskuerrækker', 'sprintdistancen', 'foregik', 'afdæmpet', 'skosede', 'overbevise', 'abdicerer', 'bagved', 'bag', 'kræftsygdom', 'afsoner', 'svag', 'udfører', 'verdensstjerner', 'klø', 'følgerne', 'arrangementer', 'flyers', 'regler', 'hamrende', 'langrendsstjerner', 'komfortabel', 'hinanden', 'omvej', 'materiel', 'modstykker', 'håndboldmagasinet', 'vagterne', 'burger', 'sensationshold', 'gram', 'grundspil', 'basketstøvle', 'ansøgning', 'veje', 'ishockeykampe', 'forsvarer', 'fodboldfest', 'muren', 'håndterede', 'sejrsløse', 'skosålens', 'skiskytten', 'forlade', 'tryner', 'han', 'hovedløbet', 'fodbodlverdenen', 'rose', 'stod', 'slettet', 'krydset', 'transfervinduets', 'lille', 'brydestjerne', 'betaling', 'kollegaen', 'hun', 'ordre', 'bekymrede', 'tronskifte', 'påkørsel', 'pegefingeren', 'pengestrøm', 'løbediscipliner', 'fisker', 'direkte', 'dukket', 'kvartfinalesejren', 'koge', 'bakken', 'hammerkast', 'udviklingen', 'halvt', 'orden', 'uenig', 'holdstafet', 'herfra', 'chokerede', 'fortællingen', 'skrivende', 'maratonfinalen', 'bedrifterne', 'sum', 'kriseramte', 'drenge', 'stime', 'værterne', 'læne', 'hurtigløb', 'støttemarkering', 'kikser', 'ram', 'eliteinstitutionen', 'medalje', 'erkendelse', 'forholdsvis', 'tennis', 'målmandstalent', 'vindertale', 'forstyrret', 'tørn', 'compoundskytte', 'dartspillere', 'aflysningerne', 'år', 'bekymring', 'skiller', 'støttet', 'meldingen', 'cykelikon', 'brag', 'sættes', 'vristede', 'medført', 'grupper', 'genindfører', 'dope', 'match', 'fejlslagen', 'kritiseres', 'afbrød', 'lakken', 'storklub', 'skandaler', 'ydmygelse', 'enetræner', 'trykke', 'statistik', 'udlandet', 'byer', 'bagi', 'bagt', 'skrækskade', 'bredere', 'tøjler', 'skrumpede', 'sanktion', 'droppe', 'liganederlag', 'målsætninger', 'virkelig', 'flytteplanerne', 'afveget', 'smile', 'bedømt', 'playoffkampe', 'restaurant', 'sandheden', 'eventyrlig', 'kilometerløb', 'efterlyste', 'målstregen', 'øv', 'længden', 'scoring', 'moment', 'hindrede', 'skihoppere', 'langskud', 'sæsons', 'enkeltstartens', 'roller', 'helligkilde', 'mærkværdige', 'oplægget', 'udgår', 'febrilske', 'seksholds', 'hende', 'holdkammerat', 'baseballholdet', 'medføre', 'hemmeligheden', 'middagstid', 'korrespondent', 'afslutninger', 'sammenligner', 'obstrueret', 'planlægning', 'endagsløb', 'masters', 'sprintere', 'fatte', 'afholde', 'opstår', 'optræden', 'menneskerettighedskrænkelser', 'låst', 'skiskytte', 'sportsstjerne', 'heler', 'døgnrytmen', 'hængende', 'hamburg', 'program', 'kvalifikationsløb', 'ubemærket', 'spytter', 'regnen', 'curlingherrer', 'bokseprojekt', 'coach', 'tvillingbror', 'forpurre', 'blødende', 'tandløst', 'korsfæstes', 'polititilhold', 'mulighederne', 'overset', 'fokusere', 'nærmer', 'modtage', 'sneen', 'løses', 'enkeltstartsspecialist', 'beholde', 'stemple', 'motorerne', 'landsholdsherrer', 'således', 'tidligere', 'gavn', 'rådhus', 'medaljeformen', 'betydende', 'champions', 'snupper', 'løbsarrangøren', 'aflyst', 'atletikdommer', 'skræmmer', 'afgået', 'rekordtid', 'speedskating', 'hvor', 'lønnede', 'bånd', 'beskudt', 'gulddans', 'ligefrem', 'løberne', 'badmintonforbunds', 'toppede', 'ordbog', 'så', 'fuldførte', 'profferne', 'fat', 'skaffe', 'håndboldekspert', 'troede', 'testgruppe', 'forsinkelse', 'hit', 'homoseksuel', 'østrigere', 'menneskerettighedsdomstol', 'halvdel', 'fornøjelsen', 'ishockeysporten', 'oplysninger', 'tages', 'bronzevindere', 'tilhører', 'goodwill', 'verdensrekorden', 'beskyldt', 'torsdagens', 'grådkvalt', 'rytterpar', 'gamle', 'medvind', 'vende', 'afvikler', 'åre', 'gammelby', 'endt', 'barberede', 'underskud', 'bueskydningsdisciplinen', 'døgn', 'gentager', 'skudsår', 'ottendepladsen', 'forældet', 'ovre', 'frivillige', 'jubelaftenen', 'forret', 'historiske', 'co', 'hvilke', 'hvordan', 'ankel', 'raket', 'drengedrøm', 'utilstrækkelige', 'brandkamp', 'formatet', 'toptrænere', 'sygdomsramt', 'storsponsors', 'grassat', 'lokal', 'fiaskoer', 'hæk', 'fodboldpræsidentens', 'meterhold', 'hovedkvarter', 'strejke', 'bjørn', 'windsurfing', 'slæbe', 'fodboldfinale', 'triatlonsporten', 'årtiets', 'snuppe', 'talt', 'ukoncentreret', 'makkerparret', 'debuter', 'eleven', 'indflydelse', 'maler', 'hæmmet', 'vænne', 'badmintonkamp', 'brandingekspert', 'baseballstjerne', 'sværvægter', 'derop', 'snakke', 'kæbe', 'afbrænder', 'gråd', 'mission', 'badmintonstjernen', 'rokkede', 'trækker', 'nationalitet', 'udtale', 'skadespause', 'havner', 'dommerparrets', 'afsluttet', 'useriøst', 'golfturneringen', 'ishockeylandsholdets', 'drone', 'smart', 'topklub', 'seneste', 'roerne', 'rolige', 'suspension', 'tilmed', 'fireårig', 'revolutionerede', 'kvalifikation', 'naboer', 'skakstjerne', 'vognen', 'el', 'hollænderne', 'skraldespanden', 'hygge', 'hjulpet', 'ansigtet', 'tryllerier', 'årrige', 'gruppekampene', 'tråd', 'verdensstjernen', 'outsider', 'guldfugl', 'handlerne', 'fulgt', 'slags', 'baseballkampe', 'stoppet', 'ulmer', 'undvære', 'tegnede', 'håndtaget', 'tillægstid', 'overtræning', 'høstes', 'cykelkarriere', 'piner', 'vogter', 'forbindelse', 'målvogter', 'juleaften', 'lakmusprøve', 'udtrykt', 'plager', 'ligatræner', 'budskab', 'storfavorit', 'timer', 'landsholdsjubilar', 'tiltalepunkter', 'military', 'reserverne', 'eget', 'basketfænomen', 'testkamp', 'eufori', 'smørefejl', 'puljefinale', 'sagerne', 'hvilede', 'fører', 'grebet', 'dummer', 'definerede', 'enke', 'dræbergen', 'undret', 'efterårsbrag', 'slædebane', 'frataget', 'helle', 'kampen', 'få', 'ophedet', 'hammeren', 'påtager', 'maratonstjerne', 'opdelt', 'ishockeykvindernes', 'oprykkeren', 'pro', 'diskvalifikationen', 'setup', 'rundt', 'designændring', 'resultattavlen', 'reglen', 'en', 'fremhæver', 'vang', 'generalprøve', 'blæsende', 'lejer', 'kriger', 'udødelighed', 'undersøgelser', 'røven', 'viceborgmester', 'lægen', 'lide', 'syvkamp', 'allerbedste', 'udtalelse', 'opdateres', 'dom', 'chi', 'kvalifikationskampe', 'tillader', 'badmintonspillerne', 'donerer', 'baskethold', 'crashe', 'bokseren', 'uroligheder', 'halveret', 'spin', 'slams', 'effekt', 'paradressur', 'kamplederen', 'europamestrene', 'rekord', 'ramme', 'bijob', 'badebold', 'overrakt', 'sygemeldt', 'nye', 'tjener', 'hijab', 'dramaet', 'undre', 'ejet', 'motivation', 'nationsrekord', 'migrantarbejdere', 'hammerkaster', 'efterforsket', 'afdød', 'samarbejdet', 'total', 'velspillede', 'ishockeyunionen', 'absurde', 'pensionsplan', 'testosteron', 'air', 'tydeligere', 'ærefrygt', 'vanvittigt', 'englænderen', 'maratonløberne', 'cowboys', 'maratonløbet', 'byder', 'racerløb', 'topklubber', 'regnbuefarvet', 'slutspurten', 'firerkajak', 'mangel', 'dokumenteret', 'regerede', 'bundproppen', 'velgørenhed', 'bedre', 'park', 'gældende', 'udbyder', 'sgu', 'forceret', 'sejlsportsekspert', 'dårligst', 'kilometers', 'rygskader', 'laveste', 'midtvejs', 'dribler', 'regner', 'parerede', 'motivationsboost', 'kollegaer', 'etapeløb', 'halter', 'halv', 'brydning', 'doubler', 'anerkender', 'fodboldlandstræner', 'blev', 'ridebanespringing', 'dopingtests', 'slukker', 'nationsplads', 'chefanalytiker', 'kortere', 'formodede', 'skind', 'bokseforbundets', 'trænerløn', 'boldbrætsdiscipliner', 'blæst', 'rollen', 'løst', 'kvindehåndbold', 'sneklædt', 'fænomen', 'intern', 'maratonrute', 'skandalesejr', 'fralægge', 'dressursølv', 'topdommer', 'finaleserie', 'leve', 'udspringere', 'spolerede', 'arrangørs', 'træningsulykke', 'verdensmesters', 'dopingjægere', 'svømmestjerne', 'oplevet', 'dementere', 'økonomien', 'udsat', 'mislykkes', 'roeren', 'ødelagde', 'medaljechance', 'udsætte', 'underdel', 'fysisk', 'epo', 'bue', 'kvindefodboldens', 'beskeder', 'tom', 'finalebakken', 'udvekslet', 'kommentatorpar', 'ofte', 'cannabisolie', 'ellevte', 'fællesstarterne', 'smitter', 'fuldtids', 'flugt', 'gæstede', 'månen', 'placering', 'mesterskabsfejring', 'fodboldkommentator', 'utilfreds', 'kollidere', 'gruppefinalen', 'modsiger', 'utilregnelig', 'drikke', 'jitsu', 'sikkerhedsfolk', 'indløse', 'derbyer', 'førertrøje', 'smiler', 'zone', 'hviledagen', 'minuts', 'guldrus', 'krisen', 'vælge', 'ytrer', 'tiders', 'lov', 'helvede', 'indtaget', 'overmagten', 'revanchere', 'sejlsportsstævne', 'fred', 'ligarival', 'dopinganklager', 'skole', 'lykkelige', 'indstilling', 'ophævet', 'sportsbrok', 'stykker', 'ind', 'snydt', 'herrernes', 'gruppen', 'flammen', 'afsæt', 'indtjent', 'tilhørt', 'sag', 'ter', 'standing', 'stadfæstes', 'trænersædet', 'håndled', 'forbløffede', 'giftig', 'pragtpræstation', 'mistanke', 'slutfløjt', 'fodboldklub', 'kulturbæreren', 'kvinderugby', 'konsekvensen', 'crash', 'beslutning', 'krammer', 'golfkomet', 'kvindelandsholdet', 'alletiders', 'toptennis', 'topseedet', 'forspring', 'interviews', 'ekvipagerne', 'købt', 'dommerpræstation', 'spillerorganisationen', 'folder', 'dominans', 'seere', 'ambassadør', 'kropsvægt', 'handel', 'undskyld', 'nag', 'søns', 'livreddende', 'kontakt', 'vellykket', 'afgørende', 'myndigheder', 'lider', 'landsmanden', 'sejlbåd', 'drøner', 'flænset', 'konkurrenters', 'fremrykker', 'eventyrhistorier', 'kontrollerende', 'assistenten', 'tusindevis', 'skrækken', 'øgenavn', 'oversigt', 'milliardbrag', 'kvartfinaledrøm', 'hestesport', 'begyndelsen', 'rom', 'basketballkommentator', 'slår', 'sved', 'titlerne', 'giganters', 'bide', 'ff', 'scoringsprocenten', 'snævert', 'kikset', 'knoglen', 'rekorden', 'arvefjenderne', 'afgørelsen', 'etårig', 'startkameraer', 'undertal', 'agtet', 'tævede', 'klima', 'alvorlige', 'ungdomsryttere', 'vandtur', 'kongen', 'kombination', 'manuel', 'skakverdenen', 'hurtigløbsarenaen', 'fyraftensproffer', 'lokalrivalen', 'stærk', 'spottet', 'familiedramaet', 'forsøge', 'useedet', 'tavse', 'højest', 'vågner', 'motocrosskører', 'sejl', 'hollænder', 'lugter', 'geni', 'initiativ', 'mavepuster', 'ribben', 'feltet', 'basketballstjernen', 'sprintrekorder', 'afslutning', 'modstå', 'coronafrygt', 'testet', 'løsninger', 'syvendeplads', 'endestationen', 'sværvægtsmestre', 'kritisk', 'snorlige', 'albueproblemer', 'nåde', 'idealisme', 'storbritanniens', 'havde', 'utide', 'investerer', 'femkamp', 'herrenes', 'rutchebanetur', 'kvartal', 'overskudstid', 'regnbuetrøje', 'korrigeres', 'flamme', 'klik', 'sletter', 'organisationskomit', 'skurkerollen', 'diskvalificerede', 'aktiv', 'evighedsduel', 'advokat', 'kontrastød', 'følelsers', 'tricky', 'undersøger', 'lænset', 'lutter', 'landsholdslegenden', 'klumme', 'offentliggjorte', 'ville', 'øjner', 'storroser', 'basketballspilleren', 'udkonkurreret', 'fidel', 'forelskelse', 'maratondyst', 'straffesparksdrama', 'videoer', 'transfervindue', 'fodboldeksperter', 'ranglistens', 'godkendt', 'søm', 'lokalt', 'åbningskamp', 'holdlæge', 'volleyballdamerne', 'amatørboksning', 'forskellige', 'ballholdet', 'stafetkvinder', 'trafik', 'sværvægt', 'årsagen', 'dæmoner', 'teenagefænomen', 'vejrforholdene', 'blot', 'personer', 'spillehumør', 'tivoli', 'vejen', 'dopingsnyd', 'opsparede', 'arrangørerne', 'nuet', 'startrampen', 'lærer', 'vær', 'udeblev', 'diskuterer', 'overfaldet', 'terrorangreb', 'knækker', 'afgørelser', 'ishockeylandshold', 'tungt', 'chancen', 'det', 'anekdoter', 'profilers', 'rimelig', 'fiberskade', 'teamchefen', 'rollemodel', 'ti', 'av', 'overlegne', 'menneske', 'gyngede', 'årrække', 'flyvende', 'pudsigt', 'rekruttering', 'atletikkonkurrencer', 'hverken', 'landevejscykling', 'løbere', 'hvad', 'nation', 'sværvægtsbokseren', 'atletikformatet', 'formen', 'rådhuset', 'køber', 'skæbnekampen', 'gade', 'drivvådt', 'døgnet', 'håndbolddamerne', 'ishockeystaven', 'overskred', 'laves', 'verdensstjerne', 'kolbøtter', 'ridestævne', 'både', 'fortjener', 'vaccinesnyd', 'elske', 'forbyde', 'øger', 'landsmand', 'samfundslag', 'pusten', 'dopingrygter', 'forud', 'tyssede', 'omstøde', 'smid', 'senators', 'riddere', 'værdsætter', 'billeder', 'digitalt', 'mellemrundekamp', 'rigtigt', 'volleyrække', 'boldpigens', 'fejret', 'kasket', 'hvilken', 'urytmisk', 'baskettalent', 'billetpriser', 'succesdansker', 'ishockeys', 'doping', 'fjernet', 'kvinde', 'overmodig', 'david', 'tids', 'sket', 'højder', 'ignoreret', 'damesiden', 'irritation', 'finnjollesejler', 'henvendte', 'tee', 'andet', 'forbuddet', 'historisk', 'årtier', 'bueklasse', 'snestormen', 'landstrænere', 'falde', 'længdespringere', 'cykelduo', 'efterforskes', 'maj', 'skakgeniet', 'nærmeste', 'boksestjernen', 'senior', 'boxplay', 'baghjul', 'forpurrer', 'bedrift', 'stav', 'lysere', 'kæmperen', 'efteråret', 'korruptionsbagmand', 'angreb', 'advarsler', 'enerkajak', 'udenlands', 'hasteindkaldt', 'h', 'kørsel', 'fodboldfan', 'jordskælv', 'storholdet', 'katamaranduo', 'dømmer', 'kraftigt', 'indbyrdes', 'vokset', 'mixklasse', 'forskelle', 'overtrådte', 'fantommåned', 'hjemkomsten', 'sejrsherre', 'tennisstjerne', 'glippe', 'fravær', 'højtalerne', 'myndighederne', 'skotte', 'miniput', 'atletikstjerner', 'glæder', 'nej', 'hemmeligt', 'kræft', 'nødvendige', 'visse', 'ansætter', 'bebrejder', 'synlig', 'oversat', 'sportsudøvere', 'retten', 'suge', 'rutsjebanetur', 'udtagelse', 'korruption', 'planmæssigt', 'klistret', 'transseksuelle', 'sider', 'liren', 'indhentede', 'overvundet', 'politibetjente', 'front', 'kaskade', 'palæstinensiske', 'rygte', 'forholder', 'rutine', 'neddrosles', 'genialiteter', 'satte', 'skotten', 'unikke', 'dommerlinjen', 'masker', 'bifalder', 'tårner', 'hovedstadsklub', 'bagud', 'afdelingen', 'endte', 'stjålet', 'inkluderer', 'testede', 'målmandskollega', 'hjælpes', 'smerte', 'direktør', 'lyspunkt', 'stjernespækket', 'understreget', 'godtfredsen', 'tung', 'førstepladsen', 'afskedsstævne', 'lege', 'danmarksmestre', 'kontrollen', 'fremtvinger', 'betyde', 'ambivalent', 'udskiftninger', 'holmenkollen', 'sovet', 'forbavset', 'forsøgskanin', 'lydmand', 'konkurrere', 'basketballspiller', 'sejles', 'indledes', 'fedeste', 'vandaler', 'tamme', 'sejrsvant', 'tidsstraf', 'reglerne', 'kaos', 'allerstørst', 'milevidt', 'skøjtetræner', 'klassementsrytter', 'filtrere', 'berømte', 'sendes', 'drama', 'skar', 'udveksle', 'vildrede', 'næppe', 'heldige', 'studiet', 'donationerne', 'pitstop', 'bombardement', 'tragiske', 'køres', 'måber', 'hårdføre', 'minikrise', 'svier', 'maratonkamp', 'sportsverden', 'slasket', 'frispark', 'vurdering', 'træthed', 'sværvægtsklassen', 'regnes', 'atletikhåb', 'tennisreporter', 'døjede', 'trøster', 'ømmer', 'taktik', 'svække', 'spillerne', 'tydelige', 'åbne', 'podieplacering', 'alt', 'udlignede', 'kontrakter', 'dommeransvarlig', 'startopstilling', 'retningslinjer', 'fodboldfans', 'flyvetur', 'waliser', 'asfalten', 'knolde', 'indeholdende', 'enten', 'eksperternes', 'bandepakke', 'supervilde', 'kalenderår', 'hjelm', 'kapper', 'uland', 'flest', 'overtaget', 'bortdømt', 'storpolitiske', 'snyder', 'klemte', 'returgyseren', 'spotlight', 'revolutioneret', 'landsholdsspillers', 'roning', 'balance', 'konkurrencevilkår', 'innovation', 'handlet', 'optrædener', 'distanceridningskonkurrencer', 'gymnastikkens', 'omkuld', 'landstræneren', 'sammensat', 'vekslede', 'optimisme', 'nappet', 'ruten', 'deres', 'nazi', 'blæksprutte', 'hylden', 'amatørbokseforbund', 'flok', 'afslutningsfest', 'problematisk', 'førstedagen', 'krøllet', 'adskillelse', 'nyheden', 'konkurrenten', 'banespecialisten', 'bakterie', 'forsøgt', 'fløjspilleren', 'kampburet', 'skulderen', 'parlament', 'svinget', 'ishockeynation', 'overtal', 'hober', 'smadret', 'måder', 'måbe', 'overforbrug', 'atiletikforbund', 'tilbøjeligheder', 'nekrolog', 'vakt', 'deltagende', 'tabt', 'trættende', 'disciplinen', 'vindstød', 'anklage', 'florerer', 'karambolage', 'led', 'lykkelig', 'førsterunde', 'drillede', 'm', 'opførsel', 'fejlagtige', 'smadrede', 'medfører', 'fyldte', 'kommentering', 'landsholdsplaymaker', 'sølvvindere', 'slem', 'tavsheden', 'skihop', 'splittede', 'overdynget', 'klubregi', 'opgørelse', 'tvang', 'anklerne', 'teenagekomet', 'ulykken', 've', 'margen', 'volleysejr', 'legendarisk', 'misforstået', 'tilløbet', 'sundhedsmyndigheder', 'kampens', 'tilbyder', 'sammenstød', 'intensivafdelingen', 'topopgøret', 'landsmændene', 'eremitageløbet', 'rødt', 'stolen', 'navnesponsor', 'strejkende', 'badmintonkampe', 'speedwaytronen', 'født', 'sikrer', 'olympisk', 'sagtens', 'gøre', 'volleyballkamp', 'gaden', 'kilder', 'arrangerede', 'ramte', 'vinderholdet', 'storroses', 'blødte', 'øve', 'ligamæssigt', 'niendepladsen', 'ottetimersløb', 'afgående', 'timerekorder', 'komfortabelt', 'politiseret', 'overgå', 'uhyggeligt', 'bookmakernes', 'am', 'herresinglespiller', 'kollegerne', 'egnet', 'præ', 'læbe', 'myten', 'overtidsscoringer', 'allerhurtigste', 'klatrefinaler', 'pointsluger', 'gennemhullet', 'overlever', 'uhørt', 'bassinkanten', 'motiveret', 'barsk', 'birdies', 'mistænkes', 'absolut', 'hvile', 'præsenterer', 'villas', 'finalesejr', 'show', 'tilbagelagt', 'checken', 'koldt', 'kolde', 'pointtab', 'guldfest', 'racings', 'opnå', 'halve', 'grådkvalte', 'filme', 'guldmedaljen', 'målmandsdrop', 'forbudt', 'levner', 'altafgørende', 'genfandt', 'trange', 'ældre', 'frokosten', 'xnumber', 'xland', 'xtournament', 'xnationality', 'xweekday', 'xfinale', 'xyear', ':', ',', \"'\", '.', '?', '!', '\"']\n",
      "Total vocab/max_features :  13013\n",
      "['sjette' 'pladsen' 'femte' 'og' 'fjerde' '[UNK]' 'anden' 'pladsen' '.'\n",
      " 'xweekday' 'nummer' 'et' 'og' 'tre' 'og' 'to' 'fortsætter' 'fejringen'\n",
      " 'af' 'den' 'xnationality' 'xtournament' 'stjerne' 'når' 'han' 'vender'\n",
      " 'hjem' 'til' 'xland' '.']\n"
     ]
    }
   ],
   "source": [
    "\n",
    "\n",
    "from tensorflow.keras.layers.experimental.preprocessing import TextVectorization\n",
    "from vectorization import replace_finals, replace_nationality, to_lower\n",
    "from vectorization import split_dash\n",
    "from vectorization import split_included_specials\n",
    "from vectorization import replace_tournament\n",
    "from vectorization import replace_countries\n",
    "from vectorization import replace_weekday\n",
    "from vectorization import replace_digits\n",
    "from vectorization import vect_layer_2_text\n",
    "from vectorization import vectorize_layer\n",
    "from vectorization import standardize\n",
    "from static_data import tournaments\n",
    "from static_data import weekdays\n",
    "from static_data import non_alpha\n",
    "from static_data import word_generalization\n",
    "\n",
    "\n",
    "# TODO : evt indikere hvilke navneord der starte med stort bogstav(egenavne), evt. lave et opslag for at undersøge ordklasse for det første ord i sætningen \n",
    "# TODO : test hvilke standarization funktioner giver bedre resultater \n",
    "\n",
    "arrs = [\n",
    "    to_lower, \n",
    "    split_dash, \n",
    "    split_included_specials, \n",
    "    replace_tournament(tournaments),\n",
    "    replace_countries(countries), \n",
    "    replace_weekday(weekdays), \n",
    "    replace_finals,\n",
    "    replace_nationality(nationalities),\n",
    "    replace_digits\n",
    "]\n",
    "\n",
    "s = standardize(arrs)\n",
    "\n",
    "words_train_vocab.extend(word_generalization)\n",
    "words_train_vocab.extend(non_alpha)\n",
    "\n",
    "# Model constants.\n",
    "max_features = 13100\n",
    "sequence_length = 60\n",
    "\n",
    "vectorized_layer = vectorize_layer(max_features, sequence_length, s)\n",
    "print(words_train_vocab)\n",
    "text_ds = vectorized_layer.adapt(words_train_vocab)\n",
    "vect_vocab = vectorized_layer.get_vocabulary()\n",
    "\n",
    "print(\"Total vocab/max_features : \",  len(vect_vocab))\n",
    "\n",
    "print (vect_layer_2_text(vectorized_layer([\"sjette-pladsen femte og fjerde tredjefd anden pladsen . Onsdag nummer et og tre og to fortsætter fejringen af den danske Tour-stjerne, når han vender hjem til Danmark. \"]), vect_vocab))\n",
    "\n"
   ]
  },
  {
   "cell_type": "code",
   "execution_count": 2061,
   "metadata": {},
   "outputs": [],
   "source": [
    "# for t in train_data[0:50]:\n",
    "#     print(\"Original \\n:\", t)\n",
    "#     print(\"Text from vectorized: \\n\", vect_layer_2_text(\n",
    "#         vectorized_layer([t]), vect_vocab\n",
    "#         ))\n",
    "#     print(\"\\n\")\n"
   ]
  },
  {
   "cell_type": "code",
   "execution_count": 2062,
   "metadata": {},
   "outputs": [],
   "source": [
    "train_data_vect = vectorized_layer(train_data)\n",
    "val_data_vect = vectorized_layer(val_data)\n"
   ]
  },
  {
   "cell_type": "code",
   "execution_count": 2063,
   "metadata": {},
   "outputs": [],
   "source": [
    "class TransformerBlock(keras.layers.Layer):\n",
    "    def __init__(self, embed_dim, num_heads, ff_dim, rate=0.4):\n",
    "        super().__init__()\n",
    "        self.att = keras.layers.MultiHeadAttention(num_heads=num_heads, key_dim=embed_dim)\n",
    "        self.ffn = keras.Sequential(\n",
    "            [keras.layers.Dense(ff_dim, activation=\"relu\"), keras.layers.Dense(embed_dim),]\n",
    "        )\n",
    "        self.layernorm1 = keras.layers.LayerNormalization(epsilon=1e-6)\n",
    "        self.layernorm2 = keras.layers.LayerNormalization(epsilon=1e-6)\n",
    "        self.dropout1 = keras.layers.Dropout(rate)\n",
    "        self.dropout2 = keras.layers.Dropout(rate)\n",
    "\n",
    "    def call(self, inputs, training):\n",
    "        attn_output = self.att(inputs, inputs)\n",
    "        attn_output = self.dropout1(attn_output, training=training)\n",
    "        out1 = self.layernorm1(inputs + attn_output)\n",
    "        ffn_output = self.ffn(out1)\n",
    "        ffn_output = self.dropout2(ffn_output, training=training)\n",
    "        return self.layernorm2(out1 + ffn_output)\n",
    "\n",
    "class TokenAndPositionEmbedding(keras.layers.Layer):\n",
    "    def __init__(self, maxlen, vocab_size, embed_dim):\n",
    "        super().__init__()\n",
    "        self.token_emb = keras.layers.Embedding(input_dim=vocab_size, output_dim=embed_dim)\n",
    "        self.pos_emb = keras.layers.Embedding(input_dim=maxlen, output_dim=embed_dim)\n",
    "\n",
    "    def call(self, x):\n",
    "        maxlen = tf.shape(x)[-1]\n",
    "        positions = tf.range(start=0, limit=maxlen, delta=1)\n",
    "        positions = self.pos_emb(positions)\n",
    "        x = self.token_emb(x)\n",
    "        return x + positions\n",
    "\n"
   ]
  },
  {
   "cell_type": "code",
   "execution_count": 2064,
   "metadata": {},
   "outputs": [],
   "source": [
    "from tensorflow.keras import layers\n",
    "def transformer_encoder(inputs, head_size, num_heads, ff_dim, dropout=0.0):\n",
    "    # Normalization and Attention\n",
    "    x = layers.LayerNormalization(epsilon=1e-6)(inputs)\n",
    "    x = layers.MultiHeadAttention(\n",
    "        key_dim=head_size, num_heads=num_heads, dropout=dropout\n",
    "    )(x, x)\n",
    "    x = layers.Dropout(dropout)(x)\n",
    "    res = x + inputs\n",
    "\n",
    "    # Feed Forward Part\n",
    "    x = layers.LayerNormalization(epsilon=1e-6)(res)\n",
    "    x = layers.Conv1D(filters=ff_dim, kernel_size=1, activation=\"relu\")(x)\n",
    "    x = layers.Dropout(dropout)(x)\n",
    "    x = layers.Conv1D(filters=inputs.shape[-1], kernel_size=1)(x)\n",
    "    return x + res"
   ]
  },
  {
   "cell_type": "code",
   "execution_count": 2065,
   "metadata": {},
   "outputs": [
    {
     "data": {
      "text/plain": [
       "1.0"
      ]
     },
     "execution_count": 2065,
     "metadata": {},
     "output_type": "execute_result"
    }
   ],
   "source": [
    "m = tf.keras.metrics.BinaryAccuracy(threshold=0.97)\n",
    "m.update_state([[1], [1], [0], [0]], [[0.98], [0.98], [0], [0]])\n",
    "m.result().numpy()"
   ]
  },
  {
   "cell_type": "code",
   "execution_count": 2066,
   "metadata": {},
   "outputs": [],
   "source": [
    "from tensorflow.keras import layers\n",
    "import random as python_random\n",
    "\n",
    "def get_cnn_model():\n",
    "\n",
    "    embedding_dim = 12\n",
    "\n",
    "    # A integer input for vocab indices.\n",
    "    inputs = tf.keras.Input(shape=(None,), dtype=\"int64\")\n",
    "\n",
    "    # Next, we add a layer to map those vocab indices into a space of dimensionality\n",
    "    # 'embedding_dim'.\n",
    "    x = layers.Embedding(max_features, embedding_dim)(inputs)\n",
    "    # x = layers.Dropout(0.5)(x)\n",
    "\n",
    "    # Conv1D + global max pooling\n",
    "    # x = layers.Conv1D(32, 11, padding=\"valid\", activation=\"relu\")(x)\n",
    "    # x = layers.Conv1D(128, 9, padding=\"valid\", activation=\"relu\")(x)\n",
    "    x = layers.Dropout(0.5)(x)\n",
    "\n",
    "    # Conv1D + global max pooling\n",
    "    x = layers.Conv1D(32, 7, padding=\"valid\", activation=\"relu\", strides=3)(x)\n",
    "    # x = layers.Conv1D(32, 7, padding=\"valid\", activation=\"relu\", strides=3)(x)\n",
    "\n",
    "\n",
    "    x = layers.GlobalMaxPooling1D()(x)\n",
    "\n",
    "    # We add a vanilla hidden layer:\n",
    "    # x = layers.Dense(128, activation=\"relu\")(x)\n",
    "    # x = layers.Dropout(0.5)(x)\n",
    "    # We add a vanilla hidden layer:\n",
    "    # x = layers.Dense(128, activation=\"relu\")(x)\n",
    "    # x = layers.Dropout(0.5)(x)\n",
    "    # x = layers.Dropout(0.5)(x)\n",
    "    x = layers.Dropout(0.3)(x)\n",
    "\n",
    "\n",
    "    # We project onto a single unit output layer, and squash it with a sigmoid:\n",
    "    predictions = layers.Dense(1, activation=\"sigmoid\", name=\"predictions\")(x)\n",
    "\n",
    "    \n",
    "    cnn_model = tf.keras.Model(inputs, predictions)\n",
    "\n",
    "    # Compile the model with binary crossentropy loss and an adam optimizer.\n",
    "    cnn_model.compile(loss=\"binary_crossentropy\", optimizer=\"adam\", metrics=[\"accuracy\"])\n",
    "    return cnn_model\n",
    "\n"
   ]
  },
  {
   "cell_type": "code",
   "execution_count": 2086,
   "metadata": {},
   "outputs": [],
   "source": [
    "from tensorflow.keras import layers\n",
    "import random as python_random\n",
    "\n",
    "\n",
    "def get_transformer_model():\n",
    "\n",
    "    embed_dim =  28 # Embedding size for each token\n",
    "    num_heads = 2  # Number of attention heads\n",
    "    ff_dim = 20  # Hidden layer size in feed forward network inside transformer\n",
    "\n",
    "\n",
    "    # A integer input for vocab indices.\n",
    "    inputs = tf.keras.Input(shape=(sequence_length,), dtype=\"int64\")\n",
    "\n",
    "    # Next, we add a layer to map those vocab indices into a space of dimensionality\n",
    "    # 'embedding_dim'.\n",
    "    # x = layers.Embedding(max_features, embed_dim)(inputs)\n",
    "\n",
    "    embedding_layer = TokenAndPositionEmbedding(sequence_length, max_features, embed_dim)\n",
    "    x = embedding_layer(inputs)\n",
    "    x = layers.Dropout(0.5)(x)\n",
    "    # x = layers.Dropout(0.2)(x)\n",
    "\n",
    "    transformer_block = TransformerBlock(embed_dim, num_heads, ff_dim)\n",
    "    x = transformer_block(x)\n",
    "    # x = layers.Dropout(0.1)(x)\n",
    "\n",
    "    # x = transformer_block(x)\n",
    "\n",
    "\n",
    "\n",
    "    # Conv1D + global max pooling\n",
    "    # x = layers.Conv1D(128, 10, padding=\"valid\", activation=\"relu\", strides=3)(x)\n",
    "    # x = layers.Conv1D(128, 10, padding=\"valid\", activation=\"relu\", strides=3)(x)\n",
    "\n",
    "\n",
    "    x = layers.GlobalMaxPooling1D()(x)\n",
    "    # x = layers.Dropout(0.5)(x)\n",
    "\n",
    "    # We add a vanilla hidden layer:\n",
    "    # x = layers.Dense(32, activation=\"relu\")(x)\n",
    "    # x = layers.Dropout(0.5)(x)\n",
    "\n",
    "    # We project onto a single unit output layer, and squash it with a sigmoid:\n",
    "    predictions = layers.Dense(1, activation=\"sigmoid\", name=\"predictions\")(x)\n",
    "    x = layers.Dropout(0.5)(x)\n",
    "\n",
    "\n",
    "\n",
    "    transformer_model = tf.keras.Model(inputs, predictions)\n",
    "\n",
    "    # Compile the model with binary crossentropy loss and an adam optimizer.\n",
    "    bn =   tf.keras.metrics.BinaryAccuracy(name=\"binary_accuracy\", dtype=None, threshold=0.97)\n",
    "    \n",
    "    \n",
    "    transformer_model.compile(loss=\"binary_crossentropy\", optimizer=\"adam\", metrics=\"accuracy\")\n",
    "    return transformer_model\n"
   ]
  },
  {
   "cell_type": "code",
   "execution_count": 2087,
   "metadata": {},
   "outputs": [],
   "source": [
    "\n",
    "def prepare_model(name):\n",
    "    if (name == \"cnn\"):\n",
    "       return get_cnn_model()\n",
    "    elif (name == \"transformer\"):\n",
    "       return get_transformer_model()\n",
    "  \n",
    "\n",
    "def filter_max_accuracy(history, threshold = 0.95):\n",
    "    acc = history.history[\"accuracy\"]\n",
    "    val_acc = history.history[\"val_accuracy\"]\n",
    "    list = []\n",
    "    for x in range(len(acc)):\n",
    "        if (acc[x] > threshold):\n",
    "            list.append(val_acc[x])\n",
    "\n",
    "    return np.array(list)\n",
    "\n",
    "models = [\"cnn\", \"transformer\"]\n",
    "\n",
    "callback_3_loss = tf.keras.callbacks.EarlyStopping(monitor=\"val_loss\", patience=4)\n",
    "\n",
    "\n",
    "def mean_model_accuracy(mode_names, iterations, epochs = 20):\n",
    "\n",
    "  \n",
    "    results = []\n",
    "\n",
    "    for name in range(len(mode_names)):\n",
    "        model_name = mode_names[name]\n",
    "        val_accuracies = []\n",
    "        \n",
    "        for x in range(iterations):\n",
    "            model = prepare_model(model_name)\n",
    "\n",
    "            # Fit the model using the train and test datasets.\n",
    "            history = model.fit(train_data_vect, train_labels, epochs=epochs, batch_size=6, validation_data=(val_data_vect, val_labels), callbacks=[callback_3_loss])\n",
    "\n",
    "            max_val_acc = filter_max_accuracy(history)\n",
    "            val_accuracies.append(max(max_val_acc))\n",
    "            print(max(max_val_acc))\n",
    "            print(val_accuracies)\n",
    "        \n",
    "        d = dict(name = model_name, results = np.mean(np.squeeze(np.array(val_accuracies))))\n",
    "        results.append(d)\n",
    "        \n",
    "    return results\n"
   ]
  },
  {
   "cell_type": "code",
   "execution_count": 2088,
   "metadata": {},
   "outputs": [],
   "source": [
    "# mean_results = mean_model_accuracy(models, 8)\n",
    "# mean_results"
   ]
  },
  {
   "cell_type": "code",
   "execution_count": 2089,
   "metadata": {},
   "outputs": [],
   "source": [
    "def result_format_round(result):\n",
    "    return round(result)\n",
    "\n",
    "def result_format_none(result):\n",
    "    return result\n",
    "\n",
    "def print_model_score(model):\n",
    "    score = model.evaluate(val_data_vect, val_labels, verbose=0)\n",
    "    print(\"Validation loss:\", score[0])\n",
    "    print(\"Validations accuracy:\", score[1])\n",
    "\n",
    "def print_validation_results(predictions, val_data, labels, formatter, only_incorrect = False):\n",
    "    print(\"Number of predictions\", len(predictions))\n",
    "    n_correct = 0\n",
    "    for x in range(len(val_data)):\n",
    "        correct_prediction = result_format_round(labels[x]) == result_format_round(predictions[x][0])\n",
    "        if correct_prediction:\n",
    "            n_correct += 1\n",
    "\n",
    "        if correct_prediction == False:\n",
    "            print(\"VALIDATION SAMPLE TEXT: \\n\" ,val_data[x])\n",
    "            print(\"VALIDATION SAMPLE DE-VECTORIZED: \\n\" ,vect_layer_2_text(val_data_vect[x], vect_vocab))\n",
    "            print(\"LABEL -- :\" , labels[x])\n",
    "            print(\"PREDICTION -- :\" , formatter(predictions[x][0]), \" ---- float: \", predictions[x][0])\n",
    "            print(\"CORRECT PREDICTION: \", correct_prediction)\n",
    "            print(\"\\n\")\n",
    "\n",
    "    print(\"Number correct: \", n_correct)"
   ]
  },
  {
   "cell_type": "code",
   "execution_count": 2090,
   "metadata": {},
   "outputs": [
    {
     "name": "stdout",
     "output_type": "stream",
     "text": [
      "Epoch 1/8\n",
      "199/199 [==============================] - 3s 11ms/step - loss: 1.7039e-04 - accuracy: 0.5939 - val_loss: 0.4963 - val_accuracy: 0.7950\n",
      "Epoch 2/8\n",
      "199/199 [==============================] - 2s 10ms/step - loss: 1.2224e-04 - accuracy: 0.7776 - val_loss: 0.3552 - val_accuracy: 0.8571\n",
      "Epoch 3/8\n",
      "199/199 [==============================] - 2s 10ms/step - loss: 8.7984e-05 - accuracy: 0.8574 - val_loss: 0.3077 - val_accuracy: 0.8571\n",
      "Epoch 4/8\n",
      "199/199 [==============================] - 2s 10ms/step - loss: 6.6075e-05 - accuracy: 0.8970 - val_loss: 0.2922 - val_accuracy: 0.8571\n",
      "Epoch 5/8\n",
      "199/199 [==============================] - 2s 10ms/step - loss: 5.1985e-05 - accuracy: 0.9203 - val_loss: 0.2376 - val_accuracy: 0.8882\n",
      "Epoch 6/8\n",
      "199/199 [==============================] - 2s 10ms/step - loss: 4.1068e-05 - accuracy: 0.9397 - val_loss: 0.2360 - val_accuracy: 0.8944\n",
      "Epoch 7/8\n",
      "199/199 [==============================] - 2s 10ms/step - loss: 3.5385e-05 - accuracy: 0.9474 - val_loss: 0.2560 - val_accuracy: 0.8696\n",
      "Epoch 8/8\n",
      "199/199 [==============================] - 2s 10ms/step - loss: 2.9508e-05 - accuracy: 0.9580 - val_loss: 0.2107 - val_accuracy: 0.9255\n"
     ]
    }
   ],
   "source": [
    "\n",
    "epochs= 8\n",
    "transformer_model = get_transformer_model()\n",
    "\n",
    "transformer_history = transformer_model.fit(train_data_vect, train_labels, epochs=epochs, batch_size=40, validation_data=(val_data_vect, val_labels),  class_weight=class_weight,)\n"
   ]
  },
  {
   "cell_type": "code",
   "execution_count": 2091,
   "metadata": {},
   "outputs": [],
   "source": [
    "# transformer_model.summary()"
   ]
  },
  {
   "cell_type": "code",
   "execution_count": 2092,
   "metadata": {},
   "outputs": [],
   "source": [
    "\n",
    "# epochs= 12\n",
    "# cnn_model = get_cnn_model()\n",
    "\n",
    "# transformer_history = cnn_model.fit(train_data_vect, train_labels, epochs=epochs, batch_size=90, validation_data=(val_data_vect, val_labels))"
   ]
  },
  {
   "cell_type": "code",
   "execution_count": 2093,
   "metadata": {},
   "outputs": [],
   "source": [
    "def print_results(model):\n",
    "    np.set_printoptions(precision = 5, suppress = True)\n",
    "    predictions = model.predict(val_data_vect)\n",
    "    print_model_score(model)\n",
    "    print(\"\\n\")\n",
    "    print_validation_results(predictions, val_data, val_labels, result_format_round)\n",
    "  "
   ]
  },
  {
   "cell_type": "code",
   "execution_count": 2094,
   "metadata": {},
   "outputs": [
    {
     "name": "stdout",
     "output_type": "stream",
     "text": [
      "--- TRANSFORMER ---\n",
      "Validation loss: 0.2107241302728653\n",
      "Validations accuracy: 0.9254658222198486\n",
      "\n",
      "\n",
      "Number of predictions 161\n",
      "VALIDATION SAMPLE TEXT: \n",
      " BOKSNING . Boksestjerne banker Sarah Mahfoud og tager hendes VM-bælte . Sarah Mahfoud kunne ikke stille noget op mod boksestjernen Amanda Serrano i en VM-storkamp i fjervægt\n",
      "VALIDATION SAMPLE DE-VECTORIZED: \n",
      " ['boksning' '.' 'boksestjerne' 'banker' '[UNK]' '[UNK]' 'og' 'tager'\n",
      " 'hendes' 'xtournament' 'bælte' '.' '[UNK]' '[UNK]' 'kunne' 'ikke'\n",
      " 'stille' 'noget' 'op' 'mod' 'boksestjernen' '[UNK]' '[UNK]' 'i' 'en'\n",
      " 'xtournament' 'storkamp' 'i' 'fjervægt']\n",
      "LABEL -- : 1\n",
      "PREDICTION -- : 0  ---- float:  0.3647769\n",
      "CORRECT PREDICTION:  False\n",
      "\n",
      "\n",
      "VALIDATION SAMPLE TEXT: \n",
      " Ishockey VM . Danske og tyske spillere evakueret kort før VM-gyser . Brandalarmen gik i VM-arenaen i Helsinki, da Danmark og Tyskland skulle til at løbe på isen for at varme op\n",
      "VALIDATION SAMPLE DE-VECTORIZED: \n",
      " ['ishockey' 'xtournament' '.' 'xnationality' 'og' 'xnationality'\n",
      " 'spillere' '[UNK]' 'kort' 'før' 'xtournament' 'gyser' '.' '[UNK]' 'gik'\n",
      " 'i' 'xtournament' 'arenaen' 'i' '[UNK]' 'da' 'xland' 'og' 'xland'\n",
      " 'skulle' 'til' 'at' 'løbe' 'på' 'isen' 'for' 'at' 'varme' 'op']\n",
      "LABEL -- : 0\n",
      "PREDICTION -- : 1  ---- float:  0.56322247\n",
      "CORRECT PREDICTION:  False\n",
      "\n",
      "\n",
      "VALIDATION SAMPLE TEXT: \n",
      " VM ATLETIK 2023 . Jamaicaner protesterede sig i VM-finalen efter trafikuheld og glas i øjet . Andrew Hudson og flere andre 200 meter-løbere var en del af et mindre trafikuheld kort inden deres VM-semifinale\n",
      "VALIDATION SAMPLE DE-VECTORIZED: \n",
      " ['xtournament' 'atletik' 'xyear' '.' 'xnationality' '[UNK]' 'sig' 'i'\n",
      " 'xtournament' 'xfinale' 'efter' 'trafikuheld' 'og' 'glas' 'i' 'øjet' '.'\n",
      " '[UNK]' '[UNK]' 'og' 'flere' 'andre' 'xnumber' 'meter' 'løbere' 'var'\n",
      " 'en' 'del' 'af' 'et' 'mindre' 'trafikuheld' 'kort' 'inden' 'deres'\n",
      " 'xtournament' 'xfinale']\n",
      "LABEL -- : 0\n",
      "PREDICTION -- : 1  ---- float:  0.7889703\n",
      "CORRECT PREDICTION:  False\n",
      "\n",
      "\n",
      "VALIDATION SAMPLE TEXT: \n",
      " Håndbold . Kultur fornægter sig ikke. Gudskelov . TV 2 SPORTs håndboldekspert Peter Bruun Jørgensen skriver i denne mandagsklumme om Fredericia, der søndag spillede sig i DM-semifinalen\n",
      "VALIDATION SAMPLE DE-VECTORIZED: \n",
      " ['håndbold' '.' 'kultur' '[UNK]' 'sig' 'ikke' '.' '[UNK]' '.' 'tv'\n",
      " 'xnumber' 'sports' 'håndboldekspert' '[UNK]' '[UNK]' '[UNK]' 'skriver'\n",
      " 'i' 'denne' '[UNK]' 'om' '[UNK]' 'der' 'xweekday' 'spillede' 'sig' 'i'\n",
      " 'xtournament' 'xfinale']\n",
      "LABEL -- : 1\n",
      "PREDICTION -- : 0  ---- float:  0.37354156\n",
      "CORRECT PREDICTION:  False\n",
      "\n",
      "\n",
      "VALIDATION SAMPLE TEXT: \n",
      " Ishockey VM . Landstræner vil fortsætte trods svensk ishockeyfiasko . Sverige er for første gang i 36 år ikke en del af slutspillet ved VM i ishockey, men træneren vil fortsætte\n",
      "VALIDATION SAMPLE DE-VECTORIZED: \n",
      " ['ishockey' 'xtournament' '.' 'landstræner' 'vil' 'fortsætte' 'trods'\n",
      " 'xnationality' '[UNK]' '.' 'xland' 'er' 'for' 'første' 'gang' 'i'\n",
      " 'xnumber' 'år' 'ikke' 'en' 'del' 'af' 'slutspillet' 'ved' 'xtournament'\n",
      " 'i' 'ishockey' 'men' 'træneren' 'vil' 'fortsætte']\n",
      "LABEL -- : 1\n",
      "PREDICTION -- : 0  ---- float:  0.06721852\n",
      "CORRECT PREDICTION:  False\n",
      "\n",
      "\n",
      "VALIDATION SAMPLE TEXT: \n",
      " Badminton . Axelsen kan blive den første nogensinde . Viktor Axelsen kan spille sig videre til tredje runde i China Open torsdag formiddag.\n",
      "VALIDATION SAMPLE DE-VECTORIZED: \n",
      " ['badminton' '.' '[UNK]' 'kan' 'blive' 'den' 'første' 'nogensinde' '.'\n",
      " '[UNK]' '[UNK]' 'kan' 'spille' 'sig' 'videre' 'til' 'tredje' 'runde' 'i'\n",
      " 'xtournament' 'xweekday' 'formiddag' '.']\n",
      "LABEL -- : 0\n",
      "PREDICTION -- : 1  ---- float:  0.92533654\n",
      "CORRECT PREDICTION:  False\n",
      "\n",
      "\n",
      "VALIDATION SAMPLE TEXT: \n",
      " Basketball . NBA suspenderer 11 spillere efter vanvittige scener . Spillere fra Detroit Pistons og Orlando Magic var oppe at toppes, da de to hold mødtes i NBA\n",
      "VALIDATION SAMPLE DE-VECTORIZED: \n",
      " ['basketball' '.' 'xtournament' 'suspenderer' 'xnumber' 'spillere' 'efter'\n",
      " 'vanvittige' 'scener' '.' 'spillere' 'fra' '[UNK]' '[UNK]' 'og' '[UNK]'\n",
      " '[UNK]' 'var' 'oppe' 'at' '[UNK]' 'da' 'de' 'to' 'hold' 'mødtes' 'i'\n",
      " 'xtournament']\n",
      "LABEL -- : 0\n",
      "PREDICTION -- : 1  ---- float:  0.8663766\n",
      "CORRECT PREDICTION:  False\n",
      "\n",
      "\n",
      "VALIDATION SAMPLE TEXT: \n",
      " Amerikansk fodbold . Ekspert glæder sig til NFL-brag: - Det bliver meget dramatisk og vildt . De to hold med flest scorede point mødes søndag aften, og der er lagt op til spænding til det sidste\n",
      "VALIDATION SAMPLE DE-VECTORIZED: \n",
      " ['xnationality' 'fodbold' '.' 'ekspert' 'glæder' 'sig' 'til' 'xtournament'\n",
      " 'brag' ':' 'det' 'bliver' 'meget' 'dramatisk' 'og' 'vildt' '.' 'de' 'to'\n",
      " 'hold' 'med' 'flest' 'scorede' 'point' 'mødes' 'xweekday' 'aften' 'og'\n",
      " 'der' 'er' 'lagt' 'op' 'til' 'spænding' 'til' 'det' 'sidste']\n",
      "LABEL -- : 0\n",
      "PREDICTION -- : 1  ---- float:  0.84230363\n",
      "CORRECT PREDICTION:  False\n",
      "\n",
      "\n",
      "VALIDATION SAMPLE TEXT: \n",
      " Cykling . Han slog Vingegaards rekord - nu sætter skade stopper for karrieren . Jacob Hindsgaul blev udråbt som stortalent, men indstiller nu karrieren som 23-årig på grund af mystisk skade\n",
      "VALIDATION SAMPLE DE-VECTORIZED: \n",
      " ['cykling' '.' 'han' 'slog' '[UNK]' 'rekord' 'nu' 'sætter' 'skade'\n",
      " 'stopper' 'for' 'karrieren' '.' '[UNK]' '[UNK]' 'blev' 'udråbt' 'som'\n",
      " 'stortalent' 'men' 'indstiller' 'nu' 'karrieren' 'som' 'xnumber' 'årig'\n",
      " 'på' 'grund' 'af' 'mystisk' 'skade']\n",
      "LABEL -- : 0\n",
      "PREDICTION -- : 1  ---- float:  0.5222096\n",
      "CORRECT PREDICTION:  False\n",
      "\n",
      "\n",
      "VALIDATION SAMPLE TEXT: \n",
      " OL . Hvor godt er 11 medaljer? Se Danmarks medaljehøst siden 1896 . I 1948 vandt Danmark hele 20 medaljer. Det er flest af alle de olympiske lege, som Danmark har sendt atleter til\n",
      "VALIDATION SAMPLE DE-VECTORIZED: \n",
      " ['xtournament' '.' 'hvor' 'godt' 'er' 'xnumber' 'medaljer' 'se' 'xland'\n",
      " 'medaljehøst' 'siden' 'xyear' '.' 'i' 'xyear' 'vandt' 'xland' 'hele'\n",
      " 'xnumber' 'medaljer' '.' 'det' 'er' 'flest' 'af' 'alle' 'de' 'olympiske'\n",
      " 'lege' 'som' 'xland' 'har' 'sendt' 'atleter' 'til']\n",
      "LABEL -- : 0\n",
      "PREDICTION -- : 1  ---- float:  0.9825044\n",
      "CORRECT PREDICTION:  False\n",
      "\n",
      "\n",
      "VALIDATION SAMPLE TEXT: \n",
      " Vuelta a España . Portugiser snyder Kron og Evenepoel i udbrud . Andreas Kron sad i det rigtige udbrud, men kom ikke med, da blandt andre etapevinder Rui Costa rykkede\n",
      "VALIDATION SAMPLE DE-VECTORIZED: \n",
      " ['xtournament' '.' 'xnationality' 'snyder' 'kron' 'og' '[UNK]' 'i'\n",
      " 'udbrud' '.' '[UNK]' 'kron' 'sad' 'i' 'det' 'rigtige' 'udbrud' 'men'\n",
      " 'kom' 'ikke' 'med' 'da' 'blandt' 'andre' 'etapevinder' '[UNK]' '[UNK]'\n",
      " 'rykkede']\n",
      "LABEL -- : 1\n",
      "PREDICTION -- : 0  ---- float:  0.118416265\n",
      "CORRECT PREDICTION:  False\n",
      "\n",
      "\n",
      "VALIDATION SAMPLE TEXT: \n",
      " Ishockey VM . - Det er fuldstændig vanvittigt . Canadiske Joe Veleno diskede op med en stor svinestreg i VM-opgøret mod Schweiz\n",
      "VALIDATION SAMPLE DE-VECTORIZED: \n",
      " ['ishockey' 'xtournament' '.' 'det' 'er' 'fuldstændig' 'vanvittigt' '.'\n",
      " 'xnationality' 'joe' '[UNK]' 'diskede' 'op' 'med' 'en' 'stor'\n",
      " 'svinestreg' 'i' 'xtournament' 'opgøret' 'mod' 'xland']\n",
      "LABEL -- : 0\n",
      "PREDICTION -- : 1  ---- float:  0.89687353\n",
      "CORRECT PREDICTION:  False\n",
      "\n",
      "\n",
      "Number correct:  149\n"
     ]
    }
   ],
   "source": [
    "print(\"--- TRANSFORMER ---\")\n",
    "print_results(transformer_model)"
   ]
  },
  {
   "cell_type": "code",
   "execution_count": 2095,
   "metadata": {},
   "outputs": [],
   "source": [
    "\n",
    "# print(\"--- CNN ---\")\n",
    "# print_results(cnn_model)"
   ]
  },
  {
   "cell_type": "code",
   "execution_count": 2096,
   "metadata": {},
   "outputs": [
    {
     "data": {
      "text/plain": [
       "array([[-0.0497 , -0.04433, -0.06347, ...,  0.00574, -0.0698 ,  0.00289],\n",
       "       [-0.01495, -0.01253, -0.06261, ...,  0.04308, -0.05598, -0.08873],\n",
       "       [ 0.09401,  0.02972, -0.00899, ...,  0.02411,  0.05472,  0.01748],\n",
       "       ...,\n",
       "       [-0.0277 ,  0.04098,  0.04239, ..., -0.03701, -0.0416 ,  0.00879],\n",
       "       [ 0.0145 ,  0.04959,  0.01081, ...,  0.04883, -0.00572,  0.01637],\n",
       "       [ 0.04489,  0.00014,  0.02042, ..., -0.0445 ,  0.02195,  0.02195]],\n",
       "      dtype=float32)"
      ]
     },
     "execution_count": 2096,
     "metadata": {},
     "output_type": "execute_result"
    }
   ],
   "source": [
    "import os\n",
    "\n",
    "# Set up a logs directory, so Tensorboard knows where to look for files.\n",
    "\n",
    "ll = transformer_model.layers[1]\n",
    "ll_weights = ll.get_weights()[0]\n",
    "\n",
    "# print(ll_weights.shape)\n",
    "ll_weights\n"
   ]
  },
  {
   "cell_type": "code",
   "execution_count": 2097,
   "metadata": {},
   "outputs": [],
   "source": [
    "##import I/O module in python\n",
    "import io\n",
    "\n",
    "##open the text stream for vectors\n",
    "vectors = io.open('vectors.tsv', 'w', encoding='utf-8')\n",
    "\n",
    "##open the text stream for metadata\n",
    "meta = io.open('meta.tsv', 'w', encoding='utf-8')\n",
    "\n",
    "\n",
    "##write each word and its corresponding embedding\n",
    "for index in range(1, len(vect_vocab)):\n",
    "  word = vect_vocab[index]  # flipping the key-value in word_index\n",
    "  embeddings = ll_weights[index]\n",
    "  meta.write(word + \"\\n\")\n",
    "  vectors.write('\\t'.join([str(x) for x in embeddings]) + \"\\n\")\n",
    "\n",
    "##close the stream\n",
    "vectors.close()\n",
    "meta.close()"
   ]
  },
  {
   "cell_type": "code",
   "execution_count": 2098,
   "metadata": {},
   "outputs": [],
   "source": [
    "# from nltk import collocations\n",
    "# bigram_measures = collocations.BigramAssocMeasures()\n",
    "# finder = collocations.BigramCollocationFinder.from_words([\"New\", \"York\", \"is\", \"big\", \"New\", \"York\", \"is\", \"dirty\"])\n",
    "# finder.ngram_fd.items()\n",
    "\n"
   ]
  },
  {
   "cell_type": "code",
   "execution_count": 2099,
   "metadata": {},
   "outputs": [],
   "source": [
    "# import lemmy\n",
    "# # Create an instance of the standalone lemmatizer.\n",
    "# lemmatizer = lemmy.load(\"da\")\n",
    "\n",
    "# # Find lemma for the word 'akvariernes'. First argument is an empty POS tag.\n",
    "# lemmatizer.lemmatize(\"NOUN\", \"verdensetter\")\n",
    "\n"
   ]
  },
  {
   "cell_type": "code",
   "execution_count": 2100,
   "metadata": {},
   "outputs": [],
   "source": [
    "# import nltk as nltk\n",
    "# # from string import punctuation\n",
    "# # from nltk.corpus import stopwords\n",
    "# # nltk.download('stopwords')\n",
    "\n",
    "# # da_stopwords = stopwords.words(\"danish\")\n"
   ]
  },
  {
   "cell_type": "code",
   "execution_count": 2101,
   "metadata": {},
   "outputs": [],
   "source": [
    "# A string input\n",
    "inputs = tf.keras.Input(shape=(1,), dtype=\"string\")\n",
    "# Turn strings into vocab indices\n",
    "indices = vectorized_layer(inputs)\n",
    "# Turn vocab indices into predictions\n",
    "outputs = cnn_model(indices)\n",
    "\n",
    "# Our end to end model\n",
    "end_to_end_model = tf.keras.Model(inputs, outputs)\n",
    "end_to_end_model.compile(\n",
    "    loss=\"transformer_crossentropy\", optimizer=\"adam\", metrics=[\"accuracy\"]\n",
    ")\n"
   ]
  },
  {
   "cell_type": "code",
   "execution_count": 2102,
   "metadata": {},
   "outputs": [
    {
     "name": "stdout",
     "output_type": "stream",
     "text": [
      "\n",
      "Results:\n",
      "[[0.72939]\n",
      " [0.99925]\n",
      " [0.99951]\n",
      " [0.99135]\n",
      " [0.98032]]\n",
      "\n",
      " NON-Results:\n",
      "[[0.02338]\n",
      " [0.20751]\n",
      " [0.97365]\n",
      " [0.25986]\n",
      " [0.012  ]\n",
      " [0.01322]\n",
      " [0.81538]\n",
      " [0.91041]]\n"
     ]
    }
   ],
   "source": [
    "print(\"\\nResults:\")\n",
    "\n",
    "\n",
    "print(end_to_end_model.predict(\n",
    "    [\n",
    "      \"Fodbold . Fjerritslev vinder over Vordingborg. Træner kommenterer på historisk kamp\",\n",
    "       \"SPORT . Hun vandt bronze i mandags Roer Anne Dsane Andersen har som 24-årig vundet bronze ved OL\",\n",
    "       \"Badminton . Axelsen frustreret over nederlag. Viktor Axelsen trænger til ferie efter nedturen\",\n",
    "      \"OL . Det blev til en flot medalje til Malene dfhsds. 'Jeg er meget lykkelig for resultatet'\",\n",
    "      \"Badminton . Dansker er videre til finalerne. dsfsdf sfdsdf slkal spille i semifinalerne på onsdag\",\n",
    "     ]))\n",
    "\n",
    "\n",
    "print(\"\\n NON-Results:\") \n",
    "print(end_to_end_model.predict(\n",
    "    [\n",
    "      \"OL Meget skal ske før en medalje kommer inden for rækkevidde. Dressurrytter Malene dsds har mistet troen på success\",\n",
    "      \"Fodbold . Træner for Fjerritslev ser frem til sejr over Vordingborg. 'Det bliver en historisk kamp'\",\n",
    "      \"Fodbold . De danske spillere skal op imod Sverige, som de tabte til i 2022\",\n",
    "      \"Fodbold . De danske spillere vil forsøge at besejre Tyrkiet den kommende Lørdag i VM-kamp. Tyrkiet har aldriv været i en VM-finale\",\n",
    "      \"Fodbold . De danske spillere tror på sejr mod Tyrkiet. 'Den skal vindes'\",\n",
    "      \"Skisport . Sverige drømmer om flere medaljer og sejre til næste års OL . Træner forventer flere gode resultater\",\n",
    "      \"Boksning . Kesler vil overraske alle og gøre det umulige. 'Jeg vinder i VM'\",\n",
    "      \"Boksning . Kesler med stor selvtillid: 'Det bliver guld eller sølv til VM'\",\n",
    "    \n",
    "     ]))"
   ]
  },
  {
   "cell_type": "code",
   "execution_count": 2103,
   "metadata": {},
   "outputs": [
    {
     "name": "stdout",
     "output_type": "stream",
     "text": [
      "\n",
      " IN-BETWEEN-Results:\n",
      "[[0.99915]\n",
      " [0.98558]\n",
      " [0.66731]\n",
      " [0.65831]\n",
      " [0.46103]\n",
      " [0.00566]]\n"
     ]
    }
   ],
   "source": [
    "print(\"\\n IN-BETWEEN-Results:\") \n",
    "print(end_to_end_model.predict(\n",
    "    [\n",
    "       \"Fodbold . Fjerritslev vandt i lørdags over Vordingborg 1-0. Den danske anfører dasdad dasdasd triumferer\",\n",
    "       \"Fodbold . Fjerritslev vandt i lørdags over Vordingborg. Den danske anfører adasdasdd daddas triumferer\",\n",
    "       \"Fodbold . Fjerritslev vandt i lørdags over Vordingborg. Efter kampen meddelyte den danske anfører sdfd sdfdf, at han skal under kniven\",\n",
    "       \"Fodbold . Superliga-profil har meddelelse efter sejr over Vordingborg. ' Den danske anfører fsdsdff sdffsd skal opereres og er ude i flere måneder\",\n",
    "       \"Fodbold . Superliga-profil har meddelelse efter sejr. Den danske anfører fdfd sdffdf skal opereres og er ude i flere måneder\",\n",
    "       \"Fodbold . Superliga-profil kan se frem til en længere pause. Den danske anfører fdfd sdfff skal opereres og er ude i flere måneder\",\n",
    "        ]))"
   ]
  }
 ],
 "metadata": {
  "interpreter": {
   "hash": "be0503bf1d8a1ee3ca0077be831d95fbcddd9686f11808f41fa1809452b7e6ad"
  },
  "kernelspec": {
   "display_name": "Python 3.9.7 ('newenv')",
   "language": "python",
   "name": "python3"
  },
  "language_info": {
   "codemirror_mode": {
    "name": "ipython",
    "version": 3
   },
   "file_extension": ".py",
   "mimetype": "text/x-python",
   "name": "python",
   "nbconvert_exporter": "python",
   "pygments_lexer": "ipython3",
   "version": "3.9.7"
  },
  "orig_nbformat": 4
 },
 "nbformat": 4,
 "nbformat_minor": 2
}
