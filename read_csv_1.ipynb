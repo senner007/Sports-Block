{
 "cells": [
  {
   "cell_type": "code",
   "execution_count": 66,
   "metadata": {},
   "outputs": [],
   "source": [
    "import pandas as pd\n",
    "from collections import OrderedDict\n",
    "def get_sports():\n",
    "    df_sport_latest = pd.read_csv('sports_articles.csv', encoding = \"ISO-8859-1\")\n",
    "    df_sport_2022 = pd.read_csv('sports_articles_2022.csv', encoding = \"ISO-8859-1\")\n",
    "    return pd.concat([df_sport_latest, df_sport_2022])\n"
   ]
  },
  {
   "cell_type": "code",
   "execution_count": 67,
   "metadata": {},
   "outputs": [],
   "source": [
    "def vocab_2_pdset(columns, df):\n",
    "    df_vocab_select_columns = df.iloc[:, columns]\n",
    "    vocab_all_values = df_vocab_select_columns.values.ravel()\n",
    "    return set(vocab_all_values)\n",
    "\n",
    "def vocab_2_dict(sets):\n",
    "    assert(len(sets) == 4)\n",
    "    word_set = sets[0].union(sets[1],sets[2], sets[3])\n",
    "    df = pd.DataFrame(list(word_set), columns=[\"Words\"])\n",
    "    df.sort_values(by=\"Words\", inplace=True)\n",
    "    df.reset_index(drop=True, inplace=True)\n",
    "    return OrderedDict.fromkeys(word_set)\n",
    "\n",
    "def get_vocab_dict():\n",
    "    df_ods_vocab = pd.read_table('ods_fullforms_2020-08-26.csv', header=None)\n",
    "    df_ddo_vocab = pd.read_table('ddo_fullforms_2020-08-26.csv', header=None)\n",
    "    df_vocab = pd.read_table('cor1.02.tsv', header=None)\n",
    "    df_sport_lingo = pd.read_table('sport_lingo.csv', header=None)\n",
    "\n",
    "    vocab_set = vocab_2_pdset([1,3], df_vocab)\n",
    "    ods_vocab_set = vocab_2_pdset([0,1], df_ods_vocab)\n",
    "    ddo_vocab_set = vocab_2_pdset([0,1], df_ddo_vocab)\n",
    "    sport_lingo_set = vocab_2_pdset([0], df_sport_lingo)\n",
    "\n",
    "    return vocab_2_dict([vocab_set, ods_vocab_set, ddo_vocab_set, sport_lingo_set])\n",
    "\n",
    "ordered_dict = get_vocab_dict()\n"
   ]
  },
  {
   "cell_type": "code",
   "execution_count": 68,
   "metadata": {},
   "outputs": [],
   "source": [
    "df_sport = get_sports()"
   ]
  },
  {
   "cell_type": "code",
   "execution_count": 83,
   "metadata": {},
   "outputs": [
    {
     "name": "stdout",
     "output_type": "stream",
     "text": [
      "0.03973650932312012\n"
     ]
    }
   ],
   "source": [
    "import time\n",
    "def test_lookup_performance():\n",
    "    word_to_check = \"pligtsejrer\"\n",
    "    start_time = time.time()\n",
    "\n",
    "    for x in range(1000000):\n",
    "        isin_dict = word_to_check in ordered_dict\n",
    "\n",
    "    end_time = time.time()  \n",
    "    assert(end_time - start_time < 1)\n",
    "\n",
    "test_lookup_performance()"
   ]
  },
  {
   "cell_type": "code",
   "execution_count": 70,
   "metadata": {},
   "outputs": [
    {
     "name": "stdout",
     "output_type": "stream",
     "text": [
      "total unique words: 1844\n",
      "total sports lingo words: 363\n",
      "total articles: 208\n"
     ]
    }
   ],
   "source": [
    "import re\n",
    "\n",
    "\n",
    "df_sport_text = df_sport.iloc[:, [0,1,2]]\n",
    "\n",
    "sport_vocab = df_sport_text.values.ravel()\n",
    "\n",
    "words_arr = []\n",
    "\n",
    "def replace_digits(word):\n",
    "    return re.sub(r'\\d+', 'X', word)\n",
    "\n",
    "def remove_specials(word):\n",
    "    characters_to_remove = [':', \"'\", '?', \",\", \".\"]\n",
    "    new_word = word\n",
    "\n",
    "    for char in characters_to_remove:\n",
    "        new_word = new_word.replace(char, '')\n",
    "    return new_word\n",
    "\n",
    "def contains_non_alphanumeric(word):\n",
    "    return bool(re.search(r'[^a-zæøåA-ZÆØÅ0-9]', word))\n",
    "\n",
    "def formatWord(word):\n",
    "    if any(char.isdigit() for char in word):\n",
    "        return replace_digits(word)\n",
    "    \n",
    "    \n",
    "for sentences in range(len(sport_vocab)):\n",
    "    # print(sport_vocab[sentences])\n",
    "    sentence = sport_vocab[sentences].strip()\n",
    "    words = sentence.split()\n",
    "    for word in range(len(words)):\n",
    "        w = words[word]\n",
    "        if any(char.isdigit() for char in w):\n",
    "            w = replace_digits(w)\n",
    "        if contains_non_alphanumeric(w):\n",
    "            w = remove_specials(w)\n",
    "        words_arr.append(w.lower())\n",
    "\n",
    "words_sport_unique = set(words_arr)\n",
    "words_sport_unique_list = list(words_sport_unique)\n",
    "words_sport_lingo = []\n",
    "\n",
    "# TODO : brug tensorflow Tokenezier til at omdanne ord til tokens\n",
    "# TODO : søg i alle leksikoner, søg med og uden bindestreg\n",
    "# TODO : håndter tal ikke i ordbøger eks ( x-x eller x-årig)\n",
    "\n",
    "for w in range(len(words_sport_unique)):\n",
    "    isin_dict = words_sport_unique_list[w] in ordered_dict\n",
    "    if (isin_dict == False):\n",
    "        words_sport_lingo.append(words_sport_unique_list[w])\n",
    "\n",
    "print(\"total unique words:\", len(words_sport_unique) )\n",
    "print(\"total sports lingo words:\", len(words_sport_lingo) )\n",
    "print(\"total articles:\", len(df_sport) )\n"
   ]
  },
  {
   "cell_type": "code",
   "execution_count": 71,
   "metadata": {},
   "outputs": [],
   "source": [
    "words_sport_lingo\n",
    "file = open('sport_lingo.txt','w')\n",
    "for item in words_sport_lingo:\n",
    "\tfile.write(item+\"\\n\")\n",
    "file.close()"
   ]
  },
  {
   "cell_type": "code",
   "execution_count": 72,
   "metadata": {},
   "outputs": [],
   "source": [
    "def format_2_bool(x):\n",
    "    if type(x) == bool:\n",
    "        return x\n",
    "    assert(type(x) == str)\n",
    "    x_copy = x\n",
    "    x_copy = x_copy.strip()\n",
    "    x_copy = x_copy.lower()\n",
    "    assert(x_copy == \"true\" or x_copy == \"false\")\n",
    "    if x_copy == \"true\":\n",
    "        return True\n",
    "    else:\n",
    "        return False"
   ]
  },
  {
   "cell_type": "code",
   "execution_count": 73,
   "metadata": {},
   "outputs": [
    {
     "name": "stdout",
     "output_type": "stream",
     "text": [
      "117\n",
      "91\n"
     ]
    }
   ],
   "source": [
    "\n",
    "df_sport['isResult'] = df_sport['isResult'].apply(lambda x: format_2_bool(x))\n",
    "\n",
    "df_sport['isResult'][0:10]\n",
    "\n",
    "results_true = df_sport.loc[df_sport[\"isResult\"] == True]\n",
    "results_false = df_sport.loc[df_sport[\"isResult\"] == False]\n",
    "\n",
    "assert(len(results_true) + len(results_false) == len(df_sport))\n",
    "\n",
    "print(len(results_true))\n",
    "print(len(results_false))"
   ]
  }
 ],
 "metadata": {
  "kernelspec": {
   "display_name": "Python 3",
   "language": "python",
   "name": "python3"
  },
  "language_info": {
   "codemirror_mode": {
    "name": "ipython",
    "version": 3
   },
   "file_extension": ".py",
   "mimetype": "text/x-python",
   "name": "python",
   "nbconvert_exporter": "python",
   "pygments_lexer": "ipython3",
   "version": "3.11.0"
  },
  "orig_nbformat": 4
 },
 "nbformat": 4,
 "nbformat_minor": 2
}
