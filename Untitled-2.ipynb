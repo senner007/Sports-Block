{
 "cells": [
  {
   "cell_type": "code",
   "execution_count": 1,
   "metadata": {},
   "outputs": [
    {
     "name": "stderr",
     "output_type": "stream",
     "text": [
      "2023-11-16 12:56:54.752333: I tensorflow/stream_executor/platform/default/dso_loader.cc:53] Successfully opened dynamic library libcudart.so.11.0\n"
     ]
    }
   ],
   "source": [
    "import tensorflow as tf\n",
    "from tensorflow import keras\n",
    "\n"
   ]
  },
  {
   "cell_type": "code",
   "execution_count": 2,
   "metadata": {},
   "outputs": [],
   "source": [
    "\n",
    "from tensorflow.keras.layers.experimental.preprocessing import TextVectorization\n",
    "from vectorization import replace_finals\n",
    "from vectorization import replace_nationality\n",
    "from vectorization import to_lower\n",
    "from vectorization import remove_dash\n",
    "from vectorization import split_included_specials\n",
    "from vectorization import replace_tournament\n",
    "from vectorization import replace_countries\n",
    "from vectorization import replace_weekday\n",
    "from vectorization import replace_digits\n",
    "from vectorization import vect_layer_2_text\n",
    "from vectorization import vectorize_layer\n",
    "from vectorization import standardize\n",
    "from static_data import tournaments\n",
    "from static_data import weekdays\n",
    "from static_data import non_alpha\n",
    "from static_data import word_generalization\n",
    "\n",
    "\n",
    "# TODO : evt indikere hvilke navneord der starte med stort bogstav(egenavne), evt. lave et opslag for at undersøge ordklasse for det første ord i sætningen \n",
    "# TODO : test hvilke standarization funktioner giver bedre resultater \n",
    "\n",
    "# vectorization_formatters = [\n",
    "#     to_lower, \n",
    "#     remove_dash, \n",
    "#     split_included_specials, \n",
    "#     replace_tournament(tournaments),\n",
    "#     replace_countries(countries), \n",
    "#     replace_weekday(weekdays), \n",
    "#     replace_finals,\n",
    "#     replace_nationality(nationalities),\n",
    "#     replace_digits\n",
    "# ]\n",
    "\n",
    "# vectorization_pipe = standardize(vectorization_formatters)\n",
    "\n",
    "# words_train_vocab.extend(word_generalization)\n",
    "# words_train_vocab.extend(non_alpha)\n",
    "\n",
    "# # Model constants.\n",
    "# max_features = 7200\n",
    "# sequence_length = 60\n",
    "\n",
    "# vectorize = vectorize_layer(max_features, sequence_length, vectorization_pipe)\n",
    "\n",
    "# vectorize.adapt(words_train_vocab)\n",
    "# vectorization_vocab = vectorize.get_vocabulary()\n",
    "\n",
    "# print(\"Total vocab/max_features : \",  len(vectorization_vocab))\n",
    "\n",
    "# print (vect_layer_2_text(vectorize([\"HÅNDBOLD . Danskerdrama og dansk føring med danskermål i danskerfinale\"]), vectorization_vocab))\n",
    "\n",
    "\n",
    "# vectorize([\"OL Meget skal ske før en medalje kommer inden for rækkevidde. Dressurrytter Malene dsds har mistet troen på success\"])"
   ]
  },
  {
   "cell_type": "code",
   "execution_count": 3,
   "metadata": {},
   "outputs": [
    {
     "name": "stderr",
     "output_type": "stream",
     "text": [
      "2023-11-16 12:56:57.895140: I tensorflow/stream_executor/platform/default/dso_loader.cc:53] Successfully opened dynamic library libcuda.so.1\n",
      "2023-11-16 12:56:58.197584: I tensorflow/stream_executor/cuda/cuda_gpu_executor.cc:923] could not open file to read NUMA node: /sys/bus/pci/devices/0000:01:00.0/numa_node\n",
      "Your kernel may have been built without NUMA support.\n",
      "2023-11-16 12:56:58.197627: I tensorflow/core/common_runtime/gpu/gpu_device.cc:1733] Found device 0 with properties: \n",
      "pciBusID: 0000:01:00.0 name: NVIDIA GeForce RTX 3080 computeCapability: 8.6\n",
      "coreClock: 1.905GHz coreCount: 68 deviceMemorySize: 10.00GiB deviceMemoryBandwidth: 707.88GiB/s\n",
      "2023-11-16 12:56:58.197655: I tensorflow/stream_executor/platform/default/dso_loader.cc:53] Successfully opened dynamic library libcudart.so.11.0\n",
      "2023-11-16 12:56:58.279090: I tensorflow/stream_executor/platform/default/dso_loader.cc:53] Successfully opened dynamic library libcublas.so.11\n",
      "2023-11-16 12:56:58.279171: I tensorflow/stream_executor/platform/default/dso_loader.cc:53] Successfully opened dynamic library libcublasLt.so.11\n",
      "2023-11-16 12:56:58.306650: I tensorflow/stream_executor/platform/default/dso_loader.cc:53] Successfully opened dynamic library libcufft.so.10\n",
      "2023-11-16 12:56:58.314268: I tensorflow/stream_executor/platform/default/dso_loader.cc:53] Successfully opened dynamic library libcurand.so.10\n",
      "2023-11-16 12:56:58.319776: I tensorflow/stream_executor/platform/default/dso_loader.cc:53] Successfully opened dynamic library libcusolver.so.11\n",
      "2023-11-16 12:56:58.333127: I tensorflow/stream_executor/platform/default/dso_loader.cc:53] Successfully opened dynamic library libcusparse.so.11\n",
      "2023-11-16 12:56:58.334847: I tensorflow/stream_executor/platform/default/dso_loader.cc:53] Successfully opened dynamic library libcudnn.so.8\n",
      "2023-11-16 12:56:58.335314: I tensorflow/stream_executor/cuda/cuda_gpu_executor.cc:923] could not open file to read NUMA node: /sys/bus/pci/devices/0000:01:00.0/numa_node\n",
      "Your kernel may have been built without NUMA support.\n",
      "2023-11-16 12:56:58.335632: I tensorflow/stream_executor/cuda/cuda_gpu_executor.cc:923] could not open file to read NUMA node: /sys/bus/pci/devices/0000:01:00.0/numa_node\n",
      "Your kernel may have been built without NUMA support.\n",
      "2023-11-16 12:56:58.336273: I tensorflow/core/common_runtime/gpu/gpu_device.cc:1871] Adding visible gpu devices: 0\n",
      "2023-11-16 12:56:58.337028: I tensorflow/core/platform/cpu_feature_guard.cc:142] This TensorFlow binary is optimized with oneAPI Deep Neural Network Library (oneDNN) to use the following CPU instructions in performance-critical operations:  AVX2 FMA\n",
      "To enable them in other operations, rebuild TensorFlow with the appropriate compiler flags.\n",
      "2023-11-16 12:56:58.338327: I tensorflow/stream_executor/cuda/cuda_gpu_executor.cc:923] could not open file to read NUMA node: /sys/bus/pci/devices/0000:01:00.0/numa_node\n",
      "Your kernel may have been built without NUMA support.\n",
      "2023-11-16 12:56:58.338345: I tensorflow/core/common_runtime/gpu/gpu_device.cc:1733] Found device 0 with properties: \n",
      "pciBusID: 0000:01:00.0 name: NVIDIA GeForce RTX 3080 computeCapability: 8.6\n",
      "coreClock: 1.905GHz coreCount: 68 deviceMemorySize: 10.00GiB deviceMemoryBandwidth: 707.88GiB/s\n",
      "2023-11-16 12:56:58.338577: I tensorflow/stream_executor/cuda/cuda_gpu_executor.cc:923] could not open file to read NUMA node: /sys/bus/pci/devices/0000:01:00.0/numa_node\n",
      "Your kernel may have been built without NUMA support.\n",
      "2023-11-16 12:56:58.338794: I tensorflow/stream_executor/cuda/cuda_gpu_executor.cc:923] could not open file to read NUMA node: /sys/bus/pci/devices/0000:01:00.0/numa_node\n",
      "Your kernel may have been built without NUMA support.\n",
      "2023-11-16 12:56:58.338802: I tensorflow/core/common_runtime/gpu/gpu_device.cc:1871] Adding visible gpu devices: 0\n",
      "2023-11-16 12:56:58.339602: I tensorflow/stream_executor/platform/default/dso_loader.cc:53] Successfully opened dynamic library libcudart.so.11.0\n",
      "2023-11-16 12:56:59.821291: I tensorflow/core/common_runtime/gpu/gpu_device.cc:1258] Device interconnect StreamExecutor with strength 1 edge matrix:\n",
      "2023-11-16 12:56:59.821310: I tensorflow/core/common_runtime/gpu/gpu_device.cc:1264]      0 \n",
      "2023-11-16 12:56:59.821315: I tensorflow/core/common_runtime/gpu/gpu_device.cc:1277] 0:   N \n",
      "2023-11-16 12:56:59.822025: I tensorflow/stream_executor/cuda/cuda_gpu_executor.cc:923] could not open file to read NUMA node: /sys/bus/pci/devices/0000:01:00.0/numa_node\n",
      "Your kernel may have been built without NUMA support.\n",
      "2023-11-16 12:56:59.822504: I tensorflow/stream_executor/cuda/cuda_gpu_executor.cc:923] could not open file to read NUMA node: /sys/bus/pci/devices/0000:01:00.0/numa_node\n",
      "Your kernel may have been built without NUMA support.\n",
      "2023-11-16 12:56:59.822515: I tensorflow/core/common_runtime/gpu/gpu_device.cc:1501] Could not identify NUMA node of platform GPU id 0, defaulting to 0.  Your kernel may not have been built with NUMA support.\n",
      "2023-11-16 12:56:59.822960: I tensorflow/stream_executor/cuda/cuda_gpu_executor.cc:923] could not open file to read NUMA node: /sys/bus/pci/devices/0000:01:00.0/numa_node\n",
      "Your kernel may have been built without NUMA support.\n",
      "2023-11-16 12:56:59.822990: I tensorflow/core/common_runtime/gpu/gpu_device.cc:1418] Created TensorFlow device (/job:localhost/replica:0/task:0/device:GPU:0 with 7393 MB memory) -> physical GPU (device: 0, name: NVIDIA GeForce RTX 3080, pci bus id: 0000:01:00.0, compute capability: 8.6)\n",
      "2023-11-16 12:57:01.681563: I tensorflow/compiler/mlir/mlir_graph_optimization_pass.cc:176] None of the MLIR Optimization Passes are enabled (registered 2)\n",
      "2023-11-16 12:57:01.685743: I tensorflow/core/platform/profile_utils/cpu_utils.cc:114] CPU Frequency: 3791995000 Hz\n"
     ]
    },
    {
     "data": {
      "text/plain": [
       "<tensorflow.python.keras.engine.functional.Functional at 0x7f53c05d5ac0>"
      ]
     },
     "execution_count": 3,
     "metadata": {},
     "output_type": "execute_result"
    }
   ],
   "source": [
    "\n",
    "\n",
    "\n",
    "loaded_model = tf.keras.models.load_model('end_to_end_model')\n",
    "\n",
    "loaded_model\n"
   ]
  },
  {
   "cell_type": "code",
   "execution_count": 4,
   "metadata": {},
   "outputs": [
    {
     "name": "stderr",
     "output_type": "stream",
     "text": [
      "2023-11-16 12:57:02.550121: I tensorflow/stream_executor/platform/default/dso_loader.cc:53] Successfully opened dynamic library libcublas.so.11\n"
     ]
    },
    {
     "name": "stdout",
     "output_type": "stream",
     "text": [
      "[[0.89782864]\n",
      " [0.99078417]\n",
      " [0.9996613 ]\n",
      " [0.8875204 ]\n",
      " [0.93302536]]\n",
      "\n",
      " NON-Results:\n",
      "[[0.8365204 ]\n",
      " [0.00679742]\n",
      " [0.22160801]\n",
      " [0.17120542]\n",
      " [0.006026  ]\n",
      " [0.02829003]\n",
      " [0.018579  ]\n",
      " [0.173781  ]\n",
      " [0.80577993]]\n"
     ]
    },
    {
     "name": "stderr",
     "output_type": "stream",
     "text": [
      "2023-11-16 12:57:04.893514: I tensorflow/stream_executor/platform/default/dso_loader.cc:53] Successfully opened dynamic library libcublasLt.so.11\n",
      "2023-11-16 12:57:04.893568: I tensorflow/stream_executor/cuda/cuda_blas.cc:1838] TensorFloat-32 will be used for the matrix multiplication. This will only be logged once.\n"
     ]
    }
   ],
   "source": [
    "print(loaded_model.predict(\n",
    "    [\n",
    "      \"Fodbold . Fjerritslev vinder over Vordingborg. Træner kommenterer på historisk kamp\",\n",
    "       \"SPORT . Hun vandt bronze i mandags Roer Anne Dsane Andersen har som 24-årig vundet bronze ved OL\",\n",
    "       \"Badminton . Axelsen frustreret over nederlag. Viktor Axelsen trænger til ferie efter nedturen\",\n",
    "      \"OL . Det blev til en flot medalje til Malene dfhsds. 'Jeg er meget lykkelig for resultatet'\",\n",
    "      \"Badminton . Dansker er videre til finalerne. dsfsdf sfdsdf bankede Fdfsdf fra Kina og skal spille i finalen på onsdag\",\n",
    "     ]))\n",
    "\n",
    "     \n",
    "print(\"\\n NON-Results:\") \n",
    "print(loaded_model.predict(\n",
    "    [\n",
    "      \"Badminton . Dansker er videre til finalerne. dsfsdf sfdsdf skal spille i finalen på onsdag\",\n",
    "      \"OL Meget skal ske før en medalje kommer inden for rækkevidde. Dressurrytter Malene dsds har mistet troen på success\",\n",
    "      \"Fodbold . Træner for Fjerritslev ser frem til sejr over Vordingborg. 'Det bliver en historisk kamp'\",\n",
    "      \"Fodbold . De danske spillere skal op imod Sverige, som de tabte til i 2022\",\n",
    "      \"Fodbold . De danske spillere vil forsøge at besejre Tyrkiet den kommende Lørdag i VM-kamp. Tyrkiet har aldriv været i en VM-finale\",\n",
    "      \"Fodbold . De danske spillere tror på sejr mod Tyrkiet. 'Den skal vindes'\",\n",
    "      \"Skisport . Sverige drømmer om flere medaljer og sejre til næste års OL . Træner forventer flere gode resultater\",\n",
    "      \"Boksning . Kesler vil overraske alle og gøre det umulige. 'Jeg vinder i VM'\",\n",
    "      \"Boksning . Kesler med stor selvtillid: 'Det bliver guld eller sølv til VM'\"\n",
    "     ]))"
   ]
  },
  {
   "cell_type": "code",
   "execution_count": 5,
   "metadata": {},
   "outputs": [],
   "source": [
    "# import json\n",
    "\n",
    "# from typing import List\n",
    "\n",
    "# from http.server import HTTPServer\n",
    "# from http.server import BaseHTTPRequestHandler\n",
    "\n",
    "# from attrs import asdict\n",
    "# from attrs import define\n",
    "\n",
    "# HOST = \"127.0.0.1\"\n",
    "# PORT = 8027 # <----- nailed it in the 27th try :)\n",
    "\n",
    "# @define\n",
    "# class Entry:\n",
    "\n",
    "#     name: str\n",
    "#     some_list: List[int]\n",
    "\n",
    "# class Handler(BaseHTTPRequestHandler):\n",
    "#     def do_POST(self):\n",
    "        \n",
    "#         # read incoming sent data\n",
    "#         data = self.rfile.read(self._sent_data_size)\n",
    "        \n",
    "#         # do something with it ...\n",
    "#         response = self._process(data.decode(\"utf-8\"))\n",
    "\n",
    "#         # perpare the (json) response\n",
    "#         jsonbytes = self._prepare_json_response(response)\n",
    "                    \n",
    "#         # send the (json) response back ...\n",
    "#         self.wfile.write(jsonbytes)\n",
    "\n",
    "#     def _process(self, data: str) -> List[Entry]:\n",
    "#         return [\n",
    "#             Entry(\"employee\"+str(i), [d[\"id\"], d[\"salary\"]])\n",
    "#             for i, d in enumerate(json.loads(data))\n",
    "#         ]\n",
    "\n",
    "#     def _prepare_json_response(self, response: List[Entry]) -> bytes:\n",
    "#         self.send_response(200)\n",
    "#         self.send_header(\"Content-type\", \"application/json\")\n",
    "#         self.end_headers()\n",
    "#         jsonstr = json.dumps(\n",
    "#             response,\n",
    "#             indent=4,\n",
    "#             default=asdict\n",
    "#         )\n",
    "#         return jsonstr.encode()\n",
    "\n",
    "#     @property\n",
    "#     def _sent_data_size(self) -> int:\n",
    "#         return int(self.headers.get(\"Content-Length\"))\n",
    "\n",
    "# server = HTTPServer((HOST, PORT), Handler)\n",
    "# server.serve_forever()\n",
    "# server.serve_close()"
   ]
  },
  {
   "cell_type": "code",
   "execution_count": 6,
   "metadata": {},
   "outputs": [],
   "source": [
    "# import requests\n",
    "\n",
    "# with open(\"input.json\") as fl:\n",
    "#     data = json.load(fl)\n",
    "\n",
    "# x = requests.post(\"http://localhost:8027\", json=data)\n",
    "# print(x.json())"
   ]
  },
  {
   "cell_type": "code",
   "execution_count": 7,
   "metadata": {},
   "outputs": [
    {
     "name": "stdout",
     "output_type": "stream",
     "text": [
      "<__main__.Serv object at 0x7f5270623430>\n",
      "b'{\"question\":\"fodbold . Viborg forventer sejr\"}'\n",
      "{'question': 'fodbold . Viborg forventer sejr'}\n",
      "0.5323107\n"
     ]
    },
    {
     "name": "stderr",
     "output_type": "stream",
     "text": [
      "127.0.0.1 - - [16/Nov/2023 12:57:11] \"POST / HTTP/1.1\" 200 -\n"
     ]
    },
    {
     "name": "stdout",
     "output_type": "stream",
     "text": [
      "<__main__.Serv object at 0x7f52705bd730>\n",
      "b'{\"question\":\"Tour de France . Vingegaard kommer til at savne n\\xc3\\xb8glehj\\xc3\\xa6lpere: \\'De er meget sv\\xc3\\xa6re at erstatte\\' . Jonas Vingegaard er sp\\xc3\\xa6ndt p\\xc3\\xa5, hvad danskerens hold g\\xc3\\xb8r for at udfylde hullerne til n\\xc3\\xa6ste \\xc3\\xa5rs Tour de France.\"}'\n",
      "{'question': \"Tour de France . Vingegaard kommer til at savne nøglehjælpere: 'De er meget svære at erstatte' . Jonas Vingegaard er spændt på, hvad danskerens hold gør for at udfylde hullerne til næste års Tour de France.\"}\n",
      "0.01264683\n"
     ]
    },
    {
     "name": "stderr",
     "output_type": "stream",
     "text": [
      "127.0.0.1 - - [16/Nov/2023 12:57:25] \"POST / HTTP/1.1\" 200 -\n"
     ]
    },
    {
     "name": "stdout",
     "output_type": "stream",
     "text": [
      "<__main__.Serv object at 0x7f527061da30>\n",
      "b'{\"question\":\"Tour de France . Vingegaard kommer til at savne n\\xc3\\xb8glehj\\xc3\\xa6lpere: \\'De er meget sv\\xc3\\xa6re at erstatte\\' . Jonas Vingegaard er sp\\xc3\\xa6ndt p\\xc3\\xa5, hvad danskerens hold g\\xc3\\xb8r for at udfylde hullerne til n\\xc3\\xa6ste \\xc3\\xa5rs Tour de France.\"}'\n",
      "{'question': \"Tour de France . Vingegaard kommer til at savne nøglehjælpere: 'De er meget svære at erstatte' . Jonas Vingegaard er spændt på, hvad danskerens hold gør for at udfylde hullerne til næste års Tour de France.\"}\n",
      "0.01264683\n"
     ]
    },
    {
     "name": "stderr",
     "output_type": "stream",
     "text": [
      "127.0.0.1 - - [16/Nov/2023 12:57:56] \"POST / HTTP/1.1\" 200 -\n"
     ]
    },
    {
     "name": "stdout",
     "output_type": "stream",
     "text": [
      "<__main__.Serv object at 0x7f52705cc910>\n",
      "b'{\"question\":\"Tour de France . Vingegaard kommer til at savne n\\xc3\\xb8glehj\\xc3\\xa6lpere: \\'De er meget sv\\xc3\\xa6re at erstatte\\' . Jonas Vingegaard er sp\\xc3\\xa6ndt p\\xc3\\xa5, hvad danskerens hold g\\xc3\\xb8r for at udfylde hullerne til n\\xc3\\xa6ste \\xc3\\xa5rs Tour de France.\"}'\n",
      "{'question': \"Tour de France . Vingegaard kommer til at savne nøglehjælpere: 'De er meget svære at erstatte' . Jonas Vingegaard er spændt på, hvad danskerens hold gør for at udfylde hullerne til næste års Tour de France.\"}\n",
      "0.01264683\n"
     ]
    },
    {
     "name": "stderr",
     "output_type": "stream",
     "text": [
      "127.0.0.1 - - [16/Nov/2023 12:59:55] \"POST / HTTP/1.1\" 200 -\n"
     ]
    },
    {
     "ename": "KeyboardInterrupt",
     "evalue": "",
     "output_type": "error",
     "traceback": [
      "\u001b[0;31m---------------------------------------------------------------------------\u001b[0m",
      "\u001b[0;31mKeyboardInterrupt\u001b[0m                         Traceback (most recent call last)",
      "\u001b[0;32m/tmp/ipykernel_3965/2746111782.py\u001b[0m in \u001b[0;36m<module>\u001b[0;34m\u001b[0m\n\u001b[1;32m     45\u001b[0m \u001b[0;34m\u001b[0m\u001b[0m\n\u001b[1;32m     46\u001b[0m \u001b[0mhttpd\u001b[0m \u001b[0;34m=\u001b[0m \u001b[0mHTTPServer\u001b[0m\u001b[0;34m(\u001b[0m\u001b[0;34m(\u001b[0m\u001b[0;34m'localhost'\u001b[0m\u001b[0;34m,\u001b[0m\u001b[0;36m8080\u001b[0m\u001b[0;34m)\u001b[0m\u001b[0;34m,\u001b[0m\u001b[0mServ\u001b[0m\u001b[0;34m)\u001b[0m\u001b[0;34m\u001b[0m\u001b[0;34m\u001b[0m\u001b[0m\n\u001b[0;32m---> 47\u001b[0;31m \u001b[0mhttpd\u001b[0m\u001b[0;34m.\u001b[0m\u001b[0mserve_forever\u001b[0m\u001b[0;34m(\u001b[0m\u001b[0;34m)\u001b[0m\u001b[0;34m\u001b[0m\u001b[0;34m\u001b[0m\u001b[0m\n\u001b[0m",
      "\u001b[0;32m~/miniconda3/envs/newenv/lib/python3.9/socketserver.py\u001b[0m in \u001b[0;36mserve_forever\u001b[0;34m(self, poll_interval)\u001b[0m\n\u001b[1;32m    230\u001b[0m \u001b[0;34m\u001b[0m\u001b[0m\n\u001b[1;32m    231\u001b[0m                 \u001b[0;32mwhile\u001b[0m \u001b[0;32mnot\u001b[0m \u001b[0mself\u001b[0m\u001b[0;34m.\u001b[0m\u001b[0m__shutdown_request\u001b[0m\u001b[0;34m:\u001b[0m\u001b[0;34m\u001b[0m\u001b[0;34m\u001b[0m\u001b[0m\n\u001b[0;32m--> 232\u001b[0;31m                     \u001b[0mready\u001b[0m \u001b[0;34m=\u001b[0m \u001b[0mselector\u001b[0m\u001b[0;34m.\u001b[0m\u001b[0mselect\u001b[0m\u001b[0;34m(\u001b[0m\u001b[0mpoll_interval\u001b[0m\u001b[0;34m)\u001b[0m\u001b[0;34m\u001b[0m\u001b[0;34m\u001b[0m\u001b[0m\n\u001b[0m\u001b[1;32m    233\u001b[0m                     \u001b[0;31m# bpo-35017: shutdown() called during select(), exit immediately.\u001b[0m\u001b[0;34m\u001b[0m\u001b[0;34m\u001b[0m\u001b[0m\n\u001b[1;32m    234\u001b[0m                     \u001b[0;32mif\u001b[0m \u001b[0mself\u001b[0m\u001b[0;34m.\u001b[0m\u001b[0m__shutdown_request\u001b[0m\u001b[0;34m:\u001b[0m\u001b[0;34m\u001b[0m\u001b[0;34m\u001b[0m\u001b[0m\n",
      "\u001b[0;32m~/miniconda3/envs/newenv/lib/python3.9/selectors.py\u001b[0m in \u001b[0;36mselect\u001b[0;34m(self, timeout)\u001b[0m\n\u001b[1;32m    414\u001b[0m         \u001b[0mready\u001b[0m \u001b[0;34m=\u001b[0m \u001b[0;34m[\u001b[0m\u001b[0;34m]\u001b[0m\u001b[0;34m\u001b[0m\u001b[0;34m\u001b[0m\u001b[0m\n\u001b[1;32m    415\u001b[0m         \u001b[0;32mtry\u001b[0m\u001b[0;34m:\u001b[0m\u001b[0;34m\u001b[0m\u001b[0;34m\u001b[0m\u001b[0m\n\u001b[0;32m--> 416\u001b[0;31m             \u001b[0mfd_event_list\u001b[0m \u001b[0;34m=\u001b[0m \u001b[0mself\u001b[0m\u001b[0;34m.\u001b[0m\u001b[0m_selector\u001b[0m\u001b[0;34m.\u001b[0m\u001b[0mpoll\u001b[0m\u001b[0;34m(\u001b[0m\u001b[0mtimeout\u001b[0m\u001b[0;34m)\u001b[0m\u001b[0;34m\u001b[0m\u001b[0;34m\u001b[0m\u001b[0m\n\u001b[0m\u001b[1;32m    417\u001b[0m         \u001b[0;32mexcept\u001b[0m \u001b[0mInterruptedError\u001b[0m\u001b[0;34m:\u001b[0m\u001b[0;34m\u001b[0m\u001b[0;34m\u001b[0m\u001b[0m\n\u001b[1;32m    418\u001b[0m             \u001b[0;32mreturn\u001b[0m \u001b[0mready\u001b[0m\u001b[0;34m\u001b[0m\u001b[0;34m\u001b[0m\u001b[0m\n",
      "\u001b[0;31mKeyboardInterrupt\u001b[0m: "
     ]
    }
   ],
   "source": [
    "from http.server import HTTPServer, BaseHTTPRequestHandler\n",
    "import json\n",
    "\n",
    "class Serv(BaseHTTPRequestHandler):\n",
    "\n",
    "   def do_GET(self):\n",
    "      print(self.path)\n",
    "      if self.path == '/':\n",
    "         self.path = '/test.html'\n",
    "      # try:\n",
    "      # file_to_open = open(self.path[1:]).read()\n",
    "      self.send_response(200)\n",
    "      # except:\n",
    "      #    file_to_open = \"File not found fdf\"\n",
    "      #    self.send_response(404)\n",
    "      self.send_header('Access-Control-Allow-Origin', '*')\n",
    "      self.send_header('Access-Control-Allow-Methods', 'GET')\n",
    "      self.send_header('Cache-Control', 'no-store, no-cache, must-revalidate')\n",
    "      self.end_headers()\n",
    "      response = json.dumps({'hello': 'world', 'received': 'ok'})\n",
    "      response = bytes(response, 'utf-8')\n",
    "      self.wfile.write(response)\n",
    "      \n",
    "   def do_POST(self):\n",
    "      print(self)\n",
    "      content_length = int(self.headers['Content-Length']) # <--- Gets the size of data\n",
    "      post_data = self.rfile.read(content_length) # <--- Gets the data itself\n",
    "      l = json.loads(post_data)\n",
    "      print(post_data)\n",
    "      print(l)\n",
    "\n",
    "      response = loaded_model.predict([l[\"question\"]])\n",
    "      print(str(response[0][0]))\n",
    "\n",
    "      reponse_str = str(response[0][0])\n",
    "\n",
    "\n",
    "      # logging.info(\"POST request,\\nPath: %s\\nHeaders:\\n%s\\n\\nBody:\\n%s\\n\",\n",
    "      #          str(self.path), str(self.headers), post_data.decode('utf-8'))\n",
    "      # self.send_header('Access-Control-Allow-Origin', '*')\n",
    "      self.send_response(200)\n",
    "      self.end_headers()\n",
    "      self.wfile.write(bytes(reponse_str, 'utf-8'))\n",
    "      \n",
    "\n",
    "httpd = HTTPServer(('localhost',8080),Serv)\n",
    "httpd.serve_forever()"
   ]
  },
  {
   "cell_type": "code",
   "execution_count": null,
   "metadata": {},
   "outputs": [],
   "source": [
    "# from http.server import HTTPServer, SimpleHTTPRequestHandler\n",
    "\n",
    "\n",
    "# class CORSRequestHandler(SimpleHTTPRequestHandler):\n",
    "#     def end_headers(self):\n",
    "#         self.send_header('Access-Control-Allow-Origin', '*')\n",
    "#         self.send_header('Access-Control-Allow-Methods', 'GET')\n",
    "#         self.send_header('Cache-Control', 'no-store, no-cache, must-revalidate')\n",
    "#         return super(CORSRequestHandler, self).end_headers()\n",
    "\n",
    "\n",
    "# httpd = HTTPServer(('localhost', 8003), CORSRequestHandler)\n",
    "# httpd.serve_forever()"
   ]
  },
  {
   "cell_type": "code",
   "execution_count": null,
   "metadata": {},
   "outputs": [],
   "source": []
  }
 ],
 "metadata": {
  "kernelspec": {
   "display_name": "newenv",
   "language": "python",
   "name": "python3"
  },
  "language_info": {
   "codemirror_mode": {
    "name": "ipython",
    "version": 3
   },
   "file_extension": ".py",
   "mimetype": "text/x-python",
   "name": "python",
   "nbconvert_exporter": "python",
   "pygments_lexer": "ipython3",
   "version": "3.9.7"
  }
 },
 "nbformat": 4,
 "nbformat_minor": 2
}
