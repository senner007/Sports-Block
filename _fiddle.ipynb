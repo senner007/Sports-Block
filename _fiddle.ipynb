{
 "cells": [
  {
   "cell_type": "code",
   "execution_count": 7,
   "metadata": {},
   "outputs": [
    {
     "name": "stderr",
     "output_type": "stream",
     "text": [
      "2023-11-16 14:58:51.699329: I tensorflow/stream_executor/platform/default/dso_loader.cc:53] Successfully opened dynamic library libcudart.so.11.0\n"
     ]
    }
   ],
   "source": [
    "import numpy as np\n",
    "import pandas as pd\n",
    "import tensorflow as tf\n",
    "%load_ext autoreload\n",
    "%autoreload 2\n"
   ]
  },
  {
   "cell_type": "code",
   "execution_count": 2,
   "metadata": {},
   "outputs": [
    {
     "data": {
      "text/plain": [
       "'2.5.0'"
      ]
     },
     "execution_count": 2,
     "metadata": {},
     "output_type": "execute_result"
    }
   ],
   "source": [
    "tf.__version__"
   ]
  },
  {
   "cell_type": "code",
   "execution_count": 29,
   "metadata": {},
   "outputs": [
    {
     "ename": "ModuleNotFoundError",
     "evalue": "No module named 'lemmyz'",
     "output_type": "error",
     "traceback": [
      "\u001b[0;31m---------------------------------------------------------------------------\u001b[0m",
      "\u001b[0;31mModuleNotFoundError\u001b[0m                       Traceback (most recent call last)",
      "\u001b[0;32m/tmp/ipykernel_12640/4220660113.py\u001b[0m in \u001b[0;36m<module>\u001b[0;34m\u001b[0m\n\u001b[0;32m----> 1\u001b[0;31m \u001b[0;32mimport\u001b[0m \u001b[0mlemmyz\u001b[0m\u001b[0;34m\u001b[0m\u001b[0;34m\u001b[0m\u001b[0m\n\u001b[0m",
      "\u001b[0;31mModuleNotFoundError\u001b[0m: No module named 'lemmyz'"
     ]
    }
   ],
   "source": [
    "import lemmyz"
   ]
  },
  {
   "cell_type": "code",
   "execution_count": null,
   "metadata": {},
   "outputs": [],
   "source": [
    "import re\n",
    "word_list = [\"et\", \"en\", \"den\", \"denne\", \"fået\", \"bilen\", \"etikette\", \"anden\", \"pennen\", \"kanin\"]\n",
    "\n",
    "\n",
    "# pattern = r'(\\b(et|en|den|dens|denne)\\b)'\n",
    "pattern = r'^(?:et|en|den|dens|denne)\\b'\n",
    "filtered_words = [word for word in word_list if not re.search(pattern, word, re.IGNORECASE)]\n",
    "\n",
    "filtered_words\n"
   ]
  },
  {
   "cell_type": "code",
   "execution_count": null,
   "metadata": {},
   "outputs": [],
   "source": [
    "import re\n",
    "word_list = [\"maj\", \"åmaj\"]\n",
    "\n",
    "\n",
    "# pattern = r'(\\b(et|en|den|dens|denne)\\b)'\n",
    "pattern = r'(?<=[\\s]|^)mandag(?:s|en|e?)?(?=[\\s]|$)'\n",
    "filtered_words = [word for word in word_list if not re.search(pattern, word, re.IGNORECASE)]\n",
    "\n",
    "filtered_words"
   ]
  },
  {
   "cell_type": "code",
   "execution_count": null,
   "metadata": {},
   "outputs": [],
   "source": [
    "s = \"Oscar Fisker Mølgaard og Kristers Steinbergs er blandt de udvalgte til VM-testkampene mod Sverige i næste uge.\"\n",
    "sentence_trimmed = s.rstrip(\".\")\n",
    "\n",
    "sentence_trimmed"
   ]
  },
  {
   "cell_type": "code",
   "execution_count": null,
   "metadata": {},
   "outputs": [
    {
     "name": "stdout",
     "output_type": "stream",
     "text": [
      "[]\n"
     ]
    }
   ],
   "source": [
    "from create_vocab import split_sentences, strip_sentences\n",
    "a = [\"foo\", \"bar\", \"foo \"]\n",
    "\n",
    "import collections\n",
    "print([item for item, count in collections.Counter(strip_sentences(a)).items() if count > 1])\n",
    "\n",
    "## [1, 2, 5]"
   ]
  },
  {
   "cell_type": "code",
   "execution_count": null,
   "metadata": {},
   "outputs": [
    {
     "data": {
      "text/plain": [
       "['Eksperter er yderst imponeret over Wozniackis indsats', 'fsdfsdff']"
      ]
     },
     "execution_count": 8,
     "metadata": {},
     "output_type": "execute_result"
    }
   ],
   "source": [
    "# def strip_strings(strs):\n",
    "#     stripped = []\n",
    "#     for s in strs:\n",
    "#         stripped.append(s.rstrip(\". \").strip()) # removes trailing newline and full stop and space\n",
    "#     return stripped\n",
    "\n",
    "# strs = [\"Eksperter er yderst imponeret over Wozniackis indsats. \", \"fsdfsdff\"]\n",
    "\n",
    "# strip_strings(strs)\n"
   ]
  },
  {
   "cell_type": "code",
   "execution_count": null,
   "metadata": {},
   "outputs": [
    {
     "name": "stdout",
     "output_type": "stream",
     "text": [
      "109\n",
      "{'3', '\\r', '5', 'Á', '6', 'U', 'ø', 'X', ' ', 'E', 'J', 'ï', 'Æ', 'f', 'Ö', '4', '«', 'G', 'W', 'I', 'B', 'ñ', '8', 's', '\\n', 'Í', 'î', 'A', '»', 'R', '!', '\\x85', 'K', 'r', 'g', 'z', 'æ', 'H', '#', 'á', '/', '7', 'Ø', 'ã', '2', 'v', ':', 'ö', '?', 'j', ',', 'Z', 'D', 'd', 'n', 'ó', 'Å', 'F', 'ü', 'q', \"'\", 'ä', 'o', 'u', 'e', 'c', 'Y', 'N', 'V', 'b', 'è', 'k', 'é', 'P', '9', '+', '\\xa0', 'C', 'L', 'h', '\"', 'y', 't', 'ú', 'T', '.', 'ç', 'M', 'S', 'x', 'O', '&', '´', 'i', 'ë', '-', '0', 'w', 'í', 'Q', 'É', '1', '(', 'a', 'p', ')', 'l', 'å', 'm'}\n"
     ]
    }
   ],
   "source": [
    "\n",
    "from csv_data import get_all_articles\n",
    "\n",
    "\n",
    "# {'3', '\\r', '5', 'Á', '6', 'U', 'ø', 'X', ' ', 'E', 'J', 'ï', 'Æ', 'f', 'Ö', '4', '«', 'G', 'W', 'I', 'B', 'ñ', '8', 's', '\\n', 'Í', 'î', 'A', '»', 'R', '!', '\\x85', 'K', 'r', 'g', 'z', 'æ', 'H', '#', 'á', '/', '7', 'Ø', 'ã', '2', 'v', ':', 'ö', '?', 'j', ',', 'Z', 'D', 'd', 'n', 'ó', 'Å', 'F', 'ü', 'q', \"'\", 'ä', 'o', 'e', 'u', 'c', 'Y', 'N', 'V', 'b', 'è', 'k', 'é', 'P', '+', '9', '\\xa0', 'C', 'L', 'h', '\"', 'y', 't', 'ú', 'T', '.', 'ç', 'M', 'S', 'x', 'O', '&', '´', 'i', 'ë', '-', '0', 'w', 'í', 'Q', 'É', '1', '(', 'a', 'p', ')', 'l', 'å', 'm'}\n",
    "\n",
    "def replace_spaces(text):\n",
    "    pattern = r'[\\s\\xa0]'\n",
    "    return re.sub(pattern, ' ', text)\n",
    "\n",
    "def extract_data(df):\n",
    "    train_text = df.iloc[:, [0,1,2]].apply(' . '.join, axis=1).to_numpy()\n",
    "    # train_text = [replace_spaces(text) for text in train_text]\n",
    "    train_text = strip_strings(train_text)\n",
    "\n",
    "    labels = df['isResult'].to_numpy().astype(int)\n",
    "\n",
    "    return train_text, labels\n",
    "\n",
    "d = get_all_articles()\n",
    "\n",
    "train_text, labels = extract_data(get_all_articles())\n",
    "\n",
    "\n",
    "lst = []\n",
    " \n",
    "for sentence in train_text:\n",
    "    letters = [x for x in sentence]\n",
    "\n",
    "\n",
    "    lst.extend(letters) \n",
    "\n",
    "s = set(lst)\n",
    "\n",
    "print(len(s))\n",
    "print(s)\n"
   ]
  },
  {
   "cell_type": "code",
   "execution_count": null,
   "metadata": {},
   "outputs": [],
   "source": [
    "train_text"
   ]
  },
  {
   "cell_type": "code",
   "execution_count": null,
   "metadata": {},
   "outputs": [
    {
     "data": {
      "text/plain": [
       "'fsdfds'"
      ]
     },
     "execution_count": 189,
     "metadata": {},
     "output_type": "execute_result"
    }
   ],
   "source": [
    "from utils import to_lower_case\n",
    "\n",
    "w = text_formatter(\"fsdfds\")\n",
    "w\n"
   ]
  },
  {
   "cell_type": "code",
   "execution_count": null,
   "metadata": {},
   "outputs": [
    {
     "name": "stdout",
     "output_type": "stream",
     "text": [
      "4\n"
     ]
    },
    {
     "data": {
      "text/plain": [
       "OrderedDict([('nmbvnvf', None),\n",
       "             ('dsfds', None),\n",
       "             ('jjhgj', None),\n",
       "             ('vdgdfdg', None)])"
      ]
     },
     "execution_count": 225,
     "metadata": {},
     "output_type": "execute_result"
    }
   ],
   "source": [
    "df_ddo_vocab = pd.read_table('resources/ddo_fullforms_2020-08-26.csv', header=None)\n",
    "\n",
    "df_vocab_select_columns = df_ddo_vocab.iloc[:, [0,1]]\n",
    "vocab_all_values = df_vocab_select_columns.values.ravel()\n",
    "from collections import OrderedDict\n",
    "\n",
    "print(len(s))\n",
    "\n",
    "d = vocab_2_dict(s)\n",
    "\n",
    "\n",
    "l1 = [\"dsfds\", \"vdgdfdg\"]\n",
    "l2 = [\"jjhgj\", \"nmbvnvf\"]\n",
    "\n",
    "\n",
    "ll = np.concatenate([l1, l2]) \n",
    "s = set(ll)\n",
    "OrderedDict.fromkeys(s)\n"
   ]
  },
  {
   "cell_type": "code",
   "execution_count": null,
   "metadata": {},
   "outputs": [
    {
     "name": "stdout",
     "output_type": "stream",
     "text": [
      "False\n"
     ]
    }
   ],
   "source": [
    "import time\n",
    "isin_dict = False\n",
    "def test_lookup_performance():\n",
    "    word_to_check = \"Dansk\"\n",
    "    start_time = time.time()\n",
    "\n",
    "    for x in range(10000000):\n",
    "        isin_dict = word_to_check in d\n",
    "\n",
    "    end_time = time.time()  \n",
    "    assert(end_time - start_time < 1)\n",
    "    print(isin_dict)\n",
    "\n",
    "test_lookup_performance()"
   ]
  },
  {
   "cell_type": "code",
   "execution_count": null,
   "metadata": {},
   "outputs": [
    {
     "data": {
      "text/plain": [
       "['foo']"
      ]
     },
     "execution_count": 226,
     "metadata": {},
     "output_type": "execute_result"
    }
   ],
   "source": [
    "def remove_danske_navne(words, danske_navne):\n",
    "    words_minus_danske_navne = []\n",
    "    for w in words:\n",
    "        result = any(w.startswith(item) for item in danske_navne)\n",
    "        if result == False:\n",
    "            words_minus_danske_navne.append(w)\n",
    "    \n",
    "    return list(set(words_minus_danske_navne))\n",
    "\n",
    "\n",
    "remove_danske_navne([\"foo\"], [\"bar\"])"
   ]
  },
  {
   "cell_type": "code",
   "execution_count": null,
   "metadata": {},
   "outputs": [
    {
     "name": "stdout",
     "output_type": "stream",
     "text": [
      "{'d', 't', 'ú', '3', 'î', '5', '.', 'n', '»', 'ç', '!', 'ó', '6', 'ü', 'x', '&', 'ø', '´', 'q', \"'\", 'ä', 'o', 'e', 'u', 'i', 'r', 'ë', ' ', 'c', '-', '0', 'g', 'w', 'z', 'í', 'æ', 'b', '#', 'è', '1', '(', 'ï', 'a', 'k', 'é', 'f', 'á', '4', 'p', '9', '/', ')', '+', '«', '7', 'ã', 'h', '\"', 'l', 'å', 'v', ':', 'm', 'y', '2', 'ö', '?', 'ñ', 'j', ',', '8', 's'}\n"
     ]
    }
   ],
   "source": [
    "sentences_total, labels_total = get_all_articles(shuffle=False)\n",
    "\n",
    "allowed_characters = ['3', '\\r', '5', 'Á', '6', 'U', 'ø', 'X', ' ', 'E', 'J', 'ï', 'Æ', 'f', 'Ö', '4', '«', 'G', 'W', 'I', 'B', 'ñ', '8', 's', '\\n', 'Í', 'î', 'A', '»', 'R', '!', '\\x85', 'K', 'r', 'g', 'z', 'æ', 'H', '#', 'á', '/', '7', 'Ø', 'ã', '2', 'v', ':', 'ö', '?', 'j', ',', 'Z', 'D', 'd', 'n', 'ó', 'Å', 'F', 'ü', 'q', \"'\", 'ä', 'o', 'e', 'u', 'c', 'Y', 'N', 'V', 'b', 'è', 'k', 'é', 'P', '+', '9', '\\xa0', 'C', 'L', 'h', '\"', 'y', 't', 'ú', 'T', '.', 'ç', 'M', 'S', 'x', 'O', '&', '´', 'i', 'ë', '-', '0', 'w', 'í', 'Q', 'É', '1', '(', 'a', 'p', ')', 'l', 'å', 'm']\n",
    "\n",
    "\n",
    "total_chars = []\n",
    "for sentence in sentences_total:\n",
    "    chars = [x for x in sentence]\n",
    "\n",
    "total_chars_set = set(total_chars)\n",
    "\n",
    "print(total_chars_set)\n",
    "\n",
    "type(labels_total[0])\n",
    "\n",
    "assert (isinstance(labels_total[0], np.int64) == True)"
   ]
  },
  {
   "cell_type": "code",
   "execution_count": 87,
   "metadata": {},
   "outputs": [
    {
     "data": {
      "text/plain": [
       "'foo - bar'"
      ]
     },
     "execution_count": 87,
     "metadata": {},
     "output_type": "execute_result"
    }
   ],
   "source": [
    "\n",
    "\n",
    "\n",
    "new_str = tf.strings.regex_replace(word, pattern=r'([^a-zæøåA-ZÆØÅ\\d\\sñé])', rewrite=r' \\1 ', replace_global=True)\n",
    "\n",
    "c = [' ', 'ñ', 'z', 'ä', 'n', '?', '#', '\"', 'g', '»', '7', 'm', 's', 'e', '8', '5', '&', '9', 'f', 'æ', 'ö', 'î', '1', '´', 'ç', 'í', 'ã', 'w', 'y', '-', 'b', 'ú', 'c', '4', '2', 't', 'é', '/', 'o', ',', '6', \"'\", '.', 'ï', 'x', 'ø', 'k', '(', 'è', 'j', '«', '0', 'q', 'å', 'h', 'v', 'r', 'd', 'l', ':', 'ü', 'á', '+', 'ë', '3', ')', 'ó', 'p', 'a', 'i', '!', 'u']\n",
    "\n",
    "\n",
    "\n",
    "new_str.numpy().decode(\"UTF-8\")"
   ]
  },
  {
   "cell_type": "code",
   "execution_count": 203,
   "metadata": {},
   "outputs": [
    {
     "name": "stdout",
     "output_type": "stream",
     "text": [
      "fodbold tour øland france poka : len\n",
      "['fodbold', 'tour', 'øland', 'france', 'poka', ':', 'len']\n"
     ]
    }
   ],
   "source": [
    "from tensorflow.keras.layers.experimental.preprocessing import TextVectorization\n",
    "from vectorization import standardize\n",
    "from vectorization import vectorize_layer\n",
    "from vectorization import vect_layer_2_text\n",
    "\n",
    "s = \"a-zæøåñäöîçíãúéïèüáëó0-9\"\n",
    "\n",
    "pattern = rf\"([{s}]+|\\S)\"\n",
    "\n",
    "def split_specials(word):\n",
    "    return re.findall(pattern, word)\n",
    "\n",
    "    # ñäöîçíãúéïèüáëó\n",
    "\n",
    "def split_included_specials(word):\n",
    "    print(word)\n",
    "    new_str = tf.strings.regex_replace(word, pattern=pattern, rewrite=r' \\1 ', replace_global=True)\n",
    "    return new_str\n",
    "\n",
    "new_str = tf.strings.regex_replace(\"fodbold tour øland france poka:len\", pattern=rf'([^{s}\\s])', rewrite=r' \\1 ', replace_global=True)\n",
    "\n",
    "print(new_str.numpy().decode())\n",
    "\n",
    "def split_sentences(sentences):\n",
    "    words_arr = []\n",
    "    for sentence in sentences:\n",
    "        words = split_specials(sentence)\n",
    "        words_arr.extend(words)\n",
    "    return words_arr\n",
    "\n",
    "print(split_sentences([\"fodbold tour øland france poka:len\"]))\n",
    "\n"
   ]
  },
  {
   "cell_type": "code",
   "execution_count": 234,
   "metadata": {},
   "outputs": [
    {
     "data": {
      "text/plain": [
       "['xnationality', 'bøller', 'er', 'foo', 'bar']"
      ]
     },
     "execution_count": 234,
     "metadata": {},
     "output_type": "execute_result"
    }
   ],
   "source": [
    "from vectorization import replace_nationality\n",
    "\n",
    "from vectorization import replace_finals\n",
    "from vectorization import replace_nationality\n",
    "from vectorization import to_lower\n",
    "from vectorization import remove_dash\n",
    "from vectorization import split_included_specials\n",
    "from vectorization import replace_tournament\n",
    "from vectorization import replace_countries\n",
    "from vectorization import replace_weekday\n",
    "from vectorization import replace_digits\n",
    "from vectorization import vect_layer_2_text\n",
    "from vectorization import vectorize_layer\n",
    "from vectorization import standardize\n",
    "from static_data import tournaments\n",
    "from static_data import weekdays\n",
    "from static_data import non_alpha\n",
    "from static_data import word_generalization\n",
    "\n",
    "nationalities = csv_list_to_list('resources/nat2.csv')\n",
    "danske_navne = csv_list_to_list('resources/danmark_navne.csv')\n",
    "andre_navne = csv_list_to_list('resources/andre_navne.csv')\n",
    "countries = csv_list_to_list('resources/countries.csv')\n",
    "navne = csv_list_to_list('resources/navne.csv')\n",
    "\n",
    "r = replace_nationality(nationalities)\n",
    "\n",
    "r(\"sydtyskere\")\n",
    "\n",
    "arrs = [\n",
    "    to_lower, \n",
    "    remove_dash, \n",
    "    split_included_specials, \n",
    "    replace_tournament(tournaments),\n",
    "    replace_countries(countries), \n",
    "    replace_weekday(weekdays), \n",
    "    replace_finals,\n",
    "    replace_nationality(nationalities),\n",
    "    replace_digits\n",
    "]\n",
    "\n",
    "s = standardize(arrs)\n",
    "\n",
    "s(\"danske bøller er foo-bar\").numpy().decode().split()\n",
    "\n",
    "\n"
   ]
  },
  {
   "cell_type": "code",
   "execution_count": 250,
   "metadata": {},
   "outputs": [
    {
     "data": {
      "text/plain": [
       "<tf.Tensor: shape=(), dtype=string, numpy=b'xnationality '>"
      ]
     },
     "execution_count": 250,
     "metadata": {},
     "output_type": "execute_result"
    }
   ],
   "source": [
    "\n",
    "new_str = \"dansker\"\n",
    "nationalities = csv_list_to_list('resources/nat2.csv')\n",
    "def replace_nationality(word):\n",
    "    new_str = word\n",
    "    for sign in nationalities:\n",
    "        r = \"\\\\b(?:nord|syd|øst|vest)?\" + sign + \"(?:eren|erne|ere|ne|en|er|r|e|isk)?\" + \"(\\w*)\\\\b\"\n",
    "        new_str = tf.strings.regex_replace(new_str, pattern=r,  rewrite=r'xnationality \\1')\n",
    "\n",
    "    return new_str\n",
    "\n",
    "replace_nationality(\"makedonsk\")"
   ]
  },
  {
   "cell_type": "code",
   "execution_count": 1,
   "metadata": {},
   "outputs": [
    {
     "name": "stderr",
     "output_type": "stream",
     "text": [
      "2023-11-15 14:14:31.341224: I tensorflow/core/platform/cpu_feature_guard.cc:182] This TensorFlow binary is optimized to use available CPU instructions in performance-critical operations.\n",
      "To enable the following instructions: AVX2 FMA, in other operations, rebuild TensorFlow with the appropriate compiler flags.\n",
      "2023-11-15 14:14:31.858209: W tensorflow/compiler/tf2tensorrt/utils/py_utils.cc:38] TF-TRT Warning: Could not find TensorRT\n",
      "WARNING:root:TensorFlow Decision Forests 1.5.0 is compatible with the following TensorFlow Versions: ['2.13.0']. However, TensorFlow 2.13.1 was detected. This can cause issues with the TF API and symbols in the custom C++ ops. See the TF and TF-DF compatibility table at https://github.com/tensorflow/decision-forests/blob/main/documentation/known_issues.md#compatibility-table.\n"
     ]
    }
   ],
   "source": [
    "import tensorflowjs as tfjs\n",
    "\n",
    "tfjs.converters.convert"
   ]
  },
  {
   "cell_type": "code",
   "execution_count": 11,
   "metadata": {},
   "outputs": [
    {
     "data": {
      "text/plain": [
       "<tf.Tensor: shape=(), dtype=string, numpy=b'xland xland'>"
      ]
     },
     "execution_count": 11,
     "metadata": {},
     "output_type": "execute_result"
    }
   ],
   "source": [
    "from csv_data import get_vocab_dict\n",
    "from csv_data import get_all_articles\n",
    "from csv_data import csv_list_to_list\n",
    "from csv_data import split_data\n",
    "from csv_data import check_duplicates\n",
    "\n",
    "\n",
    "nationalities = csv_list_to_list('resources/nationalities.csv')\n",
    "countries = csv_list_to_list('resources/countries.csv')\n",
    "\n",
    "\n",
    "c = (\"(\" + \"|\".join(countries) + \")\")\n",
    "\n",
    "s = \"\\\\b(?:nord|syd|øst|vest)?\" + c + \"s?\\\\b\"\n",
    "\n",
    "j = {\"countries\" : s}\n",
    "\n",
    "import json\n",
    "\n",
    "with open('regexes.json', 'w',  encoding='utf8') as file:\n",
    "    json.dump(j, file, ensure_ascii=False)\n",
    "\n",
    "\n",
    "\n",
    "\n",
    "def replace_countries(word):\n",
    "\n",
    "    new_str = word\n",
    "    # for sign in countries:\n",
    "    r = \"\\\\b(?:nord|syd|øst|vest)?\" + c + \"s?\\\\b\"\n",
    "    new_str = tf.strings.regex_replace(new_str, pattern=r, rewrite=\"xland\")\n",
    "\n",
    "    return new_str\n",
    "\n",
    "\n",
    "replace_countries(\"albanien danmark\")"
   ]
  },
  {
   "cell_type": "code",
   "execution_count": 21,
   "metadata": {},
   "outputs": [
    {
     "name": "stdout",
     "output_type": "stream",
     "text": [
      "tf.Tensor(b'xnationality ', shape=(), dtype=string)\n"
     ]
    }
   ],
   "source": [
    "nationalities = csv_list_to_list('resources/nationalities.csv')\n",
    "def nationalities_regex():\n",
    "    nationalities_joined = (\"(?:\" + \"|\".join(nationalities) + \")\")\n",
    "    return \"\\\\b(?:nord|syd|øst|vest)?\" + nationalities_joined + \"(?:eren|erne|ere|ne|en|er|r|e|isk)?\" + \"(\\w*)\\\\b\"\n",
    "\n",
    "n = nationalities_regex()\n",
    "\n",
    "s = tf.strings.regex_replace(\"englænder\", pattern=n, rewrite=r'xnationality \\1')\n",
    "\n",
    "print(s)\n"
   ]
  },
  {
   "cell_type": "code",
   "execution_count": 32,
   "metadata": {},
   "outputs": [
    {
     "data": {
      "text/plain": [
       "<tf.Tensor: shape=(), dtype=string, numpy=b'fsd fs'>"
      ]
     },
     "execution_count": 32,
     "metadata": {},
     "output_type": "execute_result"
    }
   ],
   "source": [
    "\n",
    "new_str = tf.strings.regex_replace(\"fsdfs\", pattern=r'([^a-zæøåñäöîçíãúéïèüáëó0-9\\s])', rewrite=r' \\1 ', replace_global=True)\n",
    "\n",
    "new_str"
   ]
  }
 ],
 "metadata": {
  "kernelspec": {
   "display_name": "Python 3",
   "language": "python",
   "name": "python3"
  },
  "language_info": {
   "codemirror_mode": {
    "name": "ipython",
    "version": 3
   },
   "file_extension": ".py",
   "mimetype": "text/x-python",
   "name": "python",
   "nbconvert_exporter": "python",
   "pygments_lexer": "ipython3",
   "version": "3.9.7"
  },
  "orig_nbformat": 4
 },
 "nbformat": 4,
 "nbformat_minor": 2
}
