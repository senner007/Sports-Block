{
 "cells": [
  {
   "cell_type": "code",
   "execution_count": null,
   "metadata": {},
   "outputs": [],
   "source": [
    "import numpy as np\n",
    "import pandas as pd\n",
    "\n"
   ]
  },
  {
   "cell_type": "code",
   "execution_count": null,
   "metadata": {},
   "outputs": [],
   "source": [
    "import lemmyz"
   ]
  },
  {
   "cell_type": "code",
   "execution_count": null,
   "metadata": {},
   "outputs": [],
   "source": [
    "import re\n",
    "word_list = [\"et\", \"en\", \"den\", \"denne\", \"fået\", \"bilen\", \"etikette\", \"anden\", \"pennen\", \"kanin\"]\n",
    "\n",
    "\n",
    "# pattern = r'(\\b(et|en|den|dens|denne)\\b)'\n",
    "pattern = r'^(?:et|en|den|dens|denne)\\b'\n",
    "filtered_words = [word for word in word_list if not re.search(pattern, word, re.IGNORECASE)]\n",
    "\n",
    "filtered_words\n"
   ]
  },
  {
   "cell_type": "code",
   "execution_count": null,
   "metadata": {},
   "outputs": [],
   "source": [
    "import re\n",
    "word_list = [\"maj\", \"åmaj\"]\n",
    "\n",
    "\n",
    "# pattern = r'(\\b(et|en|den|dens|denne)\\b)'\n",
    "pattern = r'(?<=[\\s]|^)mandag(?:s|en|e?)?(?=[\\s]|$)'\n",
    "filtered_words = [word for word in word_list if not re.search(pattern, word, re.IGNORECASE)]\n",
    "\n",
    "filtered_words"
   ]
  },
  {
   "cell_type": "code",
   "execution_count": null,
   "metadata": {},
   "outputs": [],
   "source": [
    "s = \"Oscar Fisker Mølgaard og Kristers Steinbergs er blandt de udvalgte til VM-testkampene mod Sverige i næste uge.\"\n",
    "sentence_trimmed = s.rstrip(\".\")\n",
    "\n",
    "sentence_trimmed"
   ]
  },
  {
   "cell_type": "code",
   "execution_count": 10,
   "metadata": {},
   "outputs": [
    {
     "name": "stdout",
     "output_type": "stream",
     "text": [
      "[]\n"
     ]
    }
   ],
   "source": [
    "from create_vocab import split_sentences, strip_sentences\n",
    "a = [\"foo\", \"bar\", \"foo \"]\n",
    "\n",
    "import collections\n",
    "print([item for item, count in collections.Counter(strip_sentences(a)).items() if count > 1])\n",
    "\n",
    "## [1, 2, 5]"
   ]
  },
  {
   "cell_type": "code",
   "execution_count": 9,
   "metadata": {},
   "outputs": [
    {
     "data": {
      "text/plain": [
       "['Eksperter er yderst imponeret over Wozniackis indsat', 'fsdfsdff']"
      ]
     },
     "execution_count": 9,
     "metadata": {},
     "output_type": "execute_result"
    }
   ],
   "source": [
    "def strip_strings(strs):\n",
    "    stripped = []\n",
    "    for s in strs:\n",
    "        stripped.append(s.rstrip(\". \").strip()) # removes trailing newline and full stop and space\n",
    "    return stripped\n",
    "\n",
    "strs = [\"Eksperter er yderst imponeret over Wozniackis indsats. \", \"fsdfsdff\"]\n",
    "\n",
    "strip_strings(strs)\n"
   ]
  }
 ],
 "metadata": {
  "kernelspec": {
   "display_name": "Python 3",
   "language": "python",
   "name": "python3"
  },
  "language_info": {
   "codemirror_mode": {
    "name": "ipython",
    "version": 3
   },
   "file_extension": ".py",
   "mimetype": "text/x-python",
   "name": "python",
   "nbconvert_exporter": "python",
   "pygments_lexer": "ipython3",
   "version": "3.9.7"
  },
  "orig_nbformat": 4
 },
 "nbformat": 4,
 "nbformat_minor": 2
}
