{
 "cells": [
  {
   "cell_type": "code",
   "execution_count": 223,
   "metadata": {},
   "outputs": [
    {
     "name": "stdout",
     "output_type": "stream",
     "text": [
      "The autoreload extension is already loaded. To reload it, use:\n",
      "  %reload_ext autoreload\n"
     ]
    },
    {
     "name": "stderr",
     "output_type": "stream",
     "text": [
      "[autoreload of csv_data failed: Traceback (most recent call last):\n",
      "  File \"/home/nig/miniconda3/envs/newenv/lib/python3.9/site-packages/IPython/extensions/autoreload.py\", line 245, in check\n",
      "    superreload(m, reload, self.old_objects)\n",
      "  File \"/home/nig/miniconda3/envs/newenv/lib/python3.9/site-packages/IPython/extensions/autoreload.py\", line 394, in superreload\n",
      "    module = reload(module)\n",
      "  File \"/home/nig/miniconda3/envs/newenv/lib/python3.9/imp.py\", line 314, in reload\n",
      "    return importlib.reload(module)\n",
      "  File \"/home/nig/miniconda3/envs/newenv/lib/python3.9/importlib/__init__.py\", line 169, in reload\n",
      "    _bootstrap._exec(spec, module)\n",
      "  File \"<frozen importlib._bootstrap>\", line 613, in _exec\n",
      "  File \"<frozen importlib._bootstrap_external>\", line 850, in exec_module\n",
      "  File \"<frozen importlib._bootstrap>\", line 228, in _call_with_frames_removed\n",
      "  File \"/home/nig/it_project/Sports-Block/csv_data.py\", line 6, in <module>\n",
      "    from create_vocab import strip_strings\n",
      "ImportError: cannot import name 'strip_strings' from 'create_vocab' (/home/nig/it_project/Sports-Block/create_vocab.py)\n",
      "]\n"
     ]
    }
   ],
   "source": [
    "import numpy as np\n",
    "import pandas as pd\n",
    "%load_ext autoreload\n",
    "%autoreload 2\n"
   ]
  },
  {
   "cell_type": "code",
   "execution_count": 224,
   "metadata": {},
   "outputs": [
    {
     "ename": "ModuleNotFoundError",
     "evalue": "No module named 'lemmyz'",
     "output_type": "error",
     "traceback": [
      "\u001b[0;31m---------------------------------------------------------------------------\u001b[0m",
      "\u001b[0;31mModuleNotFoundError\u001b[0m                       Traceback (most recent call last)",
      "\u001b[0;32m/tmp/ipykernel_889/4220660113.py\u001b[0m in \u001b[0;36m<module>\u001b[0;34m\u001b[0m\n\u001b[0;32m----> 1\u001b[0;31m \u001b[0;32mimport\u001b[0m \u001b[0mlemmyz\u001b[0m\u001b[0;34m\u001b[0m\u001b[0;34m\u001b[0m\u001b[0m\n\u001b[0m",
      "\u001b[0;31mModuleNotFoundError\u001b[0m: No module named 'lemmyz'"
     ]
    }
   ],
   "source": [
    "import lemmyz"
   ]
  },
  {
   "cell_type": "code",
   "execution_count": null,
   "metadata": {},
   "outputs": [],
   "source": [
    "import re\n",
    "word_list = [\"et\", \"en\", \"den\", \"denne\", \"fået\", \"bilen\", \"etikette\", \"anden\", \"pennen\", \"kanin\"]\n",
    "\n",
    "\n",
    "# pattern = r'(\\b(et|en|den|dens|denne)\\b)'\n",
    "pattern = r'^(?:et|en|den|dens|denne)\\b'\n",
    "filtered_words = [word for word in word_list if not re.search(pattern, word, re.IGNORECASE)]\n",
    "\n",
    "filtered_words\n"
   ]
  },
  {
   "cell_type": "code",
   "execution_count": null,
   "metadata": {},
   "outputs": [],
   "source": [
    "import re\n",
    "word_list = [\"maj\", \"åmaj\"]\n",
    "\n",
    "\n",
    "# pattern = r'(\\b(et|en|den|dens|denne)\\b)'\n",
    "pattern = r'(?<=[\\s]|^)mandag(?:s|en|e?)?(?=[\\s]|$)'\n",
    "filtered_words = [word for word in word_list if not re.search(pattern, word, re.IGNORECASE)]\n",
    "\n",
    "filtered_words"
   ]
  },
  {
   "cell_type": "code",
   "execution_count": null,
   "metadata": {},
   "outputs": [],
   "source": [
    "s = \"Oscar Fisker Mølgaard og Kristers Steinbergs er blandt de udvalgte til VM-testkampene mod Sverige i næste uge.\"\n",
    "sentence_trimmed = s.rstrip(\".\")\n",
    "\n",
    "sentence_trimmed"
   ]
  },
  {
   "cell_type": "code",
   "execution_count": null,
   "metadata": {},
   "outputs": [
    {
     "name": "stdout",
     "output_type": "stream",
     "text": [
      "[]\n"
     ]
    }
   ],
   "source": [
    "from create_vocab import split_sentences, strip_sentences\n",
    "a = [\"foo\", \"bar\", \"foo \"]\n",
    "\n",
    "import collections\n",
    "print([item for item, count in collections.Counter(strip_sentences(a)).items() if count > 1])\n",
    "\n",
    "## [1, 2, 5]"
   ]
  },
  {
   "cell_type": "code",
   "execution_count": null,
   "metadata": {},
   "outputs": [
    {
     "data": {
      "text/plain": [
       "['Eksperter er yderst imponeret over Wozniackis indsats', 'fsdfsdff']"
      ]
     },
     "execution_count": 8,
     "metadata": {},
     "output_type": "execute_result"
    }
   ],
   "source": [
    "# def strip_strings(strs):\n",
    "#     stripped = []\n",
    "#     for s in strs:\n",
    "#         stripped.append(s.rstrip(\". \").strip()) # removes trailing newline and full stop and space\n",
    "#     return stripped\n",
    "\n",
    "# strs = [\"Eksperter er yderst imponeret over Wozniackis indsats. \", \"fsdfsdff\"]\n",
    "\n",
    "# strip_strings(strs)\n"
   ]
  },
  {
   "cell_type": "code",
   "execution_count": null,
   "metadata": {},
   "outputs": [
    {
     "name": "stdout",
     "output_type": "stream",
     "text": [
      "109\n",
      "{'3', '\\r', '5', 'Á', '6', 'U', 'ø', 'X', ' ', 'E', 'J', 'ï', 'Æ', 'f', 'Ö', '4', '«', 'G', 'W', 'I', 'B', 'ñ', '8', 's', '\\n', 'Í', 'î', 'A', '»', 'R', '!', '\\x85', 'K', 'r', 'g', 'z', 'æ', 'H', '#', 'á', '/', '7', 'Ø', 'ã', '2', 'v', ':', 'ö', '?', 'j', ',', 'Z', 'D', 'd', 'n', 'ó', 'Å', 'F', 'ü', 'q', \"'\", 'ä', 'o', 'u', 'e', 'c', 'Y', 'N', 'V', 'b', 'è', 'k', 'é', 'P', '9', '+', '\\xa0', 'C', 'L', 'h', '\"', 'y', 't', 'ú', 'T', '.', 'ç', 'M', 'S', 'x', 'O', '&', '´', 'i', 'ë', '-', '0', 'w', 'í', 'Q', 'É', '1', '(', 'a', 'p', ')', 'l', 'å', 'm'}\n"
     ]
    }
   ],
   "source": [
    "\n",
    "from csv_data import get_all_articles\n",
    "\n",
    "\n",
    "# {'3', '\\r', '5', 'Á', '6', 'U', 'ø', 'X', ' ', 'E', 'J', 'ï', 'Æ', 'f', 'Ö', '4', '«', 'G', 'W', 'I', 'B', 'ñ', '8', 's', '\\n', 'Í', 'î', 'A', '»', 'R', '!', '\\x85', 'K', 'r', 'g', 'z', 'æ', 'H', '#', 'á', '/', '7', 'Ø', 'ã', '2', 'v', ':', 'ö', '?', 'j', ',', 'Z', 'D', 'd', 'n', 'ó', 'Å', 'F', 'ü', 'q', \"'\", 'ä', 'o', 'e', 'u', 'c', 'Y', 'N', 'V', 'b', 'è', 'k', 'é', 'P', '+', '9', '\\xa0', 'C', 'L', 'h', '\"', 'y', 't', 'ú', 'T', '.', 'ç', 'M', 'S', 'x', 'O', '&', '´', 'i', 'ë', '-', '0', 'w', 'í', 'Q', 'É', '1', '(', 'a', 'p', ')', 'l', 'å', 'm'}\n",
    "\n",
    "def replace_spaces(text):\n",
    "    pattern = r'[\\s\\xa0]'\n",
    "    return re.sub(pattern, ' ', text)\n",
    "\n",
    "def extract_data(df):\n",
    "    train_text = df.iloc[:, [0,1,2]].apply(' . '.join, axis=1).to_numpy()\n",
    "    # train_text = [replace_spaces(text) for text in train_text]\n",
    "    train_text = strip_strings(train_text)\n",
    "\n",
    "    labels = df['isResult'].to_numpy().astype(int)\n",
    "\n",
    "    return train_text, labels\n",
    "\n",
    "d = get_all_articles()\n",
    "\n",
    "train_text, labels = extract_data(get_all_articles())\n",
    "\n",
    "\n",
    "lst = []\n",
    " \n",
    "for sentence in train_text:\n",
    "    letters = [x for x in sentence]\n",
    "\n",
    "\n",
    "    lst.extend(letters) \n",
    "\n",
    "s = set(lst)\n",
    "\n",
    "print(len(s))\n",
    "print(s)\n"
   ]
  },
  {
   "cell_type": "code",
   "execution_count": null,
   "metadata": {},
   "outputs": [],
   "source": [
    "train_text"
   ]
  },
  {
   "cell_type": "code",
   "execution_count": null,
   "metadata": {},
   "outputs": [
    {
     "data": {
      "text/plain": [
       "'fsdfds'"
      ]
     },
     "execution_count": 189,
     "metadata": {},
     "output_type": "execute_result"
    }
   ],
   "source": [
    "from utils import to_lower_case\n",
    "\n",
    "w = text_formatter(\"fsdfds\")\n",
    "w\n"
   ]
  },
  {
   "cell_type": "code",
   "execution_count": 225,
   "metadata": {},
   "outputs": [
    {
     "name": "stdout",
     "output_type": "stream",
     "text": [
      "4\n"
     ]
    },
    {
     "data": {
      "text/plain": [
       "OrderedDict([('nmbvnvf', None),\n",
       "             ('dsfds', None),\n",
       "             ('jjhgj', None),\n",
       "             ('vdgdfdg', None)])"
      ]
     },
     "execution_count": 225,
     "metadata": {},
     "output_type": "execute_result"
    }
   ],
   "source": [
    "df_ddo_vocab = pd.read_table('resources/ddo_fullforms_2020-08-26.csv', header=None)\n",
    "\n",
    "df_vocab_select_columns = df_ddo_vocab.iloc[:, [0,1]]\n",
    "vocab_all_values = df_vocab_select_columns.values.ravel()\n",
    "from collections import OrderedDict\n",
    "\n",
    "print(len(s))\n",
    "\n",
    "d = vocab_2_dict(s)\n",
    "\n",
    "\n",
    "l1 = [\"dsfds\", \"vdgdfdg\"]\n",
    "l2 = [\"jjhgj\", \"nmbvnvf\"]\n",
    "\n",
    "\n",
    "ll = np.concatenate([l1, l2]) \n",
    "s = set(ll)\n",
    "OrderedDict.fromkeys(s)\n"
   ]
  },
  {
   "cell_type": "code",
   "execution_count": null,
   "metadata": {},
   "outputs": [
    {
     "name": "stdout",
     "output_type": "stream",
     "text": [
      "False\n"
     ]
    }
   ],
   "source": [
    "import time\n",
    "isin_dict = False\n",
    "def test_lookup_performance():\n",
    "    word_to_check = \"Dansk\"\n",
    "    start_time = time.time()\n",
    "\n",
    "    for x in range(10000000):\n",
    "        isin_dict = word_to_check in d\n",
    "\n",
    "    end_time = time.time()  \n",
    "    assert(end_time - start_time < 1)\n",
    "    print(isin_dict)\n",
    "\n",
    "test_lookup_performance()"
   ]
  },
  {
   "cell_type": "code",
   "execution_count": 226,
   "metadata": {},
   "outputs": [
    {
     "data": {
      "text/plain": [
       "['foo']"
      ]
     },
     "execution_count": 226,
     "metadata": {},
     "output_type": "execute_result"
    }
   ],
   "source": [
    "def remove_danske_navne(words, danske_navne):\n",
    "    words_minus_danske_navne = []\n",
    "    for w in words:\n",
    "        result = any(w.startswith(item) for item in danske_navne)\n",
    "        if result == False:\n",
    "            words_minus_danske_navne.append(w)\n",
    "    \n",
    "    return list(set(words_minus_danske_navne))\n",
    "\n",
    "\n",
    "remove_danske_navne([\"foo\"], [\"bar\"])"
   ]
  },
  {
   "cell_type": "code",
   "execution_count": 237,
   "metadata": {},
   "outputs": [
    {
     "name": "stdout",
     "output_type": "stream",
     "text": [
      "{'d', 't', 'ú', '3', 'î', '5', '.', 'n', '»', 'ç', '!', 'ó', '6', 'ü', 'x', '&', 'ø', '´', 'q', \"'\", 'ä', 'o', 'e', 'u', 'i', 'r', 'ë', ' ', 'c', '-', '0', 'g', 'w', 'z', 'í', 'æ', 'b', '#', 'è', '1', '(', 'ï', 'a', 'k', 'é', 'f', 'á', '4', 'p', '9', '/', ')', '+', '«', '7', 'ã', 'h', '\"', 'l', 'å', 'v', ':', 'm', 'y', '2', 'ö', '?', 'ñ', 'j', ',', '8', 's'}\n"
     ]
    }
   ],
   "source": [
    "sentences_total, labels_total = get_all_articles(shuffle=False)\n",
    "\n",
    "allowed_characters = ['3', '\\r', '5', 'Á', '6', 'U', 'ø', 'X', ' ', 'E', 'J', 'ï', 'Æ', 'f', 'Ö', '4', '«', 'G', 'W', 'I', 'B', 'ñ', '8', 's', '\\n', 'Í', 'î', 'A', '»', 'R', '!', '\\x85', 'K', 'r', 'g', 'z', 'æ', 'H', '#', 'á', '/', '7', 'Ø', 'ã', '2', 'v', ':', 'ö', '?', 'j', ',', 'Z', 'D', 'd', 'n', 'ó', 'Å', 'F', 'ü', 'q', \"'\", 'ä', 'o', 'e', 'u', 'c', 'Y', 'N', 'V', 'b', 'è', 'k', 'é', 'P', '+', '9', '\\xa0', 'C', 'L', 'h', '\"', 'y', 't', 'ú', 'T', '.', 'ç', 'M', 'S', 'x', 'O', '&', '´', 'i', 'ë', '-', '0', 'w', 'í', 'Q', 'É', '1', '(', 'a', 'p', ')', 'l', 'å', 'm']\n",
    "\n",
    "\n",
    "total_chars = []\n",
    "for sentence in sentences_total:\n",
    "    chars = [x for x in sentence]\n",
    "    total_chars.extend(chars) \n",
    "\n",
    "total_chars_set = set(total_chars)\n",
    "\n",
    "print(total_chars_set)\n",
    "\n",
    "type(labels_total[0])\n",
    "\n",
    "assert (isinstance(labels_total[0], np.int64) == True)"
   ]
  }
 ],
 "metadata": {
  "kernelspec": {
   "display_name": "Python 3",
   "language": "python",
   "name": "python3"
  },
  "language_info": {
   "codemirror_mode": {
    "name": "ipython",
    "version": 3
   },
   "file_extension": ".py",
   "mimetype": "text/x-python",
   "name": "python",
   "nbconvert_exporter": "python",
   "pygments_lexer": "ipython3",
   "version": "3.9.7"
  },
  "orig_nbformat": 4
 },
 "nbformat": 4,
 "nbformat_minor": 2
}
